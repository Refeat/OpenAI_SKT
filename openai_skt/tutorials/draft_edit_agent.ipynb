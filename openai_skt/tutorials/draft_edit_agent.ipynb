{
 "cells": [
  {
   "cell_type": "code",
   "execution_count": 1,
   "metadata": {},
   "outputs": [],
   "source": [
    "import sys\n",
    "sys.path.append('..')"
   ]
  },
  {
   "cell_type": "markdown",
   "metadata": {},
   "source": [
    "### Set OpenAI key "
   ]
  },
  {
   "cell_type": "code",
   "execution_count": 2,
   "metadata": {},
   "outputs": [],
   "source": [
    "import os\n",
    "import configparser\n",
    "\n",
    "config = configparser.ConfigParser()\n",
    "config.read('../../.secrets.ini')\n",
    "OPENAI_API_KEY = config['OPENAI']['OPENAI_API_KEY']\n",
    "YOUTUBE_KEY = config['YOUTUBE']['YOUTUBE_API_KEY']\n",
    "NAVER_CLIENT_ID = config['NAVER']['NAVER_CLIENT_ID']\n",
    "NAVER_CLIENT_SECRET = config['NAVER']['NAVER_CLIENT_SECRET']\n",
    "GOOGLE_SEARCH_KEY = config['GOOGLE']['GOOGLE_API_KEY']\n",
    "CSE_ID = config['GOOGLE']['CSE_ID']\n",
    "SERPAPI_API_KEY = config['SERPAPI']['SERPAPI_API_KEY']\n",
    "\n",
    "\n",
    "os.environ.update({'OPENAI_API_KEY': OPENAI_API_KEY})\n",
    "os.environ.update({'YOUTUBE_KEY': YOUTUBE_KEY})\n",
    "os.environ.update({'NAVER_CLIENT_ID': NAVER_CLIENT_ID})\n",
    "os.environ.update({'NAVER_CLIENT_SECRET': NAVER_CLIENT_SECRET})\n",
    "os.environ.update({'GOOGLE_SEARCH_KEY': GOOGLE_SEARCH_KEY})\n",
    "os.environ.update({'CSE_ID': CSE_ID})\n",
    "os.environ.update({'SERPAPI_API_KEY': SERPAPI_API_KEY})"
   ]
  },
  {
   "cell_type": "markdown",
   "metadata": {},
   "source": [
    "### Get tools"
   ]
  },
  {
   "cell_type": "code",
   "execution_count": 3,
   "metadata": {},
   "outputs": [],
   "source": [
    "from models.llm.chain import GraphChain, DraftChunkChain"
   ]
  },
  {
   "cell_type": "code",
   "execution_count": 4,
   "metadata": {},
   "outputs": [],
   "source": [
    "graph_template_prompt_path = '../../openai_skt/models/templates/graph_prompt_template.txt'\n",
    "with open(graph_template_prompt_path, 'r') as f:\n",
    "    graph_template = f.read()\n",
    "graph_chain = GraphChain(graph_template=graph_template, input_variables=[\"graph_to_draw\"])"
   ]
  },
  {
   "cell_type": "code",
   "execution_count": 5,
   "metadata": {},
   "outputs": [],
   "source": [
    "draft_chunk_template_prompt_path = '../../openai_skt/models/templates/draft_chunk_prompt_template.txt'\n",
    "with open(draft_chunk_template_prompt_path, 'r') as f:\n",
    "    draft_chunk_template = f.read()\n",
    "draft_chunk_chain = DraftChunkChain(draft_chunk_template=draft_chunk_template, input_variables=[\"draft\", \"query\"])"
   ]
  },
  {
   "cell_type": "code",
   "execution_count": 22,
   "metadata": {},
   "outputs": [],
   "source": [
    "from tools import DatabaseTool, SearchTool, SearchByURLTool, TimeTool, DraftChunkTool, GraphTool\n",
    "from models.llm.chain import SummaryChunkChain"
   ]
  },
  {
   "cell_type": "code",
   "execution_count": 17,
   "metadata": {},
   "outputs": [],
   "source": [
    "summary_chunk_template = '''\n",
    "I want you to answer the question from the given documentation. \n",
    "There may be a lot of information in a given document that is not relevant to your question, but you should try to find as much relevant information as possible.\n",
    "Be as diligent as possible in returning your answer based on your knowledge and documentation.\n",
    "If there is no answer in the document, return \"No useful information\".\n",
    "\n",
    "Document: {document}\n",
    "Question: {question}\n",
    "Answer:\n",
    "'''"
   ]
  },
  {
   "cell_type": "code",
   "execution_count": 35,
   "metadata": {},
   "outputs": [],
   "source": [
    "summary_chunk_chain = SummaryChunkChain(summary_chunk_template=summary_chunk_template, input_variables=[\"question\", \"document\"], verbose=True)\n",
    "search_by_url_tool = SearchByURLTool()"
   ]
  },
  {
   "cell_type": "code",
   "execution_count": 24,
   "metadata": {},
   "outputs": [],
   "source": [
    "from langchain.agents import Tool\n",
    "from langchain.utilities import SerpAPIWrapper\n",
    "\n",
    "# You can create the tool to pass to an agent\n",
    "search = SerpAPIWrapper(params={\n",
    "        \"engine\": \"google\",\n",
    "        \"google_domain\": \"google.com\",\n",
    "        \"gl\": \"kr\",\n",
    "        \"hl\": \"ko\",\n",
    "        })\n",
    "search_tool = Tool(\n",
    "    name=\"search_tool\",\n",
    "    description=\"A tool to search on internet.\",\n",
    "    func=search.run,\n",
    ")"
   ]
  },
  {
   "cell_type": "code",
   "execution_count": 36,
   "metadata": {},
   "outputs": [],
   "source": [
    "database_tool = DatabaseTool(summary_chunk_chain=summary_chunk_chain)\n",
    "draft_chunk_tool = DraftChunkTool(draft_chunk_chain=draft_chunk_chain)\n",
    "graph_tool = GraphTool(graph_chain=graph_chain)\n",
    "search_tool = SearchTool(summary_chunk_chain=summary_chunk_chain, search_by_url_tool=search_by_url_tool)\n",
    "time_tool = TimeTool()"
   ]
  },
  {
   "cell_type": "code",
   "execution_count": 37,
   "metadata": {},
   "outputs": [],
   "source": [
    "tools = [database_tool, graph_tool, search_tool]"
   ]
  },
  {
   "cell_type": "markdown",
   "metadata": {},
   "source": [
    "### Set Agent"
   ]
  },
  {
   "cell_type": "code",
   "execution_count": 9,
   "metadata": {},
   "outputs": [],
   "source": [
    "import re\n",
    "from typing import List, Union\n",
    "\n",
    "from langchain import LLMChain, OpenAI\n",
    "from langchain.chat_models import ChatOpenAI\n",
    "from langchain.agents import Tool, AgentExecutor, LLMSingleActionAgent, AgentOutputParser\n",
    "from langchain.prompts import StringPromptTemplate\n",
    "from langchain.schema import AgentAction, AgentFinish, OutputParserException\n",
    "from langchain.tools import BaseTool"
   ]
  },
  {
   "cell_type": "code",
   "execution_count": 10,
   "metadata": {},
   "outputs": [],
   "source": [
    "# Set up a prompt template\n",
    "class CustomPromptTemplate(StringPromptTemplate):\n",
    "    # The template to use\n",
    "    template: str\n",
    "    # The list of tools available\n",
    "    tools: List[BaseTool]\n",
    "\n",
    "    def format(self, **kwargs) -> str:\n",
    "        # Get the intermediate steps (AgentAction, Observation tuples)\n",
    "        # Format them in a particular way\n",
    "        intermediate_steps = kwargs.pop(\"intermediate_steps\")\n",
    "        thoughts = \"\"\n",
    "        for action, observation in intermediate_steps:\n",
    "            thoughts += action.log\n",
    "            thoughts += f\"\\nObservation: {observation}\\nThought: \"\n",
    "        # Set the agent_scratchpad variable to that value\n",
    "        kwargs[\"agent_scratchpad\"] = thoughts\n",
    "        # Create a tools variable from the list of tools provided\n",
    "        kwargs[\"tools\"] = \"\\n\".join([f\"{tool.name}: {tool.description}\" for tool in self.tools])\n",
    "        # Create a list of tool names for the tools provided\n",
    "        kwargs[\"tool_names\"] = \", \".join([tool.name for tool in self.tools])\n",
    "        return self.template.format(**kwargs)\n",
    "\n",
    "class CustomOutputParser(AgentOutputParser):\n",
    "\n",
    "    def parse(self, llm_output: str) -> Union[AgentAction, AgentFinish]:\n",
    "        # Check if agent should finish\n",
    "        if \"Final Answer:\" in llm_output:\n",
    "            return AgentFinish(\n",
    "                # Return values is generally always a dictionary with a single `output` key\n",
    "                # It is not recommended to try anything else at the moment :)\n",
    "                return_values={\"output\": llm_output.split(\"Final Answer:\")[-1].strip()},\n",
    "                log=llm_output,\n",
    "            )\n",
    "        # Parse out the action and action input\n",
    "        regex = r\"Action\\s*\\d*\\s*:(.*?)\\nAction\\s*\\d*\\s*Input\\s*\\d*\\s*:[\\s]*(.*)\"\n",
    "        match = re.search(regex, llm_output, re.DOTALL)\n",
    "        if not match:\n",
    "            raise OutputParserException(f\"Could not parse LLM output: `{llm_output}`\")\n",
    "        action = match.group(1).strip()\n",
    "        action_input = match.group(2)\n",
    "        # Return the action and action input\n",
    "        return AgentAction(tool=action, tool_input=action_input.strip(\" \").strip('\"'), log=llm_output)\n",
    "    \n",
    "class DraftEditAgent:\n",
    "    # TODO: Database 객체로 선언 안하는 방법이 있는지 생각\n",
    "    def __init__(self, tools, draft_edit_prompt_path='../openai_skt/models/templates/draft_edit_prompt_template.txt', verbose=False) -> None:\n",
    "        with open(draft_edit_prompt_path, 'r') as f:\n",
    "            self.draft_edit_prompt_template = f.read()\n",
    "        \n",
    "        self.output_parser = CustomOutputParser()\n",
    "        self.verbose = verbose\n",
    "        self.tools = tools\n",
    "\n",
    "        self.draft_edit_prompt = CustomPromptTemplate(\n",
    "            template=self.draft_edit_prompt_template,\n",
    "            tools=self.tools,\n",
    "            # This omits the `agent_scratchpad`, `tools`, and `tool_names` variables because those are generated dynamically\n",
    "            # This includes the `intermediate_steps` variable because that is needed\n",
    "            input_variables=[\"user_query\", \"draft\", \"intermediate_steps\"]\n",
    "        )\n",
    "\n",
    "        self.llm = ChatOpenAI(model='gpt-3.5-turbo-16k', temperature=0, verbose=self.verbose)\n",
    "        self.draft_edit_chain = LLMChain(llm=self.llm, prompt=self.draft_edit_prompt, verbose=self.verbose)\n",
    "        tool_names = [tool.name for tool in self.tools]\n",
    "        self.agent = LLMSingleActionAgent(\n",
    "            llm_chain=self.draft_edit_chain, \n",
    "            output_parser=self.output_parser,\n",
    "            stop=[\"\\nObservation:\"], \n",
    "            allowed_tools=tool_names\n",
    "        )\n",
    "        self.agent_executor = AgentExecutor.from_agent_and_tools(agent=self.agent, tools=self.tools, verbose=self.verbose)\n",
    "\n",
    "    def run(self, database, draft, query):\n",
    "        part_draft = draft_chunk_chain.run(draft=draft, query=query)\n",
    "        input_dict = self.parse_input(database, part_draft, query)\n",
    "        result = self.agent_executor.run(input_dict)\n",
    "        return result\n",
    "\n",
    "    async def arun(self, database, draft, query):\n",
    "        input_dict = self.parse_input(database, draft, query)\n",
    "        result = await self.agent_executor.arun(input_dict)\n",
    "        return result\n",
    "    \n",
    "    def parse_input(self, database, draft, query):\n",
    "        database_tool = self.tools[0]\n",
    "        database_tool.set_database(database)\n",
    "        input_dict = {'user_query': query, 'draft': draft}\n",
    "        return input_dict"
   ]
  },
  {
   "cell_type": "code",
   "execution_count": 38,
   "metadata": {},
   "outputs": [],
   "source": [
    "draft_edit_agent = DraftEditAgent(tools=tools, verbose=True, draft_edit_prompt_path='../../openai_skt/models/templates/draft_edit_prompt_template.txt')"
   ]
  },
  {
   "cell_type": "code",
   "execution_count": 12,
   "metadata": {},
   "outputs": [],
   "source": [
    "from database import DataBase"
   ]
  },
  {
   "cell_type": "code",
   "execution_count": 13,
   "metadata": {},
   "outputs": [],
   "source": [
    "from database import CustomEmbedChain\n",
    "embed_chain = CustomEmbedChain()"
   ]
  },
  {
   "cell_type": "code",
   "execution_count": null,
   "metadata": {},
   "outputs": [],
   "source": [
    "database = DataBase.load(database_path='./user/test_2/database.json', embed_chain=embed_chain)"
   ]
  },
  {
   "cell_type": "code",
   "execution_count": 15,
   "metadata": {},
   "outputs": [],
   "source": [
    "with open('./user/test_2/draft_0.md', 'r') as f:\n",
    "    draft = f.read()"
   ]
  },
  {
   "cell_type": "code",
   "execution_count": 39,
   "metadata": {},
   "outputs": [
    {
     "name": "stdout",
     "output_type": "stream",
     "text": [
      "\n",
      "\n",
      "\u001b[1m> Entering new AgentExecutor chain...\u001b[0m\n",
      "\n",
      "\n",
      "\u001b[1m> Entering new LLMChain chain...\u001b[0m\n",
      "Prompt after formatting:\n",
      "\u001b[32;1m\u001b[1;3mYou should modify the draft according to the user's requirements. Use a variety of tools to answer the questions.\n",
      "You need to find the material first, then use it to answer.\n",
      "\n",
      "You have access to the following tools:\n",
      "\n",
      "database: A tool to get data with from database. The input consists of a 'query' and a 'question', where 'query' is the search query and 'question' is the information you want to get. For example, {'query': 'bitcoin price history', 'question': 'what was the price of bitcoin in 2022?'} would be the input if you want to know the price of bitcoin in 2022. Input must contain both a query and a question.\n",
      "graph_tool: A tool to draw a graph. This tool simply converts the data you give it into a graph, so you'll need to enter a table in markdown form with your data and the characteristics of the graph you want to draw. It return image path of the graph.\n",
      "search_tool: A tool to search on internet. The input consists of a 'query' and a 'question', where 'query' is the search query and 'question' is the information you want to get. For example, {'query': 'bitcoin price history', 'question': 'what was the price of bitcoin in 2022?'} would be the input if you want to know the price of bitcoin in 2022. Input must contain both a query and a question.\n",
      "\n",
      "Use the following format:\n",
      "\n",
      "Draft: the input draft\n",
      "Requirements: the input user requirements\n",
      "Thought: you should always think about what to do\n",
      "Action: the action to take, should be one of [database, graph_tool, search_tool]\n",
      "Action Input: the input to the action\n",
      "Observation: the result of the action\n",
      "... (this Thought/Action/Action Input/Observation can repeat N times)\n",
      "Thought: I now know the final answer or I do not know the final answer\n",
      "Final Answer: Just say the modified draft. But if you don't have any, don't say anything and don't explain.\n",
      "\n",
      "Begin!\n",
      "\n",
      "Draft: 비트코인은 미래에 더욱 중요한 역할을 할 것으로 예상되며, 암호화폐 시장의 발전과 함께 더욱 중요한 자산으로 인정받을 것입니다. 디지털 자산 시장의 발전과 함께 비트코인은 더욱 더 중요한 역할을 할 것으로 예상됩니다. 따라서 비트코인에 대한 이해와 관련된 기술과 시스템의 발전이 필요하며, 국내외의 금융 기관과의 협력이 필요합니다. 이를 통해 우리나라는 비트코인이 촉발한 글로벌 시장의 변화에 뒤처지지 않고 먼저 대응할 수 있을 것입니다.\n",
      "Requirements: 결론 부분에 2023년 비트코인 가격 차트를 넣어줘\n",
      "Thought:\u001b[0m\n",
      "\n",
      "\u001b[1m> Finished chain.\u001b[0m\n",
      "\u001b[32;1m\u001b[1;3mI need to find a 2023 Bitcoin price chart to include in the conclusion.\n",
      "Action: search_tool\n",
      "Action Input: {'query': 'Bitcoin price chart 2023', 'question': '2023 Bitcoin price chart'}\u001b[0m\n",
      "\n",
      "\u001b[1m> Entering new LLMChain chain...\u001b[0m\n",
      "Prompt after formatting:\n",
      "\u001b[32;1m\u001b[1;3m\n",
      "I want you to answer the question from the given documentation. \n",
      "There may be a lot of information in a given document that is not relevant to your question, but you should try to find as much relevant information as possible.\n",
      "Be as diligent as possible in returning your answer based on your knowledge and documentation.\n",
      "If there is no answer in the document, return \"No useful information\".\n",
      "\n",
      "Document: Bitcoin Price | BTC Price Index, Live Chart and USD Converter - Binance Buy Crypto Markets Trade Spot Trade crypto with advanced tools Margin Increase your profits with leverage P2P Bank transfer and 100+ options Convert The easiest way to trade Trading Bots Trade smarter with our various automated strategies - easy, fast and reliable Block Trading Easily execute large trades with minimum slippage APIs Unlimited opportunities with one key Futures USDⓈ-M Futures Perpetual or Quarterly Contracts settled in USDT or BUSD COIN-M Futures Perpetual or Quarterly Contracts settled in Cryptocurrency Options Buy and Sell European-style Options. Earn Learn Feed Discover the latest crypto news & feed Learn & Earn Earn free crypto through learning Blog Expand your knowledge and get the latest insights Research Institutional-grade analysis and reports More Institutional Home Premium digital asset solutions for institutions Asset Management Solutions Discover various asset management solutions Link Connect and grow with Binance liquidity solutions VIP Loan Bespoke institutional loan with wide coverage VIP Portal One-stop station made for VIP and institutions Launchpad Token Launch Platform Mining Pool Mine more rewards by connecting to the pool Pay Send, receive and spend crypto Loans Get an instant loan secured by crypto assets Historical Market Data Your all-in-one trading data repository NFT Explore NFTs from creators worldwide Fan Token Upgrade your fan experience DeFi Wallet Meet the next-generation Web3 wallet DEX Fast and secure decentralized digital asset exchange Charity Powering blockchain for good Cancel Home Crypto prices Bitcoin Price Bitcoin Price ( BTC ) Currency Currency Buy BTC Trade BTC Buy BTC 1 BTC = USD $25,896.83 0% trading fee on BTC/FDUSD spot trading pair Buy BTC Last updated 2023/09/06 06:06 (UTC) No records $ 25,896.83 +0.61% ( 1D ) 1D 7D 1M 3M 1Y YTD BTC Price Live Data The live price of Bitcoin is $ 25,896.83 per (BTC / USD) with a current market cap of $ 504.42B USD. 24-hour trading volume is $ 11.86B USD. BTC to USD price is updated in real-time. Bitcoin is +0.61% in the last 24 hours with a circulating supply of 19.48M. BTC Price History USD Change Amount % Today $ 159.02 +0.61% 30 Days $ -2,815.81 -10.87% 60 Days $ -3,728.68 -14.40% 90 Days $ -563.16 -2.17% BTC Price Information 24h Low & High The highest and lowest price paid for this asset in 24 hours. Low: $ 25,404.36 High: $ 25,953.02 The highest and lowest price paid for this asset in 24 hours. All Time High The highest price paid for this asset since it was launched or listed. $ 68,789.63 The highest price paid for this asset since it was launched or listed. Price Change (1h) The percent change in trading volume for this asset compared to 1 hour ago. +1.94% The percent change in trading volume for this asset compared to 1 hour ago. Price Change (24h) The percent change in trading volume for this asset compared to 24 hours ago. +0.61% The percent change in trading volume for\n",
      "Question: 2023 Bitcoin price chart\n",
      "Answer:\n",
      "\u001b[0m\n",
      "\n",
      "\u001b[1m> Finished chain.\u001b[0m\n",
      "\n",
      "\n",
      "Observation:\u001b[38;5;200m\u001b[1;3mNo useful information.\u001b[0m\n",
      "\n",
      "\n",
      "\u001b[1m> Entering new LLMChain chain...\u001b[0m\n",
      "Prompt after formatting:\n",
      "\u001b[32;1m\u001b[1;3mYou should modify the draft according to the user's requirements. Use a variety of tools to answer the questions.\n",
      "You need to find the material first, then use it to answer.\n",
      "\n",
      "You have access to the following tools:\n",
      "\n",
      "database: A tool to get data with from database. The input consists of a 'query' and a 'question', where 'query' is the search query and 'question' is the information you want to get. For example, {'query': 'bitcoin price history', 'question': 'what was the price of bitcoin in 2022?'} would be the input if you want to know the price of bitcoin in 2022. Input must contain both a query and a question.\n",
      "graph_tool: A tool to draw a graph. This tool simply converts the data you give it into a graph, so you'll need to enter a table in markdown form with your data and the characteristics of the graph you want to draw. It return image path of the graph.\n",
      "search_tool: A tool to search on internet. The input consists of a 'query' and a 'question', where 'query' is the search query and 'question' is the information you want to get. For example, {'query': 'bitcoin price history', 'question': 'what was the price of bitcoin in 2022?'} would be the input if you want to know the price of bitcoin in 2022. Input must contain both a query and a question.\n",
      "\n",
      "Use the following format:\n",
      "\n",
      "Draft: the input draft\n",
      "Requirements: the input user requirements\n",
      "Thought: you should always think about what to do\n",
      "Action: the action to take, should be one of [database, graph_tool, search_tool]\n",
      "Action Input: the input to the action\n",
      "Observation: the result of the action\n",
      "... (this Thought/Action/Action Input/Observation can repeat N times)\n",
      "Thought: I now know the final answer or I do not know the final answer\n",
      "Final Answer: Just say the modified draft. But if you don't have any, don't say anything and don't explain.\n",
      "\n",
      "Begin!\n",
      "\n",
      "Draft: 비트코인은 미래에 더욱 중요한 역할을 할 것으로 예상되며, 암호화폐 시장의 발전과 함께 더욱 중요한 자산으로 인정받을 것입니다. 디지털 자산 시장의 발전과 함께 비트코인은 더욱 더 중요한 역할을 할 것으로 예상됩니다. 따라서 비트코인에 대한 이해와 관련된 기술과 시스템의 발전이 필요하며, 국내외의 금융 기관과의 협력이 필요합니다. 이를 통해 우리나라는 비트코인이 촉발한 글로벌 시장의 변화에 뒤처지지 않고 먼저 대응할 수 있을 것입니다.\n",
      "Requirements: 결론 부분에 2023년 비트코인 가격 차트를 넣어줘\n",
      "Thought:I need to find a 2023 Bitcoin price chart to include in the conclusion.\n",
      "Action: search_tool\n",
      "Action Input: {'query': 'Bitcoin price chart 2023', 'question': '2023 Bitcoin price chart'}\n",
      "Observation: No useful information.\n",
      "Thought: \u001b[0m\n",
      "\n",
      "\u001b[1m> Finished chain.\u001b[0m\n",
      "\u001b[32;1m\u001b[1;3mI couldn't find a 2023 Bitcoin price chart through a search tool.\n",
      "Action: database\n",
      "Action Input: {'query': 'Bitcoin price chart', 'question': '2023 Bitcoin price chart'}\u001b[0m\n",
      "\n",
      "\u001b[1m> Entering new LLMChain chain...\u001b[0m\n",
      "Prompt after formatting:\n",
      "\u001b[32;1m\u001b[1;3m\n",
      "I want you to answer the question from the given documentation. \n",
      "There may be a lot of information in a given document that is not relevant to your question, but you should try to find as much relevant information as possible.\n",
      "Be as diligent as possible in returning your answer based on your knowledge and documentation.\n",
      "If there is no answer in the document, return \"No useful information\".\n",
      "\n",
      "Document: chunk1: 1848달러에 거래 중입니다. Bitcoin 차트 BTCC 거래소에서 BTC/USDT 무기한 선물 계약을 해보세요! 비트코인 현물 ETF가 출시되면 비트코인 직접 투자하기 어려웠던 기관들이 ETF를 통해 시장에 진입하게 되고, 수요 증가에 따라 가격도 상승할 것이란 기대가 높아졌다. 이런 기대감에 올 들어 비트코인 가격은 20% 이상 뛰었다. 투자 전문가는 추가 가격 상승을 기대하고 있다. 인기 트레이더인 젤레는 “비트코인이 3만 달러 아래로 떨어지기를 거부하고 있다”며 “하락에 대비하고 있지만 그럴 가능성이 높지는 않은 상태”라고 말했다. 트레이더 조시 레이거는 트위터를 통해 “가격이 3만 2000달러에서 3만 3000달러 수준을 테스트하고 있다”며 “그 수준을 유지할 수 있다면 몇 주 동안 3만 8000달러선 이상으로 ‘순간 이동’할 가능성이 있다”고 전망했다. 하지만, 최근 엿새째 비트코인은 3만 달러에서 횡보 중이다. 현물 ETF에 대한 기대감이 과도하다는 목소리가 나오면서\n",
      "chunk2: 밝혔습니다. BTCC 가입하고 15,000USDT 받으세요 비트코인 가격 전망 비트코인 전망 분석 : 기술적 분석 + 전문가 의견 연간 비트코인 10년 장기차트를 살펴보면 비트코인은 상승추세에 있다는 것을 볼 수 있습니다. 비트코인 반감기로 보았을때 전망 비트코인 반감기란 암호화폐 거래에서 반드시 알아둬야 하는 개념입니다. 반감기는 비트코인의 블록당 채굴 보상이 절반으로 줄어드는 현상입니다. 보통 비트코인은 10분당 하나씩 블록이 생성되는데, 이때마다 채굴자에게 보상이 주어집니다. 그런데 이 반감기가 오면 그 보상이 절반으로 줄어들게 됩니다. 예를 들어, 평소에 블록 보상을 10개를 주었다면 5개로 줄어들게 되는 겁니다. 이렇게 되면 채굴자가 구매자에게 제공할 수 있는 비트코인 수량이 줄어들게 됩니다. 여기서 우리는 암호화폐 역시 기본적인 공급과 수요의 법칙을 철저하게 따르고 있음을 기억해야 합니다. 즉 공급이 줄어듦에 따라 자연스레 가격이 상승하는 겁니다. 또한 여기에는 상승세에\n",
      "chunk3: 중입니다. Bitcoin 차트 BTCC 거래소에서 BTC/USDT 무기한 선물 계약을 해보세요! 비트코인 현물 ETF가 출시되면 비트코인 직접 투자하기 어려웠던 기관들이 ETF를 통해 시장에 진입하게 되고, 수요 증가에 따라 가격도 상승할 것이란 기대가 높아졌다. 이런 기대감에 올 들어 비트코인 가격은 20% 이상 뛰었다. 투자 전문가는 추가 가격 상승을 기대하고 있다. 인기 트레이더인 젤레는 “비트코인이 3만 달러 아래로 떨어지기를 거부하고 있다”며 “하락에 대비하고 있지만 그럴 가능성이 높지는 않은 상태”라고 말했다. 트레이더 조시 레이거는 트위터를 통해 “가격이 3만 2000달러에서 3만 3000달러 수준을 테스트하고 있다”며 “그 수준을 유지할 수 있다면 몇 주 동안 3만 8000달러선 이상으로 ‘순간 이동’할 가능성이 있다”고 전망했다. 하지만, 최근 엿새째 비트코인은 3만 달러에서 횡보 중이다. 현물 ETF에 대한 기대감이 과도하다는 목소리가 나오면서 상승세가\n",
      "chunk4: 디파이, DAO 등을 내세우며 계속해서 기존 시스템를 탈피하려는 움직임을 보여왔습니다. 비트코인 최신 뉴스 및 가격 시세 (비트코인 EFT) 블랙록을 비롯해 여러 거물급 자산운용사가 현물 비트코인 상장지수펀드(ETF)를 신청하면서 이번 달 비트코인 가격은 1년 만에 최고치를 기록했습니다. 비트코인 가격은 전날 밤 자산운용사 피델리티가 현물 비트코인 ETF 신청을 준비하고 있다는 ‘더 블록’ 보도 이후 반짝 상승해 3만1000달러를 터치했으나, 곧 다시 하락해 3만 달러 대에 머물고 있습니다. 비트코인 가격은 지난 24시간 동안 1.8% 하락해 2만9874달러까지 떨어졌습니다. 이후 손실분을 일부 만회하며 3만달러를 웃도는 수준에서 거래되고 있습니다. 29일 글로벌 암호화폐 거래소에 따르면 이날(오후 4시 기준) 비트코인 시세는 24시간 전 대비 0.49% 상승한 3만 392달러를 기록했습니다. 알트코인(비트코인 이외 가상자산) 대표격인 이더리움은 0.44% 하락 1848달러에 거래\n",
      "chunk5: 비트코인 가격 전망 (2023년 ~ 2030년)과 암호화폐 시황 - BTCCBTCC 아카데미추천추천암호화폐 입금BTCC 계정으로 암호화폐 즉시 입금USDT 계약 거래USDT로 주문하는 선물 거래VIP 수수료 할인VIP 등급에 따라 다양한 수수료 할인 혜택을 누리세요.원화 입금몇 초 만에 코인 구매파트너 제휴친구 추천하고 보상 받기코인 교환암호화폐를 실시간으로 다른 코인으로 교환도움 센터자주 묻는 질문소식센터공식 공지 목록BTCC 아카데미블록체인 및 암호화폐 튜토리얼뉴스암호화폐 시장의 최신 동향최신 이벤트친구 초대이벤트로그인회원 가입English简体中文繁體中文日本語BTCC 아카데미연구 및 분석비트코인 가격 전망 (2023년 ~ 2030년)과 암호화폐 시황 2023/06/29글쓴이: 실리콘밸리은행(SVB) 등 미국 은행들의 잇단 폐쇄에 전 세계 금융시장이 혼란을 겪고 있는 와중에도 비트코인(BTC)의 가격 상승세가 두드러지고 있습니다. 또한 블랙록을 비롯해 여러 거물급 자산운용사가 현물\n",
      "\n",
      "Question: 2023 Bitcoin price chart\n",
      "Answer:\n",
      "\u001b[0m\n",
      "\n",
      "\u001b[1m> Finished chain.\u001b[0m\n",
      "\n",
      "\n",
      "Observation:\u001b[36;1m\u001b[1;3mNo useful information.\u001b[0m\n",
      "\n",
      "\n",
      "\u001b[1m> Entering new LLMChain chain...\u001b[0m\n",
      "Prompt after formatting:\n",
      "\u001b[32;1m\u001b[1;3mYou should modify the draft according to the user's requirements. Use a variety of tools to answer the questions.\n",
      "You need to find the material first, then use it to answer.\n",
      "\n",
      "You have access to the following tools:\n",
      "\n",
      "database: A tool to get data with from database. The input consists of a 'query' and a 'question', where 'query' is the search query and 'question' is the information you want to get. For example, {'query': 'bitcoin price history', 'question': 'what was the price of bitcoin in 2022?'} would be the input if you want to know the price of bitcoin in 2022. Input must contain both a query and a question.\n",
      "graph_tool: A tool to draw a graph. This tool simply converts the data you give it into a graph, so you'll need to enter a table in markdown form with your data and the characteristics of the graph you want to draw. It return image path of the graph.\n",
      "search_tool: A tool to search on internet. The input consists of a 'query' and a 'question', where 'query' is the search query and 'question' is the information you want to get. For example, {'query': 'bitcoin price history', 'question': 'what was the price of bitcoin in 2022?'} would be the input if you want to know the price of bitcoin in 2022. Input must contain both a query and a question.\n",
      "\n",
      "Use the following format:\n",
      "\n",
      "Draft: the input draft\n",
      "Requirements: the input user requirements\n",
      "Thought: you should always think about what to do\n",
      "Action: the action to take, should be one of [database, graph_tool, search_tool]\n",
      "Action Input: the input to the action\n",
      "Observation: the result of the action\n",
      "... (this Thought/Action/Action Input/Observation can repeat N times)\n",
      "Thought: I now know the final answer or I do not know the final answer\n",
      "Final Answer: Just say the modified draft. But if you don't have any, don't say anything and don't explain.\n",
      "\n",
      "Begin!\n",
      "\n",
      "Draft: 비트코인은 미래에 더욱 중요한 역할을 할 것으로 예상되며, 암호화폐 시장의 발전과 함께 더욱 중요한 자산으로 인정받을 것입니다. 디지털 자산 시장의 발전과 함께 비트코인은 더욱 더 중요한 역할을 할 것으로 예상됩니다. 따라서 비트코인에 대한 이해와 관련된 기술과 시스템의 발전이 필요하며, 국내외의 금융 기관과의 협력이 필요합니다. 이를 통해 우리나라는 비트코인이 촉발한 글로벌 시장의 변화에 뒤처지지 않고 먼저 대응할 수 있을 것입니다.\n",
      "Requirements: 결론 부분에 2023년 비트코인 가격 차트를 넣어줘\n",
      "Thought:I need to find a 2023 Bitcoin price chart to include in the conclusion.\n",
      "Action: search_tool\n",
      "Action Input: {'query': 'Bitcoin price chart 2023', 'question': '2023 Bitcoin price chart'}\n",
      "Observation: No useful information.\n",
      "Thought: I couldn't find a 2023 Bitcoin price chart through a search tool.\n",
      "Action: database\n",
      "Action Input: {'query': 'Bitcoin price chart', 'question': '2023 Bitcoin price chart'}\n",
      "Observation: No useful information.\n",
      "Thought: \u001b[0m\n",
      "\n",
      "\u001b[1m> Finished chain.\u001b[0m\n",
      "\u001b[32;1m\u001b[1;3mI couldn't find a 2023 Bitcoin price chart in the database either.\n",
      "Final Answer: 비트코인은 미래에 더욱 중요한 역할을 할 것으로 예상되며, 암호화폐 시장의 발전과 함께 더욱 중요한 자산으로 인정받을 것입니다. 디지털 자산 시장의 발전과 함께 비트코인은 더욱 더 중요한 역할을 할 것으로 예상됩니다. 따라서 비트코인에 대한 이해와 관련된 기술과 시스템의 발전이 필요하며, 국내외의 금융 기관과의 협력이 필요합니다. 이를 통해 우리나라는 비트코인이 촉발한 글로벌 시장의 변화에 뒤처지지 않고 먼저 대응할 수 있을 것입니다.\u001b[0m\n",
      "\n",
      "\u001b[1m> Finished chain.\u001b[0m\n"
     ]
    },
    {
     "data": {
      "text/plain": [
       "'비트코인은 미래에 더욱 중요한 역할을 할 것으로 예상되며, 암호화폐 시장의 발전과 함께 더욱 중요한 자산으로 인정받을 것입니다. 디지털 자산 시장의 발전과 함께 비트코인은 더욱 더 중요한 역할을 할 것으로 예상됩니다. 따라서 비트코인에 대한 이해와 관련된 기술과 시스템의 발전이 필요하며, 국내외의 금융 기관과의 협력이 필요합니다. 이를 통해 우리나라는 비트코인이 촉발한 글로벌 시장의 변화에 뒤처지지 않고 먼저 대응할 수 있을 것입니다.'"
      ]
     },
     "execution_count": 39,
     "metadata": {},
     "output_type": "execute_result"
    }
   ],
   "source": [
    "draft_edit_agent.run(database=database, draft=draft, query=\"결론 부분에 2023년 비트코인 가격 차트를 넣어줘\")"
   ]
  }
 ],
 "metadata": {
  "kernelspec": {
   "display_name": "openai_skt",
   "language": "python",
   "name": "python3"
  },
  "language_info": {
   "codemirror_mode": {
    "name": "ipython",
    "version": 3
   },
   "file_extension": ".py",
   "mimetype": "text/x-python",
   "name": "python",
   "nbconvert_exporter": "python",
   "pygments_lexer": "ipython3",
   "version": "3.11.4"
  },
  "orig_nbformat": 4
 },
 "nbformat": 4,
 "nbformat_minor": 2
}
