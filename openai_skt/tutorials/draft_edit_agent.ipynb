{
 "cells": [
  {
   "cell_type": "code",
   "execution_count": 1,
   "metadata": {},
   "outputs": [],
   "source": [
    "import sys\n",
    "sys.path.append('..')"
   ]
  },
  {
   "cell_type": "markdown",
   "metadata": {},
   "source": [
    "### Set OpenAI key "
   ]
  },
  {
   "cell_type": "code",
   "execution_count": 2,
   "metadata": {},
   "outputs": [],
   "source": [
    "import os\n",
    "import configparser\n",
    "\n",
    "config = configparser.ConfigParser()\n",
    "config.read('../../.secrets.ini')\n",
    "OPENAI_API_KEY = config['OPENAI']['OPENAI_API_KEY']\n",
    "YOUTUBE_KEY = config['YOUTUBE']['YOUTUBE_API_KEY']\n",
    "NAVER_CLIENT_ID = config['NAVER']['NAVER_CLIENT_ID']\n",
    "NAVER_CLIENT_SECRET = config['NAVER']['NAVER_CLIENT_SECRET']\n",
    "GOOGLE_SEARCH_KEY = config['GOOGLE']['GOOGLE_API_KEY']\n",
    "CSE_ID = config['GOOGLE']['CSE_ID']\n",
    "SERPAPI_API_KEY = config['SERPAPI']['SERPAPI_API_KEY']\n",
    "\n",
    "\n",
    "os.environ.update({'OPENAI_API_KEY': OPENAI_API_KEY})\n",
    "os.environ.update({'YOUTUBE_KEY': YOUTUBE_KEY})\n",
    "os.environ.update({'NAVER_CLIENT_ID': NAVER_CLIENT_ID})\n",
    "os.environ.update({'NAVER_CLIENT_SECRET': NAVER_CLIENT_SECRET})\n",
    "os.environ.update({'GOOGLE_SEARCH_KEY': GOOGLE_SEARCH_KEY})\n",
    "os.environ.update({'CSE_ID': CSE_ID})\n",
    "os.environ.update({'SERPAPI_API_KEY': SERPAPI_API_KEY})"
   ]
  },
  {
   "cell_type": "markdown",
   "metadata": {},
   "source": [
    "### Get tools"
   ]
  },
  {
   "cell_type": "code",
   "execution_count": 3,
   "metadata": {},
   "outputs": [],
   "source": [
    "from tools import DatabaseTool, SearchTool, SearchByURLTool, TimeTool, DraftChunkTool, GraphTool"
   ]
  },
  {
   "cell_type": "code",
   "execution_count": 4,
   "metadata": {},
   "outputs": [],
   "source": [
    "# summary_chunk_chain = UnifiedSummaryChunkChain(summary_chunk_template=summary_chunk_template, input_variables=[\"question\", \"document\"], verbose=True)\n",
    "search_by_url_tool = SearchByURLTool()"
   ]
  },
  {
   "cell_type": "code",
   "execution_count": 5,
   "metadata": {},
   "outputs": [],
   "source": [
    "database_tool = DatabaseTool()\n",
    "# draft_chunk_tool = DraftChunkTool(draft_chunk_chain=draft_chunk_chain)\n",
    "graph_tool = GraphTool()\n",
    "search_tool = SearchTool(search_by_url_tool=search_by_url_tool)\n",
    "time_tool = TimeTool()"
   ]
  },
  {
   "cell_type": "code",
   "execution_count": 6,
   "metadata": {},
   "outputs": [],
   "source": [
    "tools = [database_tool, graph_tool, search_tool]"
   ]
  },
  {
   "cell_type": "markdown",
   "metadata": {},
   "source": [
    "### Set Agent"
   ]
  },
  {
   "cell_type": "code",
   "execution_count": 7,
   "metadata": {},
   "outputs": [],
   "source": [
    "from models.llm.draft_edit_agent import DraftEditAgent"
   ]
  },
  {
   "cell_type": "code",
   "execution_count": 8,
   "metadata": {},
   "outputs": [],
   "source": [
    "draft_edit_agent = DraftEditAgent(model='gpt-4', tools=tools, verbose=True)"
   ]
  },
  {
   "cell_type": "code",
   "execution_count": 9,
   "metadata": {},
   "outputs": [],
   "source": [
    "from database import DataBase"
   ]
  },
  {
   "cell_type": "code",
   "execution_count": 10,
   "metadata": {},
   "outputs": [],
   "source": [
    "from database import CustomEmbedChain\n",
    "embed_chain = CustomEmbedChain()"
   ]
  },
  {
   "cell_type": "code",
   "execution_count": 11,
   "metadata": {},
   "outputs": [],
   "source": [
    "# database = DataBase.load(database_path='./user/test_2/database.json', embed_chain=embed_chain)\n",
    "import pickle\n",
    "with open(\"database_save_path.pkl\", \"rb\") as f:\n",
    "    database = pickle.load(f)\n",
    "database.set_embed_chain(embed_chain)\n"
   ]
  },
  {
   "cell_type": "code",
   "execution_count": 12,
   "metadata": {},
   "outputs": [],
   "source": [
    "draft_part = \"\"\"\n",
    "# 서론\n",
    "\n",
    "디지털 자산은 현대 사회에서 점차적으로 중요성을 갖추고 있는 개념입니다. 디지털 자산은 전자적인 형태로 존재하며, 재산적 가치를 가지고 있으며 사용할 권리가 있는 무형자산입니다. 이러한 디지털 자산은 기존의 재산 개념을 넘어서며, 새로운 경제 시스템과 금융 시장을 형성하고 있습니다.\n",
    "\n",
    "비트코인은 디지털 자산 중에서도 가장 잘 알려진 암호화폐입니다. 2009년에 등장한 비트코인은 블록체인 기술을 기반으로 작동하며, 분산원장을 통해 거래 기록을 관리합니다. 비트코인은 중앙 기관이나 정부의 감독을 받지 않고 운영되며, 익명성과 보안성을 갖추고 있습니다.\n",
    "\n",
    "비트코인은 전 세계적으로 거래되고 있으며, 전자상거래와 결제 시스템에서 널리 활용되고 있습니다. 또한 글로벌 경제와 금융 시스템에도 영향을 미치고 있으며, 새로운 경제 모델과 기회를 창출하고 있습니다.\n",
    "\n",
    "하지만 비트코인은 가치의 변동성과 부정적인 영향을 가지고 있습니다. 이러한 문제점들은 국가별로 다양한 규제와 법적인 쟁점을 야기하고 있습니다. 따라서 비트코인의 발전과 활용에는 법적인 쟁점을 해결하고 금융 기관과의 협력이 필요합니다.\n",
    "\n",
    "이번 글에서는 디지털 자산의 개념과 중요성에 대해 알아보고, 비트코인의 등장과 역할에 대해 살펴보겠습니다.\n",
    "\"\"\""
   ]
  },
  {
   "cell_type": "code",
   "execution_count": 13,
   "metadata": {},
   "outputs": [],
   "source": [
    "database_tool = DatabaseTool()\n",
    "database_tool.set_database(database=database)\n",
    "tools = [database_tool, graph_tool, search_tool]"
   ]
  },
  {
   "cell_type": "code",
   "execution_count": 14,
   "metadata": {},
   "outputs": [
    {
     "name": "stdout",
     "output_type": "stream",
     "text": [
      "\n",
      "\n",
      "\u001b[1m> Entering new AgentExecutor chain...\u001b[0m\n",
      "\n",
      "\n",
      "\u001b[1m> Entering new LLMChain chain...\u001b[0m\n",
      "Prompt after formatting:\n",
      "\u001b[32;1m\u001b[1;3mYou should modify the draft according to the user's requirements. \n",
      "Use a variety of tools to answer the questions.\n",
      "You need to find the material first using tool, then use it to modify the draft.\n",
      "\n",
      "You have access to the following tools:\n",
      "<tools>\n",
      "database_tool: A tool to get data with from database. The input consists of a 'query' and a 'question', where 'query' is the search query and 'question' is the information you want to get. For example, {'query': 'bitcoin price history', 'question': 'what was the price of bitcoin in 2022?'} would be the input if you want to know the price of bitcoin in 2022. Input must contain both a query and a question.\n",
      "graph_tool: \n",
      "A tool to draw a graph. It return image path of the graph. This tool simply converts the data you give it into a graph, so you'll need to enter a table in markdown form with your data and the features of the graph you want to draw. The example of input is as follows:\n",
      "===\n",
      "Please plot the table below as a bar chart.\n",
      "| Properties | Information |\n",
      "|------------|-------------|\n",
      "| **Natural Language Processing Market Size in 2022** | $15.7 billion |\n",
      "| **Natural Language Processing Market Forecast 2032** | $144.9 Billion |\n",
      "| **Natural Language Processing Market CAGR from 2023 to 2032** | 25.1% |\n",
      "===\n",
      "    \n",
      "search_tool: A tool to search on internet. The input consists of a 'query' and a 'question', where 'query' is the search query and 'question' is the information you want to get. For example, {'query': 'bitcoin price history', 'question': 'what was the price of bitcoin in 2022?'} would be the input if you want to know the price of bitcoin in 2022. Input must contain both a query and a question.\n",
      "</tools>\n",
      "\n",
      "Use the following format:\n",
      "<format>\n",
      "<Draft> the input draft </Draft>\n",
      "<Requirements> the input user requirements </Requirements>\n",
      "<Thought> you should always think about what to do </Thought>\n",
      "<Action> the action to take, should be one of [database_tool, graph_tool, search_tool] </Action>\n",
      "<Action Input> the input to the action </Action Input>\n",
      "<Observation> the result of the action </Observation>\n",
      "... (this Thought/Action/Action Input/Observation can repeat 3 times)\n",
      "<Thought> I can modify the draft now. or I can't modify the draft now. </Thought>\n",
      "<Modified Draft> Just say the modified draft markdown in markdown format. But if you don't have any, return input draft and don't explain. </Modified Draft>\n",
      "</format>\n",
      "You must return <Modified Draft> whether you can modify the draft or not. If you can, return the modified draft. If you can't, return the input draft and don't explain.\n",
      "\n",
      "Begin!\n",
      "\n",
      "<Draft> \n",
      "# 서론\n",
      "\n",
      "디지털 자산은 현대 사회에서 점차적으로 중요성을 갖추고 있는 개념입니다. 디지털 자산은 전자적인 형태로 존재하며, 재산적 가치를 가지고 있으며 사용할 권리가 있는 무형자산입니다. 이러한 디지털 자산은 기존의 재산 개념을 넘어서며, 새로운 경제 시스템과 금융 시장을 형성하고 있습니다.\n",
      "\n",
      "비트코인은 디지털 자산 중에서도 가장 잘 알려진 암호화폐입니다. 2009년에 등장한 비트코인은 블록체인 기술을 기반으로 작동하며, 분산원장을 통해 거래 기록을 관리합니다. 비트코인은 중앙 기관이나 정부의 감독을 받지 않고 운영되며, 익명성과 보안성을 갖추고 있습니다.\n",
      "\n",
      "비트코인은 전 세계적으로 거래되고 있으며, 전자상거래와 결제 시스템에서 널리 활용되고 있습니다. 또한 글로벌 경제와 금융 시스템에도 영향을 미치고 있으며, 새로운 경제 모델과 기회를 창출하고 있습니다.\n",
      "\n",
      "하지만 비트코인은 가치의 변동성과 부정적인 영향을 가지고 있습니다. 이러한 문제점들은 국가별로 다양한 규제와 법적인 쟁점을 야기하고 있습니다. 따라서 비트코인의 발전과 활용에는 법적인 쟁점을 해결하고 금융 기관과의 협력이 필요합니다.\n",
      "\n",
      "이번 글에서는 디지털 자산의 개념과 중요성에 대해 알아보고, 비트코인의 등장과 역할에 대해 살펴보겠습니다.\n",
      " </Draft>\n",
      "<Requirements> 현재 비트코인 가격을 넣어줘 </Requirements>\n",
      "\u001b[0m\n"
     ]
    },
    {
     "name": "stdout",
     "output_type": "stream",
     "text": [
      "\n",
      "\u001b[1m> Finished chain.\u001b[0m\n",
      "\u001b[32;1m\u001b[1;3m<Thought> I need to find the current price of Bitcoin. I can use the search_tool for this. </Thought>\n",
      "<Action> search_tool </Action>\n",
      "<Action Input> {\"query\": \"current bitcoin price\", \"question\": \"What is the current price of Bitcoin?\"} </Action Input>\u001b[0m\n",
      "\n",
      "<Observation>\u001b[38;5;200m\u001b[1;3mThe document provides information about Bitcoin, including its price, market cap, and historical performance. It also mentions that the current price of Bitcoin is $26,438.00.\n",
      "\n",
      "step2:\n",
      "The answer to the question \"What is the current price of Bitcoin?\" is already provided in the document.\n",
      "\n",
      "step3:\n",
      "Final Answer: The current price of Bitcoin is $26,438.00.\u001b[0m\n",
      "\n",
      "\n",
      "\u001b[1m> Entering new LLMChain chain...\u001b[0m\n",
      "Prompt after formatting:\n",
      "\u001b[32;1m\u001b[1;3mYou should modify the draft according to the user's requirements. \n",
      "Use a variety of tools to answer the questions.\n",
      "You need to find the material first using tool, then use it to modify the draft.\n",
      "\n",
      "You have access to the following tools:\n",
      "<tools>\n",
      "database_tool: A tool to get data with from database. The input consists of a 'query' and a 'question', where 'query' is the search query and 'question' is the information you want to get. For example, {'query': 'bitcoin price history', 'question': 'what was the price of bitcoin in 2022?'} would be the input if you want to know the price of bitcoin in 2022. Input must contain both a query and a question.\n",
      "graph_tool: \n",
      "A tool to draw a graph. It return image path of the graph. This tool simply converts the data you give it into a graph, so you'll need to enter a table in markdown form with your data and the features of the graph you want to draw. The example of input is as follows:\n",
      "===\n",
      "Please plot the table below as a bar chart.\n",
      "| Properties | Information |\n",
      "|------------|-------------|\n",
      "| **Natural Language Processing Market Size in 2022** | $15.7 billion |\n",
      "| **Natural Language Processing Market Forecast 2032** | $144.9 Billion |\n",
      "| **Natural Language Processing Market CAGR from 2023 to 2032** | 25.1% |\n",
      "===\n",
      "    \n",
      "search_tool: A tool to search on internet. The input consists of a 'query' and a 'question', where 'query' is the search query and 'question' is the information you want to get. For example, {'query': 'bitcoin price history', 'question': 'what was the price of bitcoin in 2022?'} would be the input if you want to know the price of bitcoin in 2022. Input must contain both a query and a question.\n",
      "</tools>\n",
      "\n",
      "Use the following format:\n",
      "<format>\n",
      "<Draft> the input draft </Draft>\n",
      "<Requirements> the input user requirements </Requirements>\n",
      "<Thought> you should always think about what to do </Thought>\n",
      "<Action> the action to take, should be one of [database_tool, graph_tool, search_tool] </Action>\n",
      "<Action Input> the input to the action </Action Input>\n",
      "<Observation> the result of the action </Observation>\n",
      "... (this Thought/Action/Action Input/Observation can repeat 3 times)\n",
      "<Thought> I can modify the draft now. or I can't modify the draft now. </Thought>\n",
      "<Modified Draft> Just say the modified draft markdown in markdown format. But if you don't have any, return input draft and don't explain. </Modified Draft>\n",
      "</format>\n",
      "You must return <Modified Draft> whether you can modify the draft or not. If you can, return the modified draft. If you can't, return the input draft and don't explain.\n",
      "\n",
      "Begin!\n",
      "\n",
      "<Draft> \n",
      "# 서론\n",
      "\n",
      "디지털 자산은 현대 사회에서 점차적으로 중요성을 갖추고 있는 개념입니다. 디지털 자산은 전자적인 형태로 존재하며, 재산적 가치를 가지고 있으며 사용할 권리가 있는 무형자산입니다. 이러한 디지털 자산은 기존의 재산 개념을 넘어서며, 새로운 경제 시스템과 금융 시장을 형성하고 있습니다.\n",
      "\n",
      "비트코인은 디지털 자산 중에서도 가장 잘 알려진 암호화폐입니다. 2009년에 등장한 비트코인은 블록체인 기술을 기반으로 작동하며, 분산원장을 통해 거래 기록을 관리합니다. 비트코인은 중앙 기관이나 정부의 감독을 받지 않고 운영되며, 익명성과 보안성을 갖추고 있습니다.\n",
      "\n",
      "비트코인은 전 세계적으로 거래되고 있으며, 전자상거래와 결제 시스템에서 널리 활용되고 있습니다. 또한 글로벌 경제와 금융 시스템에도 영향을 미치고 있으며, 새로운 경제 모델과 기회를 창출하고 있습니다.\n",
      "\n",
      "하지만 비트코인은 가치의 변동성과 부정적인 영향을 가지고 있습니다. 이러한 문제점들은 국가별로 다양한 규제와 법적인 쟁점을 야기하고 있습니다. 따라서 비트코인의 발전과 활용에는 법적인 쟁점을 해결하고 금융 기관과의 협력이 필요합니다.\n",
      "\n",
      "이번 글에서는 디지털 자산의 개념과 중요성에 대해 알아보고, 비트코인의 등장과 역할에 대해 살펴보겠습니다.\n",
      " </Draft>\n",
      "<Requirements> 현재 비트코인 가격을 넣어줘 </Requirements>\n",
      "<Thought> I need to find the current price of Bitcoin. I can use the search_tool for this. </Thought>\n",
      "<Action> search_tool </Action>\n",
      "<Action Input> {\"query\": \"current bitcoin price\", \"question\": \"What is the current price of Bitcoin?\"} </Action Input>\n",
      "<Observation> The document provides information about Bitcoin, including its price, market cap, and historical performance. It also mentions that the current price of Bitcoin is $26,438.00.\n",
      "\n",
      "step2:\n",
      "The answer to the question \"What is the current price of Bitcoin?\" is already provided in the document.\n",
      "\n",
      "step3:\n",
      "Final Answer: The current price of Bitcoin is $26,438.00. </Observation>\n",
      "<Thought> \u001b[0m\n",
      "\n",
      "\u001b[1m> Finished chain.\u001b[0m\n",
      "\u001b[32;1m\u001b[1;3mI have the current price of Bitcoin now. I can modify the draft. </Thought>\n",
      "<Modified Draft> \n",
      "# 서론\n",
      "\n",
      "디지털 자산은 현대 사회에서 점차적으로 중요성을 갖추고 있는 개념입니다. 디지털 자산은 전자적인 형태로 존재하며, 재산적 가치를 가지고 있으며 사용할 권리가 있는 무형자산입니다. 이러한 디지털 자산은 기존의 재산 개념을 넘어서며, 새로운 경제 시스템과 금융 시장을 형성하고 있습니다.\n",
      "\n",
      "비트코인은 디지털 자산 중에서도 가장 잘 알려진 암호화폐입니다. 2009년에 등장한 비트코인은 블록체인 기술을 기반으로 작동하며, 분산원장을 통해 거래 기록을 관리합니다. 비트코인은 중앙 기관이나 정부의 감독을 받지 않고 운영되며, 익명성과 보안성을 갖추고 있습니다.\n",
      "\n",
      "비트코인은 전 세계적으로 거래되고 있으며, 전자상거래와 결제 시스템에서 널리 활용되고 있습니다. 또한 글로벌 경제와 금융 시스템에도 영향을 미치고 있으며, 새로운 경제 모델과 기회를 창출하고 있습니다. 현재 비트코인의 가격은 $26,438.00입니다.\n",
      "\n",
      "하지만 비트코인은 가치의 변동성과 부정적인 영향을 가지고 있습니다. 이러한 문제점들은 국가별로 다양한 규제와 법적인 쟁점을 야기하고 있습니다. 따라서 비트코인의 발전과 활용에는 법적인 쟁점을 해결하고 금융 기관과의 협력이 필요합니다.\n",
      "\n",
      "이번 글에서는 디지털 자산의 개념과 중요성에 대해 알아보고, 비트코인의 등장과 역할에 대해 살펴보겠습니다.\n",
      " </Modified Draft>\u001b[0m\n",
      "\n",
      "\u001b[1m> Finished chain.\u001b[0m\n"
     ]
    },
    {
     "data": {
      "text/plain": [
       "'# 서론\\n\\n디지털 자산은 현대 사회에서 점차적으로 중요성을 갖추고 있는 개념입니다. 디지털 자산은 전자적인 형태로 존재하며, 재산적 가치를 가지고 있으며 사용할 권리가 있는 무형자산입니다. 이러한 디지털 자산은 기존의 재산 개념을 넘어서며, 새로운 경제 시스템과 금융 시장을 형성하고 있습니다.\\n\\n비트코인은 디지털 자산 중에서도 가장 잘 알려진 암호화폐입니다. 2009년에 등장한 비트코인은 블록체인 기술을 기반으로 작동하며, 분산원장을 통해 거래 기록을 관리합니다. 비트코인은 중앙 기관이나 정부의 감독을 받지 않고 운영되며, 익명성과 보안성을 갖추고 있습니다.\\n\\n비트코인은 전 세계적으로 거래되고 있으며, 전자상거래와 결제 시스템에서 널리 활용되고 있습니다. 또한 글로벌 경제와 금융 시스템에도 영향을 미치고 있으며, 새로운 경제 모델과 기회를 창출하고 있습니다. 현재 비트코인의 가격은 $26,438.00입니다.\\n\\n하지만 비트코인은 가치의 변동성과 부정적인 영향을 가지고 있습니다. 이러한 문제점들은 국가별로 다양한 규제와 법적인 쟁점을 야기하고 있습니다. 따라서 비트코인의 발전과 활용에는 법적인 쟁점을 해결하고 금융 기관과의 협력이 필요합니다.\\n\\n이번 글에서는 디지털 자산의 개념과 중요성에 대해 알아보고, 비트코인의 등장과 역할에 대해 살펴보겠습니다.'"
      ]
     },
     "execution_count": 14,
     "metadata": {},
     "output_type": "execute_result"
    }
   ],
   "source": [
    "draft_edit_agent.run(tools=tools, draft_part=draft_part, query=\"현재 비트코인 가격을 넣어줘\")"
   ]
  }
 ],
 "metadata": {
  "kernelspec": {
   "display_name": "openai_skt",
   "language": "python",
   "name": "python3"
  },
  "language_info": {
   "codemirror_mode": {
    "name": "ipython",
    "version": 3
   },
   "file_extension": ".py",
   "mimetype": "text/x-python",
   "name": "python",
   "nbconvert_exporter": "python",
   "pygments_lexer": "ipython3",
   "version": "3.11.4"
  },
  "orig_nbformat": 4
 },
 "nbformat": 4,
 "nbformat_minor": 2
}
