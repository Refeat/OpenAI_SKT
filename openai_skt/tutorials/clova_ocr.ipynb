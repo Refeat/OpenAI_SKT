{
 "cells": [
  {
   "cell_type": "code",
   "execution_count": 1,
   "metadata": {},
   "outputs": [],
   "source": [
    "import sys\n",
    "sys.path.append('..')"
   ]
  },
  {
   "cell_type": "markdown",
   "metadata": {},
   "source": [
    "### Set OpenAI key "
   ]
  },
  {
   "cell_type": "code",
   "execution_count": 12,
   "metadata": {},
   "outputs": [],
   "source": [
    "import os\n",
    "import configparser\n",
    "\n",
    "config = configparser.ConfigParser()\n",
    "config.read('../../.secrets.ini')\n",
    "clova_ocr_key = config['NAVER']['CLOVA_OCR_KEY']\n",
    "\n",
    "os.environ.update({'CLOVA_OCR_KEY': clova_ocr_key})"
   ]
  },
  {
   "cell_type": "code",
   "execution_count": 3,
   "metadata": {},
   "outputs": [],
   "source": [
    "import numpy as np\n",
    "import platform\n",
    "from PIL import ImageFont, ImageDraw, Image\n",
    "from matplotlib import pyplot as plt\n",
    " \n",
    "import uuid\n",
    "import json\n",
    "import time\n",
    "import cv2\n",
    "import requests"
   ]
  },
  {
   "cell_type": "code",
   "execution_count": 4,
   "metadata": {},
   "outputs": [],
   "source": [
    "def plt_imshow(title='image', img=None, figsize=(8 ,5)):\n",
    "    plt.figure(figsize=figsize)\n",
    " \n",
    "    if type(img) == list:\n",
    "        if type(title) == list:\n",
    "            titles = title\n",
    "        else:\n",
    "            titles = []\n",
    " \n",
    "            for i in range(len(img)):\n",
    "                titles.append(title)\n",
    " \n",
    "        for i in range(len(img)):\n",
    "            if len(img[i].shape) <= 2:\n",
    "                rgbImg = cv2.cvtColor(img[i], cv2.COLOR_GRAY2RGB)\n",
    "            else:\n",
    "                rgbImg = cv2.cvtColor(img[i], cv2.COLOR_BGR2RGB)\n",
    " \n",
    "            plt.subplot(1, len(img), i + 1), plt.imshow(rgbImg)\n",
    "            plt.title(titles[i])\n",
    "            plt.xticks([]), plt.yticks([])\n",
    " \n",
    "        plt.show()\n",
    "    else:\n",
    "        if len(img.shape) < 3:\n",
    "            rgbImg = cv2.cvtColor(img, cv2.COLOR_GRAY2RGB)\n",
    "        else:\n",
    "            rgbImg = cv2.cvtColor(img, cv2.COLOR_BGR2RGB)\n",
    " \n",
    "        plt.imshow(rgbImg)\n",
    "        plt.title(title)\n",
    "        plt.xticks([]), plt.yticks([])\n",
    "        plt.show()"
   ]
  },
  {
   "cell_type": "code",
   "execution_count": 5,
   "metadata": {},
   "outputs": [],
   "source": [
    "def put_text(image, text, x, y, color=(0, 255, 0), font_size=22):\n",
    "    if type(image) == np.ndarray:\n",
    "        color_coverted = cv2.cvtColor(image, cv2.COLOR_BGR2RGB)\n",
    "        image = Image.fromarray(color_coverted)\n",
    " \n",
    "    if platform.system() == 'Darwin':\n",
    "        font = 'AppleGothic.ttf'\n",
    "    elif platform.system() == 'Windows':\n",
    "        font = 'malgun.ttf'\n",
    "        \n",
    "    image_font = ImageFont.truetype(font, font_size)\n",
    "    font = ImageFont.load_default()\n",
    "    draw = ImageDraw.Draw(image)\n",
    " \n",
    "    draw.text((x, y), text, font=image_font, fill=color)\n",
    "    \n",
    "    numpy_image = np.array(image)\n",
    "    opencv_image = cv2.cvtColor(numpy_image, cv2.COLOR_RGB2BGR)\n",
    " \n",
    "    return opencv_image"
   ]
  },
  {
   "cell_type": "code",
   "execution_count": 13,
   "metadata": {},
   "outputs": [],
   "source": [
    "clova_ocr_key = os.getenv('CLOVA_OCR_KEY')\n",
    "api_url = \"https://40s1tdjs0r.apigw.ntruss.com/custom/v1/23456/aa9d4447014b5f6ff61370acfd70e0f5677dc1674c95fde605a9b627e10f70f7/general\""
   ]
  },
  {
   "cell_type": "code",
   "execution_count": 18,
   "metadata": {},
   "outputs": [],
   "source": [
    "\n",
    "image_file = './test_data/test20.png'\n",
    "output_file = './test_data/output1.json'"
   ]
  },
  {
   "cell_type": "code",
   "execution_count": 19,
   "metadata": {},
   "outputs": [
    {
     "name": "stdout",
     "output_type": "stream",
     "text": [
      "{'version': 'V2', 'requestId': '49ecebf1-4aee-4a7c-9191-215fcb59b2f7', 'timestamp': 1695288128100, 'images': [{'uid': '322d16119e964fbba99d23149d72f0bb', 'name': 'demo', 'inferResult': 'SUCCESS', 'message': 'SUCCESS', 'validationResult': {'result': 'NO_REQUESTED'}, 'convertedImageInfo': {'width': 640, 'height': 480, 'pageIndex': 0, 'longImage': False}, 'fields': [{'valueType': 'ALL', 'boundingPoly': {'vertices': [{'x': 61.0, 'y': 150.0}, {'x': 71.0, 'y': 150.0}, {'x': 71.0, 'y': 162.0}, {'x': 61.0, 'y': 162.0}]}, 'inferText': '0', 'inferConfidence': 0.9965, 'type': 'NORMAL', 'lineBreak': True}, {'valueType': 'ALL', 'boundingPoly': {'vertices': [{'x': 104.0, 'y': 158.0}, {'x': 562.0, 'y': 158.0}, {'x': 562.0, 'y': 177.0}, {'x': 104.0, 'y': 177.0}]}, 'inferText': '잔류농약 부적합과 연관된 농업경영체 변수는 이래 표의 음영색과 같다.', 'inferConfidence': 0.9948, 'type': 'NORMAL', 'lineBreak': True}, {'valueType': 'ALL', 'boundingPoly': {'vertices': [{'x': 43.0, 'y': 186.0}, {'x': 71.0, 'y': 186.0}, {'x': 71.0, 'y': 199.0}, {'x': 43.0, 'y': 199.0}]}, 'inferText': '100', 'inferConfidence': 1.0, 'type': 'NORMAL', 'lineBreak': False}, {'valueType': 'ALL', 'boundingPoly': {'vertices': [{'x': 170.0, 'y': 189.0}, {'x': 403.0, 'y': 189.0}, {'x': 403.0, 'y': 201.0}, {'x': 170.0, 'y': 201.0}]}, 'inferText': '4년간 잔류농약 조사결과 전체에 대한 적합/부적합', 'inferConfidence': 0.962, 'type': 'NORMAL', 'lineBreak': False}, {'valueType': 'ALL', 'boundingPoly': {'vertices': [{'x': 403.0, 'y': 189.0}, {'x': 493.0, 'y': 189.0}, {'x': 493.0, 'y': 201.0}, {'x': 403.0, 'y': 201.0}]}, 'inferText': '카이제곱 검정 결과', 'inferConfidence': 0.9999, 'type': 'NORMAL', 'lineBreak': True}, {'valueType': 'ALL', 'boundingPoly': {'vertices': [{'x': 141.0, 'y': 206.0}, {'x': 171.0, 'y': 206.0}, {'x': 171.0, 'y': 214.0}, {'x': 141.0, 'y': 214.0}]}, 'inferText': '조사연도', 'inferConfidence': 0.9989, 'type': 'NORMAL', 'lineBreak': True}, {'valueType': 'ALL', 'boundingPoly': {'vertices': [{'x': 411.0, 'y': 210.0}, {'x': 447.0, 'y': 210.0}, {'x': 447.0, 'y': 219.0}, {'x': 411.0, 'y': 219.0}]}, 'inferText': \"'17~'18년\", 'inferConfidence': 0.9642, 'type': 'NORMAL', 'lineBreak': False}, {'valueType': 'ALL', 'boundingPoly': {'vertices': [{'x': 467.0, 'y': 210.0}, {'x': 503.0, 'y': 210.0}, {'x': 503.0, 'y': 218.0}, {'x': 467.0, 'y': 218.0}]}, 'inferText': '19~20년', 'inferConfidence': 0.9436, 'type': 'NORMAL', 'lineBreak': False}, {'valueType': 'ALL', 'boundingPoly': {'vertices': [{'x': 525.0, 'y': 211.0}, {'x': 559.0, 'y': 211.0}, {'x': 559.0, 'y': 218.0}, {'x': 525.0, 'y': 218.0}]}, 'inferText': '17~20년', 'inferConfidence': 0.9951, 'type': 'NORMAL', 'lineBreak': True}, {'valueType': 'ALL', 'boundingPoly': {'vertices': [{'x': 192.0, 'y': 214.0}, {'x': 211.0, 'y': 214.0}, {'x': 211.0, 'y': 223.0}, {'x': 192.0, 'y': 223.0}]}, 'inferText': '17년', 'inferConfidence': 0.9993, 'type': 'NORMAL', 'lineBreak': False}, {'valueType': 'ALL', 'boundingPoly': {'vertices': [{'x': 249.0, 'y': 214.0}, {'x': 269.0, 'y': 214.0}, {'x': 269.0, 'y': 223.0}, {'x': 249.0, 'y': 223.0}]}, 'inferText': '18년', 'inferConfidence': 0.9652, 'type': 'NORMAL', 'lineBreak': False}, {'valueType': 'ALL', 'boundingPoly': {'vertices': [{'x': 305.0, 'y': 214.0}, {'x': 326.0, 'y': 214.0}, {'x': 326.0, 'y': 223.0}, {'x': 305.0, 'y': 223.0}]}, 'inferText': '19년', 'inferConfidence': 0.9876, 'type': 'NORMAL', 'lineBreak': False}, {'valueType': 'ALL', 'boundingPoly': {'vertices': [{'x': 363.0, 'y': 214.0}, {'x': 382.0, 'y': 214.0}, {'x': 382.0, 'y': 224.0}, {'x': 363.0, 'y': 224.0}]}, 'inferText': '20년', 'inferConfidence': 1.0, 'type': 'NORMAL', 'lineBreak': True}, {'valueType': 'ALL', 'boundingPoly': {'vertices': [{'x': 414.0, 'y': 219.0}, {'x': 444.0, 'y': 219.0}, {'x': 444.0, 'y': 228.0}, {'x': 414.0, 'y': 228.0}]}, 'inferText': '(PLS전)', 'inferConfidence': 0.999, 'type': 'NORMAL', 'lineBreak': False}, {'valueType': 'ALL', 'boundingPoly': {'vertices': [{'x': 471.0, 'y': 220.0}, {'x': 501.0, 'y': 220.0}, {'x': 501.0, 'y': 227.0}, {'x': 471.0, 'y': 227.0}]}, 'inferText': '(PLS후)', 'inferConfidence': 0.9959, 'type': 'NORMAL', 'lineBreak': False}, {'valueType': 'ALL', 'boundingPoly': {'vertices': [{'x': 535.0, 'y': 219.0}, {'x': 551.0, 'y': 219.0}, {'x': 551.0, 'y': 229.0}, {'x': 535.0, 'y': 229.0}]}, 'inferText': '전체', 'inferConfidence': 0.829, 'type': 'NORMAL', 'lineBreak': True}, {'valueType': 'ALL', 'boundingPoly': {'vertices': [{'x': 42.0, 'y': 224.0}, {'x': 72.0, 'y': 224.0}, {'x': 72.0, 'y': 238.0}, {'x': 42.0, 'y': 238.0}]}, 'inferText': '200', 'inferConfidence': 1.0, 'type': 'NORMAL', 'lineBreak': False}, {'valueType': 'ALL', 'boundingPoly': {'vertices': [{'x': 96.0, 'y': 225.0}, {'x': 153.0, 'y': 225.0}, {'x': 153.0, 'y': 233.0}, {'x': 96.0, 'y': 233.0}]}, 'inferText': '농업경영제 변수', 'inferConfidence': 0.9589, 'type': 'NORMAL', 'lineBreak': True}, {'valueType': 'ALL', 'boundingPoly': {'vertices': [{'x': 99.0, 'y': 236.0}, {'x': 137.0, 'y': 236.0}, {'x': 137.0, 'y': 245.0}, {'x': 99.0, 'y': 245.0}]}, 'inferText': '생산자성별', 'inferConfidence': 0.9993, 'type': 'NORMAL', 'lineBreak': True}, {'valueType': 'ALL', 'boundingPoly': {'vertices': [{'x': 98.0, 'y': 247.0}, {'x': 115.0, 'y': 247.0}, {'x': 115.0, 'y': 255.0}, {'x': 98.0, 'y': 255.0}]}, 'inferText': '연령', 'inferConfidence': 1.0, 'type': 'NORMAL', 'lineBreak': True}, {'valueType': 'ALL', 'boundingPoly': {'vertices': [{'x': 99.0, 'y': 258.0}, {'x': 130.0, 'y': 258.0}, {'x': 130.0, 'y': 266.0}, {'x': 99.0, 'y': 266.0}]}, 'inferText': '영농경력', 'inferConfidence': 0.9995, 'type': 'NORMAL', 'lineBreak': True}, {'valueType': 'ALL', 'boundingPoly': {'vertices': [{'x': 43.0, 'y': 262.0}, {'x': 71.0, 'y': 262.0}, {'x': 71.0, 'y': 276.0}, {'x': 43.0, 'y': 276.0}]}, 'inferText': '300', 'inferConfidence': 1.0, 'type': 'NORMAL', 'lineBreak': False}, {'valueType': 'ALL', 'boundingPoly': {'vertices': [{'x': 99.0, 'y': 268.0}, {'x': 144.0, 'y': 268.0}, {'x': 144.0, 'y': 276.0}, {'x': 99.0, 'y': 276.0}]}, 'inferText': '농업시작형태', 'inferConfidence': 0.9928, 'type': 'NORMAL', 'lineBreak': True}, {'valueType': 'ALL', 'boundingPoly': {'vertices': [{'x': 99.0, 'y': 278.0}, {'x': 144.0, 'y': 278.0}, {'x': 144.0, 'y': 286.0}, {'x': 99.0, 'y': 286.0}]}, 'inferText': '농업중사형태', 'inferConfidence': 0.8399, 'type': 'NORMAL', 'lineBreak': True}, {'valueType': 'ALL', 'boundingPoly': {'vertices': [{'x': 99.0, 'y': 290.0}, {'x': 147.0, 'y': 290.0}, {'x': 148.0, 'y': 298.0}, {'x': 99.0, 'y': 298.0}]}, 'inferText': '재배면적(m2)', 'inferConfidence': 0.9989, 'type': 'NORMAL', 'lineBreak': True}, {'valueType': 'ALL', 'boundingPoly': {'vertices': [{'x': 43.0, 'y': 300.0}, {'x': 73.0, 'y': 300.0}, {'x': 73.0, 'y': 314.0}, {'x': 43.0, 'y': 314.0}]}, 'inferText': '400', 'inferConfidence': 1.0, 'type': 'NORMAL', 'lineBreak': False}, {'valueType': 'ALL', 'boundingPoly': {'vertices': [{'x': 98.0, 'y': 301.0}, {'x': 131.0, 'y': 301.0}, {'x': 131.0, 'y': 310.0}, {'x': 98.0, 'y': 310.0}]}, 'inferText': '영농형태', 'inferConfidence': 0.9922, 'type': 'NORMAL', 'lineBreak': True}, {'valueType': 'ALL', 'boundingPoly': {'vertices': [{'x': 98.0, 'y': 311.0}, {'x': 169.0, 'y': 311.0}, {'x': 169.0, 'y': 320.0}, {'x': 98.0, 'y': 320.0}]}, 'inferText': '재배형태(시설/노지)', 'inferConfidence': 0.9985, 'type': 'NORMAL', 'lineBreak': True}, {'valueType': 'ALL', 'boundingPoly': {'vertices': [{'x': 77.0, 'y': 340.0}, {'x': 87.0, 'y': 340.0}, {'x': 87.0, 'y': 352.0}, {'x': 77.0, 'y': 352.0}]}, 'inferText': '0', 'inferConfidence': 0.9997, 'type': 'NORMAL', 'lineBreak': False}, {'valueType': 'ALL', 'boundingPoly': {'vertices': [{'x': 141.0, 'y': 339.0}, {'x': 171.0, 'y': 339.0}, {'x': 171.0, 'y': 353.0}, {'x': 141.0, 'y': 353.0}]}, 'inferText': '200', 'inferConfidence': 1.0, 'type': 'NORMAL', 'lineBreak': False}, {'valueType': 'ALL', 'boundingPoly': {'vertices': [{'x': 217.0, 'y': 339.0}, {'x': 246.0, 'y': 339.0}, {'x': 246.0, 'y': 353.0}, {'x': 217.0, 'y': 353.0}]}, 'inferText': '400', 'inferConfidence': 1.0, 'type': 'NORMAL', 'lineBreak': False}, {'valueType': 'ALL', 'boundingPoly': {'vertices': [{'x': 291.0, 'y': 339.0}, {'x': 322.0, 'y': 339.0}, {'x': 322.0, 'y': 353.0}, {'x': 291.0, 'y': 353.0}]}, 'inferText': '600', 'inferConfidence': 1.0, 'type': 'NORMAL', 'lineBreak': False}, {'valueType': 'ALL', 'boundingPoly': {'vertices': [{'x': 367.0, 'y': 338.0}, {'x': 399.0, 'y': 338.0}, {'x': 399.0, 'y': 353.0}, {'x': 367.0, 'y': 353.0}]}, 'inferText': '800', 'inferConfidence': 1.0, 'type': 'NORMAL', 'lineBreak': False}, {'valueType': 'ALL', 'boundingPoly': {'vertices': [{'x': 441.0, 'y': 339.0}, {'x': 478.0, 'y': 339.0}, {'x': 478.0, 'y': 353.0}, {'x': 441.0, 'y': 353.0}]}, 'inferText': '1000', 'inferConfidence': 1.0, 'type': 'NORMAL', 'lineBreak': False}, {'valueType': 'ALL', 'boundingPoly': {'vertices': [{'x': 516.0, 'y': 339.0}, {'x': 554.0, 'y': 339.0}, {'x': 554.0, 'y': 353.0}, {'x': 516.0, 'y': 353.0}]}, 'inferText': '1200', 'inferConfidence': 1.0, 'type': 'NORMAL', 'lineBreak': True}]}]}\n"
     ]
    }
   ],
   "source": [
    "request_json = {\n",
    "    'images': [\n",
    "        {\n",
    "            'format': 'png',\n",
    "            'name': 'demo'\n",
    "        }\n",
    "    ],\n",
    "    'requestId': str(uuid.uuid4()),\n",
    "    'version': 'V2',\n",
    "    'timestamp': int(round(time.time() * 1000))\n",
    "}\n",
    "\n",
    "payload = {'message': json.dumps(request_json).encode('UTF-8')}\n",
    "files = [\n",
    "  ('file', open(image_file,'rb'))\n",
    "]\n",
    "headers = {\n",
    "  'X-OCR-SECRET': clova_ocr_key\n",
    "}\n",
    "\n",
    "response = requests.request(\"POST\", api_url, headers=headers, data = payload, files = files)\n",
    "\n",
    "res = json.loads(response.text.encode('utf8'))\n",
    "print(res)\n",
    "\n",
    "with open(output_file, 'w', encoding='utf-8') as outfile:\n",
    "    json.dump(res, outfile, indent=4, ensure_ascii=False)"
   ]
  }
 ],
 "metadata": {
  "kernelspec": {
   "display_name": "base",
   "language": "python",
   "name": "python3"
  },
  "language_info": {
   "codemirror_mode": {
    "name": "ipython",
    "version": 3
   },
   "file_extension": ".py",
   "mimetype": "text/x-python",
   "name": "python",
   "nbconvert_exporter": "python",
   "pygments_lexer": "ipython3",
   "version": "3.10.11"
  },
  "orig_nbformat": 4
 },
 "nbformat": 4,
 "nbformat_minor": 2
}
