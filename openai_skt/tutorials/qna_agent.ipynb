{
 "cells": [
  {
   "cell_type": "code",
   "execution_count": 1,
   "metadata": {},
   "outputs": [],
   "source": [
    "import sys\n",
    "sys.path.append('..')"
   ]
  },
  {
   "cell_type": "markdown",
   "metadata": {},
   "source": [
    "### Set OpenAI key "
   ]
  },
  {
   "cell_type": "code",
   "execution_count": 2,
   "metadata": {},
   "outputs": [],
   "source": [
    "import os\n",
    "import configparser\n",
    "\n",
    "config = configparser.ConfigParser()\n",
    "config.read('../../.secrets.ini')\n",
    "OPENAI_API_KEY = config['OPENAI']['OPENAI_API_KEY']\n",
    "YOUTUBE_KEY = config['YOUTUBE']['YOUTUBE_API_KEY']\n",
    "NAVER_CLIENT_ID = config['NAVER']['NAVER_CLIENT_ID']\n",
    "NAVER_CLIENT_SECRET = config['NAVER']['NAVER_CLIENT_SECRET']\n",
    "GOOGLE_SEARCH_KEY = config['GOOGLE']['GOOGLE_API_KEY']\n",
    "CSE_ID = config['GOOGLE']['CSE_ID']\n",
    "SERPAPI_API_KEY = config['SERPAPI']['SERPAPI_API_KEY']\n",
    "\n",
    "\n",
    "os.environ.update({'OPENAI_API_KEY': OPENAI_API_KEY})\n",
    "os.environ.update({'YOUTUBE_KEY': YOUTUBE_KEY})\n",
    "os.environ.update({'NAVER_CLIENT_ID': NAVER_CLIENT_ID})\n",
    "os.environ.update({'NAVER_CLIENT_SECRET': NAVER_CLIENT_SECRET})\n",
    "os.environ.update({'GOOGLE_SEARCH_KEY': GOOGLE_SEARCH_KEY})\n",
    "os.environ.update({'CSE_ID': CSE_ID})\n",
    "os.environ.update({'SERPAPI_API_KEY': SERPAPI_API_KEY})"
   ]
  },
  {
   "cell_type": "markdown",
   "metadata": {},
   "source": [
    "### Get tools"
   ]
  },
  {
   "cell_type": "code",
   "execution_count": 3,
   "metadata": {},
   "outputs": [],
   "source": [
    "# %load_ext autoreload\n",
    "# %autoreload 2\n",
    "%reload_ext autoreload"
   ]
  },
  {
   "cell_type": "code",
   "execution_count": 4,
   "metadata": {},
   "outputs": [
    {
     "data": {
      "text/plain": [
       "<module 'tools' from 'c:\\\\Users\\\\chois\\\\Desktop\\\\OpenAI_SKT\\\\openai_skt\\\\tutorials\\\\..\\\\tools\\\\__init__.py'>"
      ]
     },
     "execution_count": 4,
     "metadata": {},
     "output_type": "execute_result"
    }
   ],
   "source": [
    "from importlib import reload\n",
    "import tools\n",
    "reload(tools)"
   ]
  },
  {
   "cell_type": "code",
   "execution_count": 5,
   "metadata": {},
   "outputs": [],
   "source": [
    "from tools import DatabaseTool, SearchTool, SearchByURLTool, TimeTool\n",
    "from models.llm.chain import SummaryChunkChain"
   ]
  },
  {
   "cell_type": "code",
   "execution_count": 6,
   "metadata": {},
   "outputs": [],
   "source": [
    "summary_chunk_template = '''\n",
    "I want you to answer the question from the given documentation. \n",
    "There may be a lot of information in a given document that is not relevant to your question, but you should try to find as much relevant information as possible.\n",
    "Be as diligent as possible in returning your answer based on your knowledge and documentation.\n",
    "If there is no answer in the document, return \"No useful information\".\n",
    "\n",
    "Document: {document}\n",
    "Question: {question}\n",
    "Answer:\n",
    "'''"
   ]
  },
  {
   "cell_type": "code",
   "execution_count": 7,
   "metadata": {},
   "outputs": [],
   "source": [
    "summary_chunk_chain = SummaryChunkChain(summary_chunk_template=summary_chunk_template, input_variables=[\"question\", \"document\"], verbose=True)\n",
    "search_by_url_tool = SearchByURLTool()"
   ]
  },
  {
   "cell_type": "code",
   "execution_count": 8,
   "metadata": {},
   "outputs": [],
   "source": [
    "from langchain.agents import Tool\n",
    "from langchain.utilities import SerpAPIWrapper\n",
    "\n",
    "# You can create the tool to pass to an agent\n",
    "search = SerpAPIWrapper(params={\n",
    "        \"engine\": \"google\",\n",
    "        \"google_domain\": \"google.com\",\n",
    "        \"gl\": \"kr\",\n",
    "        \"hl\": \"ko\",\n",
    "        })\n",
    "search_tool = Tool(\n",
    "    name=\"search_tool\",\n",
    "    description=\"A tool to search on internet.\",\n",
    "    func=search.run,\n",
    ")"
   ]
  },
  {
   "cell_type": "code",
   "execution_count": 9,
   "metadata": {},
   "outputs": [],
   "source": [
    "database_tool = DatabaseTool(summary_chunk_chain=summary_chunk_chain)\n",
    "search_tool = SearchTool(summary_chunk_chain=summary_chunk_chain, search_by_url_tool=search_by_url_tool)\n",
    "time_tool = TimeTool()"
   ]
  },
  {
   "cell_type": "code",
   "execution_count": 10,
   "metadata": {},
   "outputs": [],
   "source": [
    "tools = [database_tool, search_tool, time_tool]"
   ]
  },
  {
   "cell_type": "code",
   "execution_count": 11,
   "metadata": {},
   "outputs": [],
   "source": [
    "from embedchain.embedchain import EmbedChain\n",
    "from embedchain.config import AppConfig\n",
    "embed_chain = EmbedChain(config=AppConfig())"
   ]
  },
  {
   "cell_type": "code",
   "execution_count": 12,
   "metadata": {},
   "outputs": [],
   "source": [
    "from database import DataBase"
   ]
  },
  {
   "cell_type": "code",
   "execution_count": 13,
   "metadata": {},
   "outputs": [
    {
     "name": "stdout",
     "output_type": "stream",
     "text": [
      "All data from https://kosis.kr/statHtml/statHtml.do?orgId=201&tblId=DT_201004_O160002_2020&vw_cd=MT_ZTITLE&list_id=201_10_004_016&scrId=&seqNo=&lang_mode=ko&obj_var_id=&itm_id=&conn_path=K1&path=%25EC%25A7%2580%25EC%2597%25AD%25ED%2586%25B5%25EA%25B3%2584%2520%253E%2520%25EC%25A7%2580%25EC%259E%2590%25EC%25B2%25B4%2520%25EA%25B8%25B0%25EB%25B3%25B8%25ED%2586%25B5%25EA%25B3%2584%2520%253E%2520%25EC%2584%259C%25EC%259A%25B8%25ED%258A%25B9%25EB%25B3%2584%25EC%258B%259C%2520%253E%2520%25EC%2584%259C%25EC%259A%25B8%25ED%258A%25B9%25EB%25B3%2584%25EC%258B%259C%25EA%25B8%25B0%25EB%25B3%25B8%25ED%2586%25B5%25EA%25B3%2584%2520%253E%2520%25EA%25B3%25B5%25EA%25B3%25B5%25ED%2596%2589%25EC%25A0%2595%25C2%25B7%25EC%2582%25AC%25EB%25B2%2595%25EC%258B%259C%25EB%25B3%25B8%25EC%25B2%25AD%2520%25EA%25B3%25B5%25EB%25AC%25B4%25EC%259B%2590%2528%25EC%25A0%2595%25EC%259B%2590%2529%25282020%25EB%2585%2584%2520%25EC%259D%25B4%25ED%259B%2584%2529 already exists in the database.\n",
      "All data from https://kosis.kr/statHtml/statHtml.do?orgId=115&tblId=DT_115026_C037&vw_cd=MT_ZTITLE&list_id=115_11526_2017_003&scrId=&seqNo=&lang_mode=ko&obj_var_id=&itm_id=&conn_path=K1&path=%25EB%258F%2584%25EC%2586%258C%25EB%25A7%25A4%25E3%2586%258D%25EC%2584%259C%25EB%25B9%2584%25EC%258A%25A4%2520%253E%2520%25EB%2594%2594%25EC%259E%2590%25EC%259D%25B8%25EC%2582%25B0%25EC%2597%2585%25ED%2586%25B5%25EA%25B3%2584%2520%253E%25202015%25EB%2585%2584~%2520%253E%2520%25EB%2594%2594%25EC%259E%2590%25EC%259D%25B8%25ED%2599%259C%25EC%259A%25A9%25EC%2597%2585%25EC%25B2%25B4%255B%25EB%2594%2594%25EC%259E%2590%25EC%259D%25B8%25ED%2599%259C%25EC%259A%25A9%25EC%2597%2585%25EC%25B2%25B4%255D%25EB%2594%2594%25EC%259E%2590%25EC%259D%25B8%2520%25EC%2588%2598%25EC%25A4%2580_%25EC%25A2%2585%25ED%2595%25A9 already exists in the database.\n",
      "All data from https://kosis.kr/statHtml/statHtml.do?orgId=115&tblId=DT_115026_C055&vw_cd=MT_ZTITLE&list_id=115_11526_2017_003&scrId=&seqNo=&lang_mode=ko&obj_var_id=&itm_id=&conn_path=K1&path=%25EB%258F%2584%25EC%2586%258C%25EB%25A7%25A4%25E3%2586%258D%25EC%2584%259C%25EB%25B9%2584%25EC%258A%25A4%2520%253E%2520%25EB%2594%2594%25EC%259E%2590%25EC%259D%25B8%25EC%2582%25B0%25EC%2597%2585%25ED%2586%25B5%25EA%25B3%2584%2520%253E%25202015%25EB%2585%2584~%2520%253E%2520%25EB%2594%2594%25EC%259E%2590%25EC%259D%25B8%25ED%2599%259C%25EC%259A%25A9%25EC%2597%2585%25EC%25B2%25B4%255B%25EB%2594%2594%25EC%259E%2590%25EC%259D%25B8%25ED%2599%259C%25EC%259A%25A9%25EC%2597%2585%25EC%25B2%25B4%255D%25EB%2594%2594%25EC%259E%2590%25EC%259D%25B8%2520%25EC%2588%2598%25EC%25A4%2580_%25EB%25AC%25B8%25ED%2599%2594 already exists in the database.\n",
      "All data from https://kosis.kr/statHtml/statHtml.do?orgId=101&tblId=DT_1FS1002_S&vw_cd=MT_ZTITLE&list_id=L_5_001_001_001&scrId=&seqNo=&lang_mode=ko&obj_var_id=&itm_id=&conn_path=K1&path=%25EA%25B4%2591%25EC%2597%2585%25E3%2586%258D%25EC%25A0%259C%25EC%25A1%25B0%25EC%2597%2585%2520%253E%2520%25EA%25B4%2591%25EC%2597%2585%25EC%25A0%259C%25EC%25A1%25B0%25EC%2597%2585%25EC%25A1%25B0%25EC%2582%25AC%2520%253E%2520%25EB%2593%25B1%25EB%25A1%259D%25EA%25B8%25B0%25EB%25B0%2598%2520%253E%2520%25EC%2582%25B0%25EC%2597%2585%25ED%258E%25B8%2520%253E%252010%25EC%25B0%25A8%2520%25EC%2582%25B0%25EC%2597%2585%25EB%25B6%2584%25EB%25A5%2598%2520%25EA%25B0%259C%25EC%25A0%2595%25EC%258B%259C%25EB%258F%2584%2F%25EC%2582%25B0%25EC%2597%2585%25EB%25B6%2584%25EB%25A5%2598%2F%25EC%25A2%2585%25EC%2582%25AC%25EC%259E%2590%25EA%25B7%259C%25EB%25AA%25A8%25EB%25B3%2584%2520%25EC%25A3%25BC%25EC%259A%2594%25EC%25A7%2580%25ED%2591%259C%252810%25EC%259D%25B8%2520%25EC%259D%25B4%25EC%2583%2581%2529 already exists in the database.\n",
      "All data from https://kosis.kr/statHtml/statHtml.do?orgId=101&tblId=DT_1FS1003_S&vw_cd=MT_ZTITLE&list_id=L_5_001_001_001&scrId=&seqNo=&lang_mode=ko&obj_var_id=&itm_id=&conn_path=K1&path=%25EA%25B4%2591%25EC%2597%2585%25E3%2586%258D%25EC%25A0%259C%25EC%25A1%25B0%25EC%2597%2585%2520%253E%2520%25EA%25B4%2591%25EC%2597%2585%25EC%25A0%259C%25EC%25A1%25B0%25EC%2597%2585%25EC%25A1%25B0%25EC%2582%25AC%2520%253E%2520%25EB%2593%25B1%25EB%25A1%259D%25EA%25B8%25B0%25EB%25B0%2598%2520%253E%2520%25EC%2582%25B0%25EC%2597%2585%25ED%258E%25B8%2520%253E%252010%25EC%25B0%25A8%2520%25EC%2582%25B0%25EC%2597%2585%25EB%25B6%2584%25EB%25A5%2598%2520%25EA%25B0%259C%25EC%25A0%2595%25EC%258B%259C%25EB%258F%2584%2F%25EC%2582%25B0%25EC%2597%2585%25EB%25B6%2584%25EB%25A5%2598%2F%25EC%25B6%259C%25ED%2595%2598%25EC%2595%25A1%25EA%25B7%259C%25EB%25AA%25A8%25EB%25B3%2584%2520%25EC%25A3%25BC%25EC%259A%2594%25EC%25A7%2580%25ED%2591%259C%252810%25EC%259D%25B8%2520%25EC%259D%25B4%25EC%2583%2581%2529 already exists in the database.\n",
      "All data from https://www.business.kaist.ac.kr/html/executive/sub09/sub02_0905.html already exists in the database.\n",
      "All data from https://kosis.kr/statHtml/statHtml.do?orgId=127&tblId=DT_A12719_2022_E_F041&vw_cd=MT_ZTITLE&list_id=N1_28_001_001_006&scrId=&seqNo=&lang_mode=ko&obj_var_id=&itm_id=&conn_path=K1&path=%25EC%25A0%2595%25EB%25B3%25B4%25ED%2586%25B5%25EC%258B%25A0%2520%253E%2520%25EC%25A0%2595%25EB%25B3%25B4%25EB%25B3%25B4%25ED%2598%25B8%25EC%258B%25A4%25ED%2583%259C%25EC%25A1%25B0%25EC%2582%25AC%2520%253E%25202021%25EB%2585%2584%2520%25EC%259D%25B4%25ED%259B%2584%2520%253E%2520%25EA%25B8%25B0%25EC%2597%2585%25EB%25B6%2580%25EB%25AC%25B8%2520%253E%2520%25EC%25B9%25A8%25ED%2595%25B4%25EC%2582%25AC%25EA%25B3%25A0%2520%25EA%25B2%25BD%25ED%2597%2598%25EC%25B9%25A8%25ED%2595%25B4%25EC%2582%25AC%25EA%25B3%25A0%2520%25EA%25B2%25BD%25ED%2597%2598%2520%25EC%259C%25A0%25ED%2598%2595%2528%25EB%25B3%25B5%25EC%2588%2598%25EC%259D%2591%25EB%258B%25B5%2529%2520%25E2%2580%2593%2520%25EC%25B9%25A8%25ED%2595%25B4%25EC%2582%25AC%25EA%25B3%25A0%2520%25EA%25B2%25BD%25ED%2597%2598%2520%25EA%25B8%25B0%25EC%2597%2585%25EC%25B2%25B4 already exists in the database.\n",
      "All data from https://kosis.kr/statHtml/statHtml.do?orgId=101&tblId=DT_1FS1006_S&vw_cd=MT_ZTITLE&list_id=L_5_001_001_001&scrId=&seqNo=&lang_mode=ko&obj_var_id=&itm_id=&conn_path=K1&path=%25EA%25B4%2591%25EC%2597%2585%25E3%2586%258D%25EC%25A0%259C%25EC%25A1%25B0%25EC%2597%2585%2520%253E%2520%25EA%25B4%2591%25EC%2597%2585%25EC%25A0%259C%25EC%25A1%25B0%25EC%2597%2585%25EC%25A1%25B0%25EC%2582%25AC%2520%253E%2520%25EB%2593%25B1%25EB%25A1%259D%25EA%25B8%25B0%25EB%25B0%2598%2520%253E%2520%25EC%2582%25B0%25EC%2597%2585%25ED%258E%25B8%2520%253E%252010%25EC%25B0%25A8%2520%25EC%2582%25B0%25EC%2597%2585%25EB%25B6%2584%25EB%25A5%2598%2520%25EA%25B0%259C%25EC%25A0%2595%25EC%258B%259C%25EB%258F%2584%2F%25EC%2582%25B0%25EC%2597%2585%25EB%25B6%2584%25EB%25A5%2598%25EB%25B3%2584%2520%25EC%259C%25A0%25ED%2598%2595%25EC%259E%2590%25EC%2582%25B0%2520%25EC%25A6%259D%25EA%25B0%2580%25EC%2595%25A1%252C%2520%25EA%25B0%2590%25EC%2586%258C%25EC%2595%25A1%2520%25EB%25B0%258F%2520%25EC%2597%25B0%25EB%25A7%2590%25EC%259E%2594%25EC%2595%25A1%252810%25EC%259D%25B8%2520%25EC%259D%25B4%25EC%2583%2581%2529 already exists in the database.\n",
      "All data from https://kosis.kr/statHtml/statHtml.do?orgId=101&tblId=DT_1FS1001_S&vw_cd=MT_ZTITLE&list_id=L_5_001_001_001&scrId=&seqNo=&lang_mode=ko&obj_var_id=&itm_id=&conn_path=K1&path=%25EA%25B4%2591%25EC%2597%2585%25E3%2586%258D%25EC%25A0%259C%25EC%25A1%25B0%25EC%2597%2585%2520%253E%2520%25EA%25B4%2591%25EC%2597%2585%25EC%25A0%259C%25EC%25A1%25B0%25EC%2597%2585%25EC%25A1%25B0%25EC%2582%25AC%2520%253E%2520%25EB%2593%25B1%25EB%25A1%259D%25EA%25B8%25B0%25EB%25B0%2598%2520%253E%2520%25EC%2582%25B0%25EC%2597%2585%25ED%258E%25B8%2520%253E%252010%25EC%25B0%25A8%2520%25EC%2582%25B0%25EC%2597%2585%25EB%25B6%2584%25EB%25A5%2598%2520%25EA%25B0%259C%25EC%25A0%2595%25EC%258B%259C%25EB%258F%2584%2528%25EC%258B%259C%25EA%25B5%25B0%25EA%25B5%25AC%2529%2F%25EC%2582%25B0%25EC%2597%2585%25EB%25B6%2584%25EB%25A5%2598%25EB%25B3%2584%2520%25EC%25A3%25BC%25EC%259A%2594%25EC%25A7%2580%25ED%2591%259C%252810%25EC%259D%25B8%2520%25EC%259D%25B4%25EC%2583%2581%2529 already exists in the database.\n",
      "All data from https://www.jipyong.com/kr/board/news_view.php?seq=11261 already exists in the database.\n",
      "All data from https://m.upbitcare.com/academy/education/blockchain/58 already exists in the database.\n",
      "All data from https://kr.cointelegraph.com/learn/what-is-bitcoin already exists in the database.\n",
      "All data from https://now.k2base.re.kr/portal/trend/mainTrend/view.do?poliTrndId=TRND0000000000044554&menuNo=200004&pageUnit=10&pageIndex=4 already exists in the database.\n",
      "Successfully saved https://lawsociety.or.kr/90/11697595 (DataType.WEB_PAGE). New chunks count: 1\n",
      "All data from https://www.etri.re.kr/webzine/20170811/sub04.html already exists in the database.\n",
      "All data from https://upbitcare.com/academy/education/coin/36 already exists in the database.\n",
      "All data from https://ko.wikipedia.org/wiki/%EB%B9%84%ED%8A%B8%EC%BD%94%EC%9D%B8 already exists in the database.\n",
      "All data from https://aws.amazon.com/ko/what-is/blockchain/ already exists in the database.\n",
      "All data from https://www.ibm.com/kr-ko/topics/blockchain already exists in the database.\n",
      "All data from https://namu.wiki/w/%EB%B8%94%EB%A1%9D%EC%B2%B4%EC%9D%B8 already exists in the database.\n",
      "All data from https://kr.cointelegraph.com/learn/what-is-mining already exists in the database.\n",
      "All data from https://blog.softcamp.co.kr/227 already exists in the database.\n",
      "All data from https://toktok.io/bitcoin-mining/ already exists in the database.\n",
      "All data from https://www.kiri.or.kr/pdf/%EC%97%B0%EA%B5%AC%EC%9E%90%EB%A3%8C/%EC%97%B0%EA%B5%AC%EB%B3%B4%EA%B3%A0%EC%84%9C/nre2018-24_02.pdf already exists in the database.\n",
      "All data from https://www.coindeskkorea.com/news/articleView.html?idxno=72253 already exists in the database.\n",
      "All data from https://upbitcare.com/academy/education/blockchain/60 already exists in the database.\n",
      "All data from https://www.banksalad.com/contents/%EC%89%BD%EA%B2%8C-%EC%84%A4%EB%AA%85%ED%95%98%EB%8A%94-%EB%B8%94%EB%A1%9D%EC%B2%B4%EC%9D%B8-%EB%B9%84%ED%8A%B8%EC%BD%94%EC%9D%B8-%EA%B1%B0%EB%9E%98%EA%B0%80-%EC%9D%B4%EB%A3%A8%EC%96%B4%EC%A7%80%EB%8A%94-%EA%B3%BC%EC%A0%95-L7bWb already exists in the database.\n",
      "All data from http://m.blog.naver.com/jvioonpe/221572514342 already exists in the database.\n",
      "All data from https://python.langchain.com/docs/modules/agents/how_to/async_agent already exists in the database.\n",
      "https://python.langchain.com/docs/modules/agents/how_to/async_agent has no data\n",
      "Successfully saved https://www.btcc.com/ko-KR/academy/crypto-basics/introduction-to-bitcoin-mining-how-to-mine-bitcoin-and-even-a-miner (DataType.WEB_PAGE). New chunks count: 1\n",
      "All data from https://d2.naver.com/helloworld/8237898 already exists in the database.\n",
      "All data from https://academy.chainalysis.com/live-crc-korean already exists in the database.\n",
      "All data from https://blog.naver.com/yeombrothers/221011716890 already exists in the database.\n",
      "All data from https://m.joseilbo.com/news/view.htm?newsid=418468 already exists in the database.\n",
      "All data from https://namu.wiki/w/%EB%B9%84%ED%8A%B8%EC%BD%94%EC%9D%B8/%ED%8F%89%EA%B0%80 already exists in the database.\n",
      "All data from http://m.blog.naver.com/himinwho/110181257588 already exists in the database.\n",
      "All data from https://www.ifcmarkets.com/ko/learn-about-crypto/pros-and-cons-of-cryptocurrencies already exists in the database.\n",
      "All data from https://post.naver.com/viewer/postView.naver?volumeNo=16146496&memberNo=1978994 already exists in the database.\n",
      "All data from https://www.blockmedia.co.kr/archives/259531 already exists in the database.\n",
      "All data from https://now.rememberapp.co.kr/2022/10/29/23121/ already exists in the database.\n",
      "All data from https://www.globalxetfs.com/content/files/Four-Companies-Leading-the-Rise-of-Blockchain-Technology_KO-KR.pdf already exists in the database.\n",
      "All data from https://now.k2base.re.kr/portal/trend/mainTrend/view.do?poliTrndId=TRND0000000000041517&menuNo=200004&pageUnit=10&pageIndex=61 already exists in the database.\n",
      "All data from https://ecommerce-platforms.com/ko/articles/everything-need-know-bitcoin-blockchain-ecommerce already exists in the database.\n",
      "All data from https://www.coindeskkorea.com/news/articleView.html?idxno=79105 already exists in the database.\n",
      "All data from https://help.bitrefill.com/hc/ko/articles/360019408600-%EB%B9%84%ED%8A%B8-%EC%BD%94%EC%9D%B8-%EA%B1%B0%EB%9E%98-%EC%88%98%EC%88%98%EB%A3%8C%EB%8A%94-%EC%8B%A4%EC%A0%9C%EB%A1%9C-%EC%96%B4%EB%96%BB%EA%B2%8C-%EC%9E%91%EB%8F%99%ED%95%A9%EB%8B%88%EA%B9%8C-%EA%B8%B4-%EC%9D%BD%EA%B8%B0- already exists in the database.\n",
      "Successfully saved https://papers.ssrn.com/sol3/Delivery.cfm/SSRN_ID3095834_code2812556.pdf?abstractid=3095834&type=2 (DataType.WEB_PAGE). New chunks count: 1\n",
      "All data from https://www.cmegroup.com/ko/education/featured-reports/an-in-depth-look-at-the-economics-of-bitcoin.html already exists in the database.\n",
      "All data from https://www.fortunekorea.co.kr/news/articleView.html?idxno=27738 already exists in the database.\n",
      "All data from https://www.businesspost.co.kr/BP?command=article_view&num=299328 already exists in the database.\n",
      "All data from https://www.dbpia.co.kr/journal/articleDetail?nodeId=NODE06082973 already exists in the database.\n",
      "All data from https://www.coindeskkorea.com/news/articleView.html?idxno=91431 already exists in the database.\n",
      "Successfully saved https://www.kci.go.kr/kciportal/ci/sereArticleSearch/ciSereArtiView.kci?sereArticleSearchBean.artiId=ART002003102 (DataType.WEB_PAGE). New chunks count: 1\n",
      "Successfully saved https://www.kci.go.kr/kciportal/ci/sereArticleSearch/ciSereArtiView.kci?sereArticleSearchBean.artiId=ART001956926 (DataType.WEB_PAGE). New chunks count: 2\n",
      "All data from https://www.digitaltoday.co.kr/news/articleView.html?idxno=471011 already exists in the database.\n",
      "All data from https://www.nepla.net/post/%EA%B0%80%EC%83%81%EC%9E%90%EC%82%B0%EC%9D%98-%EB%B2%95%EC%A0%81%E3%86%8D%EC%86%8C%EC%86%A1%EC%83%81-%EC%9F%81%EC%A0%90 already exists in the database.\n",
      "All data from https://www.edjoin.org/Home/Jobs?keywords=%EB%B9%84%ED%8A%B8%EC%BD%94%EC%9D%B8%EB%AF%B8%EA%B5%AD%EA%B5%AC%EB%A7%A4%E2%99%A3WWW%2C99M%2CKR%E2%99%A3%E4%AC%A5%EB%B9%84%ED%8A%B8%EC%BD%94%EC%9D%B8%EB%AF%B8%EA%B5%AD%EA%B5%AC%EB%A7%A4%ED%95%9C%EA%B5%AD%ED%8C%90%EB%A7%A4%EE%98%AD%EB%B9%84%ED%8A%B8%EC%BD%94%EC%9D%B8%EB%AF%B8%EA%B5%AD%EA%B7%9C%EC%A0%9C%C9%B9%EB%B9%84%ED%8A%B8%EC%BD%94%EC%9D%B8%EB%AF%B8%EA%B5%AD%EA%B8%88%EB%A6%AC%E6%9D%80%EB%B9%84%ED%8A%B8%EC%BD%94%EC%9D%B8%EB%AF%B8%EA%B5%AD%EA%B8%B0%EA%B4%80%E2%99%A3midinette&searchType=all/ already exists in the database.\n",
      "All data from https://www.nepla.net/post/%EB%B9%84%ED%8A%B8%EC%BD%94%EC%9D%B8-%EB%93%B1-%EA%B0%80%EC%83%81%ED%99%94%ED%8F%90%EC%9D%98-%EB%B2%95%EB%A5%A0%EC%A0%81-%EC%9F%81%EC%A0%90 already exists in the database.\n",
      "Successfully saved https://www.zbw.eu/econis-archiv/bitstream/11159/352039/1/EBP075712628_0.pdf (DataType.WEB_PAGE). New chunks count: 2\n",
      "All data from https://contents.premium.naver.com/aimrich/view/contents/221110094530441dv already exists in the database.\n",
      "All data from http://news.kotra.or.kr/user/globalBbs/kotranews/5/globalBbsDataView.do?setIdx=244&dataIdx=152756 already exists in the database.\n",
      "All data from https://www.coindeskkorea.com/news/articleView.html?idxno=90718 already exists in the database.\n",
      "All data from https://www.businesspost.co.kr/BP?command=article_view&num=313885 already exists in the database.\n",
      "All data from https://www.digitalasset.works/news/articleView.html?idxno=3217 already exists in the database.\n",
      "All data from https://www.fortunekorea.co.kr/news/articleView.html?idxno=26080 already exists in the database.\n",
      "Successfully saved https://www.kci.go.kr/kciportal/ci/sereArticleSearch/ciSereArtiView.kci?sereArticleSearchBean.artiId=ART002476064 (DataType.WEB_PAGE). New chunks count: 1\n",
      "All data from http://www.shinkim.com/newsletter/2023/GA/2023_vol179/links/2023_vol179_502.pdf already exists in the database.\n",
      "All data from https://www.fsc.go.kr/comm/getFile?srvcId=BBSTY1&upperNo=72848&fileTy=ATTACH&fileNo=2 already exists in the database.\n",
      "All data from https://www.sedaily.com/NewsView/29LMRX4O13 already exists in the database.\n",
      "All data from https://www.kcmi.re.kr/seminar/seminar_program?eno=250 already exists in the database.\n",
      "All data from https://www.lawtimes.co.kr/news/185285 already exists in the database.\n",
      "All data from https://www.kcmi.re.kr/publications/pub_detail_view?syear=2021&zcd=002001016&zno=1635&cno=5834 already exists in the database.\n",
      "All data from https://www.whitehouse.gov/briefing-room/presidential-actions/2022/03/09/executive-order-on-ensuring-responsible-development-of-digital-assets/ already exists in the database.\n",
      "Successfully saved https://www.hani.co.kr/arti/opinion/column/1087136.html (DataType.WEB_PAGE). New chunks count: 10\n",
      "All data from https://bitcoin.org/ko/protect-your-privacy already exists in the database.\n",
      "All data from https://learn.microsoft.com/ko-kr/azure/cloud-adoption-framework/digital-estate/ already exists in the database.\n",
      "All data from https://cryptodnes.bg/ko/bitcoin-kakva-veroqtnata-traktoriq-aktiva-spored-arthur-hayes/ already exists in the database.\n",
      "All data from https://m.blog.naver.com/pro-comsys/222193569899 already exists in the database.\n",
      "All data from https://business.instagram.com/blog/instagram-digital-collectibles-is-expanding?locale=ko_KR already exists in the database.\n",
      "All data from https://aws.amazon.com/ko/blogs/korea/aws-digital-sovereignty-pledge-control-without-compromise/ already exists in the database.\n",
      "https://righttaxservice.com/%EB%AF%B8%EA%B5%AD-%EC%BD%94%EC%9D%B8-%EC%84%B8%EA%B8%88%EB%B3%B4%EA%B3%A0-2021/ has no data\n",
      "All data from https://www.businesspost.co.kr/BP?command=article_view&num=316442 already exists in the database.\n",
      "Successfully saved https://www.dongascience.com/news.php?idx=29361 (DataType.WEB_PAGE). New chunks count: 15\n",
      "All data from https://www.blockmedia.co.kr/archives/327720 already exists in the database.\n",
      "All data from https://dbr.donga.com/article/view/1401/article_no/6140/ac/magazine already exists in the database.\n",
      "All data from https://ofac.treasury.gov/media/36031/download?inline already exists in the database.\n",
      "All data from https://www.businesspost.co.kr/BP?command=article_view&num=320120 already exists in the database.\n",
      "All data from https://contents.premium.naver.com/aimrich/view/contents/230720152247945yj already exists in the database.\n",
      "All data from https://www.aitimes.com/news/articleView.html?idxno=140329 already exists in the database.\n",
      "All data from https://ko.wikipedia.org/wiki/%EB%94%94%EC%A7%80%ED%84%B8_%EC%9E%90%EC%82%B0 already exists in the database.\n",
      "All data from https://arongmunggah.tistory.com/35 already exists in the database.\n",
      "All data from https://blog.naver.com/lawjust08/222997625519 already exists in the database.\n",
      "All data from https://blog.naver.com/lawjust08/222997642927 already exists in the database.\n",
      "All data from https://www.bonmedia.kr/news/articleView.html?idxno=677 already exists in the database.\n",
      "All data from https://bitcoin.org/ko/how-it-works already exists in the database.\n",
      "All data from https://ko.wikipedia.org/wiki/2020%EB%85%84_%EB%B9%84%ED%8A%B8%EC%BD%94%EC%9D%B8_%EC%97%B4%ED%92%8D already exists in the database.\n",
      "All data from https://blog.naver.com/msquare_global/223148635155 already exists in the database.\n",
      "All data from https://namu.wiki/w/%EB%B9%84%ED%8A%B8%EC%BD%94%EC%9D%B8 already exists in the database.\n",
      "All data from https://make-spend-money.tistory.com/211 already exists in the database.\n",
      "All data from https://www.korea.kr/news/policyNewsView.do?newsId=148916906 already exists in the database.\n",
      "All data from https://ko.wikipedia.org/wiki/%EB%B8%94%EB%A1%9D%EC%B2%B4%EC%9D%B8 already exists in the database.\n",
      "All data from https://money-info92.tistory.com/47 already exists in the database.\n",
      "All data from https://sanson.tistory.com/569 already exists in the database.\n",
      "All data from https://bitcoin.org/ko/faq already exists in the database.\n",
      "All data from https://blog.naver.com/h3h2003/223053735974 already exists in the database.\n",
      "All data from https://powerguy7.tistory.com/12 already exists in the database.\n",
      "All data from http://www.kbsm.net/news/view.php?idx=394901 already exists in the database.\n",
      "All data from https://m.post.naver.com/viewer/postView.nhn?volumeNo=16146496&memberNo=1978994 already exists in the database.\n",
      "Successfully saved https://www.slideshare.net/ssuser1cbe1b/ss-81793303 (DataType.WEB_PAGE). New chunks count: 2\n",
      "Successfully saved https://lifeblog.co.kr/2033/ (DataType.WEB_PAGE). New chunks count: 12\n",
      "All data from https://hoodp.tistory.com/entry/%EB%B9%84%ED%8A%B8%EC%BD%94%EC%9D%B8%EC%9D%B4%EB%9E%80-%EB%AC%B4%EC%97%87%EC%9D%B8%EA%B0%80-%EC%97%AD%EC%82%AC%EC%99%80-%EB%B0%9C%EC%A0%84-%ED%88%AC%EC%9E%90%EC%9D%98-%EC%9E%A5%EB%8B%A8%EC%A0%90-%EC%95%8C%EC%95%84%EB%B3%B4%EA%B8%B0 already exists in the database.\n",
      "All data from https://avablog.tisorry.kr/262 already exists in the database.\n",
      "All data from https://julins-stockdiary.tistory.com/entry/%EB%B9%84%ED%8A%B8%EC%BD%94%EC%9D%B8%EC%9D%98-%EB%8B%A8%EC%A0%90%EC%9D%84-%EA%B7%B9%EB%B3%B5%ED%95%A0-%ED%8C%8C%EC%9D%B4%EC%BD%94%EC%9D%B8 already exists in the database.\n",
      "All data from https://bitcoin.org/ko/innovation already exists in the database.\n",
      "All data from https://bitcoin.org/ko/vocabulary already exists in the database.\n",
      "All data from https://www.innomove.com/blog/cryptocurrency-value-price-2/ already exists in the database.\n",
      "All data from http://www.getnews.co.kr/news/articleView.html?idxno=1571 already exists in the database.\n",
      "Successfully saved https://www.ajunews.com/view/20230125064043063 (DataType.WEB_PAGE). New chunks count: 5\n",
      "Successfully saved https://www.asiae.co.kr/article/2023050715035812568 (DataType.WEB_PAGE). New chunks count: 9\n",
      "All data from https://bitcoin.org/ko/support-bitcoin already exists in the database.\n",
      "Successfully saved http://www.getnews.co.kr/news/articleView.html?idxno=527779 (DataType.WEB_PAGE). New chunks count: 10\n",
      "All data from https://www.sedaily.com/NewsView/29S4MVFSBJ already exists in the database.\n",
      "All data from https://v.daum.net/v/20210818194122799 already exists in the database.\n",
      "All data from https://earlybirdhenry.tistory.com/entry/%EB%B9%84%ED%8A%B8%EC%BD%94%EC%9D%B8-%ED%99%94%ED%8F%90-%EC%B0%BD%EC%B6%9C-%EA%B5%AC%EC%A1%B0-%EA%B5%AD%EA%B0%80%EB%B3%84-%EC%8A%B9%EC%9D%B8-%EA%B7%9C%EC%A0%9C-%ED%98%84%ED%99%A9 already exists in the database.\n",
      "All data from https://www.coindeskkorea.com/news/articleView.html?idxno=91868 already exists in the database.\n",
      "All data from https://www.mk.co.kr/economy/view/2023/344558 already exists in the database.\n",
      "All data from https://www.blockstreet.co.kr/news/view?ud=2023061611254239113 already exists in the database.\n",
      "Successfully saved https://www.happycampus.com/report-doc/20259163/ (DataType.WEB_PAGE). New chunks count: 1\n",
      "All data from https://blog.naver.com/ajjuguru/223141167050 already exists in the database.\n",
      "All data from https://ponzi-killer.tistory.com/17 already exists in the database.\n",
      "All data from https://www.btcc.com/ko-KR/academy/research-analysis/bitcoin-price-forecast already exists in the database.\n",
      "Successfully saved https://www.etoday.co.kr/news/view/2146767 (DataType.WEB_PAGE). New chunks count: 4\n",
      "All data from https://www.bonmedia.kr/news/articleView.html?idxno=410 already exists in the database.\n",
      "Successfully saved https://www.business2community.com/kr/cryptocurrency/bitcoin-price-prediction (DataType.WEB_PAGE). New chunks count: 5\n",
      "All data from https://conveyvalue.tistory.com/entry/%EB%B9%84%ED%8A%B8%EC%BD%94%EC%9D%B8-%EA%B0%80%EA%B2%A9-%EC%98%88%EC%B8%A1-%EC%B5%9C%EA%B7%BC-%EB%8F%99%ED%96%A5%EA%B3%BC-%EB%AF%B8%EB%9E%98-%EC%A0%84%EB%A7%9D already exists in the database.\n",
      "All data from https://www.dailysecu.com/news/articleView.html?idxno=143593 already exists in the database.\n",
      "All data from https://www.sisamagazine.co.kr/news/articleView.html?idxno=487081 already exists in the database.\n",
      "All data from https://blog.naver.com/aimrichgold/223156106344 already exists in the database.\n",
      "All data from http://www.2e.co.kr/news/articleView.html?idxno=302654 already exists in the database.\n",
      "All data from https://www.bonmedia.kr/news/articleView.html?idxno=409 already exists in the database.\n",
      "All data from https://melt2091.tistory.com/entry/%EC%95%94%ED%98%B8%ED%99%94%ED%8F%90-%EB%B9%84%ED%8A%B8%EC%BD%94%EC%9D%B8%EC%9D%98-%EC%9C%84%EC%B9%98%EC%99%80-%EC%95%9E%EC%9C%BC%EB%A1%9C-%ED%9D%90%EB%A6%84 already exists in the database.\n",
      "All data from http://www.digitaltoday.co.kr/news/articleView.html?idxno=466913 already exists in the database.\n",
      "Successfully saved https://www.ajunews.com/view/20230213184909147 (DataType.WEB_PAGE). New chunks count: 5\n",
      "All data from https://blog.naver.com/abgeoya440/223198381954 already exists in the database.\n",
      "All data from https://www.coindeskkorea.com/news/articleView.html?idxno=91010 already exists in the database.\n",
      "All data from https://blog.naver.com/rmanykneeq/223197896449 already exists in the database.\n",
      "All data from https://blog.naver.com/bcountaeq/223189815374 already exists in the database.\n",
      "All data from https://gongball.tistory.com/entry/%EB%B9%84%ED%8A%B8%EC%BD%94%EC%9D%B8-%ED%88%AC%EC%9E%90%EC%9D%98-%EB%A7%A4%EB%A0%A5%EA%B3%BC-%EC%9E%A0%EC%9E%AC%EB%A0%A5-%EC%99%9C-%EB%B9%84%ED%8A%B8%EC%BD%94%EC%9D%B8%EC%97%90-%ED%88%AC%EC%9E%90%ED%95%B4%EC%95%BC-%ED%95%98%EB%8A%94%EA%B0%80 already exists in the database.\n",
      "Successfully saved https://www.ddengle.com/traders_free/19337940 (DataType.WEB_PAGE). New chunks count: 8\n",
      "All data from https://creativestudio.kr/3773 already exists in the database.\n",
      "All data from https://www.blockmedia.co.kr/archives/296355 already exists in the database.\n",
      "All data from https://financialtaxi.kr/%EB%B9%84%ED%8A%B8%EC%BD%94%EC%9D%B8-%ED%99%94%ED%8F%90%EB%A1%9C%EC%84%9C%EC%9D%98-%EC%9E%A0%EC%9E%AC%EB%A0%A5/ already exists in the database.\n"
     ]
    }
   ],
   "source": [
    "database = DataBase.load(database_path='./user/test_2/database.json', embed_chain=embed_chain) # optimize: 5m22s # 4m18s 3m4s 3m2s"
   ]
  },
  {
   "cell_type": "code",
   "execution_count": 14,
   "metadata": {},
   "outputs": [],
   "source": [
    "import pickle\n",
    "\n",
    "with open(\"database_save_path.pkl\", \"wb\") as f:\n",
    "    pickle.dump(database, f)\n",
    "\n",
    "with open(\"database_save_path.pkl\", \"rb\") as f:\n",
    "    loaded_db = pickle.load(f)\n"
   ]
  },
  {
   "cell_type": "markdown",
   "metadata": {},
   "source": [
    "### Set Agent"
   ]
  },
  {
   "cell_type": "code",
   "execution_count": 15,
   "metadata": {},
   "outputs": [],
   "source": [
    "from models.llm.qna_agent import QnAAgent"
   ]
  },
  {
   "cell_type": "code",
   "execution_count": 16,
   "metadata": {},
   "outputs": [],
   "source": [
    "qna_agent = QnAAgent(tools=tools, verbose=True, qna_prompt_path='../../openai_skt/models/templates/qna_prompt_template.txt', model='gpt-4')"
   ]
  },
  {
   "cell_type": "code",
   "execution_count": 17,
   "metadata": {},
   "outputs": [
    {
     "name": "stdout",
     "output_type": "stream",
     "text": [
      "\n",
      "\n",
      "\u001b[1m> Entering new AgentExecutor chain...\u001b[0m\n",
      "\n",
      "\n",
      "\u001b[1m> Entering new LLMChain chain...\u001b[0m\n",
      "Prompt after formatting:\n",
      "\u001b[32;1m\u001b[1;3mAnswer the following questions as best you can. Use a variety of tools to answer the questions. You have access to the following tools:\n",
      "\n",
      "database: A tool to get data with from database. The input consists of a 'query' and a 'question', where 'query' is the search query and 'question' is the information you want to get. For example, {'query': 'bitcoin price history', 'question': 'what was the price of bitcoin in 2022?'} would be the input if you want to know the price of bitcoin in 2022. Input must contain both a query and a question.\n",
      "search_tool: A tool to search on internet. The input consists of a 'query' and a 'question', where 'query' is the search query and 'question' is the information you want to get. For example, {'query': 'bitcoin price history', 'question': 'what was the price of bitcoin in 2022?'} would be the input if you want to know the price of bitcoin in 2022. Input must contain both a query and a question.\n",
      "Time Tool: Tool to get current time. There is no input\n",
      "\n",
      "\n",
      "Use the following format:\n",
      "\n",
      "Question: the input question you must answer\n",
      "Thought: you should always think about what to do\n",
      "Action: the action to take, should be one of [database, search_tool, Time Tool]\n",
      "Action Input: the input to the action\n",
      "Observation: the result of the action\n",
      "... (this Thought/Action/Action Input/Observation can repeat N times)\n",
      "Thought: I now know the final answer or I do not know the final answer\n",
      "Final Answer: the final answer to the input question. The final answer must be Korean\n",
      "\n",
      "Begin!\n",
      "\n",
      "\n",
      "Question: 오늘 제주도 날씨가 어때요?\n",
      "Thought:\u001b[0m\n",
      "\n",
      "\u001b[1m> Finished chain.\u001b[0m\n",
      "\u001b[32;1m\u001b[1;3m인터넷에서 제주도의 현재 날씨를 찾아볼 수 있다.\n",
      "Action: search_tool\n",
      "Action Input: {'query': '오늘 제주도 날씨', 'question': '오늘 제주도 날씨가 어때요?'}\u001b[0m\n",
      "\n",
      "\u001b[1m> Entering new LLMChain chain...\u001b[0m\n",
      "Prompt after formatting:\n",
      "\u001b[32;1m\u001b[1;3m\n",
      "I want you to answer the question from the given documentation. \n",
      "There may be a lot of information in a given document that is not relevant to your question, but you should try to find as much relevant information as possible.\n",
      "Be as diligent as possible in returning your answer based on your knowledge and documentation.\n",
      "If there is no answer in the document, return \"No useful information\".\n",
      "\n",
      "Document: 제주시, 제주도, 대한민국 3일 날씨 예보 | AccuWeather 돌아가기 제주시, 제주도 24° C 현재 위치 사용 최신 제주시 제주도 24° 결과를 찾을 수 없습니다. 도시나 우편번호, 관심 지역을 검색해 보세요. 설정 제주시, 제주도 날씨 오늘 WinterCast 지역 {stormName} 추적기 시간별 일별 레이더 MinuteCast 월 대기질 건강 및 활동 전 세계 허리케인 악천후 기상 레이더 및 지도 동영상 오늘 시간별 일별 레이더 MinuteCast 월 대기질 건강 및 활동 현재 기상 PM 11:08 24° C RealFeel®\n",
      "\t\t\t\t\t\t23° 대기질 나쁨 바람 남남동 6km/h 돌풍 6km/h 맑음 추가 상세 정보 현재 대기질 오늘 9. 8. 53 AQI 나쁨 대기 오염이 심각한 상태이며 민감군에 유해합니다. 호흡 곤란이나 목 자극과 같은 증상이 발생할 경우 야외 활동 시간을 줄이시기 바랍니다. 현재 오염물질 기준 추가 상세 정보 상세 정보: 현재 대기질 AcuuWeather의 현재 대기질 지수(AQI)는 여러분이 숨쉬는 공기의 질과 건강에 미치는 영향에 대한 정보를 제공합니다. AccuWeather는 공기의 청결도와 건강에 영향을 미치는 오염 물질 6종 이상을 추적합니다. 건강 및 활동 모두 보기 먼지와 분비물 매우 높음 The risk of dust and dander allergy symptoms is very high. When dusting, use a microfiber cloth to help hold dust instead of pushing it around. 관절염 보통 The risk of experiencing weather-related arthritis pain is moderate. Stay hydrated and stretch to help avoid arthritis symptoms. 부비동 압력 높음 The risk of weather-related sinus pressure is high. Taking a hot shower may help ease sinus pressure. 감기 낮음 The risk of catching a cold is low. 독감 낮음 The risk of catching the flu is low. 편두통 낮음 The risk of suffering from a weather-related migraine is low. 천식 높음 The risk of asthma symptoms is high. Be sure to use HEPA filters in your home to cut down on indoor asthma triggers. 낚시 나쁨 Fishing conditions are poor. 달리기 좋음 Conditions for running are good. Be sure to wear sunscreen and UV-protective activewear. 골프 좋음 Conditions for golfing are good. Wear sunscreen while out on the course. 바이킹 및 사이클링 좋음 Conditions for cycling are good. Stay hydrated to make the most of your ride. 해변 및 수영장 좋음 Conditions for a day at the beach or pool are good. Be sure to wear sunscreen and UV-protective clothing when spending time outdoors. 별 관측 좋음 Conditions for stargazing are good. Be sure to move away from city lights or turn off nearby lights, including indoor and outdoor lights. 하이킹 좋음 Conditions for hiking are good. Stay hydrated and bring enough water to last the entire hike. 잔디깎기 좋음 Conditions for lawn mowing are good. Alternating mowing patterns can help all areas of your lawn grow. 부식 좋음 Composting conditions are good. Make sure you frequently add water to your compost to keep it moist. 야외 오락 좋음 Conditions for outdoor entertaining will be good. Make sure you have shade available, so guests do not overheat. 항공 여행 이상적 Conditions for flying are ideal. Have a safe trip. 운전 보통 Conditions for driving are fair. Keep up with your car maintenance, such as inspecting your windshield wipers and checking your tire treads. 모기 극심함 The risk for mosquito activity are extremely high. Wear long-sleeved shirts and pants when spending time outdoors to prevent bites. 실내 해충 높음 The risk for pest activity is high. Replacing outdoor lights with yellow bug lights can attract less insects near your home. 야외 해충 극심함 The risk for pest activity is extremely high. Eliminate standing water in rain gutters, buckets, and in tires where pests can breed. 모두 보기 오늘 밤 9. 8. 23° 최저 \n",
      "Question: 오늘 제주도 날씨가 어때요?\n",
      "Answer:\n",
      "\u001b[0m\n",
      "\n",
      "\u001b[1m> Finished chain.\u001b[0m\n",
      "\n",
      "\n",
      "Observation:\u001b[33;1m\u001b[1;3m오늘 제주도의 날씨는 24°C이며, 바람은 남남동쪽으로 6km/h의 속도로 불고 있습니다. 대기질은 나쁨으로 분류되며, 호흡 곤란이나 목 자극과 같은 증상이 발생할 수 있으므로 야외 활동 시간을 줄이는 것이 좋습니다.\u001b[0m\n",
      "\n",
      "\n",
      "\u001b[1m> Entering new LLMChain chain...\u001b[0m\n",
      "Prompt after formatting:\n",
      "\u001b[32;1m\u001b[1;3mAnswer the following questions as best you can. Use a variety of tools to answer the questions. You have access to the following tools:\n",
      "\n",
      "database: A tool to get data with from database. The input consists of a 'query' and a 'question', where 'query' is the search query and 'question' is the information you want to get. For example, {'query': 'bitcoin price history', 'question': 'what was the price of bitcoin in 2022?'} would be the input if you want to know the price of bitcoin in 2022. Input must contain both a query and a question.\n",
      "search_tool: A tool to search on internet. The input consists of a 'query' and a 'question', where 'query' is the search query and 'question' is the information you want to get. For example, {'query': 'bitcoin price history', 'question': 'what was the price of bitcoin in 2022?'} would be the input if you want to know the price of bitcoin in 2022. Input must contain both a query and a question.\n",
      "Time Tool: Tool to get current time. There is no input\n",
      "\n",
      "\n",
      "Use the following format:\n",
      "\n",
      "Question: the input question you must answer\n",
      "Thought: you should always think about what to do\n",
      "Action: the action to take, should be one of [database, search_tool, Time Tool]\n",
      "Action Input: the input to the action\n",
      "Observation: the result of the action\n",
      "... (this Thought/Action/Action Input/Observation can repeat N times)\n",
      "Thought: I now know the final answer or I do not know the final answer\n",
      "Final Answer: the final answer to the input question. The final answer must be Korean\n",
      "\n",
      "Begin!\n",
      "\n",
      "\n",
      "Question: 오늘 제주도 날씨가 어때요?\n",
      "Thought:인터넷에서 제주도의 현재 날씨를 찾아볼 수 있다.\n",
      "Action: search_tool\n",
      "Action Input: {'query': '오늘 제주도 날씨', 'question': '오늘 제주도 날씨가 어때요?'}\n",
      "Observation: 오늘 제주도의 날씨는 24°C이며, 바람은 남남동쪽으로 6km/h의 속도로 불고 있습니다. 대기질은 나쁨으로 분류되며, 호흡 곤란이나 목 자극과 같은 증상이 발생할 수 있으므로 야외 활동 시간을 줄이는 것이 좋습니다.\n",
      "Thought: \u001b[0m\n",
      " 오늘 제주도의 날씨는 24°C이며, 바람은 남남동쪽으로 6km/h의 속도로 불고 있습니다. 대기질은 나쁨으로 분류되며, 호흡 곤란이나 목 자극과 같은 증상이 발생할 수 있으므로 야외 활동 시간을 줄이는 것이 좋습니다.\n",
      "\u001b[1m> Finished chain.\u001b[0m\n",
      "\u001b[32;1m\u001b[1;3m제주도의 현재 날씨 정보를 얻었다.\n",
      "Final Answer: 오늘 제주도의 날씨는 24°C이며, 바람은 남남동쪽으로 6km/h의 속도로 불고 있습니다. 대기질은 나쁨으로 분류되며, 호흡 곤란이나 목 자극과 같은 증상이 발생할 수 있으므로 야외 활동 시간을 줄이는 것이 좋습니다.\u001b[0m\n",
      "\n",
      "\u001b[1m> Finished chain.\u001b[0m\n"
     ]
    }
   ],
   "source": [
    "answer = qna_agent.run(database=database, query=\"오늘 제주도 날씨가 어때요?\")"
   ]
  },
  {
   "cell_type": "code",
   "execution_count": 18,
   "metadata": {},
   "outputs": [],
   "source": [
    "from langchain.agents import load_tools\n",
    "tools = load_tools([\"serpapi\"])"
   ]
  },
  {
   "cell_type": "code",
   "execution_count": 19,
   "metadata": {},
   "outputs": [
    {
     "data": {
      "text/plain": [
       "{'google_search': [{'title': '비트코인 3500만 원대 공방, 비트코인 하락세 멈추고 4700 ...',\n",
       "   'description': '[비즈니스포스트]비트코인 시세가 3500만 원대에 머물렀다.비트코인 가격 하락세가 끝나고 2024년 반감기에는 4700만 원대로 올라설 것이라는 전망이 ...',\n",
       "   'data_type': 'web_page',\n",
       "   'data_path': 'https://www.businesspost.co.kr/BP?command=article_view&num=325199'},\n",
       "  {'title': \"'9월 하락 징크스' 비트코인, 이더리움과 리플 전망은?\",\n",
       "   'description': '비트코인(Bitcoin, BTC)은 8월 이후 12.3% 하락한 2만 5700달러, ... 연중 고점을 회복한 순간 단기 보유자 투자 심리 회복이 기대된다고 전망했다.',\n",
       "   'data_type': 'web_page',\n",
       "   'data_path': 'https://www.blockmedia.co.kr/archives/364701'}]}"
      ]
     },
     "execution_count": 19,
     "metadata": {},
     "output_type": "execute_result"
    }
   ],
   "source": [
    "search_tool.search(query=\"비트코인 전망\", category='google')"
   ]
  }
 ],
 "metadata": {
  "kernelspec": {
   "display_name": "openai_skt",
   "language": "python",
   "name": "python3"
  },
  "language_info": {
   "codemirror_mode": {
    "name": "ipython",
    "version": 3
   },
   "file_extension": ".py",
   "mimetype": "text/x-python",
   "name": "python",
   "nbconvert_exporter": "python",
   "pygments_lexer": "ipython3",
   "version": "3.11.4"
  },
  "orig_nbformat": 4
 },
 "nbformat": 4,
 "nbformat_minor": 2
}
