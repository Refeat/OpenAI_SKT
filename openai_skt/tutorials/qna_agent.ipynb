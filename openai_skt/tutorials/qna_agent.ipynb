{
 "cells": [
  {
   "cell_type": "code",
   "execution_count": 1,
   "metadata": {},
   "outputs": [],
   "source": [
    "import sys\n",
    "sys.path.append('..')"
   ]
  },
  {
   "cell_type": "markdown",
   "metadata": {},
   "source": [
    "### Set OpenAI key "
   ]
  },
  {
   "cell_type": "code",
   "execution_count": 46,
   "metadata": {},
   "outputs": [],
   "source": [
    "import os\n",
    "import configparser\n",
    "\n",
    "config = configparser.ConfigParser()\n",
    "config.read('../../.secrets.ini')\n",
    "OPENAI_API_KEY = config['OPENAI']['OPENAI_API_KEY']\n",
    "YOUTUBE_KEY = config['YOUTUBE']['YOUTUBE_API_KEY']\n",
    "NAVER_CLIENT_ID = config['NAVER']['NAVER_CLIENT_ID']\n",
    "NAVER_CLIENT_SECRET = config['NAVER']['NAVER_CLIENT_SECRET']\n",
    "GOOGLE_SEARCH_KEY = config['GOOGLE']['GOOGLE_API_KEY']\n",
    "CSE_ID = config['GOOGLE']['CSE_ID']\n",
    "SERPAPI_API_KEY = config['SERPAPI']['SERPAPI_API_KEY']\n",
    "\n",
    "\n",
    "os.environ.update({'OPENAI_API_KEY': OPENAI_API_KEY})\n",
    "os.environ.update({'YOUTUBE_KEY': YOUTUBE_KEY})\n",
    "os.environ.update({'NAVER_CLIENT_ID': NAVER_CLIENT_ID})\n",
    "os.environ.update({'NAVER_CLIENT_SECRET': NAVER_CLIENT_SECRET})\n",
    "os.environ.update({'GOOGLE_SEARCH_KEY': GOOGLE_SEARCH_KEY})\n",
    "os.environ.update({'CSE_ID': CSE_ID})\n",
    "os.environ.update({'SERPAPI_API_KEY': SERPAPI_API_KEY})"
   ]
  },
  {
   "cell_type": "markdown",
   "metadata": {},
   "source": [
    "### Get tools"
   ]
  },
  {
   "cell_type": "code",
   "execution_count": 32,
   "metadata": {},
   "outputs": [],
   "source": [
    "# %load_ext autoreload\n",
    "# %autoreload 2\n",
    "%reload_ext autoreload"
   ]
  },
  {
   "cell_type": "code",
   "execution_count": null,
   "metadata": {},
   "outputs": [],
   "source": [
    "from importlib import reload\n",
    "import tools\n",
    "reload(tools)"
   ]
  },
  {
   "cell_type": "code",
   "execution_count": 34,
   "metadata": {},
   "outputs": [],
   "source": [
    "from tools import DatabaseTool, SearchTool, SearchByURLTool, TimeTool\n",
    "from models.llm.chain import SummaryChunkChain"
   ]
  },
  {
   "cell_type": "code",
   "execution_count": 16,
   "metadata": {},
   "outputs": [],
   "source": [
    "summary_chunk_template = '''\n",
    "I want you to answer the question from the given documentation. \n",
    "There may be a lot of information in a given document that is not relevant to your question, but you should try to find as much relevant information as possible.\n",
    "Be as diligent as possible in returning your answer based on your knowledge and documentation.\n",
    "If there is no answer in the document, return \"No useful information\".\n",
    "\n",
    "Document: {document}\n",
    "Question: {question}\n",
    "Answer:\n",
    "'''"
   ]
  },
  {
   "cell_type": "code",
   "execution_count": 35,
   "metadata": {},
   "outputs": [],
   "source": [
    "summary_chunk_chain = SummaryChunkChain(summary_chunk_template=summary_chunk_template, input_variables=[\"question\", \"document\"], verbose=True)\n",
    "search_by_url_tool = SearchByURLTool()"
   ]
  },
  {
   "cell_type": "code",
   "execution_count": 56,
   "metadata": {},
   "outputs": [],
   "source": [
    "from langchain.agents import Tool\n",
    "from langchain.utilities import SerpAPIWrapper\n",
    "\n",
    "# You can create the tool to pass to an agent\n",
    "search = SerpAPIWrapper(params={\n",
    "        \"engine\": \"google\",\n",
    "        \"google_domain\": \"google.com\",\n",
    "        \"gl\": \"kr\",\n",
    "        \"hl\": \"ko\",\n",
    "        })\n",
    "search_tool = Tool(\n",
    "    name=\"search_tool\",\n",
    "    description=\"A tool to search on internet.\",\n",
    "    func=search.run,\n",
    ")"
   ]
  },
  {
   "cell_type": "code",
   "execution_count": 36,
   "metadata": {},
   "outputs": [],
   "source": [
    "database_tool = DatabaseTool(summary_chunk_chain=summary_chunk_chain)\n",
    "search_tool = SearchTool(summary_chunk_chain=summary_chunk_chain, search_by_url_tool=search_by_url_tool)\n",
    "time_tool = TimeTool()"
   ]
  },
  {
   "cell_type": "code",
   "execution_count": 57,
   "metadata": {},
   "outputs": [],
   "source": [
    "tools = [database_tool, search_tool, time_tool]"
   ]
  },
  {
   "cell_type": "code",
   "execution_count": 9,
   "metadata": {},
   "outputs": [],
   "source": [
    "from embedchain.embedchain import EmbedChain\n",
    "from embedchain.config import AppConfig\n",
    "embed_chain = EmbedChain(config=AppConfig())"
   ]
  },
  {
   "cell_type": "code",
   "execution_count": 10,
   "metadata": {},
   "outputs": [],
   "source": [
    "from database import DataBase"
   ]
  },
  {
   "cell_type": "code",
   "execution_count": null,
   "metadata": {},
   "outputs": [],
   "source": [
    "database = DataBase.load(database_path='./user/test_2/database.json', embed_chain=embed_chain)"
   ]
  },
  {
   "cell_type": "markdown",
   "metadata": {},
   "source": [
    "### Set Agent"
   ]
  },
  {
   "cell_type": "code",
   "execution_count": 12,
   "metadata": {},
   "outputs": [],
   "source": [
    "from models.llm.qna_agent import QnAAgent"
   ]
  },
  {
   "cell_type": "code",
   "execution_count": 58,
   "metadata": {},
   "outputs": [],
   "source": [
    "qna_agent = QnAAgent(tools=tools, verbose=True, qna_prompt_path='../../openai_skt/models/templates/qna_prompt_template.txt', model='gpt-4')"
   ]
  },
  {
   "cell_type": "code",
   "execution_count": 61,
   "metadata": {},
   "outputs": [
    {
     "name": "stdout",
     "output_type": "stream",
     "text": [
      "\n",
      "\n",
      "\u001b[1m> Entering new AgentExecutor chain...\u001b[0m\n",
      "\n",
      "\n",
      "\u001b[1m> Entering new LLMChain chain...\u001b[0m\n",
      "Prompt after formatting:\n",
      "\u001b[32;1m\u001b[1;3mAnswer the following questions as best you can. Use a variety of tools to answer the questions. You have access to the following tools:\n",
      "\n",
      "database: A tool to get data with from database. The input consists of a 'query' and a 'question', where 'query' is the search query and 'question' is the information you want to get. For example, {'query': 'bitcoin price history', 'question': 'what was the price of bitcoin in 2022?'} would be the input if you want to know the price of bitcoin in 2022. Input must contain both a query and a question.\n",
      "search_tool: A tool to search on internet.\n",
      "Time Tool: Tool to get current time. There is no input\n",
      "\n",
      "\n",
      "Use the following format:\n",
      "\n",
      "Question: the input question you must answer\n",
      "Thought: you should always think about what to do\n",
      "Action: the action to take, should be one of [database, search_tool, Time Tool]\n",
      "Action Input: the input to the action\n",
      "Observation: the result of the action\n",
      "... (this Thought/Action/Action Input/Observation can repeat N times)\n",
      "Thought: I now know the final answer or I do not know the final answer\n",
      "Final Answer: the final answer to the input question. The final answer must be Korean\n",
      "\n",
      "Begin!\n",
      "\n",
      "Human: 오늘 비트코인 가격은 얼마야?\n",
      "AI: 비트코인의 현재 가격은 [비트코인 가격]입니다. (비트코인 가격은 실시간으로 변동하기 때문에, 이 문장을 읽는 시점의 가격을 확인해주세요.)\n",
      "Human: 오늘 날씨가 어때요?\n",
      "AI: 오늘의 날씨는 흐리며, 기온은 27도(체감온도 29도), 강수확률은 30%, 바람은 북동풍 1m/s, 습도는 85%입니다.\n",
      "Question: 오늘 제주도 날씨가 어때요?\n",
      "Thought:\u001b[0m\n",
      "\n",
      "\u001b[1m> Finished chain.\u001b[0m\n",
      "\u001b[32;1m\u001b[1;3m날씨 정보는 인터넷에서 검색을 통해 얻을 수 있다.\n",
      "Action: search_tool\n",
      "Action Input: \"오늘 제주도 날씨\"\u001b[0m\n",
      "\n",
      "Observation:\u001b[33;1m\u001b[1;3m오늘 · 시각: 09시 · 날씨: 구름 많음 · 기온(체감온도) 27℃(28℃) · 체감온도: 28℃ · 강수량: - · 강수확률: 20% · 바람: 북동풍4m/s · 습도: 65% ...\u001b[0m\n",
      "\n",
      "\n",
      "\u001b[1m> Entering new LLMChain chain...\u001b[0m\n",
      "Prompt after formatting:\n",
      "\u001b[32;1m\u001b[1;3mAnswer the following questions as best you can. Use a variety of tools to answer the questions. You have access to the following tools:\n",
      "\n",
      "database: A tool to get data with from database. The input consists of a 'query' and a 'question', where 'query' is the search query and 'question' is the information you want to get. For example, {'query': 'bitcoin price history', 'question': 'what was the price of bitcoin in 2022?'} would be the input if you want to know the price of bitcoin in 2022. Input must contain both a query and a question.\n",
      "search_tool: A tool to search on internet.\n",
      "Time Tool: Tool to get current time. There is no input\n",
      "\n",
      "\n",
      "Use the following format:\n",
      "\n",
      "Question: the input question you must answer\n",
      "Thought: you should always think about what to do\n",
      "Action: the action to take, should be one of [database, search_tool, Time Tool]\n",
      "Action Input: the input to the action\n",
      "Observation: the result of the action\n",
      "... (this Thought/Action/Action Input/Observation can repeat N times)\n",
      "Thought: I now know the final answer or I do not know the final answer\n",
      "Final Answer: the final answer to the input question. The final answer must be Korean\n",
      "\n",
      "Begin!\n",
      "\n",
      "Human: 오늘 비트코인 가격은 얼마야?\n",
      "AI: 비트코인의 현재 가격은 [비트코인 가격]입니다. (비트코인 가격은 실시간으로 변동하기 때문에, 이 문장을 읽는 시점의 가격을 확인해주세요.)\n",
      "Human: 오늘 날씨가 어때요?\n",
      "AI: 오늘의 날씨는 흐리며, 기온은 27도(체감온도 29도), 강수확률은 30%, 바람은 북동풍 1m/s, 습도는 85%입니다.\n",
      "Question: 오늘 제주도 날씨가 어때요?\n",
      "Thought:날씨 정보는 인터넷에서 검색을 통해 얻을 수 있다.\n",
      "Action: search_tool\n",
      "Action Input: \"오늘 제주도 날씨\"\n",
      "Observation: 오늘 · 시각: 09시 · 날씨: 구름 많음 · 기온(체감온도) 27℃(28℃) · 체감온도: 28℃ · 강수량: - · 강수확률: 20% · 바람: 북동풍4m/s · 습도: 65% ...\n",
      "Thought: \u001b[0m\n",
      " 오늘 제주도의 날씨는 구름이 많으며, 기온은 27도(체감온도 28도), 강수확률은 20%, 바람은 북동풍 4m/s, 습도는 65%입니다.\n",
      "\u001b[1m> Finished chain.\u001b[0m\n",
      "\u001b[32;1m\u001b[1;3m제주도의 날씨 정보를 얻었다.\n",
      "Final Answer: 오늘 제주도의 날씨는 구름이 많으며, 기온은 27도(체감온도 28도), 강수확률은 20%, 바람은 북동풍 4m/s, 습도는 65%입니다.\u001b[0m\n",
      "\n",
      "\u001b[1m> Finished chain.\u001b[0m\n"
     ]
    }
   ],
   "source": [
    "answer = qna_agent.run(database=database, query=\"오늘 제주도 날씨가 어때요?\")"
   ]
  },
  {
   "cell_type": "code",
   "execution_count": 42,
   "metadata": {},
   "outputs": [
    {
     "ename": "ValidationError",
     "evalue": "1 validation error for SerpAPIWrapper\n__root__\n  Did not find serpapi_api_key, please add an environment variable `SERPAPI_API_KEY` which contains it, or pass  `serpapi_api_key` as a named parameter. (type=value_error)",
     "output_type": "error",
     "traceback": [
      "\u001b[1;31m---------------------------------------------------------------------------\u001b[0m",
      "\u001b[1;31mValidationError\u001b[0m                           Traceback (most recent call last)",
      "Cell \u001b[1;32mIn[42], line 2\u001b[0m\n\u001b[0;32m      1\u001b[0m \u001b[39mfrom\u001b[39;00m \u001b[39mlangchain\u001b[39;00m\u001b[39m.\u001b[39;00m\u001b[39magents\u001b[39;00m \u001b[39mimport\u001b[39;00m load_tools\n\u001b[1;32m----> 2\u001b[0m tools \u001b[39m=\u001b[39m load_tools([\u001b[39m\"\u001b[39;49m\u001b[39mserpapi\u001b[39;49m\u001b[39m\"\u001b[39;49m])\n",
      "File \u001b[1;32mc:\\Users\\chois\\AppData\\Local\\Continuum\\anaconda3\\envs\\openai_skt\\Lib\\site-packages\\langchain\\agents\\load_tools.py:471\u001b[0m, in \u001b[0;36mload_tools\u001b[1;34m(tool_names, llm, callbacks, **kwargs)\u001b[0m\n\u001b[0;32m    469\u001b[0m     _get_tool_func, extra_keys \u001b[39m=\u001b[39m _EXTRA_OPTIONAL_TOOLS[name]\n\u001b[0;32m    470\u001b[0m     sub_kwargs \u001b[39m=\u001b[39m {k: kwargs[k] \u001b[39mfor\u001b[39;00m k \u001b[39min\u001b[39;00m extra_keys \u001b[39mif\u001b[39;00m k \u001b[39min\u001b[39;00m kwargs}\n\u001b[1;32m--> 471\u001b[0m     tool \u001b[39m=\u001b[39m _get_tool_func(\u001b[39m*\u001b[39;49m\u001b[39m*\u001b[39;49msub_kwargs)\n\u001b[0;32m    472\u001b[0m     tools\u001b[39m.\u001b[39mappend(tool)\n\u001b[0;32m    473\u001b[0m \u001b[39melse\u001b[39;00m:\n",
      "File \u001b[1;32mc:\\Users\\chois\\AppData\\Local\\Continuum\\anaconda3\\envs\\openai_skt\\Lib\\site-packages\\langchain\\agents\\load_tools.py:232\u001b[0m, in \u001b[0;36m_get_serpapi\u001b[1;34m(**kwargs)\u001b[0m\n\u001b[0;32m    228\u001b[0m \u001b[39mdef\u001b[39;00m \u001b[39m_get_serpapi\u001b[39m(\u001b[39m*\u001b[39m\u001b[39m*\u001b[39mkwargs: Any) \u001b[39m-\u001b[39m\u001b[39m>\u001b[39m BaseTool:\n\u001b[0;32m    229\u001b[0m     \u001b[39mreturn\u001b[39;00m Tool(\n\u001b[0;32m    230\u001b[0m         name\u001b[39m=\u001b[39m\u001b[39m\"\u001b[39m\u001b[39mSearch\u001b[39m\u001b[39m\"\u001b[39m,\n\u001b[0;32m    231\u001b[0m         description\u001b[39m=\u001b[39m\u001b[39m\"\u001b[39m\u001b[39mA search engine. Useful for when you need to answer questions about current events. Input should be a search query.\u001b[39m\u001b[39m\"\u001b[39m,\n\u001b[1;32m--> 232\u001b[0m         func\u001b[39m=\u001b[39mSerpAPIWrapper(\u001b[39m*\u001b[39;49m\u001b[39m*\u001b[39;49mkwargs)\u001b[39m.\u001b[39mrun,\n\u001b[0;32m    233\u001b[0m         coroutine\u001b[39m=\u001b[39mSerpAPIWrapper(\u001b[39m*\u001b[39m\u001b[39m*\u001b[39mkwargs)\u001b[39m.\u001b[39marun,\n\u001b[0;32m    234\u001b[0m     )\n",
      "File \u001b[1;32mc:\\Users\\chois\\AppData\\Local\\Continuum\\anaconda3\\envs\\openai_skt\\Lib\\site-packages\\pydantic\\main.py:341\u001b[0m, in \u001b[0;36mpydantic.main.BaseModel.__init__\u001b[1;34m()\u001b[0m\n",
      "\u001b[1;31mValidationError\u001b[0m: 1 validation error for SerpAPIWrapper\n__root__\n  Did not find serpapi_api_key, please add an environment variable `SERPAPI_API_KEY` which contains it, or pass  `serpapi_api_key` as a named parameter. (type=value_error)"
     ]
    }
   ],
   "source": [
    "from langchain.agents import load_tools\n",
    "tools = load_tools([\"serpapi\"])"
   ]
  },
  {
   "cell_type": "code",
   "execution_count": 15,
   "metadata": {},
   "outputs": [
    {
     "data": {
      "text/plain": [
       "{'google_search': [{'title': \"'9월 하락 징크스' 비트코인, 이더리움과 리플 전망은?\",\n",
       "   'description': '비트코인(Bitcoin, BTC)은 8월 이후 12.3% 하락한 2만 5700달러, ... 연중 고점을 회복한 순간 단기 보유자 투자 심리 회복이 기대된다고 전망했다.',\n",
       "   'data_type': 'web_page',\n",
       "   'data_path': 'https://www.blockmedia.co.kr/archives/364701'},\n",
       "  {'title': '비트코인 3700만 원대 하락, 비트코인 2028년 3억8천만 원 ...',\n",
       "   'description': '[비즈니스포스트]비트코인 시세가 3700만 원대로 내려왔다.비트코인 가격이 2028년에는 30만 달러(약 3억8500만 원)에 달할 것이라는 전망이 나온다.',\n",
       "   'data_type': 'web_page',\n",
       "   'data_path': 'https://www.businesspost.co.kr/BP?command=article_view&num=322643'},\n",
       "  {'title': \"“비트코인에 최고의 호재”...10% 뛴 데다 '불장' 전망까지 나온 근거\",\n",
       "   'description': '20일 가상화폐 거래소 업비트에 따르면 이날 비트코인은 3500만원 선에 거래됐다. 지난 6월 15일 3250만원대까지 떨어졌던 것에 비해 9.4% 가량 상승한 ...',\n",
       "   'data_type': 'web_page',\n",
       "   'data_path': 'https://stock.mk.co.kr/news/view/153470'}]}"
      ]
     },
     "execution_count": 15,
     "metadata": {},
     "output_type": "execute_result"
    }
   ],
   "source": [
    "search_tool.search(query=\"비트코인 전망\", category='google')"
   ]
  }
 ],
 "metadata": {
  "kernelspec": {
   "display_name": "openai_skt",
   "language": "python",
   "name": "python3"
  },
  "language_info": {
   "codemirror_mode": {
    "name": "ipython",
    "version": 3
   },
   "file_extension": ".py",
   "mimetype": "text/x-python",
   "name": "python",
   "nbconvert_exporter": "python",
   "pygments_lexer": "ipython3",
   "version": "3.11.4"
  },
  "orig_nbformat": 4
 },
 "nbformat": 4,
 "nbformat_minor": 2
}
