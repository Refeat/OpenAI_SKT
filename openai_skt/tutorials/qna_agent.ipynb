{
 "cells": [
  {
   "cell_type": "code",
   "execution_count": 1,
   "metadata": {},
   "outputs": [],
   "source": [
    "import sys\n",
    "sys.path.append('..')"
   ]
  },
  {
   "cell_type": "markdown",
   "metadata": {},
   "source": [
    "### Set OpenAI key "
   ]
  },
  {
   "cell_type": "code",
   "execution_count": 2,
   "metadata": {},
   "outputs": [],
   "source": [
    "import os\n",
    "import configparser\n",
    "\n",
    "config = configparser.ConfigParser()\n",
    "config.read('../../.secrets.ini')\n",
    "OPENAI_API_KEY = config['OPENAI']['OPENAI_API_KEY']\n",
    "YOUTUBE_KEY = config['YOUTUBE']['YOUTUBE_API_KEY']\n",
    "NAVER_CLIENT_ID = config['NAVER']['NAVER_CLIENT_ID']\n",
    "NAVER_CLIENT_SECRET = config['NAVER']['NAVER_CLIENT_SECRET']\n",
    "GOOGLE_SEARCH_KEY = config['GOOGLE']['GOOGLE_API_KEY']\n",
    "CSE_ID = config['GOOGLE']['CSE_ID']\n",
    "SERPAPI_API_KEY = config['SERPAPI']['SERPAPI_API_KEY']\n",
    "\n",
    "\n",
    "os.environ.update({'OPENAI_API_KEY': OPENAI_API_KEY})\n",
    "os.environ.update({'YOUTUBE_KEY': YOUTUBE_KEY})\n",
    "os.environ.update({'NAVER_CLIENT_ID': NAVER_CLIENT_ID})\n",
    "os.environ.update({'NAVER_CLIENT_SECRET': NAVER_CLIENT_SECRET})\n",
    "os.environ.update({'GOOGLE_SEARCH_KEY': GOOGLE_SEARCH_KEY})\n",
    "os.environ.update({'CSE_ID': CSE_ID})\n",
    "os.environ.update({'SERPAPI_API_KEY': SERPAPI_API_KEY})"
   ]
  },
  {
   "cell_type": "markdown",
   "metadata": {},
   "source": [
    "### Get tools"
   ]
  },
  {
   "cell_type": "code",
   "execution_count": 32,
   "metadata": {},
   "outputs": [],
   "source": [
    "# %load_ext autoreload\n",
    "# %autoreload 2\n",
    "%reload_ext autoreload"
   ]
  },
  {
   "cell_type": "code",
   "execution_count": null,
   "metadata": {},
   "outputs": [],
   "source": [
    "from importlib import reload\n",
    "import tools\n",
    "reload(tools)"
   ]
  },
  {
   "cell_type": "code",
   "execution_count": 34,
   "metadata": {},
   "outputs": [],
   "source": [
    "from tools import DatabaseTool, SearchTool, SearchByURLTool, TimeTool\n",
    "from models.llm.chain import SummaryChunkChain"
   ]
  },
  {
   "cell_type": "code",
   "execution_count": 16,
   "metadata": {},
   "outputs": [],
   "source": [
    "summary_chunk_template = '''\n",
    "I want you to answer the question from the given documentation. \n",
    "There may be a lot of information in a given document that is not relevant to your question, but you should try to find as much relevant information as possible.\n",
    "Be as diligent as possible in returning your answer based on your knowledge and documentation.\n",
    "If there is no answer in the document, return \"No useful information\".\n",
    "\n",
    "Document: {document}\n",
    "Question: {question}\n",
    "Answer:\n",
    "'''"
   ]
  },
  {
   "cell_type": "code",
   "execution_count": 35,
   "metadata": {},
   "outputs": [],
   "source": [
    "summary_chunk_chain = SummaryChunkChain(summary_chunk_template=summary_chunk_template, input_variables=[\"question\", \"document\"], verbose=True)\n",
    "search_by_url_tool = SearchByURLTool()"
   ]
  },
  {
   "cell_type": "code",
   "execution_count": 56,
   "metadata": {},
   "outputs": [],
   "source": [
    "from langchain.agents import Tool\n",
    "from langchain.utilities import SerpAPIWrapper\n",
    "\n",
    "# You can create the tool to pass to an agent\n",
    "search = SerpAPIWrapper(params={\n",
    "        \"engine\": \"google\",\n",
    "        \"google_domain\": \"google.com\",\n",
    "        \"gl\": \"kr\",\n",
    "        \"hl\": \"ko\",\n",
    "        })\n",
    "search_tool = Tool(\n",
    "    name=\"search_tool\",\n",
    "    description=\"A tool to search on internet.\",\n",
    "    func=search.run,\n",
    ")"
   ]
  },
  {
   "cell_type": "code",
   "execution_count": 36,
   "metadata": {},
   "outputs": [],
   "source": [
    "database_tool = DatabaseTool(summary_chunk_chain=summary_chunk_chain)\n",
    "search_tool = SearchTool(summary_chunk_chain=summary_chunk_chain, search_by_url_tool=search_by_url_tool)\n",
    "time_tool = TimeTool()"
   ]
  },
  {
   "cell_type": "code",
   "execution_count": 57,
   "metadata": {},
   "outputs": [],
   "source": [
    "tools = [database_tool, search_tool, time_tool]"
   ]
  },
  {
   "cell_type": "code",
   "execution_count": 3,
   "metadata": {},
   "outputs": [],
   "source": [
    "from embedchain.embedchain import EmbedChain\n",
    "from embedchain.config import AppConfig\n",
    "embed_chain = EmbedChain(config=AppConfig())"
   ]
  },
  {
   "cell_type": "code",
   "execution_count": 4,
   "metadata": {},
   "outputs": [],
   "source": [
    "from database import DataBase"
   ]
  },
  {
   "cell_type": "code",
   "execution_count": 5,
   "metadata": {},
   "outputs": [
    {
     "name": "stdout",
     "output_type": "stream",
     "text": [
      "All data from https://kosis.kr/statHtml/statHtml.do?orgId=201&tblId=DT_201004_O160002_2020&vw_cd=MT_ZTITLE&list_id=201_10_004_016&scrId=&seqNo=&lang_mode=ko&obj_var_id=&itm_id=&conn_path=K1&path=%25EC%25A7%2580%25EC%2597%25AD%25ED%2586%25B5%25EA%25B3%2584%2520%253E%2520%25EC%25A7%2580%25EC%259E%2590%25EC%25B2%25B4%2520%25EA%25B8%25B0%25EB%25B3%25B8%25ED%2586%25B5%25EA%25B3%2584%2520%253E%2520%25EC%2584%259C%25EC%259A%25B8%25ED%258A%25B9%25EB%25B3%2584%25EC%258B%259C%2520%253E%2520%25EC%2584%259C%25EC%259A%25B8%25ED%258A%25B9%25EB%25B3%2584%25EC%258B%259C%25EA%25B8%25B0%25EB%25B3%25B8%25ED%2586%25B5%25EA%25B3%2584%2520%253E%2520%25EA%25B3%25B5%25EA%25B3%25B5%25ED%2596%2589%25EC%25A0%2595%25C2%25B7%25EC%2582%25AC%25EB%25B2%2595%25EC%258B%259C%25EB%25B3%25B8%25EC%25B2%25AD%2520%25EA%25B3%25B5%25EB%25AC%25B4%25EC%259B%2590%2528%25EC%25A0%2595%25EC%259B%2590%2529%25282020%25EB%2585%2584%2520%25EC%259D%25B4%25ED%259B%2584%2529 already exists in the database.\n",
      "All data from https://kosis.kr/statHtml/statHtml.do?orgId=115&tblId=DT_115026_C055&vw_cd=MT_ZTITLE&list_id=115_11526_2017_003&scrId=&seqNo=&lang_mode=ko&obj_var_id=&itm_id=&conn_path=K1&path=%25EB%258F%2584%25EC%2586%258C%25EB%25A7%25A4%25E3%2586%258D%25EC%2584%259C%25EB%25B9%2584%25EC%258A%25A4%2520%253E%2520%25EB%2594%2594%25EC%259E%2590%25EC%259D%25B8%25EC%2582%25B0%25EC%2597%2585%25ED%2586%25B5%25EA%25B3%2584%2520%253E%25202015%25EB%2585%2584~%2520%253E%2520%25EB%2594%2594%25EC%259E%2590%25EC%259D%25B8%25ED%2599%259C%25EC%259A%25A9%25EC%2597%2585%25EC%25B2%25B4%255B%25EB%2594%2594%25EC%259E%2590%25EC%259D%25B8%25ED%2599%259C%25EC%259A%25A9%25EC%2597%2585%25EC%25B2%25B4%255D%25EB%2594%2594%25EC%259E%2590%25EC%259D%25B8%2520%25EC%2588%2598%25EC%25A4%2580_%25EB%25AC%25B8%25ED%2599%2594 already exists in the database.\n",
      "All data from https://kosis.kr/statHtml/statHtml.do?orgId=115&tblId=DT_115026_C037&vw_cd=MT_ZTITLE&list_id=115_11526_2017_003&scrId=&seqNo=&lang_mode=ko&obj_var_id=&itm_id=&conn_path=K1&path=%25EB%258F%2584%25EC%2586%258C%25EB%25A7%25A4%25E3%2586%258D%25EC%2584%259C%25EB%25B9%2584%25EC%258A%25A4%2520%253E%2520%25EB%2594%2594%25EC%259E%2590%25EC%259D%25B8%25EC%2582%25B0%25EC%2597%2585%25ED%2586%25B5%25EA%25B3%2584%2520%253E%25202015%25EB%2585%2584~%2520%253E%2520%25EB%2594%2594%25EC%259E%2590%25EC%259D%25B8%25ED%2599%259C%25EC%259A%25A9%25EC%2597%2585%25EC%25B2%25B4%255B%25EB%2594%2594%25EC%259E%2590%25EC%259D%25B8%25ED%2599%259C%25EC%259A%25A9%25EC%2597%2585%25EC%25B2%25B4%255D%25EB%2594%2594%25EC%259E%2590%25EC%259D%25B8%2520%25EC%2588%2598%25EC%25A4%2580_%25EC%25A2%2585%25ED%2595%25A9 already exists in the database.\n",
      "All data from https://kosis.kr/statHtml/statHtml.do?orgId=101&tblId=DT_1FS1002_S&vw_cd=MT_ZTITLE&list_id=L_5_001_001_001&scrId=&seqNo=&lang_mode=ko&obj_var_id=&itm_id=&conn_path=K1&path=%25EA%25B4%2591%25EC%2597%2585%25E3%2586%258D%25EC%25A0%259C%25EC%25A1%25B0%25EC%2597%2585%2520%253E%2520%25EA%25B4%2591%25EC%2597%2585%25EC%25A0%259C%25EC%25A1%25B0%25EC%2597%2585%25EC%25A1%25B0%25EC%2582%25AC%2520%253E%2520%25EB%2593%25B1%25EB%25A1%259D%25EA%25B8%25B0%25EB%25B0%2598%2520%253E%2520%25EC%2582%25B0%25EC%2597%2585%25ED%258E%25B8%2520%253E%252010%25EC%25B0%25A8%2520%25EC%2582%25B0%25EC%2597%2585%25EB%25B6%2584%25EB%25A5%2598%2520%25EA%25B0%259C%25EC%25A0%2595%25EC%258B%259C%25EB%258F%2584%2F%25EC%2582%25B0%25EC%2597%2585%25EB%25B6%2584%25EB%25A5%2598%2F%25EC%25A2%2585%25EC%2582%25AC%25EC%259E%2590%25EA%25B7%259C%25EB%25AA%25A8%25EB%25B3%2584%2520%25EC%25A3%25BC%25EC%259A%2594%25EC%25A7%2580%25ED%2591%259C%252810%25EC%259D%25B8%2520%25EC%259D%25B4%25EC%2583%2581%2529 already exists in the database.\n",
      "All data from https://kosis.kr/statHtml/statHtml.do?orgId=101&tblId=DT_1FS1003_S&vw_cd=MT_ZTITLE&list_id=L_5_001_001_001&scrId=&seqNo=&lang_mode=ko&obj_var_id=&itm_id=&conn_path=K1&path=%25EA%25B4%2591%25EC%2597%2585%25E3%2586%258D%25EC%25A0%259C%25EC%25A1%25B0%25EC%2597%2585%2520%253E%2520%25EA%25B4%2591%25EC%2597%2585%25EC%25A0%259C%25EC%25A1%25B0%25EC%2597%2585%25EC%25A1%25B0%25EC%2582%25AC%2520%253E%2520%25EB%2593%25B1%25EB%25A1%259D%25EA%25B8%25B0%25EB%25B0%2598%2520%253E%2520%25EC%2582%25B0%25EC%2597%2585%25ED%258E%25B8%2520%253E%252010%25EC%25B0%25A8%2520%25EC%2582%25B0%25EC%2597%2585%25EB%25B6%2584%25EB%25A5%2598%2520%25EA%25B0%259C%25EC%25A0%2595%25EC%258B%259C%25EB%258F%2584%2F%25EC%2582%25B0%25EC%2597%2585%25EB%25B6%2584%25EB%25A5%2598%2F%25EC%25B6%259C%25ED%2595%2598%25EC%2595%25A1%25EA%25B7%259C%25EB%25AA%25A8%25EB%25B3%2584%2520%25EC%25A3%25BC%25EC%259A%2594%25EC%25A7%2580%25ED%2591%259C%252810%25EC%259D%25B8%2520%25EC%259D%25B4%25EC%2583%2581%2529 already exists in the database.\n",
      "All data from https://kosis.kr/statHtml/statHtml.do?orgId=127&tblId=DT_A12719_2022_E_F041&vw_cd=MT_ZTITLE&list_id=N1_28_001_001_006&scrId=&seqNo=&lang_mode=ko&obj_var_id=&itm_id=&conn_path=K1&path=%25EC%25A0%2595%25EB%25B3%25B4%25ED%2586%25B5%25EC%258B%25A0%2520%253E%2520%25EC%25A0%2595%25EB%25B3%25B4%25EB%25B3%25B4%25ED%2598%25B8%25EC%258B%25A4%25ED%2583%259C%25EC%25A1%25B0%25EC%2582%25AC%2520%253E%25202021%25EB%2585%2584%2520%25EC%259D%25B4%25ED%259B%2584%2520%253E%2520%25EA%25B8%25B0%25EC%2597%2585%25EB%25B6%2580%25EB%25AC%25B8%2520%253E%2520%25EC%25B9%25A8%25ED%2595%25B4%25EC%2582%25AC%25EA%25B3%25A0%2520%25EA%25B2%25BD%25ED%2597%2598%25EC%25B9%25A8%25ED%2595%25B4%25EC%2582%25AC%25EA%25B3%25A0%2520%25EA%25B2%25BD%25ED%2597%2598%2520%25EC%259C%25A0%25ED%2598%2595%2528%25EB%25B3%25B5%25EC%2588%2598%25EC%259D%2591%25EB%258B%25B5%2529%2520%25E2%2580%2593%2520%25EC%25B9%25A8%25ED%2595%25B4%25EC%2582%25AC%25EA%25B3%25A0%2520%25EA%25B2%25BD%25ED%2597%2598%2520%25EA%25B8%25B0%25EC%2597%2585%25EC%25B2%25B4 already exists in the database.\n",
      "All data from https://www.business.kaist.ac.kr/html/executive/sub09/sub02_0905.html already exists in the database.\n",
      "All data from https://kosis.kr/statHtml/statHtml.do?orgId=101&tblId=DT_1FS1006_S&vw_cd=MT_ZTITLE&list_id=L_5_001_001_001&scrId=&seqNo=&lang_mode=ko&obj_var_id=&itm_id=&conn_path=K1&path=%25EA%25B4%2591%25EC%2597%2585%25E3%2586%258D%25EC%25A0%259C%25EC%25A1%25B0%25EC%2597%2585%2520%253E%2520%25EA%25B4%2591%25EC%2597%2585%25EC%25A0%259C%25EC%25A1%25B0%25EC%2597%2585%25EC%25A1%25B0%25EC%2582%25AC%2520%253E%2520%25EB%2593%25B1%25EB%25A1%259D%25EA%25B8%25B0%25EB%25B0%2598%2520%253E%2520%25EC%2582%25B0%25EC%2597%2585%25ED%258E%25B8%2520%253E%252010%25EC%25B0%25A8%2520%25EC%2582%25B0%25EC%2597%2585%25EB%25B6%2584%25EB%25A5%2598%2520%25EA%25B0%259C%25EC%25A0%2595%25EC%258B%259C%25EB%258F%2584%2F%25EC%2582%25B0%25EC%2597%2585%25EB%25B6%2584%25EB%25A5%2598%25EB%25B3%2584%2520%25EC%259C%25A0%25ED%2598%2595%25EC%259E%2590%25EC%2582%25B0%2520%25EC%25A6%259D%25EA%25B0%2580%25EC%2595%25A1%252C%2520%25EA%25B0%2590%25EC%2586%258C%25EC%2595%25A1%2520%25EB%25B0%258F%2520%25EC%2597%25B0%25EB%25A7%2590%25EC%259E%2594%25EC%2595%25A1%252810%25EC%259D%25B8%2520%25EC%259D%25B4%25EC%2583%2581%2529 already exists in the database.\n",
      "All data from https://kosis.kr/statHtml/statHtml.do?orgId=101&tblId=DT_1FS1001_S&vw_cd=MT_ZTITLE&list_id=L_5_001_001_001&scrId=&seqNo=&lang_mode=ko&obj_var_id=&itm_id=&conn_path=K1&path=%25EA%25B4%2591%25EC%2597%2585%25E3%2586%258D%25EC%25A0%259C%25EC%25A1%25B0%25EC%2597%2585%2520%253E%2520%25EA%25B4%2591%25EC%2597%2585%25EC%25A0%259C%25EC%25A1%25B0%25EC%2597%2585%25EC%25A1%25B0%25EC%2582%25AC%2520%253E%2520%25EB%2593%25B1%25EB%25A1%259D%25EA%25B8%25B0%25EB%25B0%2598%2520%253E%2520%25EC%2582%25B0%25EC%2597%2585%25ED%258E%25B8%2520%253E%252010%25EC%25B0%25A8%2520%25EC%2582%25B0%25EC%2597%2585%25EB%25B6%2584%25EB%25A5%2598%2520%25EA%25B0%259C%25EC%25A0%2595%25EC%258B%259C%25EB%258F%2584%2528%25EC%258B%259C%25EA%25B5%25B0%25EA%25B5%25AC%2529%2F%25EC%2582%25B0%25EC%2597%2585%25EB%25B6%2584%25EB%25A5%2598%25EB%25B3%2584%2520%25EC%25A3%25BC%25EC%259A%2594%25EC%25A7%2580%25ED%2591%259C%252810%25EC%259D%25B8%2520%25EC%259D%25B4%25EC%2583%2581%2529 already exists in the database.\n",
      "All data from https://www.jipyong.com/kr/board/news_view.php?seq=11261 already exists in the database.\n",
      "All data from https://m.upbitcare.com/academy/education/blockchain/58 already exists in the database.\n",
      "All data from https://kr.cointelegraph.com/learn/what-is-bitcoin already exists in the database.\n",
      "All data from https://now.k2base.re.kr/portal/trend/mainTrend/view.do?poliTrndId=TRND0000000000044554&menuNo=200004&pageUnit=10&pageIndex=4 already exists in the database.\n",
      "Successfully saved https://lawsociety.or.kr/90/11697595 (DataType.WEB_PAGE). New chunks count: 1\n",
      "All data from https://www.etri.re.kr/webzine/20170811/sub04.html already exists in the database.\n",
      "All data from https://upbitcare.com/academy/education/coin/36 already exists in the database.\n",
      "All data from https://ko.wikipedia.org/wiki/%EB%B9%84%ED%8A%B8%EC%BD%94%EC%9D%B8 already exists in the database.\n",
      "All data from https://aws.amazon.com/ko/what-is/blockchain/ already exists in the database.\n",
      "All data from https://www.ibm.com/kr-ko/topics/blockchain already exists in the database.\n",
      "All data from https://namu.wiki/w/%EB%B8%94%EB%A1%9D%EC%B2%B4%EC%9D%B8 already exists in the database.\n",
      "All data from https://www.coindeskkorea.com/news/articleView.html?idxno=72253 already exists in the database.\n",
      "All data from https://kr.cointelegraph.com/learn/what-is-mining already exists in the database.\n",
      "All data from https://blog.softcamp.co.kr/227 already exists in the database.\n",
      "All data from https://toktok.io/bitcoin-mining/ already exists in the database.\n",
      "All data from https://upbitcare.com/academy/education/blockchain/60 already exists in the database.\n",
      "All data from https://www.kiri.or.kr/pdf/%EC%97%B0%EA%B5%AC%EC%9E%90%EB%A3%8C/%EC%97%B0%EA%B5%AC%EB%B3%B4%EA%B3%A0%EC%84%9C/nre2018-24_02.pdf already exists in the database.\n",
      "All data from https://www.banksalad.com/contents/%EC%89%BD%EA%B2%8C-%EC%84%A4%EB%AA%85%ED%95%98%EB%8A%94-%EB%B8%94%EB%A1%9D%EC%B2%B4%EC%9D%B8-%EB%B9%84%ED%8A%B8%EC%BD%94%EC%9D%B8-%EA%B1%B0%EB%9E%98%EA%B0%80-%EC%9D%B4%EB%A3%A8%EC%96%B4%EC%A7%80%EB%8A%94-%EA%B3%BC%EC%A0%95-L7bWb already exists in the database.\n",
      "All data from https://www.btcc.com/ko-KR/academy/crypto-basics/introduction-to-bitcoin-mining-how-to-mine-bitcoin-and-even-a-miner already exists in the database.\n",
      "All data from http://m.blog.naver.com/jvioonpe/221572514342 already exists in the database.\n",
      "All data from https://python.langchain.com/docs/modules/agents/how_to/async_agent already exists in the database.\n",
      "https://python.langchain.com/docs/modules/agents/how_to/async_agent has no data\n",
      "All data from https://d2.naver.com/helloworld/8237898 already exists in the database.\n",
      "All data from https://academy.chainalysis.com/live-crc-korean already exists in the database.\n",
      "All data from https://blog.naver.com/yeombrothers/221011716890 already exists in the database.\n",
      "All data from https://m.joseilbo.com/news/view.htm?newsid=418468 already exists in the database.\n",
      "All data from https://www.ifcmarkets.com/ko/learn-about-crypto/pros-and-cons-of-cryptocurrencies already exists in the database.\n",
      "All data from https://post.naver.com/viewer/postView.naver?volumeNo=16146496&memberNo=1978994 already exists in the database.\n",
      "All data from https://namu.wiki/w/%EB%B9%84%ED%8A%B8%EC%BD%94%EC%9D%B8/%ED%8F%89%EA%B0%80 already exists in the database.\n",
      "All data from http://m.blog.naver.com/himinwho/110181257588 already exists in the database.\n",
      "All data from https://now.rememberapp.co.kr/2022/10/29/23121/ already exists in the database.\n",
      "All data from https://ecommerce-platforms.com/ko/articles/everything-need-know-bitcoin-blockchain-ecommerce already exists in the database.\n",
      "All data from https://now.k2base.re.kr/portal/trend/mainTrend/view.do?poliTrndId=TRND0000000000041517&menuNo=200004&pageUnit=10&pageIndex=61 already exists in the database.\n",
      "All data from https://www.coindeskkorea.com/news/articleView.html?idxno=79105 already exists in the database.\n",
      "Successfully saved https://www.blockmedia.co.kr/archives/259531 (DataType.WEB_PAGE). New chunks count: 2\n",
      "All data from https://www.globalxetfs.com/content/files/Four-Companies-Leading-the-Rise-of-Blockchain-Technology_KO-KR.pdf already exists in the database.\n",
      "All data from https://www.cmegroup.com/ko/education/featured-reports/an-in-depth-look-at-the-economics-of-bitcoin.html already exists in the database.\n",
      "All data from https://help.bitrefill.com/hc/ko/articles/360019408600-%EB%B9%84%ED%8A%B8-%EC%BD%94%EC%9D%B8-%EA%B1%B0%EB%9E%98-%EC%88%98%EC%88%98%EB%A3%8C%EB%8A%94-%EC%8B%A4%EC%A0%9C%EB%A1%9C-%EC%96%B4%EB%96%BB%EA%B2%8C-%EC%9E%91%EB%8F%99%ED%95%A9%EB%8B%88%EA%B9%8C-%EA%B8%B4-%EC%9D%BD%EA%B8%B0- already exists in the database.\n",
      "Successfully saved https://papers.ssrn.com/sol3/Delivery.cfm/SSRN_ID3095834_code2812556.pdf?abstractid=3095834&type=2 (DataType.WEB_PAGE). New chunks count: 1\n",
      "All data from https://www.fortunekorea.co.kr/news/articleView.html?idxno=27738 already exists in the database.\n",
      "All data from https://www.businesspost.co.kr/BP?command=article_view&num=299328 already exists in the database.\n",
      "All data from https://www.dbpia.co.kr/journal/articleDetail?nodeId=NODE06082973 already exists in the database.\n",
      "Successfully saved https://www.kci.go.kr/kciportal/ci/sereArticleSearch/ciSereArtiView.kci?sereArticleSearchBean.artiId=ART002003102 (DataType.WEB_PAGE). New chunks count: 1\n",
      "All data from https://www.coindeskkorea.com/news/articleView.html?idxno=91431 already exists in the database.\n",
      "Successfully saved https://www.kci.go.kr/kciportal/ci/sereArticleSearch/ciSereArtiView.kci?sereArticleSearchBean.artiId=ART001956926 (DataType.WEB_PAGE). New chunks count: 2\n",
      "All data from https://www.zbw.eu/econis-archiv/bitstream/11159/352039/1/EBP075712628_0.pdf already exists in the database.\n",
      "All data from https://www.nepla.net/post/%EB%B9%84%ED%8A%B8%EC%BD%94%EC%9D%B8-%EB%93%B1-%EA%B0%80%EC%83%81%ED%99%94%ED%8F%90%EC%9D%98-%EB%B2%95%EB%A5%A0%EC%A0%81-%EC%9F%81%EC%A0%90 already exists in the database.\n",
      "All data from https://www.nepla.net/post/%EA%B0%80%EC%83%81%EC%9E%90%EC%82%B0%EC%9D%98-%EB%B2%95%EC%A0%81%E3%86%8D%EC%86%8C%EC%86%A1%EC%83%81-%EC%9F%81%EC%A0%90 already exists in the database.\n",
      "All data from https://www.digitaltoday.co.kr/news/articleView.html?idxno=471011 already exists in the database.\n",
      "All data from https://www.edjoin.org/Home/Jobs?keywords=%EB%B9%84%ED%8A%B8%EC%BD%94%EC%9D%B8%EB%AF%B8%EA%B5%AD%EA%B5%AC%EB%A7%A4%E2%99%A3WWW%2C99M%2CKR%E2%99%A3%E4%AC%A5%EB%B9%84%ED%8A%B8%EC%BD%94%EC%9D%B8%EB%AF%B8%EA%B5%AD%EA%B5%AC%EB%A7%A4%ED%95%9C%EA%B5%AD%ED%8C%90%EB%A7%A4%EE%98%AD%EB%B9%84%ED%8A%B8%EC%BD%94%EC%9D%B8%EB%AF%B8%EA%B5%AD%EA%B7%9C%EC%A0%9C%C9%B9%EB%B9%84%ED%8A%B8%EC%BD%94%EC%9D%B8%EB%AF%B8%EA%B5%AD%EA%B8%88%EB%A6%AC%E6%9D%80%EB%B9%84%ED%8A%B8%EC%BD%94%EC%9D%B8%EB%AF%B8%EA%B5%AD%EA%B8%B0%EA%B4%80%E2%99%A3midinette&searchType=all/ already exists in the database.\n",
      "All data from http://news.kotra.or.kr/user/globalBbs/kotranews/5/globalBbsDataView.do?setIdx=244&dataIdx=152756 already exists in the database.\n",
      "All data from https://righttaxservice.com/%EB%AF%B8%EA%B5%AD-%EC%BD%94%EC%9D%B8-%EC%84%B8%EA%B8%88%EB%B3%B4%EA%B3%A0-2021/ already exists in the database.\n",
      "All data from https://www.businesspost.co.kr/BP?command=article_view&num=313885 already exists in the database.\n",
      "All data from https://www.coindeskkorea.com/news/articleView.html?idxno=90718 already exists in the database.\n",
      "Successfully saved https://contents.premium.naver.com/aimrich/view/contents/221110094530441dv (DataType.WEB_PAGE). New chunks count: 3\n",
      "All data from https://www.digitalasset.works/news/articleView.html?idxno=3217 already exists in the database.\n",
      "Successfully saved https://www.kci.go.kr/kciportal/ci/sereArticleSearch/ciSereArtiView.kci?sereArticleSearchBean.artiId=ART002476064 (DataType.WEB_PAGE). New chunks count: 4\n",
      "All data from http://www.shinkim.com/newsletter/2023/GA/2023_vol179/links/2023_vol179_502.pdf already exists in the database.\n",
      "All data from https://www.fortunekorea.co.kr/news/articleView.html?idxno=26080 already exists in the database.\n",
      "All data from https://www.fsc.go.kr/comm/getFile?srvcId=BBSTY1&upperNo=72848&fileTy=ATTACH&fileNo=2 already exists in the database.\n",
      "All data from https://www.sedaily.com/NewsView/29LMRX4O13 already exists in the database.\n",
      "All data from https://www.hani.co.kr/arti/opinion/column/1087136.html already exists in the database.\n",
      "All data from https://www.kcmi.re.kr/seminar/seminar_program?eno=250 already exists in the database.\n",
      "All data from https://www.lawtimes.co.kr/news/185285 already exists in the database.\n",
      "All data from https://www.kcmi.re.kr/publications/pub_detail_view?syear=2021&zcd=002001016&zno=1635&cno=5834 already exists in the database.\n",
      "All data from https://www.whitehouse.gov/briefing-room/presidential-actions/2022/03/09/executive-order-on-ensuring-responsible-development-of-digital-assets/ already exists in the database.\n",
      "All data from https://bitcoin.org/ko/protect-your-privacy already exists in the database.\n",
      "All data from https://cryptodnes.bg/ko/bitcoin-kakva-veroqtnata-traktoriq-aktiva-spored-arthur-hayes/ already exists in the database.\n",
      "All data from https://learn.microsoft.com/ko-kr/azure/cloud-adoption-framework/digital-estate/ already exists in the database.\n",
      "All data from https://m.blog.naver.com/pro-comsys/222193569899 already exists in the database.\n",
      "All data from https://business.instagram.com/blog/instagram-digital-collectibles-is-expanding?locale=ko_KR already exists in the database.\n",
      "All data from https://aws.amazon.com/ko/blogs/korea/aws-digital-sovereignty-pledge-control-without-compromise/ already exists in the database.\n",
      "All data from https://ofac.treasury.gov/media/36031/download?inline already exists in the database.\n",
      "All data from https://dbr.donga.com/article/view/1401/article_no/6140/ac/magazine already exists in the database.\n",
      "Successfully saved https://www.dongascience.com/news.php?idx=29361 (DataType.WEB_PAGE). New chunks count: 2\n",
      "All data from https://www.businesspost.co.kr/BP?command=article_view&num=316442 already exists in the database.\n",
      "Successfully saved https://www.blockmedia.co.kr/archives/327720 (DataType.WEB_PAGE). New chunks count: 2\n",
      "All data from https://www.businesspost.co.kr/BP?command=article_view&num=320120 already exists in the database.\n",
      "All data from https://www.aitimes.com/news/articleView.html?idxno=140329 already exists in the database.\n",
      "All data from https://blog.naver.com/lawjust08/222997625519 already exists in the database.\n",
      "Successfully saved https://contents.premium.naver.com/aimrich/view/contents/230720152247945yj (DataType.WEB_PAGE). New chunks count: 4\n",
      "All data from https://ko.wikipedia.org/wiki/%EB%94%94%EC%A7%80%ED%84%B8_%EC%9E%90%EC%82%B0 already exists in the database.\n",
      "All data from https://blog.naver.com/lawjust08/222997642927 already exists in the database.\n",
      "All data from https://www.bonmedia.kr/news/articleView.html?idxno=677 already exists in the database.\n",
      "Successfully saved https://arongmunggah.tistory.com/35 (DataType.WEB_PAGE). New chunks count: 1\n",
      "All data from https://bitcoin.org/ko/how-it-works already exists in the database.\n",
      "All data from https://ko.wikipedia.org/wiki/2020%EB%85%84_%EB%B9%84%ED%8A%B8%EC%BD%94%EC%9D%B8_%EC%97%B4%ED%92%8D already exists in the database.\n",
      "All data from https://namu.wiki/w/%EB%B9%84%ED%8A%B8%EC%BD%94%EC%9D%B8 already exists in the database.\n",
      "All data from https://blog.naver.com/msquare_global/223148635155 already exists in the database.\n",
      "All data from https://www.korea.kr/news/policyNewsView.do?newsId=148916906 already exists in the database.\n",
      "All data from https://make-spend-money.tistory.com/211 already exists in the database.\n",
      "All data from https://ko.wikipedia.org/wiki/%EB%B8%94%EB%A1%9D%EC%B2%B4%EC%9D%B8 already exists in the database.\n",
      "All data from https://www.slideshare.net/ssuser1cbe1b/ss-81793303 already exists in the database.\n",
      "All data from https://money-info92.tistory.com/47 already exists in the database.\n",
      "All data from https://lifeblog.co.kr/2033/ already exists in the database.\n",
      "All data from https://sanson.tistory.com/569 already exists in the database.\n",
      "All data from https://bitcoin.org/ko/faq already exists in the database.\n",
      "All data from http://www.kbsm.net/news/view.php?idx=394901 already exists in the database.\n",
      "All data from https://blog.naver.com/h3h2003/223053735974 already exists in the database.\n",
      "All data from https://powerguy7.tistory.com/12 already exists in the database.\n",
      "All data from https://m.post.naver.com/viewer/postView.nhn?volumeNo=16146496&memberNo=1978994 already exists in the database.\n",
      "All data from https://hoodp.tistory.com/entry/%EB%B9%84%ED%8A%B8%EC%BD%94%EC%9D%B8%EC%9D%B4%EB%9E%80-%EB%AC%B4%EC%97%87%EC%9D%B8%EA%B0%80-%EC%97%AD%EC%82%AC%EC%99%80-%EB%B0%9C%EC%A0%84-%ED%88%AC%EC%9E%90%EC%9D%98-%EC%9E%A5%EB%8B%A8%EC%A0%90-%EC%95%8C%EC%95%84%EB%B3%B4%EA%B8%B0 already exists in the database.\n",
      "All data from https://julins-stockdiary.tistory.com/entry/%EB%B9%84%ED%8A%B8%EC%BD%94%EC%9D%B8%EC%9D%98-%EB%8B%A8%EC%A0%90%EC%9D%84-%EA%B7%B9%EB%B3%B5%ED%95%A0-%ED%8C%8C%EC%9D%B4%EC%BD%94%EC%9D%B8 already exists in the database.\n",
      "All data from https://avablog.tisorry.kr/262 already exists in the database.\n",
      "All data from https://www.innomove.com/blog/cryptocurrency-value-price-2/ already exists in the database.\n",
      "All data from https://bitcoin.org/ko/innovation already exists in the database.\n",
      "All data from https://www.ajunews.com/view/20230125064043063 already exists in the database.\n",
      "All data from https://bitcoin.org/ko/vocabulary already exists in the database.\n",
      "All data from https://www.asiae.co.kr/article/2023050715035812568 already exists in the database.\n",
      "All data from http://www.getnews.co.kr/news/articleView.html?idxno=1571 already exists in the database.\n",
      "All data from http://www.getnews.co.kr/news/articleView.html?idxno=527779 already exists in the database.\n",
      "All data from https://www.sedaily.com/NewsView/29S4MVFSBJ already exists in the database.\n",
      "All data from https://bitcoin.org/ko/support-bitcoin already exists in the database.\n",
      "All data from https://earlybirdhenry.tistory.com/entry/%EB%B9%84%ED%8A%B8%EC%BD%94%EC%9D%B8-%ED%99%94%ED%8F%90-%EC%B0%BD%EC%B6%9C-%EA%B5%AC%EC%A1%B0-%EA%B5%AD%EA%B0%80%EB%B3%84-%EC%8A%B9%EC%9D%B8-%EA%B7%9C%EC%A0%9C-%ED%98%84%ED%99%A9 already exists in the database.\n",
      "All data from https://v.daum.net/v/20210818194122799 already exists in the database.\n",
      "All data from https://www.coindeskkorea.com/news/articleView.html?idxno=91868 already exists in the database.\n",
      "Successfully saved https://www.happycampus.com/report-doc/20259163/ (DataType.WEB_PAGE). New chunks count: 1\n",
      "All data from https://www.mk.co.kr/economy/view/2023/344558 already exists in the database.\n",
      "All data from https://www.blockstreet.co.kr/news/view?ud=2023061611254239113 already exists in the database.\n",
      "All data from https://blog.naver.com/ajjuguru/223141167050 already exists in the database.\n",
      "All data from https://ponzi-killer.tistory.com/17 already exists in the database.\n",
      "Successfully saved https://www.etoday.co.kr/news/view/2146767 (DataType.WEB_PAGE). New chunks count: 3\n",
      "All data from https://www.btcc.com/ko-KR/academy/research-analysis/bitcoin-price-forecast already exists in the database.\n",
      "All data from https://www.bonmedia.kr/news/articleView.html?idxno=410 already exists in the database.\n",
      "Successfully saved https://www.business2community.com/kr/cryptocurrency/bitcoin-price-prediction (DataType.WEB_PAGE). New chunks count: 4\n",
      "All data from https://conveyvalue.tistory.com/entry/%EB%B9%84%ED%8A%B8%EC%BD%94%EC%9D%B8-%EA%B0%80%EA%B2%A9-%EC%98%88%EC%B8%A1-%EC%B5%9C%EA%B7%BC-%EB%8F%99%ED%96%A5%EA%B3%BC-%EB%AF%B8%EB%9E%98-%EC%A0%84%EB%A7%9D already exists in the database.\n",
      "All data from https://www.dailysecu.com/news/articleView.html?idxno=143593 already exists in the database.\n",
      "All data from https://www.ajunews.com/view/20230213184909147 already exists in the database.\n",
      "All data from https://www.sisamagazine.co.kr/news/articleView.html?idxno=487081 already exists in the database.\n",
      "All data from https://www.bonmedia.kr/news/articleView.html?idxno=409 already exists in the database.\n",
      "All data from https://blog.naver.com/aimrichgold/223156106344 already exists in the database.\n",
      "All data from http://www.2e.co.kr/news/articleView.html?idxno=302654 already exists in the database.\n",
      "All data from http://www.digitaltoday.co.kr/news/articleView.html?idxno=466913 already exists in the database.\n",
      "All data from https://melt2091.tistory.com/entry/%EC%95%94%ED%98%B8%ED%99%94%ED%8F%90-%EB%B9%84%ED%8A%B8%EC%BD%94%EC%9D%B8%EC%9D%98-%EC%9C%84%EC%B9%98%EC%99%80-%EC%95%9E%EC%9C%BC%EB%A1%9C-%ED%9D%90%EB%A6%84 already exists in the database.\n",
      "All data from https://www.ddengle.com/traders_free/19337940 already exists in the database.\n",
      "All data from https://blog.naver.com/abgeoya440/223198381954 already exists in the database.\n",
      "All data from https://www.coindeskkorea.com/news/articleView.html?idxno=91010 already exists in the database.\n",
      "All data from https://blog.naver.com/rmanykneeq/223197896449 already exists in the database.\n",
      "All data from https://blog.naver.com/bcountaeq/223189815374 already exists in the database.\n",
      "All data from https://gongball.tistory.com/entry/%EB%B9%84%ED%8A%B8%EC%BD%94%EC%9D%B8-%ED%88%AC%EC%9E%90%EC%9D%98-%EB%A7%A4%EB%A0%A5%EA%B3%BC-%EC%9E%A0%EC%9E%AC%EB%A0%A5-%EC%99%9C-%EB%B9%84%ED%8A%B8%EC%BD%94%EC%9D%B8%EC%97%90-%ED%88%AC%EC%9E%90%ED%95%B4%EC%95%BC-%ED%95%98%EB%8A%94%EA%B0%80 already exists in the database.\n",
      "All data from https://creativestudio.kr/3773 already exists in the database.\n",
      "All data from https://financialtaxi.kr/%EB%B9%84%ED%8A%B8%EC%BD%94%EC%9D%B8-%ED%99%94%ED%8F%90%EB%A1%9C%EC%84%9C%EC%9D%98-%EC%9E%A0%EC%9E%AC%EB%A0%A5/ already exists in the database.\n",
      "Successfully saved https://www.blockmedia.co.kr/archives/296355 (DataType.WEB_PAGE). New chunks count: 2\n"
     ]
    }
   ],
   "source": [
    "database = DataBase.load(database_path='./user/test_2/database.json', embed_chain=embed_chain) # optimize: 5m22s # 4m18s 3m4s 3m2s"
   ]
  },
  {
   "cell_type": "markdown",
   "metadata": {},
   "source": [
    "### Set Agent"
   ]
  },
  {
   "cell_type": "code",
   "execution_count": 12,
   "metadata": {},
   "outputs": [],
   "source": [
    "from models.llm.qna_agent import QnAAgent"
   ]
  },
  {
   "cell_type": "code",
   "execution_count": 58,
   "metadata": {},
   "outputs": [],
   "source": [
    "qna_agent = QnAAgent(tools=tools, verbose=True, qna_prompt_path='../../openai_skt/models/templates/qna_prompt_template.txt', model='gpt-4')"
   ]
  },
  {
   "cell_type": "code",
   "execution_count": 61,
   "metadata": {},
   "outputs": [
    {
     "name": "stdout",
     "output_type": "stream",
     "text": [
      "\n",
      "\n",
      "\u001b[1m> Entering new AgentExecutor chain...\u001b[0m\n",
      "\n",
      "\n",
      "\u001b[1m> Entering new LLMChain chain...\u001b[0m\n",
      "Prompt after formatting:\n",
      "\u001b[32;1m\u001b[1;3mAnswer the following questions as best you can. Use a variety of tools to answer the questions. You have access to the following tools:\n",
      "\n",
      "database: A tool to get data with from database. The input consists of a 'query' and a 'question', where 'query' is the search query and 'question' is the information you want to get. For example, {'query': 'bitcoin price history', 'question': 'what was the price of bitcoin in 2022?'} would be the input if you want to know the price of bitcoin in 2022. Input must contain both a query and a question.\n",
      "search_tool: A tool to search on internet.\n",
      "Time Tool: Tool to get current time. There is no input\n",
      "\n",
      "\n",
      "Use the following format:\n",
      "\n",
      "Question: the input question you must answer\n",
      "Thought: you should always think about what to do\n",
      "Action: the action to take, should be one of [database, search_tool, Time Tool]\n",
      "Action Input: the input to the action\n",
      "Observation: the result of the action\n",
      "... (this Thought/Action/Action Input/Observation can repeat N times)\n",
      "Thought: I now know the final answer or I do not know the final answer\n",
      "Final Answer: the final answer to the input question. The final answer must be Korean\n",
      "\n",
      "Begin!\n",
      "\n",
      "Human: 오늘 비트코인 가격은 얼마야?\n",
      "AI: 비트코인의 현재 가격은 [비트코인 가격]입니다. (비트코인 가격은 실시간으로 변동하기 때문에, 이 문장을 읽는 시점의 가격을 확인해주세요.)\n",
      "Human: 오늘 날씨가 어때요?\n",
      "AI: 오늘의 날씨는 흐리며, 기온은 27도(체감온도 29도), 강수확률은 30%, 바람은 북동풍 1m/s, 습도는 85%입니다.\n",
      "Question: 오늘 제주도 날씨가 어때요?\n",
      "Thought:\u001b[0m\n",
      "\n",
      "\u001b[1m> Finished chain.\u001b[0m\n",
      "\u001b[32;1m\u001b[1;3m날씨 정보는 인터넷에서 검색을 통해 얻을 수 있다.\n",
      "Action: search_tool\n",
      "Action Input: \"오늘 제주도 날씨\"\u001b[0m\n",
      "\n",
      "Observation:\u001b[33;1m\u001b[1;3m오늘 · 시각: 09시 · 날씨: 구름 많음 · 기온(체감온도) 27℃(28℃) · 체감온도: 28℃ · 강수량: - · 강수확률: 20% · 바람: 북동풍4m/s · 습도: 65% ...\u001b[0m\n",
      "\n",
      "\n",
      "\u001b[1m> Entering new LLMChain chain...\u001b[0m\n",
      "Prompt after formatting:\n",
      "\u001b[32;1m\u001b[1;3mAnswer the following questions as best you can. Use a variety of tools to answer the questions. You have access to the following tools:\n",
      "\n",
      "database: A tool to get data with from database. The input consists of a 'query' and a 'question', where 'query' is the search query and 'question' is the information you want to get. For example, {'query': 'bitcoin price history', 'question': 'what was the price of bitcoin in 2022?'} would be the input if you want to know the price of bitcoin in 2022. Input must contain both a query and a question.\n",
      "search_tool: A tool to search on internet.\n",
      "Time Tool: Tool to get current time. There is no input\n",
      "\n",
      "\n",
      "Use the following format:\n",
      "\n",
      "Question: the input question you must answer\n",
      "Thought: you should always think about what to do\n",
      "Action: the action to take, should be one of [database, search_tool, Time Tool]\n",
      "Action Input: the input to the action\n",
      "Observation: the result of the action\n",
      "... (this Thought/Action/Action Input/Observation can repeat N times)\n",
      "Thought: I now know the final answer or I do not know the final answer\n",
      "Final Answer: the final answer to the input question. The final answer must be Korean\n",
      "\n",
      "Begin!\n",
      "\n",
      "Human: 오늘 비트코인 가격은 얼마야?\n",
      "AI: 비트코인의 현재 가격은 [비트코인 가격]입니다. (비트코인 가격은 실시간으로 변동하기 때문에, 이 문장을 읽는 시점의 가격을 확인해주세요.)\n",
      "Human: 오늘 날씨가 어때요?\n",
      "AI: 오늘의 날씨는 흐리며, 기온은 27도(체감온도 29도), 강수확률은 30%, 바람은 북동풍 1m/s, 습도는 85%입니다.\n",
      "Question: 오늘 제주도 날씨가 어때요?\n",
      "Thought:날씨 정보는 인터넷에서 검색을 통해 얻을 수 있다.\n",
      "Action: search_tool\n",
      "Action Input: \"오늘 제주도 날씨\"\n",
      "Observation: 오늘 · 시각: 09시 · 날씨: 구름 많음 · 기온(체감온도) 27℃(28℃) · 체감온도: 28℃ · 강수량: - · 강수확률: 20% · 바람: 북동풍4m/s · 습도: 65% ...\n",
      "Thought: \u001b[0m\n",
      " 오늘 제주도의 날씨는 구름이 많으며, 기온은 27도(체감온도 28도), 강수확률은 20%, 바람은 북동풍 4m/s, 습도는 65%입니다.\n",
      "\u001b[1m> Finished chain.\u001b[0m\n",
      "\u001b[32;1m\u001b[1;3m제주도의 날씨 정보를 얻었다.\n",
      "Final Answer: 오늘 제주도의 날씨는 구름이 많으며, 기온은 27도(체감온도 28도), 강수확률은 20%, 바람은 북동풍 4m/s, 습도는 65%입니다.\u001b[0m\n",
      "\n",
      "\u001b[1m> Finished chain.\u001b[0m\n"
     ]
    }
   ],
   "source": [
    "answer = qna_agent.run(database=database, query=\"오늘 제주도 날씨가 어때요?\")"
   ]
  },
  {
   "cell_type": "code",
   "execution_count": 42,
   "metadata": {},
   "outputs": [
    {
     "ename": "ValidationError",
     "evalue": "1 validation error for SerpAPIWrapper\n__root__\n  Did not find serpapi_api_key, please add an environment variable `SERPAPI_API_KEY` which contains it, or pass  `serpapi_api_key` as a named parameter. (type=value_error)",
     "output_type": "error",
     "traceback": [
      "\u001b[1;31m---------------------------------------------------------------------------\u001b[0m",
      "\u001b[1;31mValidationError\u001b[0m                           Traceback (most recent call last)",
      "Cell \u001b[1;32mIn[42], line 2\u001b[0m\n\u001b[0;32m      1\u001b[0m \u001b[39mfrom\u001b[39;00m \u001b[39mlangchain\u001b[39;00m\u001b[39m.\u001b[39;00m\u001b[39magents\u001b[39;00m \u001b[39mimport\u001b[39;00m load_tools\n\u001b[1;32m----> 2\u001b[0m tools \u001b[39m=\u001b[39m load_tools([\u001b[39m\"\u001b[39;49m\u001b[39mserpapi\u001b[39;49m\u001b[39m\"\u001b[39;49m])\n",
      "File \u001b[1;32mc:\\Users\\chois\\AppData\\Local\\Continuum\\anaconda3\\envs\\openai_skt\\Lib\\site-packages\\langchain\\agents\\load_tools.py:471\u001b[0m, in \u001b[0;36mload_tools\u001b[1;34m(tool_names, llm, callbacks, **kwargs)\u001b[0m\n\u001b[0;32m    469\u001b[0m     _get_tool_func, extra_keys \u001b[39m=\u001b[39m _EXTRA_OPTIONAL_TOOLS[name]\n\u001b[0;32m    470\u001b[0m     sub_kwargs \u001b[39m=\u001b[39m {k: kwargs[k] \u001b[39mfor\u001b[39;00m k \u001b[39min\u001b[39;00m extra_keys \u001b[39mif\u001b[39;00m k \u001b[39min\u001b[39;00m kwargs}\n\u001b[1;32m--> 471\u001b[0m     tool \u001b[39m=\u001b[39m _get_tool_func(\u001b[39m*\u001b[39;49m\u001b[39m*\u001b[39;49msub_kwargs)\n\u001b[0;32m    472\u001b[0m     tools\u001b[39m.\u001b[39mappend(tool)\n\u001b[0;32m    473\u001b[0m \u001b[39melse\u001b[39;00m:\n",
      "File \u001b[1;32mc:\\Users\\chois\\AppData\\Local\\Continuum\\anaconda3\\envs\\openai_skt\\Lib\\site-packages\\langchain\\agents\\load_tools.py:232\u001b[0m, in \u001b[0;36m_get_serpapi\u001b[1;34m(**kwargs)\u001b[0m\n\u001b[0;32m    228\u001b[0m \u001b[39mdef\u001b[39;00m \u001b[39m_get_serpapi\u001b[39m(\u001b[39m*\u001b[39m\u001b[39m*\u001b[39mkwargs: Any) \u001b[39m-\u001b[39m\u001b[39m>\u001b[39m BaseTool:\n\u001b[0;32m    229\u001b[0m     \u001b[39mreturn\u001b[39;00m Tool(\n\u001b[0;32m    230\u001b[0m         name\u001b[39m=\u001b[39m\u001b[39m\"\u001b[39m\u001b[39mSearch\u001b[39m\u001b[39m\"\u001b[39m,\n\u001b[0;32m    231\u001b[0m         description\u001b[39m=\u001b[39m\u001b[39m\"\u001b[39m\u001b[39mA search engine. Useful for when you need to answer questions about current events. Input should be a search query.\u001b[39m\u001b[39m\"\u001b[39m,\n\u001b[1;32m--> 232\u001b[0m         func\u001b[39m=\u001b[39mSerpAPIWrapper(\u001b[39m*\u001b[39;49m\u001b[39m*\u001b[39;49mkwargs)\u001b[39m.\u001b[39mrun,\n\u001b[0;32m    233\u001b[0m         coroutine\u001b[39m=\u001b[39mSerpAPIWrapper(\u001b[39m*\u001b[39m\u001b[39m*\u001b[39mkwargs)\u001b[39m.\u001b[39marun,\n\u001b[0;32m    234\u001b[0m     )\n",
      "File \u001b[1;32mc:\\Users\\chois\\AppData\\Local\\Continuum\\anaconda3\\envs\\openai_skt\\Lib\\site-packages\\pydantic\\main.py:341\u001b[0m, in \u001b[0;36mpydantic.main.BaseModel.__init__\u001b[1;34m()\u001b[0m\n",
      "\u001b[1;31mValidationError\u001b[0m: 1 validation error for SerpAPIWrapper\n__root__\n  Did not find serpapi_api_key, please add an environment variable `SERPAPI_API_KEY` which contains it, or pass  `serpapi_api_key` as a named parameter. (type=value_error)"
     ]
    }
   ],
   "source": [
    "from langchain.agents import load_tools\n",
    "tools = load_tools([\"serpapi\"])"
   ]
  },
  {
   "cell_type": "code",
   "execution_count": 15,
   "metadata": {},
   "outputs": [
    {
     "data": {
      "text/plain": [
       "{'google_search': [{'title': \"'9월 하락 징크스' 비트코인, 이더리움과 리플 전망은?\",\n",
       "   'description': '비트코인(Bitcoin, BTC)은 8월 이후 12.3% 하락한 2만 5700달러, ... 연중 고점을 회복한 순간 단기 보유자 투자 심리 회복이 기대된다고 전망했다.',\n",
       "   'data_type': 'web_page',\n",
       "   'data_path': 'https://www.blockmedia.co.kr/archives/364701'},\n",
       "  {'title': '비트코인 3700만 원대 하락, 비트코인 2028년 3억8천만 원 ...',\n",
       "   'description': '[비즈니스포스트]비트코인 시세가 3700만 원대로 내려왔다.비트코인 가격이 2028년에는 30만 달러(약 3억8500만 원)에 달할 것이라는 전망이 나온다.',\n",
       "   'data_type': 'web_page',\n",
       "   'data_path': 'https://www.businesspost.co.kr/BP?command=article_view&num=322643'},\n",
       "  {'title': \"“비트코인에 최고의 호재”...10% 뛴 데다 '불장' 전망까지 나온 근거\",\n",
       "   'description': '20일 가상화폐 거래소 업비트에 따르면 이날 비트코인은 3500만원 선에 거래됐다. 지난 6월 15일 3250만원대까지 떨어졌던 것에 비해 9.4% 가량 상승한 ...',\n",
       "   'data_type': 'web_page',\n",
       "   'data_path': 'https://stock.mk.co.kr/news/view/153470'}]}"
      ]
     },
     "execution_count": 15,
     "metadata": {},
     "output_type": "execute_result"
    }
   ],
   "source": [
    "search_tool.search(query=\"비트코인 전망\", category='google')"
   ]
  }
 ],
 "metadata": {
  "kernelspec": {
   "display_name": "openai_skt",
   "language": "python",
   "name": "python3"
  },
  "language_info": {
   "codemirror_mode": {
    "name": "ipython",
    "version": 3
   },
   "file_extension": ".py",
   "mimetype": "text/x-python",
   "name": "python",
   "nbconvert_exporter": "python",
   "pygments_lexer": "ipython3",
   "version": "3.11.4"
  },
  "orig_nbformat": 4
 },
 "nbformat": 4,
 "nbformat_minor": 2
}
