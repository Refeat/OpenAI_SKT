{
 "cells": [
  {
   "cell_type": "code",
   "execution_count": 1,
   "metadata": {},
   "outputs": [],
   "source": [
    "import sys\n",
    "sys.path.append('..')"
   ]
  },
  {
   "cell_type": "markdown",
   "metadata": {},
   "source": [
    "### Set OpenAI key "
   ]
  },
  {
   "cell_type": "code",
   "execution_count": 2,
   "metadata": {},
   "outputs": [],
   "source": [
    "import os\n",
    "import configparser\n",
    "\n",
    "config = configparser.ConfigParser()\n",
    "config.read('../../.secrets.ini')\n",
    "OPENAI_API_KEY = config['OPENAI']['OPENAI_API_KEY']\n",
    "YOUTUBE_KEY = config['YOUTUBE']['YOUTUBE_API_KEY']\n",
    "NAVER_CLIENT_ID = config['NAVER']['NAVER_CLIENT_ID']\n",
    "NAVER_CLIENT_SECRET = config['NAVER']['NAVER_CLIENT_SECRET']\n",
    "GOOGLE_SEARCH_KEY = config['GOOGLE']['GOOGLE_API_KEY']\n",
    "CSE_ID = config['GOOGLE']['CSE_ID']\n",
    "SERPAPI_API_KEY = config['SERPAPI']['SERPAPI_API_KEY']\n",
    "\n",
    "\n",
    "os.environ.update({'OPENAI_API_KEY': OPENAI_API_KEY})\n",
    "os.environ.update({'YOUTUBE_KEY': YOUTUBE_KEY})\n",
    "os.environ.update({'NAVER_CLIENT_ID': NAVER_CLIENT_ID})\n",
    "os.environ.update({'NAVER_CLIENT_SECRET': NAVER_CLIENT_SECRET})\n",
    "os.environ.update({'GOOGLE_SEARCH_KEY': GOOGLE_SEARCH_KEY})\n",
    "os.environ.update({'CSE_ID': CSE_ID})\n",
    "os.environ.update({'SERPAPI_API_KEY': SERPAPI_API_KEY})"
   ]
  },
  {
   "cell_type": "markdown",
   "metadata": {},
   "source": [
    "### Get tools"
   ]
  },
  {
   "cell_type": "code",
   "execution_count": 3,
   "metadata": {},
   "outputs": [],
   "source": [
    "# %load_ext autoreload\n",
    "# %autoreload 2\n",
    "%reload_ext autoreload"
   ]
  },
  {
   "cell_type": "code",
   "execution_count": 4,
   "metadata": {},
   "outputs": [
    {
     "data": {
      "text/plain": [
       "<module 'tools' from 'c:\\\\Users\\\\chois\\\\Desktop\\\\OpenAI_SKT\\\\openai_skt\\\\tutorials\\\\..\\\\tools\\\\__init__.py'>"
      ]
     },
     "execution_count": 4,
     "metadata": {},
     "output_type": "execute_result"
    }
   ],
   "source": [
    "from importlib import reload\n",
    "import tools\n",
    "reload(tools)"
   ]
  },
  {
   "cell_type": "code",
   "execution_count": 3,
   "metadata": {},
   "outputs": [],
   "source": [
    "from tools import DatabaseTool, SearchTool, SearchByURLTool, TimeTool\n",
    "from models.llm.chain import SummaryChunkChain"
   ]
  },
  {
   "cell_type": "code",
   "execution_count": 4,
   "metadata": {},
   "outputs": [],
   "source": [
    "summary_chunk_template = '''\n",
    "I want you to answer the question from the given documentation. \n",
    "There may be a lot of information in a given document that is not relevant to your question, but you should try to find as much relevant information as possible.\n",
    "Be as diligent as possible in returning your answer based on your knowledge and documentation.\n",
    "If there is no answer in the document, return \"No useful information\".\n",
    "\n",
    "Document: {document}\n",
    "Question: {question}\n",
    "Answer:\n",
    "'''"
   ]
  },
  {
   "cell_type": "code",
   "execution_count": 5,
   "metadata": {},
   "outputs": [],
   "source": [
    "summary_chunk_chain = SummaryChunkChain(summary_chunk_template=summary_chunk_template, input_variables=[\"question\", \"document\"], verbose=True)\n",
    "search_by_url_tool = SearchByURLTool()"
   ]
  },
  {
   "cell_type": "code",
   "execution_count": 8,
   "metadata": {},
   "outputs": [],
   "source": [
    "from langchain.agents import Tool\n",
    "from langchain.utilities import SerpAPIWrapper\n",
    "\n",
    "# You can create the tool to pass to an agent\n",
    "search = SerpAPIWrapper(params={\n",
    "        \"engine\": \"google\",\n",
    "        \"google_domain\": \"google.com\",\n",
    "        \"gl\": \"kr\",\n",
    "        \"hl\": \"ko\",\n",
    "        })\n",
    "search_tool = Tool(\n",
    "    name=\"search_tool\",\n",
    "    description=\"A tool to search on internet.\",\n",
    "    func=search.run,\n",
    ")"
   ]
  },
  {
   "cell_type": "code",
   "execution_count": 6,
   "metadata": {},
   "outputs": [],
   "source": [
    "database_tool = DatabaseTool(summary_chunk_chain=summary_chunk_chain)\n",
    "search_tool = SearchTool(summary_chunk_chain=summary_chunk_chain, search_by_url_tool=search_by_url_tool)\n",
    "time_tool = TimeTool()"
   ]
  },
  {
   "cell_type": "code",
   "execution_count": 7,
   "metadata": {},
   "outputs": [],
   "source": [
    "tools = [database_tool, search_tool, time_tool]"
   ]
  },
  {
   "cell_type": "code",
   "execution_count": 8,
   "metadata": {},
   "outputs": [],
   "source": [
    "from database import CustomEmbedChain\n",
    "embed_chain = CustomEmbedChain()"
   ]
  },
  {
   "cell_type": "code",
   "execution_count": 9,
   "metadata": {},
   "outputs": [],
   "source": [
    "from database import DataBase"
   ]
  },
  {
   "cell_type": "code",
   "execution_count": null,
   "metadata": {},
   "outputs": [],
   "source": [
    "database = DataBase.load_by_json(database_path='./user/test_2/database.json', embed_chain=embed_chain) # optimize: 5m22s # 4m18s 3m4s 3m2s"
   ]
  },
  {
   "cell_type": "code",
   "execution_count": 18,
   "metadata": {},
   "outputs": [],
   "source": [
    "import pickle\n",
    "\n",
    "with open(\"database_save_path.pkl\", \"wb\") as f:\n",
    "    pickle.dump(database, f)\n",
    "\n",
    "# with open(\"database_save_path.pkl\", \"rb\") as f:\n",
    "#     database = pickle.load(f)\n"
   ]
  },
  {
   "cell_type": "markdown",
   "metadata": {},
   "source": [
    "### Set Agent"
   ]
  },
  {
   "cell_type": "code",
   "execution_count": 14,
   "metadata": {},
   "outputs": [],
   "source": [
    "from models.llm.qna_agent import QnAAgent"
   ]
  },
  {
   "cell_type": "code",
   "execution_count": 15,
   "metadata": {},
   "outputs": [],
   "source": [
    "qna_agent = QnAAgent(tools=tools, verbose=True, qna_prompt_path='../../openai_skt/models/templates/qna_prompt_template.txt', model='gpt-4')"
   ]
  },
  {
   "cell_type": "code",
   "execution_count": 16,
   "metadata": {},
   "outputs": [
    {
     "name": "stdout",
     "output_type": "stream",
     "text": [
      "\n",
      "\n",
      "\u001b[1m> Entering new AgentExecutor chain...\u001b[0m\n",
      "\n",
      "\n",
      "\u001b[1m> Entering new LLMChain chain...\u001b[0m\n",
      "Prompt after formatting:\n",
      "\u001b[32;1m\u001b[1;3mAnswer the following questions as best you can. Use a variety of tools to answer the questions. You have access to the following tools:\n",
      "\n",
      "database: A tool to get data with from database. The input consists of a 'query' and a 'question', where 'query' is the search query and 'question' is the information you want to get. For example, {'query': 'bitcoin price history', 'question': 'what was the price of bitcoin in 2022?'} would be the input if you want to know the price of bitcoin in 2022. Input must contain both a query and a question.\n",
      "search_tool: A tool to search on internet. The input consists of a 'query' and a 'question', where 'query' is the search query and 'question' is the information you want to get. For example, {'query': 'bitcoin price history', 'question': 'what was the price of bitcoin in 2022?'} would be the input if you want to know the price of bitcoin in 2022. Input must contain both a query and a question.\n",
      "Time Tool: Tool to get current time. There is no input\n",
      "\n",
      "\n",
      "Use the following format:\n",
      "\n",
      "Question: the input question you must answer\n",
      "Thought: you should always think about what to do\n",
      "Action: the action to take, should be one of [database, search_tool, Time Tool]\n",
      "Action Input: the input to the action\n",
      "Observation: the result of the action\n",
      "... (this Thought/Action/Action Input/Observation can repeat N times)\n",
      "Thought: I now know the final answer or I do not know the final answer\n",
      "Final Answer: the final answer to the input question. The final answer must be Korean\n",
      "\n",
      "Begin!\n",
      "\n",
      "\n",
      "Question: 오늘 제주도 날씨가 어때요?\n",
      "Thought:\u001b[0m\n",
      "\n",
      "\u001b[1m> Finished chain.\u001b[0m\n",
      "\u001b[32;1m\u001b[1;3m인터넷에서 오늘의 제주도 날씨 정보를 찾아야 한다.\n",
      "Action: search_tool\n",
      "Action Input: {'query': '오늘 제주도 날씨', 'question': '오늘 제주도 날씨가 어때요?'}\u001b[0m\n",
      "\n",
      "\u001b[1m> Entering new LLMChain chain...\u001b[0m\n",
      "Prompt after formatting:\n",
      "\u001b[32;1m\u001b[1;3m\n",
      "I want you to answer the question from the given documentation. \n",
      "There may be a lot of information in a given document that is not relevant to your question, but you should try to find as much relevant information as possible.\n",
      "Be as diligent as possible in returning your answer based on your knowledge and documentation.\n",
      "If there is no answer in the document, return \"No useful information\".\n",
      "\n",
      "Document: 제주시, 제주도, 대한민국 3일 날씨 예보 | AccuWeather 돌아가기 제주시, 제주도 22° C 현재 위치 사용 최신 제주시 제주도 22° 결과를 찾을 수 없습니다. 도시나 우편번호, 관심 지역을 검색해 보세요. 설정 제주시, 제주도 날씨 오늘 WinterCast 지역 {stormName} 추적기 시간별 일별 레이더 MinuteCast 월 대기질 건강 및 활동 전 세계 허리케인 악천후 기상 레이더 및 지도 동영상 오늘 시간별 일별 레이더 MinuteCast 월 대기질 건강 및 활동 현재 기상 AM 3:42 22° C RealFeel®\n",
      "\t\t\t\t\t\t21° 대기질 보통 바람 남 11km/h 돌풍 11km/h 맑음 추가 상세 정보 현재 대기질 일요일 9. 10. 46 AQI 보통 대기질이 대부분의 사람들에게 대체로 적합합니다. 그러나 장시간 노출될 경우 민감군은 경미하거나 중간 수준의 관련 증상을 보일 수 있습니다. 현재 오염물질 기준 추가 상세 정보 상세 정보: 현재 대기질 AcuuWeather의 현재 대기질 지수(AQI)는 여러분이 숨쉬는 공기의 질과 건강에 미치는 영향에 대한 정보를 제공합니다. AccuWeather는 공기의 청결도와 건강에 영향을 미치는 오염 물질 6종 이상을 추적합니다. 건강 및 활동 모두 보기 먼지와 분비물 높음 The risk of dust and dander allergy symptoms is high. Be sure you're vacuuming with a HEPA-approved filter. 관절염 보통 The risk of experiencing weather-related arthritis pain is moderate. Stay hydrated and stretch to help avoid arthritis symptoms. 부비동 압력 높음 The risk of weather-related sinus pressure is high. Taking a hot shower may help ease sinus pressure. 감기 낮음 The risk of catching a cold is low. 독감 낮음 The risk of catching the flu is low. 편두통 낮음 The risk of suffering from a weather-related migraine is low. 천식 높음 The risk of asthma symptoms is high. Be sure to use HEPA filters in your home to cut down on indoor asthma triggers. 낚시 나쁨 Fishing conditions are poor. 달리기 좋음 Conditions for running are good. Be sure to wear sunscreen and UV-protective activewear. 골프 좋음 Conditions for golfing are good. Wear sunscreen while out on the course. 바이킹 및 사이클링 좋음 Conditions for cycling are good. Stay hydrated to make the most of your ride. 해변 및 수영장 좋음 Conditions for a day at the beach or pool are good. Be sure to wear sunscreen and UV-protective clothing when spending time outdoors. 별 관측 나쁨 Conditions for stargazing are poor. 하이킹 좋음 Conditions for hiking are good. Stay hydrated and bring enough water to last the entire hike. 잔디깎기 좋음 Conditions for lawn mowing are good. Alternating mowing patterns can help all areas of your lawn grow. 부식 좋음 Composting conditions are good. Make sure you frequently add water to your compost to keep it moist. 야외 오락 좋음 Conditions for outdoor entertaining will be good. Make sure you have shade available, so guests do not overheat. 항공 여행 이상적 Conditions for flying are ideal. Have a safe trip. 운전 보통 Conditions for driving are fair. Keep up with your car maintenance, such as inspecting your windshield wipers and checking your tire treads. 모기 극심함 The risk for mosquito activity are extremely high. Wear long-sleeved shirts and pants when spending time outdoors to prevent bites. 실내 해충 매우 높음 The risk for pest activity is high. Consider an EPA-registered repellent to deter bites. 야외 해충 극심함 The risk for pest activity is extremely high. Eliminate standing water in rain gutters, buckets, and in tires where pests can breed. 모두 보기 오늘 9. 10. 29° 최고 RealFeel® 31° 대체로 흐림 오늘 밤 9. 10. 23° 최저 RealFeel® 22° 대체로 흐리고 밤 늦게 소나기가 내림 내일 9. 11. 30° / 24° RealFeel® 34° 오전 중 때때로 소나기; 구름이 줄어들고 습함 제주시 기상 레이더 추가 지도 Static Radar Temporar\n",
      "Question: 오늘 제주도 날씨가 어때요?\n",
      "Answer:\n",
      "\u001b[0m\n",
      "\n",
      "\u001b[1m> Finished chain.\u001b[0m\n",
      "\n",
      "\n",
      "Observation:\u001b[33;1m\u001b[1;3m오늘 제주도의 날씨는 대체로 흐리고 밤 늦게 소나기가 내릴 것으로 예상됩니다. 최고 기온은 29°C이며, 최저 기온은 23°C입니다.\u001b[0m\n",
      "\n",
      "\n",
      "\u001b[1m> Entering new LLMChain chain...\u001b[0m\n",
      "Prompt after formatting:\n",
      "\u001b[32;1m\u001b[1;3mAnswer the following questions as best you can. Use a variety of tools to answer the questions. You have access to the following tools:\n",
      "\n",
      "database: A tool to get data with from database. The input consists of a 'query' and a 'question', where 'query' is the search query and 'question' is the information you want to get. For example, {'query': 'bitcoin price history', 'question': 'what was the price of bitcoin in 2022?'} would be the input if you want to know the price of bitcoin in 2022. Input must contain both a query and a question.\n",
      "search_tool: A tool to search on internet. The input consists of a 'query' and a 'question', where 'query' is the search query and 'question' is the information you want to get. For example, {'query': 'bitcoin price history', 'question': 'what was the price of bitcoin in 2022?'} would be the input if you want to know the price of bitcoin in 2022. Input must contain both a query and a question.\n",
      "Time Tool: Tool to get current time. There is no input\n",
      "\n",
      "\n",
      "Use the following format:\n",
      "\n",
      "Question: the input question you must answer\n",
      "Thought: you should always think about what to do\n",
      "Action: the action to take, should be one of [database, search_tool, Time Tool]\n",
      "Action Input: the input to the action\n",
      "Observation: the result of the action\n",
      "... (this Thought/Action/Action Input/Observation can repeat N times)\n",
      "Thought: I now know the final answer or I do not know the final answer\n",
      "Final Answer: the final answer to the input question. The final answer must be Korean\n",
      "\n",
      "Begin!\n",
      "\n",
      "\n",
      "Question: 오늘 제주도 날씨가 어때요?\n",
      "Thought:인터넷에서 오늘의 제주도 날씨 정보를 찾아야 한다.\n",
      "Action: search_tool\n",
      "Action Input: {'query': '오늘 제주도 날씨', 'question': '오늘 제주도 날씨가 어때요?'}\n",
      "Observation: 오늘 제주도의 날씨는 대체로 흐리고 밤 늦게 소나기가 내릴 것으로 예상됩니다. 최고 기온은 29°C이며, 최저 기온은 23°C입니다.\n",
      "Thought: \u001b[0m\n",
      " 오늘 제주도의 날씨는 대체로 흐리고 밤 늦게 소나기가 내릴 것으로 예상됩니다. 최고 기온은 29°C이며, 최저 기온은 23°C입니다.\n",
      "\u001b[1m> Finished chain.\u001b[0m\n",
      "\u001b[32;1m\u001b[1;3m이제 최종 답변을 알고 있다.\n",
      "Final Answer: 오늘 제주도의 날씨는 대체로 흐리고 밤 늦게 소나기가 내릴 것으로 예상됩니다. 최고 기온은 29°C이며, 최저 기온은 23°C입니다.\u001b[0m\n",
      "\n",
      "\u001b[1m> Finished chain.\u001b[0m\n"
     ]
    }
   ],
   "source": [
    "answer = qna_agent.run(database=database, query=\"오늘 제주도 날씨가 어때요?\")"
   ]
  },
  {
   "cell_type": "code",
   "execution_count": 18,
   "metadata": {},
   "outputs": [],
   "source": [
    "from langchain.agents import load_tools\n",
    "tools = load_tools([\"serpapi\"])"
   ]
  },
  {
   "cell_type": "code",
   "execution_count": 19,
   "metadata": {},
   "outputs": [
    {
     "data": {
      "text/plain": [
       "{'google_search': [{'title': '비트코인 3500만 원대 공방, 비트코인 하락세 멈추고 4700 ...',\n",
       "   'description': '[비즈니스포스트]비트코인 시세가 3500만 원대에 머물렀다.비트코인 가격 하락세가 끝나고 2024년 반감기에는 4700만 원대로 올라설 것이라는 전망이 ...',\n",
       "   'data_type': 'web_page',\n",
       "   'data_path': 'https://www.businesspost.co.kr/BP?command=article_view&num=325199'},\n",
       "  {'title': \"'9월 하락 징크스' 비트코인, 이더리움과 리플 전망은?\",\n",
       "   'description': '비트코인(Bitcoin, BTC)은 8월 이후 12.3% 하락한 2만 5700달러, ... 연중 고점을 회복한 순간 단기 보유자 투자 심리 회복이 기대된다고 전망했다.',\n",
       "   'data_type': 'web_page',\n",
       "   'data_path': 'https://www.blockmedia.co.kr/archives/364701'}]}"
      ]
     },
     "execution_count": 19,
     "metadata": {},
     "output_type": "execute_result"
    }
   ],
   "source": [
    "search_tool.search(query=\"비트코인 전망\", category='google')"
   ]
  }
 ],
 "metadata": {
  "kernelspec": {
   "display_name": "openai_skt",
   "language": "python",
   "name": "python3"
  },
  "language_info": {
   "codemirror_mode": {
    "name": "ipython",
    "version": 3
   },
   "file_extension": ".py",
   "mimetype": "text/x-python",
   "name": "python",
   "nbconvert_exporter": "python",
   "pygments_lexer": "ipython3",
   "version": "3.11.4"
  },
  "orig_nbformat": 4
 },
 "nbformat": 4,
 "nbformat_minor": 2
}
