{
 "cells": [
  {
   "cell_type": "code",
   "execution_count": 1,
   "metadata": {},
   "outputs": [],
   "source": [
    "import sys\n",
    "sys.path.append('..')"
   ]
  },
  {
   "cell_type": "markdown",
   "metadata": {},
   "source": [
    "### Set OpenAI key "
   ]
  },
  {
   "cell_type": "code",
   "execution_count": 2,
   "metadata": {},
   "outputs": [],
   "source": [
    "import os\n",
    "import configparser\n",
    "\n",
    "config = configparser.ConfigParser()\n",
    "config.read('../../.secrets.ini')\n",
    "OPENAI_API_KEY = config['OPENAI']['OPENAI_API_KEY']\n",
    "YOUTUBE_KEY = config['YOUTUBE']['YOUTUBE_API_KEY']\n",
    "NAVER_CLIENT_ID = config['NAVER']['NAVER_CLIENT_ID']\n",
    "NAVER_CLIENT_SECRET = config['NAVER']['NAVER_CLIENT_SECRET']\n",
    "GOOGLE_SEARCH_KEY = config['GOOGLE']['GOOGLE_API_KEY']\n",
    "CSE_ID = config['GOOGLE']['CSE_ID']\n",
    "SERPAPI_API_KEY = config['SERPAPI']['SERPAPI_API_KEY']\n",
    "\n",
    "\n",
    "os.environ.update({'OPENAI_API_KEY': OPENAI_API_KEY})\n",
    "os.environ.update({'YOUTUBE_KEY': YOUTUBE_KEY})\n",
    "os.environ.update({'NAVER_CLIENT_ID': NAVER_CLIENT_ID})\n",
    "os.environ.update({'NAVER_CLIENT_SECRET': NAVER_CLIENT_SECRET})\n",
    "os.environ.update({'GOOGLE_SEARCH_KEY': GOOGLE_SEARCH_KEY})\n",
    "os.environ.update({'CSE_ID': CSE_ID})\n",
    "os.environ.update({'SERPAPI_API_KEY': SERPAPI_API_KEY})"
   ]
  },
  {
   "cell_type": "markdown",
   "metadata": {},
   "source": [
    "### Get tools"
   ]
  },
  {
   "cell_type": "code",
   "execution_count": 3,
   "metadata": {},
   "outputs": [],
   "source": [
    "# %load_ext autoreload\n",
    "# %autoreload 2\n",
    "%reload_ext autoreload"
   ]
  },
  {
   "cell_type": "code",
   "execution_count": 4,
   "metadata": {},
   "outputs": [
    {
     "data": {
      "text/plain": [
       "<module 'tools' from 'c:\\\\Users\\\\chois\\\\Desktop\\\\OpenAI_SKT\\\\openai_skt\\\\tutorials\\\\..\\\\tools\\\\__init__.py'>"
      ]
     },
     "execution_count": 4,
     "metadata": {},
     "output_type": "execute_result"
    }
   ],
   "source": [
    "from importlib import reload\n",
    "import tools\n",
    "reload(tools)"
   ]
  },
  {
   "cell_type": "code",
   "execution_count": 3,
   "metadata": {},
   "outputs": [],
   "source": [
    "from tools import DatabaseTool, SearchTool, SearchByURLTool, TimeTool\n",
    "from models.llm.chain import SummaryChunkChain"
   ]
  },
  {
   "cell_type": "code",
   "execution_count": 4,
   "metadata": {},
   "outputs": [],
   "source": [
    "summary_chunk_template = '''\n",
    "I want you to answer the question from the given documentation. \n",
    "There may be a lot of information in a given document that is not relevant to your question, but you should try to find as much relevant information as possible.\n",
    "Be as diligent as possible in returning your answer based on your knowledge and documentation.\n",
    "If there is no answer in the document, return \"No useful information\".\n",
    "\n",
    "Document: {document}\n",
    "Question: {question}\n",
    "Answer:\n",
    "'''"
   ]
  },
  {
   "cell_type": "code",
   "execution_count": 5,
   "metadata": {},
   "outputs": [],
   "source": [
    "summary_chunk_chain = SummaryChunkChain(summary_chunk_template=summary_chunk_template, input_variables=[\"question\", \"document\"], verbose=True)\n",
    "search_by_url_tool = SearchByURLTool()"
   ]
  },
  {
   "cell_type": "code",
   "execution_count": 8,
   "metadata": {},
   "outputs": [],
   "source": [
    "from langchain.agents import Tool\n",
    "from langchain.utilities import SerpAPIWrapper\n",
    "\n",
    "# You can create the tool to pass to an agent\n",
    "search = SerpAPIWrapper(params={\n",
    "        \"engine\": \"google\",\n",
    "        \"google_domain\": \"google.com\",\n",
    "        \"gl\": \"kr\",\n",
    "        \"hl\": \"ko\",\n",
    "        })\n",
    "search_tool = Tool(\n",
    "    name=\"search_tool\",\n",
    "    description=\"A tool to search on internet.\",\n",
    "    func=search.run,\n",
    ")"
   ]
  },
  {
   "cell_type": "code",
   "execution_count": 6,
   "metadata": {},
   "outputs": [],
   "source": [
    "database_tool = DatabaseTool(summary_chunk_chain=summary_chunk_chain)\n",
    "search_tool = SearchTool(summary_chunk_chain=summary_chunk_chain, search_by_url_tool=search_by_url_tool)\n",
    "time_tool = TimeTool()"
   ]
  },
  {
   "cell_type": "code",
   "execution_count": 7,
   "metadata": {},
   "outputs": [],
   "source": [
    "tools = [database_tool, search_tool, time_tool]"
   ]
  },
  {
   "cell_type": "code",
   "execution_count": 8,
   "metadata": {},
   "outputs": [],
   "source": [
    "from database import CustomEmbedChain\n",
    "embed_chain = CustomEmbedChain()"
   ]
  },
  {
   "cell_type": "code",
   "execution_count": 10,
   "metadata": {},
   "outputs": [],
   "source": [
    "from database import DataBase"
   ]
  },
  {
   "cell_type": "code",
   "execution_count": null,
   "metadata": {},
   "outputs": [],
   "source": [
    "database = DataBase.load(database_path='./user/test_2/database.json', embed_chain=embed_chain) # optimize: 5m22s # 4m18s 3m4s 3m2s"
   ]
  },
  {
   "cell_type": "code",
   "execution_count": 19,
   "metadata": {},
   "outputs": [],
   "source": [
    "import pickle\n",
    "\n",
    "# with open(\"database_save_path.pkl\", \"wb\") as f:\n",
    "#     pickle.dump(database, f)\n",
    "\n",
    "with open(\"database_save_path.pkl\", \"rb\") as f:\n",
    "    database = pickle.load(f)\n",
    "database.set_embed_chain(embed_chain)\n"
   ]
  },
  {
   "cell_type": "markdown",
   "metadata": {},
   "source": [
    "### Set Agent"
   ]
  },
  {
   "cell_type": "code",
   "execution_count": 13,
   "metadata": {},
   "outputs": [],
   "source": [
    "from models.llm.qna_agent import QnAAgent"
   ]
  },
  {
   "cell_type": "code",
   "execution_count": 14,
   "metadata": {},
   "outputs": [],
   "source": [
    "qna_agent = QnAAgent(tools=tools, verbose=True, qna_prompt_path='../../openai_skt/models/templates/qna_prompt_template.txt', model='gpt-4')"
   ]
  },
  {
   "cell_type": "code",
   "execution_count": 20,
   "metadata": {},
   "outputs": [],
   "source": [
    "database_tool = DatabaseTool(summary_chunk_chain=summary_chunk_chain)\n",
    "database_tool.set_database(database=database)\n",
    "tools = [database_tool, search_tool, time_tool]"
   ]
  },
  {
   "cell_type": "code",
   "execution_count": 22,
   "metadata": {},
   "outputs": [
    {
     "name": "stdout",
     "output_type": "stream",
     "text": [
      "\n",
      "\n",
      "\u001b[1m> Entering new AgentExecutor chain...\u001b[0m\n",
      "\n",
      "\n",
      "\u001b[1m> Entering new LLMChain chain...\u001b[0m\n",
      "Prompt after formatting:\n",
      "\u001b[32;1m\u001b[1;3mAnswer the following questions as best you can. Use a variety of tools to answer the questions. You have access to the following tools:\n",
      "\n",
      "database: A tool to get data with from database. The input consists of a 'query' and a 'question', where 'query' is the search query and 'question' is the information you want to get. For example, {'query': 'bitcoin price history', 'question': 'what was the price of bitcoin in 2022?'} would be the input if you want to know the price of bitcoin in 2022. Input must contain both a query and a question.\n",
      "search_tool: A tool to search on internet. The input consists of a 'query' and a 'question', where 'query' is the search query and 'question' is the information you want to get. For example, {'query': 'bitcoin price history', 'question': 'what was the price of bitcoin in 2022?'} would be the input if you want to know the price of bitcoin in 2022. Input must contain both a query and a question.\n",
      "Time Tool: Tool to get current time. There is no input\n",
      "\n",
      "\n",
      "Use the following format:\n",
      "\n",
      "Question: the input question you must answer\n",
      "Thought: you should always think about what to do\n",
      "Action: the action to take, should be one of [database, search_tool, Time Tool]\n",
      "Action Input: the input to the action\n",
      "Observation: the result of the action\n",
      "... (this Thought/Action/Action Input/Observation can repeat N times)\n",
      "Thought: I now know the final answer or I do not know the final answer\n",
      "Final Answer: the final answer to the input question. The final answer must be Korean\n",
      "\n",
      "Begin!\n",
      "\n",
      "\n",
      "Question: 오늘 비트코인 가격이 얼마야?\n",
      "Thought:\u001b[0m\n",
      "비트코인의 가격은 실시간으로 변동하기 때문에 인터넷에서 검색해야 할 것 같다.\n",
      "Action: search_tool\n",
      "Action Input: {'query': 'current bitcoin price', 'question': 'what is the current price of bitcoin?'}\n",
      "\u001b[1m> Finished chain.\u001b[0m\n",
      "\u001b[32;1m\u001b[1;3m비트코인의 가격은 실시간으로 변동하기 때문에 인터넷에서 검색해야 할 것 같다.\n",
      "Action: search_tool\n",
      "Action Input: {'query': 'current bitcoin price', 'question': 'what is the current price of bitcoin?'}\u001b[0m\n",
      "\n",
      "\u001b[1m> Entering new LLMChain chain...\u001b[0m\n",
      "Prompt after formatting:\n",
      "\u001b[32;1m\u001b[1;3m\n",
      "I want you to answer the question from the given documentation. \n",
      "There may be a lot of information in a given document that is not relevant to your question, but you should try to find as much relevant information as possible.\n",
      "Be as diligent as possible in returning your answer based on your knowledge and documentation.\n",
      "If there is no answer in the document, return \"No useful information\".\n",
      "\n",
      "Document: Bitcoin Price | BTC Price Index and Live Chart - CoinDesk Crypto Prices CoinDesk Market Index TV & Videos Newsletters Podcasts Consensus Magazine Learn Bitcoin Calculator Events Webinars Indices About Markets Finance Technology Web3 Policy CoinDesk Studios Sponsored Content Upcoming Events Consensus Registration Officially Open! TV & Videos TV & Videos First Mover The Hash All About Bitcoin Money Reimagined Community Crypto View all shows Watch On Twitter Facebook Newsletters Sign up for our newsletters See All Newsletters The SBF Trial Daily recaps from crypto’s biggest trial. First Mover The latest moves in crypto markets, in context. The Node The biggest crypto news and ideas of the day. State of Crypto Probing the intersection of crypto and government. The Protocol Exploring the tech behind crypto. Crypto Long & Short News and analysis for the professional investor. Crypto for Advisors What financial advisors need to know about crypto. Money Reimagined The transformation of value in the digital age. Enter your Email Subscribe By signing up, you will receive emails about CoinDesk products and you agree to our terms & conditions and privacy policy . Podcasts Podcasts CoinDesk Podcast Network The Hash Markets Daily Money Reimagined The Breakdown, With NLW Carpe Consensus Crypto Crooks Women Who Web3 Gen C Events Events Go to Consensus 2024 Site Consensus 2023 Videos Consensus 2022 Videos Indices Indices Bitcoin Price Index (XBX) Ether Price Index (ETX) Basic Attention Token Price Index (BTX) Bitcoin Cash Price Index (BCX) Cardano Price Index (ADX) Crypto Prices CoinDesk Market Index TV & Videos Newsletters Podcasts Consensus Magazine Learn Bitcoin Calculator Events Webinars Indices About Markets Finance Technology Web3 Policy CoinDesk Studios Sponsored Content Chevrone Right Icon Upcoming Events Consensus Registration Officially Open! Markets Markets On-Chain Data Token Governance Bitcoin Ether First Mover Finance Finance FTX SBF NFTs Coinbase Business Policy Policy Regulations Bankruptcy SEC FTX CFTC Technology Technology Protocol Village Token Governance DeFi Blockchains Hacks Web3 Web3 Yuga Labs NFTs Metaverse Dao Gaming Learn Learn NFTs Bitcoin Ethereum Cryptocurrency Investing Crash Courses Bitcoin 101 DeFi 101 Ethereum 101 NFT 101 Price Data 101 Consensus Magazine Consensus Magazine Crypto Hubs 2023 Consensus @ Consensus Projects to Watch 2023 Tax Guide 2023 Culture Week Most Recent Issue Sponsored Content Sponsored Content NEAR Gate.US abra Matrixport SocialGood Tron Bitcoin $ 25,838.23 -0.12% Ethereum $ 1,624.77 -0.58% Binance Coin $ 212.63 -1.01% XRP $ 0.50015185 -0.60% Dogecoin $ 0.06174570 -3.00% Cardano $ 0.24741000 -3.01% Solana $ 18.31 -6.38% Tron $ 0.07868055 -0.59% Toncoin $ 1.75 -2.09% Polkadot $ 4.17 -2.26% Polygon $ 0.52540842 -3.28% Litecoin $ 61.75 -1.72% Shiba Inu $ 0.00000743 -2.49% Wrapped Bitcoin $ 25,991.22 -0.37% Bitcoin Cash $ 187.78 -2.12% UNUS SED LEO $ 3.86 + 0.80% Stellar $ 0.12870135 -0.92% Avalanche $ 9.46 -4.49% Chainlink $ 6.07 -3.14% Uniswap $ 4.23 -2.85% TrueUSD $ 0.99842009 -0.08% Binance USD $ 1.00 + 0.07% Monero $ 143.04 -0.02% OKB $ 41.48 -1.91% Ethereum Classic $ 15.04 -2.96% Cosmos $ 6.69 -2.30% Hedera $ 0.04806960 -4.11% Quant $ 98.26 -0.99% Filecoin $ 3.15 -2.83% Internet Computer $ 3.15 -4.42% Cronos $ 0.05172405 -2.17% Lido DAO $ 1.50 -2.49% Aptos $ 5.27 -4.41% VeChain $ 0.01537182 -2.10% Arbitrum $ 0.87298649 -2.97% NEAR Protocol $ 1.14 -1.80% Maker $ 1,118.53 -2.61% Optimism $ 1.26 -2.75% Kaspa $ 0.03907418 -1.30% Aave $ 54.66 -3.21% The Graph $ 0.08454528 -3.50% XDC Network $ 0.05445293 -1.87% USDD $ 0.99686356 + 0.05% Algorand $ 0.09206874 -4.32% Synthetix $ 2.11 -2.82% Tezos $ 0.68000000 -2.30% Radix $ 0.06192356 -3.52% Stacks $ 0.44985745 -3.26% EOS $ 0.56360000 -2.92% MultiverseX $ 23.73 -3.82% The Sandbox $ 0.29577214 -2.99% Theta $ 0.60889304 -4.69% Immutable X $ 0.51844131 -4.75% Axie Infinity $ 4.46 -2.28% Bitcoin SV $ 30.08 -2.11% Injective Protocol $ 6.60 -1.52% Render Token $ 1.46 -0.93% Fantom $ 0.19237876 -4.62% GateToken $ 3.88 -0.01% Decentraland $ 0.28585227 -3.03% Paxos Dollar $ 0.99817397 + 0.00% NEO $ 7.09 -4.39% Kava.io $ 0.65824975 -2.61% IOTA $ 0.17199256 -5.34% PAX Gold $ 1,902.60 -0.24% ApeCoin $ 1.27 -4.36% THORChain $ 1.54 -3.03% Rocket Pool $ 23.09 -0.98% eCash $ 0.00002276 -2.55% Flow $ 0.42358913 -2.45% Klaytn $ 0.13135749 -1.52% Chiliz $ 0.05755232 -2.99% KuCoin Token $ 4.15 + 0.52% Gala $ 0.01488292 -7.85% Huobi Token $ 2.42 -0.78% Frax Share $ 5.25 -4.07% BitTorrent $ 0.00000040 -0.92% Casper $ 0.03344550 -2.07% Curve DAO Token $ 0.43133180 -2.03% Sui $ 0.46184760 -4.25% Mina $ 0.37708882 -0.55% Luna Classic $ 0.00005965 -2.23% dYdX $ 1.94 -0.63% Nexo $ 0.58233915 + 0.00% Trust Wallet Token $ 0.78126584 -2.00% Astar $ 0.05926423 -2.11% Gemini Dollar $ 1.01 + 0.06% Dash $ 25.91 -1.65% Flare $ 0.01250349 -0.53% GMX $ 31.87 -4.66% PancakeSwap $ 1.23 -1.16% Woo Network $ 0.15611283 -3.61% Zilliqa $ 0.01599141 -3.41% Arweave $ 4.13 -3.21% Gnosis $ 100.58 -1.34% Conflux $ 0.12170341 -3.42% Compound $ 37.07 -7.45% SafePal $ 0.59418104 -5.35% tomiNet $ 3.32 -2.55% Basic Attention Token $ 0.16606000 -2.70% 1inch Network $ 0.23864791 -3.46% Enjin $ 0.23982274 -4.82% Illuvium $ 40.61 -2.03% Fetch.ai $ 0.22440878 -5.89% Loopring $ 0.18708904 -1.58% SingularityNET $ 0.18082935 -3.37% Bitcoin Gold $ 12.55 -0.01% Qtum $ 2.09 -3.99% Akash Network $ 1.00 -0.36% NEM $ 0.02410588 -3.18% Celo $ 0.42233088 -2.74% SEI $ 0.11962740 -5.76% Bone ShibaSwap $ 0.92454107 -0.93% Osmosis $ 0.34243521 -2.22% Mask Network $ 2.52 -3.22% Convex Finance $ 2.54 -0.65% Decred $ 13.17 -1.27% Zcash $ 24.86 -1.66% Helium $ 1.39 -4.17% Oasis Network $ 0.03909460 -2.82% Ethereum Name Service $ 7.51 -2.27% Holo $ 0.00106161 -1.39% Ankr $ 0.01835906 -3.85% Stepn $ 0.15444622 -4.54% Beldex $ 0.03249472 -0.96% Wemix $ 0.56800068 + 0.54% Livepeer $ 6.17 -9.22% Baby Doge Coin $ 0.00000000 -1.14% Ravencoin $ 0.01475458 -2.93% Yearn Finance $ 5,283.32 -4.96% JasmyCoin $ 0.00360372 -7.50% Aragon $ 4.30 -1.60% FLOKI $ 0.00001687 -4.86% Audius $ 0.15046333 -4.56% Kusama $ 18.61 -3.18% Golem $ 0.16403472 -0.94% BLUR $ 0.17878545 -5.24% ICON $ 0.16376574 -1.62% Waves $ 1.56 -6.54% Terra 2.0/LUNA $ 0.40778841 -4.76% SXP $ 0.25976819 -6.18% Ribbon Finance $ 0.18426688 -1.05% EthereumPoW $ 1.34 -2.21% Balancer $ 3.33 -1.37% Siacoin $ 0.00278118 -1.19% Worldcoin $ 1.09 -4.87% IoTeX $ 0.01469570 -6.12% Ocean Protocol $ 0.31652439 -4.05% Biconomy $ 0.20676260 -2.65% Axelar $ 0.34604070 + 0.01% Band Protocol $ 1.01 -5.04% Merit Circle $ 0.28474663 -2.48% Moonbeam $ 0.18022386 -1.91% Wax $ 0.03801157 -3.47% Kadena $ 0.50920199 -3.88% Harmony $ 0.00955992 -3.06% TerraUSD $ 0.01198482 -0.37% Polymath Network $ 0.12440000 -3.42% Sushiswap $ 0.57718621 -4.80% MAGIC $ 0.46770335 -7.86% Stargate Finance $ 0.53084703 -3.17% DigiByte $ 0.00652239 -3.16% Skale $ 0.02279894 -3.24% UMA Protocol $ 1.44 + 0.13% Amp $ 0.00178768 -1.67% Lisk $ 0.69094250 -1.50% Horizen $ 6.94 -4.23% API3 $ 1.03 -4.42% Kyber Network $ 0.52498193 -4.05% Gains Network $ 3.09 -2.82% Nervos Network $ 0.00274482 -2.33% Cartesi $ 0.12381701 -12.29% OriginTrail $ 0.22569441 -4.42% Vulcan Forged PYR $ 3.59 -2.30% Core $ 0.53738106 -7.12% Status $ 0.02137613 -0.89% Nano $ 0.62693133 -1.27% Numeraire $ 13.07 -5.28% Joe $ 0.24057854 -6.53% PlayDapp $ 0.14322203 -2.66% Coin98 $ 0.13592288 -5.26% Dogelon Mars $ 0.00000014 -0.29% iExec RLC $ 1.02 -5.67% Bitgert $ 0.00000018 + 0.58% Liquity $ 0.77724886 -6.83% Steem $ 0.15469525 -1.47% Alchemy Pay $ 0.01377140 -6.85% Radworks $ 1.35 -1.86% Marlin $ 0.00805033 -1.46% Radiant Capital $ 0.21488418 -5.10% Celer Network $ 0.01146815 -8.06% Stella $ 0.07727703 -6.40% Synapse $ 0.33226142 -1.21% Sweat Economy $ 0.00808136 -0.58% Chromia $ 0.10755227 -7.00% OMG Network $ 0.44413531 -4.72% Syscoin $ 0.08665251 -2.45% Verge $ 0.00374426 + 9.31% SPACE ID $ 0.21358468 -0.37% Bancor $ 0.41048762 -4.47% WINkLink $ 0.00006172 -0.32% Dent $ 0.00061770 -2.36% My Neighbor Alice $ 0.75098494 -8.55% Celsius $ 0.13841669 -5.32% Smooth Love Potion $ 0.00140122 -2.04% Perpetual Protocol $ 0.79242908 -36.55% NKN $ 0.08824263 -8.10% Powerledger $ 0.13273635 -1.91% Artificial Liquid Intelligence $ 0.01583473 -0.62% Unifi Protocol DAO $ 7.88 -14.64% Gitcoin $ 0.92080967 -7.40% Civic $ 0.06831781 -1.92% Hashflow $ 0.31091812 -8.85% Secret $ 0.25684976 -1.27% Bifrost $ 0.03842991 -2.64% Stormx $ 0.00477806 -1.49% COTI $ 0.04273389 + 0.76% Galxe $ 1.12 -2.12% MOBOX $ 0.24017602 -2.24% Request $ 0.06538459 -0.92% Sun Token $ 0.00519000 -0.78% Bluzelle $ 0.11972374 -6.60% MetisDAO $ 11.15 -0.68% Spell Token $ 0.00039909 -4.15% Keep Network $ 0.08333695 -0.75% Origin Protocol $ 0.08897749 -6.74% ARPA $ 0.04538523 -1.26% Ren $ 0.04450425 -3.75% Covalent $ 0.07299314 -4.01% WazirX $ 0.09688007 -1.24% XYO Network $ 0.00306820 -2.32% Verasity $ 0.00409877 -0.30% Adventure Gold $ 0.54528301 -6.03% Gods Unchained $ 0.16846141 -3.27% Aavegotchi $ 0.78791058 -0.14% Boba Network $ 0.11787183 -2.16% Raydium $ 0.17435536 -3.33% Zebec Protocol $ 0.01167474 -2.83% Badger DAO $ 1.97 -2.10% Storj $ 0.26967891 + 10.67% Aergo $ 0.08800904 -2.64% Alien Worlds $ 0.01038027 -10.65% Yield Guild Games $ 0.20469315 -7.20% SuperRare $ 0.06084097 -3.76% Voyager Token $ 0.12568599 -12.92% Maple $ 4.53 -2.30% Acala Token $ 0.04379657 -2.15% Index Chain $ 0.04510830 -4.45% Orchid $ 0.05789732 -6.15% Rally $ 0.00681577 + 0.76% MOON $ 0.30957112 -2.63% Reef $ 0.00143288 -10.95% CEEK VR $ 0.03919462 -2.65% TrueFi $ 0.03049233 -8.45% RACA $ 0.00009573 -0.81% Moonriver $ 4.11 -3.44% GAS $ 2.24 -2.10% Ethernity $ 1.57 -1.13% Measurable Data Token $ 0.04884573 -7.06% Litentry $ 0.63169279 -13.39% LCX $ 0.03760205 -3.40% Saitama $ 0.00062856 -4.44% LooksRare $ 0.05164884 -7.16% Ampleforth Governance $ 2.88 + 1.79% Star Atlas DAO $ 0.11585456 -4.00% Polkastarter $ 0.25811089 -4.97% DIA $ 0.22970263 -3.36% Travala.com $ 0.46295414 -0.56% CLV $ 0.03146938 -4.13% Keep3rV1 $ 45.64 -4.45% Alchemix $ 11.17 -3.07% Aurora $ 0.06223318 + 16.63% Virtua $ 0.01983295 -3.17% League of Kingdoms Arena $ 0.18511948 -3.94% BENQI $ 0.00526212 -5.67% BarnBridge $ 2.22 -1.80% Enzyme $ 14.02 + 0.28% Alpaca Finance $ 0.13231939 -2.10% Star Atlas $ 0.00142713 -2.16% MXC $ 0.00810967 -3.93% Onyxcoin $ 0.00075909 -0.40% Kishu Inu $ 0.00000000 -3.44% district0x $ 0.02442999 + 1.10% Velas $ 0.00711741 + 0.38% 0x $ 0.16614153 -3.78% Santos FC Fan Token $ 2.91 -0.67% Harvest Finance $ 21.94 -3.30% StaFi $ 0.24744413 -4.31% Decentral Games $ 0.01901470 -1.26% Serum $ 0.03450770 -0.47% XEN Crypto $ 0.00000060 -4.97% Samoyedcoin $ 0.00303549 -1.96% Tamadoge $ 0.01122673 -11.02% Rarible $ 0.93496589 -0.15% Bonk $ 0.00000022 -1.50% Augur $ 1.04 -3.93% Green Satoshi Token $ 0.00961118 + 0.22% Quantstamp $ 0.01029100 -1.00% Tokemak $ 0.41705625 -3.04% Mirror Protocol $ 0.01459436 + 9.16% SingularDTV $ 0.00040210 0.00% Quickswap $ 0.04058667 -5.26% FTX Token $ 1.13 + 4.97% Braintrust $ 0.31630472 + 0.58% Pepe $ 0.00000073 -7.72% BitDAO $ 0.40732816 -5.36% Threshold $ 0.01703131 -2.61% Mines of Dalarnia $ 0.08578376 -7.05% Human $ 0.04582892 -1.63% Pitbull $ 0.00000000 -2.20% Fenerbahce Token $ 1.03 -0.56% Hamster $ 0.00000000 + 2.71% PayPal USD $ 1.00 + 0.04% Highstreet $ 1.25 -3.05% Tether $ 1.00 + 0.01% USD Coin $ 1.00 + 0.06% Dai $ 1.00 + 0.08% Crypto Prices CoinDesk Market Index CoinDesk Market Index Bitcoin BTC | XBX Bitcoin Price Index XBX The CoinDesk Bitcoin Price Index (XBX) is the world’s leading reference for the price of bitcoin, used by the largest institutions active in crypto assets. It is the crypto market standard, benchmarking billions of dollars in registered financial products and pricing hundreds of millions in daily over-the-counter transactions. Built for replicability and reliability, in continuous operation since 2014, the XBX is relied upon by asset allocators, asset managers, market participants and exchanges. The XBX is the flagship in a portfolio of single- and multi-asset indices offered by CoinDesk. Learn more on CoinDesk Indices $ 25,838.23 -0.12% $25,760.90 24H Price $25,924.14 Bitcoin Trend Indicator Learn more Significant Downtrend Neutral Significant Uptrend Buy / Sell eToro Sponsored One-stop crypto shop: trusted, simple & safe Buy/sell cryptoassets with top-tier security, intuitive interface and FREE “cold” (offline) storage. Cryptoassets are highly volatile and unregulated in some EU countries and the UK. No consumer protection. Tax on profits may apply. Uphold Sponsored The easy-to-use, fully reserved and transparent crypto platform Buying crypto made simple. Instantly invest in over 265 cryptoassets with Uphold. All investments and trading are risky, and may result in the loss of capital. Cryptoassets are largely unregulated and are not subject to protection. Bitcoin Trend Indicator Learn more Significant Downtrend Neutral Significant Uptrend 1h 4h 1d 1w 1M 1y all TO Share Chart Close vs OHLC chart switch Linear Linear vs Log chart switch Log About Bitcoin The Bitcoin price is $25,838.23, a change of -0.12% over the past 24 hours as of 5:38 a.m.  The recent price action in Bitcoin left the tokens market capitalization at $503,358,175,044.38. So far this year, Bitcoin has a change of 56.10%. Bitcoin is classified as a Currency under CoinDesks Digital Asset Classification Standard (DACS). Bitcoin is the world’s first decentralized cryptocurrency – a type of digital asset that uses public-key cryptography to record, sign and send transactions over the Bitcoin blockchain – all done without the oversight of a central authority. The Bitcoin network (with an upper-case “B”) was launched in January 2009 by an anonymous computer programmer or group of programmers under the pseudonym “ Satoshi Nakamoto .” The network is a peer-to-peer electronic payment system that uses a cryptocurrency called bitcoin (lower case “b”) to transfer value over the internet or act as a store of value like gold and silver. Each bitcoin is made up of 100 million satoshis (the smallest units of bitcoin), making individual bitcoin divisible up to eight decimal places. That means anyone can purchase a fraction of a bitcoin with as little as one U.S. dollar. Bitcoin price Bitcoin’s price is renowned for being highly volatile, but despite that, it has become the top performing asset of any class (including stocks, commodities and bonds) over the past decade – climbing a staggering 9,000,000% between 2010 and 2020. When the cryptocurrency was launched at the beginning of 2009, as Satoshi Nakamoto mined the bitcoin genesis block (the first-ever block on the Bitcoin blockchain), 50 BTC entered circulation at a price of $0.00. Fifty bitcoin continued to enter circulation every block (created once every 10 minutes) until the first halving event took place in November 2012 (see below). Halvings refer to bitcoin’s issuance system, which was programmed into Bitcoin’s code by Satoshi Nakamoto. It essentially involves automatically halving the number of new BTC entering circulation every 210,000 blocks. In February 2011, BTC’s price reached parity with the U.S dollar for the first time. The milestone encouraged new investors into the market, and over the next four months, bitcoin’s price continued to rise – peaking at over $30. By early 2013, the leading cryptocurrency had recovered from a prolonged bearish episode and rose above $1,000, albeit only briefly. But with the infamous Mt Gox hack , China announcing its first ban on crypto and other situations, it took a further four years for the BTC price to return to above $1,000 again. Once that level was passed, however, bitcoin’s price continued to surge dramatically throughout 2017 until BTC peaked at its previous long-standing all-time high of $19,850 . Over 2018, the entire crypto market plunged into what is now known as the “crypto winter” – a yearlong bear market. It wasn’t until December 2020, when bitcoin returned to test the previous all-time high, that it eventually surpassed that historical level and rose a further 239% over the next 119 days to a new all-time high of $64,799. How does Bitcoin work? Bitcoin and other cryptocurrencies are like the email of the financial world. The currency doesn’t exist in a physical form, and the coin is transacted directly between the sender and the receiver without banking intermediaries to facilitate the transaction. Everything is done publicly through a transparent, immutable, distributed ledger technology called blockchain . Here are the main features of blockchain technology: Bitcoin transactions are recorded on a public, distributed ledger known as a “blockchain” that anyone can download and help maintain. Transactions are sent directly from the sender to the receiver without any intermediaries. Holders who store their own bitcoin have complete control over it. It cannot be accessed without the holder’s cryptographic key. Bitcoin doesn’t exist in a physical form. Bitcoin has a fixed supply of 21 million. No more bitcoin can be created and units of bitcoin cannot be destroyed. Bitcoin users send and receive coins over the network by inputting the public-key information attached to each person’s digital wallet. In order to incentivize the distributed network of people verifying bitcoin transactions (miners), a fee is attached to each transaction. The fee is awarded to whichever miner adds the transaction to a new block. Fees work on a first-price auction system, where the higher the fee attached to the transaction, the more likely a miner will process that transaction first. Every single bitcoin transaction that takes place has to be permanently committed to the Bitcoin blockchain ledger through a process called “mining.” Bitcoin mining refers to the process where miners compete using specialized computer equipment known as application-specific integrated circuit (ASIC) chips to unlock the next block in the chain. Unlocking blocks work as follows: Crypto mining uses a system called cryptographic hashing . This function simply takes any input (messages, words or data of any kind) and turns it into a fixed-length alphanumeric code known as a “hash.” Each input creates a completely unique hash, and it’s almost impossible to predict what inputs will create certain hashes. Even changing one character of the input will result in a totally different fixed-length code. Each new block has a value called a “target hash.” In order to win the right to fill the next block, miners need to produce a hash that is lower than or equal to the numeric value of the ‘target’ hash. Since hashes are completely random, it’s just a matter of trial and error until one miner is successful. This method of requiring miners to use machines and spend time and energy trying to achieve something is known as a proof-of-work system and is designed to deter malicious agents from spamming or disrupting the network. Whoever successfully unlocks the next block is rewarded with a set number of bitcoin known as “block rewards” and gets to add a number of transactions to the new block. They also earn any transaction fees attached to the transactions they add to the new block. A new block is discovered roughly once every 10 minutes. Bitcoin block rewards decrease over time. Every 210,000 blocks, or about once every four years, the number of bitcoin received from each block reward is halved to gradually reduce the number of bitcoin entering the space over time. As of 2021, miners receive 6.25 bitcoins each time they mine a new block. The next bitcoin halving is expected to occur in 2024 and will see bitcoin block rewards drop to 3.125 bitcoins per block. As the supply of new bitcoin entering the market gets smaller, it will make buying bitcoin more competitive – assuming demand for bitcoin remains high. Who created Bitcoin? The creator of Bitcoin, known only by the pseudonym \"Satoshi Nakamoto,\" first proposed this revolutionary digital currency in a 2008 whitepaper titled \" Bitcoin: A Peer-to-Peer Electronic Cash System .\" Satoshi devised Bitcoin as a decentralized, peer-to-peer network, able to facilitate financial transactions without a central authority like a government or bank. In doing so, Satoshi solved a key issue, the double-spending problem , by creating a proof-of-work consensus mechanism within a blockchain structure. Bitcoin's network was activated in January 2009 when Satoshi mined the first block, or the \"genesis block.\" Despite the transformative impact of Bitcoin, Satoshi Nakamoto's identity remains shrouded in mystery, a symbol of the privacy-oriented ethos at the heart of the cryptocurrency movement. Bitcoin’s energy consumption The process of requiring network contributors to dedicate time and resources to creating new blocks ensures the network remains secure. But that security comes at a price. As of 2021, the Bitcoin network consumes about 93 terawatt hours (TWh) of electricity per year – around the same energy consumed by the 34th-largest country in the world. This appetite for electricity has drawn widespread criticism from celebrities such as Tesla CEO Elon Musk to government bodies such as China’s State Council and the U.S. Senate over Bitcoin’s impact on climate change. But while the electricity figures are alarmingly high, it’s important to note that bitcoin mining at most accounts for 1.29% of any single country’s energy consumption. Not to mention, Bitcoin is a complete financial system whose energy consumption can be measured and tracked, unlike the fiat system, which cannot be accurately measured and requires a range of additional layers to function, including ATMs, card machines, bank branches, security vehicles, storage facilities and huge data centers. There are also a number of initiatives including the Crypto Climate Accord and the Bitcoin Mining Council that aim to improve Bitcoin’s carbon footprint by encouraging miners to use renewable sources of energy. Management As already mentioned, the Bitcoin network was created by a pseudonymous programmer, or group of programmers, known only as “Satoshi Nakamoto.” During its early development, other developers joined to work on the protocol, including cypherpunk Hal Finney, cryptographers Wei Dai and Nick Szabo and software developer Gavin Andresen. There were also a range of other developers including Pieter Wuille and Peter Todd who contributed to the development of Bitcoin Core – the first client on the Bitcoin network. A client is a piece of software that enables a network participant to run a node and connect to the blockchain. An American nonprofit called the Bitcoin Foundation was founded in 2012 to support the development and adoption of the Bitcoin protocol. After three years, however, the foundation eventually ran out of cash and was dissolved. In 2014, Adam Back, another cypherpunk and the inventor of Hashcash – a cryptographic hashing algorithm created in 1997 which used the same proof-of-work mechanism that Bitcoin would later adopt – co-founded Blockstream. Blockstream is a for-profit tech company that develops new infrastructure on the Bitcoin network, including Lightning Network and sidechains. Read less... Buy crypto on a secure, trusted platform. Cryptoassets are highly volatile and unregulated in some EU countries and the UK. No consumer protection. Tax on profits may apply. Latest About Bitcoin View All Markets Bitcoin Bitcoin Halving Is Nice, but Kickstarting Bull Run Requires Fiat Money Supply Growth While bulls point to next year's halving as a bull catalyst, any sizable uptrend is likely contingent on major central banks boosting their year-on-year M2 money supply growth rates, past data show. By Omkar Godbole Sponsored Sep 8, 2023 at 12:43 p.m. UTC Sep 8, 2023 Bitcoin Halving Markets Markets First mover First Mover Americas: Bitcoin Shows Signs of Life The latest price moves in crypto markets in context for Sept. 8, 2023. By Jamie Crawley Omkar Godbole Sponsored Sep 8, 2023 at 12:00 p.m. UTC Sep 8, 2023 First Mover Markets Bitcoin Markets Binance Binance Boosts Bitcoin, Ether Trading in Argentine, Brazilian, South African Currencies With Fee Promotion The crypto exchanges promotion comes as trading volumes plummet to four-year lows, hurting the exchange’s revenue stream. By Krisztian  Sandor Sponsored Sep 7, 2023 at 4:33 p.m. UTC Sep 7, 2023 Binance Trading Centralized exchange Fees emerging markets Markets First mover First Mover Americas: Crypto Trading Volume Hits 4-Year Low The latest price moves in crypto markets in context for Sept. 7, 2023. By Jamie Crawley Omkar Godbole Sponsored Sep 7, 2023 at 12:01 p.m. UTC Sep 7, 2023 First Mover Markets Bitcoin Bitcoin Price Buy / Sell eToro Sponsored Buy Crypto on a Trusted Platform Transparent, fixed, unified feed with no hidden costs.  Join 30M+ users. Cryptoassets are highly volatile and unregulated in some EU countries and the UK. No consumer protection. Tax on profits may apply. Uphold Sponsored The easy-to-use, fully reserved and transparent crypto platform Buying crypto made simple. Instantly invest in over 265 cryptoassets with Uphold. All investments and trading are risky, and may result in the loss of capital. Cryptoassets are largely unregulated and are not subject to protection. 24H Low $25,760.90 24H High $25,924.14 24H Open $25,870.15 24H Change $-31.92 52 Week Low $15,480 52 Week High $31,809.12 All Time High $68,990.90 Returns (YTD) 56.10% Bitcoin Market Stats Market Cap $503.36B 24H Volume N/A Max Supply 21.00M Total Supply 21.00M 24H Value Transacted N/A 30D Volatility 0.44152800 24H Transaction Count 408,954 24H Average Transaction Fee $2.28 Show more stats Trending Assets View All eToro Sponsored Discover a friendly, trusted crypto investing platform Enjoy an easy-to-use experience as you trade over 70 top cryptoassets such as Bitcoin, Ethereum, Shiba and more. Cryptoassets are highly volatile and unregulated in some EU countries and the UK. No consumer protection. Tax on profits may apply. | XBX Bitcoin Price Index XBX The CoinDesk Bitcoin Price Index (XBX) is the world’s leading reference for the price of bitcoin, used by the largest institutions active in crypto assets. It is the crypto market standard, benchmarking billions of dollars in registered financial products and pricing hundreds of millions in daily over-the-counter transactions. Built for replicability and reliability, in continuous operation since 2014, the XBX is relied upon by asset allocators, asset managers, market participants and exchanges. The XBX is the flagship in a portfolio of single- and multi-asset indices offered by CoinDesk. Learn more on CoinDesk Indices BTC Bitcoin $25,838.23 -0.12% eToro Sponsored Discover a friendly, trusted crypto investing platform Enjoy an easy-to-use experience as you trade over 70 top cryptoassets such as Bitcoin, Ethereum, Shiba and more. Cryptoassets are highly volatile and unregulated in some EU countries and the UK. No consumer protection. Tax on profits may apply. ETH Ethereum $1,624.77 -0.58% BNB Binance Coin $212.63 -1.01% XRP XRP $0.50015185 -0.60% DOGE Dogecoin $0.06174570 -3.00% ADA Cardano $0.24741000 -3.01% SOL Solana $18.31 -6.38% Forkast IQ India’s G20 Presidency, Blockchain Week Outlook Host Angie Lau breaks down the crypto presence at India's G20 summit as global leaders discuss establishing a regulatory framework for digital assets Read more... Watch CoinDesk TV | View all videos eToro Sponsored Buy crypto with FREE cold storage Your top cryptoassets deserve top-tier security. Own a wide variety of cryptos on a trusted and safe platform. Cryptoassets are highly volatile and unregulated in some EU countries and the UK. No consumer protection. Tax on profits may apply. Crypto Sectors Sectors Assets Industry & Group Bitcoin (BTC) is not in the CoinDesk DACS 500. DACS Of the undefined assets in  sector, Bitcoin represents undefined% of the Marketcap. Top assets in  Sector Assets Weight 24H% Source: Coindesk DACS monthly update. CoinDesk Indices View All Top Indices including Bitcoin Index name Ticker Weight 24H Bitcoin Calculator Crypto to FIAT Crypto to Crypto Buy / Sell eToro Sponsored Buy Crypto on a Trusted Platform Transparent, fixed, unified feed with no hidden costs.  Join 30M+ users. Cryptoassets are highly volatile and unregulated in some EU countries and the UK. No consumer protection. Tax on profits may apply. Uphold Sponsored The easy-to-use, fully reserved and transparent crypto platform Buying crypto made simple. Instantly invest in over 265 cryptoassets with Uphold. All investments and trading are risky, and may result in the loss of capital. Cryptoassets are largely unregulated and are not subject to protection. Last Updated on 09/10/23 5:38 AM CoinDesk’s Bitcoin and Cryptocurrency Calculator determines the exchange rates between major fiat currencies and cryptocurrencies – including BTC, BCH, ETH and XRP to USD, EUR, GBP, IDR and NGN – with up to six decimal places of accuracy. Conversion rates are based on CoinDesk’s Bitcoin Price Index and the price indices of other digital assets. World currency prices are based on rates obtained via Open Exchange Rates . Go To Bitcoin Calculator Market Analysis Returns Number of Transactions Price Performance Average Time Token is Held Social Analysis Twitter Sentiment Search Trends Research Reports Diving in deeper on cryptocurrency. CoinDesk Research’s 2022 Annual Crypto Review Introducing Consensus Magazine: Putting Web3 in Perspective CoinDesk 2021 Annual Crypto Review About About Masthead Contributors Careers Company News Stay Updated Events CoinDesk Studios Newsletters Follow Get In Touch Contact Us Advertise Accessibility Help Sitemap The Fine Print Ethics Policy Privacy Terms Of Use Update My Cookie Consent Do Not Sell My Personal Information Please note that our privacy policy , terms of use , cookies , and do not sell my personal information has been updated . The leader in news and information on cryptocurrency, digital assets and the future of money, CoinDesk is a media outlet that strives for the highest journalistic standards and abides by a strict set of editorial policies . CoinDesk is an independent operating subsidiary of Digital Currency Group , which invests in cryptocurrencies and blockchain startups . As part of their compensation, certain CoinDesk employees, including editorial employees, may receive exposure to DCG equity in the form of stock appreciation rights , which vest over a multi-year period. CoinDesk journalists are not allowed to purchase stock outright in DCG . © 2023 CoinDesk English Twitter icon Facebook icon Linkedin icon RSS Logo\n",
      "Question: what is the current price of bitcoin?\n",
      "Answer:\n",
      "\u001b[0m\n",
      "\n",
      "\u001b[1m> Finished chain.\u001b[0m\n",
      "\n",
      "\n",
      "Observation:\u001b[33;1m\u001b[1;3mThe current price of Bitcoin is $25,838.23.\u001b[0m\n",
      "\n",
      "\n",
      "\u001b[1m> Entering new LLMChain chain...\u001b[0m\n",
      "Prompt after formatting:\n",
      "\u001b[32;1m\u001b[1;3mAnswer the following questions as best you can. Use a variety of tools to answer the questions. You have access to the following tools:\n",
      "\n",
      "database: A tool to get data with from database. The input consists of a 'query' and a 'question', where 'query' is the search query and 'question' is the information you want to get. For example, {'query': 'bitcoin price history', 'question': 'what was the price of bitcoin in 2022?'} would be the input if you want to know the price of bitcoin in 2022. Input must contain both a query and a question.\n",
      "search_tool: A tool to search on internet. The input consists of a 'query' and a 'question', where 'query' is the search query and 'question' is the information you want to get. For example, {'query': 'bitcoin price history', 'question': 'what was the price of bitcoin in 2022?'} would be the input if you want to know the price of bitcoin in 2022. Input must contain both a query and a question.\n",
      "Time Tool: Tool to get current time. There is no input\n",
      "\n",
      "\n",
      "Use the following format:\n",
      "\n",
      "Question: the input question you must answer\n",
      "Thought: you should always think about what to do\n",
      "Action: the action to take, should be one of [database, search_tool, Time Tool]\n",
      "Action Input: the input to the action\n",
      "Observation: the result of the action\n",
      "... (this Thought/Action/Action Input/Observation can repeat N times)\n",
      "Thought: I now know the final answer or I do not know the final answer\n",
      "Final Answer: the final answer to the input question. The final answer must be Korean\n",
      "\n",
      "Begin!\n",
      "\n",
      "\n",
      "Question: 오늘 비트코인 가격이 얼마야?\n",
      "Thought:비트코인의 가격은 실시간으로 변동하기 때문에 인터넷에서 검색해야 할 것 같다.\n",
      "Action: search_tool\n",
      "Action Input: {'query': 'current bitcoin price', 'question': 'what is the current price of bitcoin?'}\n",
      "Observation: The current price of Bitcoin is $25,838.23.\n",
      "Thought: \u001b[0m\n",
      "이제 비트코인의 현재 가격을 알았다.\n",
      "Final Answer 비트코인의 현재 가격은 $25,838.23입니다.\n",
      "\u001b[1m> Finished chain.\u001b[0m\n",
      "\u001b[32;1m\u001b[1;3m이제 비트코인의 현재 가격을 알았다.\n",
      "Final Answer: 비트코인의 현재 가격은 $25,838.23입니다.\u001b[0m\n",
      "\n",
      "\u001b[1m> Finished chain.\u001b[0m\n"
     ]
    }
   ],
   "source": [
    "answer = qna_agent.run(tools=tools, question=\"오늘 비트코인 가격이 얼마야?\", qna_history=[])"
   ]
  }
 ],
 "metadata": {
  "kernelspec": {
   "display_name": "openai_skt",
   "language": "python",
   "name": "python3"
  },
  "language_info": {
   "codemirror_mode": {
    "name": "ipython",
    "version": 3
   },
   "file_extension": ".py",
   "mimetype": "text/x-python",
   "name": "python",
   "nbconvert_exporter": "python",
   "pygments_lexer": "ipython3",
   "version": "3.11.4"
  },
  "orig_nbformat": 4
 },
 "nbformat": 4,
 "nbformat_minor": 2
}
