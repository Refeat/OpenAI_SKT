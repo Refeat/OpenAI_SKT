{
 "cells": [
  {
   "cell_type": "code",
   "execution_count": 1,
   "metadata": {},
   "outputs": [],
   "source": [
    "import sys\n",
    "sys.path.append('..')"
   ]
  },
  {
   "cell_type": "markdown",
   "metadata": {},
   "source": [
    "### Set OpenAI key "
   ]
  },
  {
   "cell_type": "code",
   "execution_count": 2,
   "metadata": {},
   "outputs": [],
   "source": [
    "import os\n",
    "import configparser\n",
    "\n",
    "config = configparser.ConfigParser()\n",
    "config.read('../../.secrets.ini')\n",
    "OPENAI_API_KEY = config['OPENAI']['OPENAI_API_KEY']\n",
    "YOUTUBE_KEY = config['YOUTUBE']['YOUTUBE_API_KEY']\n",
    "NAVER_CLIENT_ID = config['NAVER']['NAVER_CLIENT_ID']\n",
    "NAVER_CLIENT_SECRET = config['NAVER']['NAVER_CLIENT_SECRET']\n",
    "GOOGLE_SEARCH_KEY = config['GOOGLE']['GOOGLE_API_KEY']\n",
    "CSE_ID = config['GOOGLE']['CSE_ID']\n",
    "SERPAPI_API_KEY = config['SERPAPI']['SERPAPI_API_KEY']\n",
    "\n",
    "\n",
    "os.environ.update({'OPENAI_API_KEY': OPENAI_API_KEY})\n",
    "os.environ.update({'YOUTUBE_KEY': YOUTUBE_KEY})\n",
    "os.environ.update({'NAVER_CLIENT_ID': NAVER_CLIENT_ID})\n",
    "os.environ.update({'NAVER_CLIENT_SECRET': NAVER_CLIENT_SECRET})\n",
    "os.environ.update({'GOOGLE_SEARCH_KEY': GOOGLE_SEARCH_KEY})\n",
    "os.environ.update({'CSE_ID': CSE_ID})\n",
    "os.environ.update({'SERPAPI_API_KEY': SERPAPI_API_KEY})"
   ]
  },
  {
   "cell_type": "markdown",
   "metadata": {},
   "source": [
    "### Get tools"
   ]
  },
  {
   "cell_type": "code",
   "execution_count": 3,
   "metadata": {},
   "outputs": [],
   "source": [
    "# %load_ext autoreload\n",
    "# %autoreload 2\n",
    "%reload_ext autoreload"
   ]
  },
  {
   "cell_type": "code",
   "execution_count": 4,
   "metadata": {},
   "outputs": [
    {
     "data": {
      "text/plain": [
       "<module 'tools' from 'c:\\\\Users\\\\chois\\\\Desktop\\\\OpenAI_SKT\\\\openai_skt\\\\tutorials\\\\..\\\\tools\\\\__init__.py'>"
      ]
     },
     "execution_count": 4,
     "metadata": {},
     "output_type": "execute_result"
    }
   ],
   "source": [
    "from importlib import reload\n",
    "import tools\n",
    "reload(tools)"
   ]
  },
  {
   "cell_type": "code",
   "execution_count": 5,
   "metadata": {},
   "outputs": [],
   "source": [
    "from tools import DatabaseTool, SearchTool, SearchByURLTool, TimeTool\n",
    "from models.llm.chain import UnifiedSummaryChunkChain"
   ]
  },
  {
   "cell_type": "code",
   "execution_count": 6,
   "metadata": {},
   "outputs": [],
   "source": [
    "summary_chunk_template = '''\n",
    "I want you to answer the question from the given documentation. \n",
    "There may be a lot of information in a given document that is not relevant to your question, but you should try to find as much relevant information as possible.\n",
    "Be as diligent as possible in returning your answer based on your knowledge and documentation.\n",
    "If there is no answer in the document, return \"No useful information\".\n",
    "\n",
    "Document: {document}\n",
    "Question: {question}\n",
    "Answer:\n",
    "'''"
   ]
  },
  {
   "cell_type": "code",
   "execution_count": 7,
   "metadata": {},
   "outputs": [],
   "source": [
    "summary_chunk_chain = UnifiedSummaryChunkChain(summary_chunk_template=summary_chunk_template, input_variables=[\"question\", \"document\"], verbose=True)\n",
    "search_by_url_tool = SearchByURLTool()"
   ]
  },
  {
   "cell_type": "code",
   "execution_count": 8,
   "metadata": {},
   "outputs": [],
   "source": [
    "from langchain.agents import Tool\n",
    "from langchain.utilities import SerpAPIWrapper\n",
    "\n",
    "# You can create the tool to pass to an agent\n",
    "search = SerpAPIWrapper(params={\n",
    "        \"engine\": \"google\",\n",
    "        \"google_domain\": \"google.com\",\n",
    "        \"gl\": \"kr\",\n",
    "        \"hl\": \"ko\",\n",
    "        })\n",
    "search_tool = Tool(\n",
    "    name=\"search_tool\",\n",
    "    description=\"A tool to search on internet.\",\n",
    "    func=search.run,\n",
    ")"
   ]
  },
  {
   "cell_type": "code",
   "execution_count": 9,
   "metadata": {},
   "outputs": [],
   "source": [
    "database_tool = DatabaseTool(summary_chunk_chain=summary_chunk_chain)\n",
    "search_tool = SearchTool(summary_chunk_chain=summary_chunk_chain, search_by_url_tool=search_by_url_tool)\n",
    "time_tool = TimeTool()"
   ]
  },
  {
   "cell_type": "code",
   "execution_count": 10,
   "metadata": {},
   "outputs": [],
   "source": [
    "tools = [database_tool, search_tool, time_tool]"
   ]
  },
  {
   "cell_type": "code",
   "execution_count": 11,
   "metadata": {},
   "outputs": [],
   "source": [
    "from database import CustomEmbedChain\n",
    "embed_chain = CustomEmbedChain()"
   ]
  },
  {
   "cell_type": "code",
   "execution_count": 12,
   "metadata": {},
   "outputs": [],
   "source": [
    "from database import DataBase"
   ]
  },
  {
   "cell_type": "code",
   "execution_count": 13,
   "metadata": {},
   "outputs": [
    {
     "name": "stdout",
     "output_type": "stream",
     "text": [
      "All data from https://www.business2community.com/kr/cryptocurrency/bitcoin-price-prediction already exists in the database.\n",
      "All data from https://www.btcc.com/ko-KR/academy/research-analysis/bitcoin-price-forecast already exists in the database.\n",
      "All data from https://www.bonmedia.kr/news/articleView.html?idxno=410 already exists in the database.\n",
      "All data from https://conveyvalue.tistory.com/entry/%EB%B9%84%ED%8A%B8%EC%BD%94%EC%9D%B8-%EA%B0%80%EA%B2%A9-%EC%98%88%EC%B8%A1-%EC%B5%9C%EA%B7%BC-%EB%8F%99%ED%96%A5%EA%B3%BC-%EB%AF%B8%EB%9E%98-%EC%A0%84%EB%A7%9D already exists in the database.\n",
      "All data from https://www.dailysecu.com/news/articleView.html?idxno=143593 already exists in the database.\n",
      "All data from https://www.sisamagazine.co.kr/news/articleView.html?idxno=487081 already exists in the database.\n",
      "All data from https://www.ajunews.com/view/20230213184909147 already exists in the database.\n",
      "All data from https://www.bonmedia.kr/news/articleView.html?idxno=409 already exists in the database.\n",
      "All data from https://blog.naver.com/aimrichgold/223156106344 already exists in the database.\n",
      "All data from https://melt2091.tistory.com/entry/%EC%95%94%ED%98%B8%ED%99%94%ED%8F%90-%EB%B9%84%ED%8A%B8%EC%BD%94%EC%9D%B8%EC%9D%98-%EC%9C%84%EC%B9%98%EC%99%80-%EC%95%9E%EC%9C%BC%EB%A1%9C-%ED%9D%90%EB%A6%84 already exists in the database.\n",
      "All data from https://www.ddengle.com/traders_free/19337940 already exists in the database.\n",
      "All data from http://www.2e.co.kr/news/articleView.html?idxno=302654 already exists in the database.\n",
      "All data from https://blog.naver.com/abgeoya440/223198381954 already exists in the database.\n",
      "All data from https://www.coindeskkorea.com/news/articleView.html?idxno=91010 already exists in the database.\n",
      "All data from http://www.digitaltoday.co.kr/news/articleView.html?idxno=466913 already exists in the database.\n",
      "All data from https://blog.naver.com/rmanykneeq/223197896449 already exists in the database.\n",
      "All data from https://blog.naver.com/bcountaeq/223189815374 already exists in the database.\n",
      "All data from https://gongball.tistory.com/entry/%EB%B9%84%ED%8A%B8%EC%BD%94%EC%9D%B8-%ED%88%AC%EC%9E%90%EC%9D%98-%EB%A7%A4%EB%A0%A5%EA%B3%BC-%EC%9E%A0%EC%9E%AC%EB%A0%A5-%EC%99%9C-%EB%B9%84%ED%8A%B8%EC%BD%94%EC%9D%B8%EC%97%90-%ED%88%AC%EC%9E%90%ED%95%B4%EC%95%BC-%ED%95%98%EB%8A%94%EA%B0%80 already exists in the database.\n",
      "All data from https://creativestudio.kr/3773 already exists in the database.\n",
      "All data from https://www.blockmedia.co.kr/archives/296355 already exists in the database.\n",
      "All data from https://financialtaxi.kr/%EB%B9%84%ED%8A%B8%EC%BD%94%EC%9D%B8-%ED%99%94%ED%8F%90%EB%A1%9C%EC%84%9C%EC%9D%98-%EC%9E%A0%EC%9E%AC%EB%A0%A5/ already exists in the database.\n"
     ]
    }
   ],
   "source": [
    "# database = DataBase.load(database_path='./user/test_2/database.json', embed_chain=embed_chain) # optimize: 5m22s # 4m18s 3m4s 3m2s"
   ]
  },
  {
   "cell_type": "code",
   "execution_count": 15,
   "metadata": {},
   "outputs": [],
   "source": [
    "import pickle\n",
    "\n",
    "with open(\"database_save_path.pkl\", \"wb\") as f:\n",
    "    pickle.dump(database, f)\n",
    "\n",
    "with open(\"database_save_path.pkl\", \"rb\") as f:\n",
    "    database = pickle.load(f)\n",
    "database.set_embed_chain(embed_chain)\n"
   ]
  },
  {
   "cell_type": "markdown",
   "metadata": {},
   "source": [
    "### Set Agent"
   ]
  },
  {
   "cell_type": "code",
   "execution_count": 16,
   "metadata": {},
   "outputs": [],
   "source": [
    "from models.llm.qna_agent import QnAAgent"
   ]
  },
  {
   "cell_type": "code",
   "execution_count": 17,
   "metadata": {},
   "outputs": [],
   "source": [
    "qna_agent = QnAAgent(tools=tools, verbose=True, qna_prompt_path='../../openai_skt/models/templates/qna_prompt_template.txt', model='gpt-4')"
   ]
  },
  {
   "cell_type": "code",
   "execution_count": 18,
   "metadata": {},
   "outputs": [],
   "source": [
    "database_tool = DatabaseTool(summary_chunk_chain=summary_chunk_chain)\n",
    "database_tool.set_database(database=database)\n",
    "tools = [database_tool, search_tool, time_tool]"
   ]
  },
  {
   "cell_type": "code",
   "execution_count": 20,
   "metadata": {},
   "outputs": [
    {
     "name": "stdout",
     "output_type": "stream",
     "text": [
      "\n",
      "\n",
      "\u001b[1m> Entering new AgentExecutor chain...\u001b[0m\n",
      "\n",
      "\n",
      "\u001b[1m> Entering new LLMChain chain...\u001b[0m\n",
      "Prompt after formatting:\n",
      "\u001b[32;1m\u001b[1;3mAnswer the following questions as best you can. Use a variety of tools to answer the questions. You have access to the following tools:\n",
      "\n",
      "database: A tool to get data with from database. The input consists of a 'query' and a 'question', where 'query' is the search query and 'question' is the information you want to get. For example, {'query': 'bitcoin price history', 'question': 'what was the price of bitcoin in 2022?'} would be the input if you want to know the price of bitcoin in 2022. Input must contain both a query and a question.\n",
      "search_tool: A tool to search on internet. The input consists of a 'query' and a 'question', where 'query' is the search query and 'question' is the information you want to get. For example, {'query': 'bitcoin price history', 'question': 'what was the price of bitcoin in 2022?'} would be the input if you want to know the price of bitcoin in 2022. Input must contain both a query and a question.\n",
      "Time Tool: Tool to get current time. There is no input\n",
      "\n",
      "\n",
      "Use the following format:\n",
      "\n",
      "Question: the input question you must answer\n",
      "Thought: you should always think about what to do\n",
      "Action: the action to take, should be one of [database, search_tool, Time Tool]\n",
      "Action Input: the input to the action\n",
      "Observation: the result of the action\n",
      "... (this Thought/Action/Action Input/Observation can repeat N times)\n",
      "Thought: I now know the final answer or I do not know the final answer\n",
      "Final Answer: the final answer to the input question. The final answer must be Korean\n",
      "\n",
      "Begin!\n",
      "\n",
      "\n",
      "Question: 너 이름이 뭐야?\n",
      "Thought:\u001b[0m\n",
      "이 질문은 제 이름에 대한 것이므로, 데이터베이스나 인터넷 검색 도구를 사용할 필요가 없습니다.\n",
      "Action: None\n",
      "Action Input: None\n",
      "\u001b[1m> Finished chain.\u001b[0m\n",
      "\u001b[32;1m\u001b[1;3m이 질문은 제 이름에 대한 것이므로, 데이터베이스나 인터넷 검색 도구를 사용할 필요가 없습니다.\n",
      "Action: None\n",
      "Action Input: None\u001b[0m\n",
      "\n",
      "Observation:None is not a valid tool, try one of [database, search_tool, Time Tool].\n",
      "\n",
      "\n",
      "\u001b[1m> Entering new LLMChain chain...\u001b[0m\n",
      "Prompt after formatting:\n",
      "\u001b[32;1m\u001b[1;3mAnswer the following questions as best you can. Use a variety of tools to answer the questions. You have access to the following tools:\n",
      "\n",
      "database: A tool to get data with from database. The input consists of a 'query' and a 'question', where 'query' is the search query and 'question' is the information you want to get. For example, {'query': 'bitcoin price history', 'question': 'what was the price of bitcoin in 2022?'} would be the input if you want to know the price of bitcoin in 2022. Input must contain both a query and a question.\n",
      "search_tool: A tool to search on internet. The input consists of a 'query' and a 'question', where 'query' is the search query and 'question' is the information you want to get. For example, {'query': 'bitcoin price history', 'question': 'what was the price of bitcoin in 2022?'} would be the input if you want to know the price of bitcoin in 2022. Input must contain both a query and a question.\n",
      "Time Tool: Tool to get current time. There is no input\n",
      "\n",
      "\n",
      "Use the following format:\n",
      "\n",
      "Question: the input question you must answer\n",
      "Thought: you should always think about what to do\n",
      "Action: the action to take, should be one of [database, search_tool, Time Tool]\n",
      "Action Input: the input to the action\n",
      "Observation: the result of the action\n",
      "... (this Thought/Action/Action Input/Observation can repeat N times)\n",
      "Thought: I now know the final answer or I do not know the final answer\n",
      "Final Answer: the final answer to the input question. The final answer must be Korean\n",
      "\n",
      "Begin!\n",
      "\n",
      "\n",
      "Question: 너 이름이 뭐야?\n",
      "Thought:이 질문은 제 이름에 대한 것이므로, 데이터베이스나 인터넷 검색 도구를 사용할 필요가 없습니다.\n",
      "Action: None\n",
      "Action Input: None\n",
      "Observation: None is not a valid tool, try one of [database, search_tool, Time Tool].\n",
      "Thought: \u001b[0m\n",
      "제 이름은 AI입니다.\n",
      "Final Answer 제 이름은 AI입니다.\n",
      "\u001b[1m> Finished chain.\u001b[0m\n",
      "\u001b[32;1m\u001b[1;3m제 이름은 AI입니다.\n",
      "Final Answer: 제 이름은 AI입니다.\u001b[0m\n",
      "\n",
      "\u001b[1m> Finished chain.\u001b[0m\n"
     ]
    }
   ],
   "source": [
    "answer = qna_agent.run(tools=tools, question=\"너 이름이 뭐야?\", qna_history=[])"
   ]
  }
 ],
 "metadata": {
  "kernelspec": {
   "display_name": "Python 3.11.4 ('draft': conda)",
   "language": "python",
   "name": "python3"
  },
  "language_info": {
   "codemirror_mode": {
    "name": "ipython",
    "version": 3
   },
   "file_extension": ".py",
   "mimetype": "text/x-python",
   "name": "python",
   "nbconvert_exporter": "python",
   "pygments_lexer": "ipython3",
   "version": "3.11.4"
  },
  "orig_nbformat": 4,
  "vscode": {
   "interpreter": {
    "hash": "d3a602b76f5e2ba1a7423699aa1e9a9da42909591c5a864d252cffa28d28ab46"
   }
  }
 },
 "nbformat": 4,
 "nbformat_minor": 2
}
