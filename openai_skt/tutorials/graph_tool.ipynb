{
 "cells": [
  {
   "cell_type": "code",
   "execution_count": 2,
   "metadata": {},
   "outputs": [],
   "source": [
    "import sys\n",
    "sys.path.append('..')"
   ]
  },
  {
   "cell_type": "markdown",
   "metadata": {},
   "source": [
    "### Set OpenAI key "
   ]
  },
  {
   "cell_type": "code",
   "execution_count": 3,
   "metadata": {},
   "outputs": [],
   "source": [
    "import os\n",
    "import configparser\n",
    "\n",
    "config = configparser.ConfigParser()\n",
    "config.read('../../.secrets.ini')\n",
    "openai_api_key = config['OPENAI']['OPENAI_API_KEY']\n",
    "\n",
    "os.environ.update({'OPENAI_API_KEY': openai_api_key})"
   ]
  },
  {
   "cell_type": "markdown",
   "metadata": {},
   "source": [
    "### chain 설정"
   ]
  },
  {
   "cell_type": "code",
   "execution_count": 4,
   "metadata": {},
   "outputs": [],
   "source": [
    "from typing import List\n",
    "\n",
    "from models.llm.chain import BaseChain"
   ]
  },
  {
   "cell_type": "code",
   "execution_count": 11,
   "metadata": {},
   "outputs": [],
   "source": [
    "template = '''\n",
    "I want you to act like a Python code generator that plots graphs. You need to write Python code based on the \"plotly\" library. \n",
    "I will give you the graph to draw, which can be a table or a simple description. \n",
    "\n",
    "Follow the three steps below.\n",
    "step1. Materialize the graph to plot.\n",
    "step2. Write pseudocode to draw the materialized graph.\n",
    "step3. Generate the plotly library Python code based on the pseudocode.\n",
    "step4. Return the path to the saved image. If no image is saved, return \"No graph\".\n",
    "\n",
    "In the output, the Python code should be separated by ```.\n",
    "At the end of the output, return the path to the saved image.\n",
    "\n",
    "graph1 to draw:\n",
    "===\n",
    "Please plot the table below as a bar chart.\n",
    "| Properties | Information |\n",
    "|------------|-------------|\n",
    "| **Natural Language Processing Market Size in 2022** | $15.7 billion |\n",
    "| **Natural Language Processing Market Forecast 2032** | $144.9 Billion |\n",
    "| **Natural Language Processing Market CAGR from 2023 to 2032** | 25.1% |\n",
    "===\n",
    "\n",
    "example1 of step1:\n",
    "===\n",
    "- bar chart\n",
    "- Title: Natural language processing market size 2022-2032.\n",
    "- With 1-year bars\n",
    "- 2022: $15.7 billion\n",
    "- 2032: $144.9 billion\n",
    "- Annualized growth rate of 25.1\n",
    "===\n",
    "\n",
    "example1 of step2:\n",
    "===\n",
    "BEGIN\n",
    "\n",
    "    IMPORT necessary libraries\n",
    "\n",
    "    DEFINE years from 2022 to 2032\n",
    "    DEFINE initial market size and growth rate\n",
    "\n",
    "    CALCULATE market sizes for each year using growth rate\n",
    "\n",
    "    CREATE a bar chart using years and calculated market sizes\n",
    "    SET chart titles and axis titles\n",
    "\n",
    "    SAVE the chart as an image\n",
    "\n",
    "END\n",
    "===\n",
    "\n",
    "example1 of step3:\n",
    "```python\n",
    "import plotly.graph_objects as go\n",
    "\n",
    "# Set up data\n",
    "years = [f\"{{year}}\" for year in range(2022, 2033)]\n",
    "market_size = 157  # Starting size for 2022: 157 billion dollars\n",
    "growth_rate = 0.251  # Growth rate: 25.1%\n",
    "market_sizes = [market_size]\n",
    "\n",
    "# Calculate market size from 2023 to 2032\n",
    "for _ in range(2022, 2032):\n",
    "    market_size = market_size * (1 + growth_rate)\n",
    "    market_sizes.append(market_size)\n",
    "\n",
    "# Create a bar chart\n",
    "fig = go.Figure(data=[\n",
    "    go.Bar(name='NLP Market Size', x=years, y=market_sizes)\n",
    "])\n",
    "\n",
    "# Set chart layout\n",
    "fig.update_layout(\n",
    "    title='NLP Market Size 2022~2032',\n",
    "    xaxis_title='Year',\n",
    "    yaxis_title='Market Size (billion dollars)',\n",
    "    yaxis_tickformat=\",.0f\"\n",
    ")\n",
    "\n",
    "# Save the chart as an image\n",
    "fig.write_image(\"nlp_market_size_2022_2032.png\")\n",
    "```\n",
    "\n",
    "example1 of step4: nlp_market_size_2022_2032.png\n",
    "\n",
    "graph2 to draw:\n",
    "===\n",
    "{graph_to_draw}\n",
    "===\n",
    "\n",
    "example2 of step1:\n",
    "'''"
   ]
  },
  {
   "cell_type": "code",
   "execution_count": 12,
   "metadata": {},
   "outputs": [],
   "source": [
    "class GraphChain(BaseChain):\n",
    "    def __init__(self, \n",
    "                graph_template=None, \n",
    "                input_variables:List[str]=None,\n",
    "                graph_template_path='../openai_skt/models/templates/graph_prompt.json', \n",
    "                model='gpt-3.5-turbo', \n",
    "                verbose=False) -> None:\n",
    "        super().__init__(template=graph_template, input_variables=input_variables, template_path=graph_template_path, model=model, verbose=verbose)\n",
    "\n",
    "    def run(self, query:str=None):\n",
    "        return super().run(graph_to_draw=query)\n",
    "    \n",
    "    async def arun(self,query:str=None):\n",
    "        return await super().arun(graph_to_draw=query)"
   ]
  },
  {
   "cell_type": "code",
   "execution_count": 7,
   "metadata": {},
   "outputs": [],
   "source": [
    "graph_chain = GraphChain(graph_template=template, input_variables=['graph_to_draw'], verbose=True)"
   ]
  },
  {
   "cell_type": "code",
   "execution_count": 8,
   "metadata": {},
   "outputs": [],
   "source": [
    "# Exaple of Bar chart\n",
    "graph_to_draw = '''\n",
    "아래의 표를 차트로 그려주세요.\n",
    "+------------+----------+\n",
    "|    날짜    | 비트코인 가격 (USD) |\n",
    "+------------+----------+\n",
    "| 2021-01-01 | $30,000  |\n",
    "+------------+----------+\n",
    "| 2021-02-01 | $35,000  |\n",
    "+------------+----------+\n",
    "| 2021-03-01 | $50,000  |\n",
    "+------------+----------+\n",
    "| 2021-04-01 | $55,000  |\n",
    "+------------+----------+\n",
    "| 2021-05-01 | $40,000  |\n",
    "+------------+----------+\n",
    "| 2021-06-01 | $35,000  |\n",
    "+------------+----------+\n",
    "| 2021-07-01 | $32,000  |\n",
    "+------------+----------+\n",
    "| 2021-08-01 | $45,000  |\n",
    "+------------+----------+\n",
    "| 2021-09-01 | $48,000  |\n",
    "+------------+----------+\n",
    "'''"
   ]
  },
  {
   "cell_type": "code",
   "execution_count": 45,
   "metadata": {},
   "outputs": [],
   "source": [
    "graph_to_draw = \"세계지도 중 한국의 색만 붉게 그려주세요.\""
   ]
  },
  {
   "cell_type": "code",
   "execution_count": 9,
   "metadata": {},
   "outputs": [
    {
     "name": "stdout",
     "output_type": "stream",
     "text": [
      "\n",
      "\n",
      "\u001b[1m> Entering new LLMChain chain...\u001b[0m\n",
      "Prompt after formatting:\n",
      "\u001b[32;1m\u001b[1;3m\n",
      "I want you to act like a Python code generator that plots graphs. You need to write Python code based on the \"plotly\" library. \n",
      "I will give you the graph to draw, which can be a table or a simple description. \n",
      "\n",
      "Follow the three steps below.\n",
      "step1. Materialize the graph to plot.\n",
      "step2. Write pseudocode to draw the materialized graph.\n",
      "step3. Generate the plotly library Python code based on the pseudocode.\n",
      "step4. Return the path to the saved image.\n",
      "\n",
      "In the output, the Python code should be separated by ```.\n",
      "At the end of the output, return the path to the saved image.\n",
      "\n",
      "graph1 to draw:\n",
      "===\n",
      "Please plot the table below as a bar chart.\n",
      "| Properties | Information |\n",
      "|------------|-------------|\n",
      "| **Natural Language Processing Market Size in 2022** | $15.7 billion |\n",
      "| **Natural Language Processing Market Forecast 2032** | $144.9 Billion |\n",
      "| **Natural Language Processing Market CAGR from 2023 to 2032** | 25.1% |\n",
      "===\n",
      "\n",
      "example1 of step1:\n",
      "===\n",
      "- bar chart\n",
      "- Title: Natural language processing market size 2022-2032.\n",
      "- With 1-year bars\n",
      "- 2022: $15.7 billion\n",
      "- 2032: $144.9 billion\n",
      "- Annualized growth rate of 25.1\n",
      "===\n",
      "\n",
      "example1 of step2:\n",
      "===\n",
      "BEGIN\n",
      "\n",
      "    IMPORT necessary libraries\n",
      "\n",
      "    DEFINE years from 2022 to 2032\n",
      "    DEFINE initial market size and growth rate\n",
      "\n",
      "    CALCULATE market sizes for each year using growth rate\n",
      "\n",
      "    CREATE a bar chart using years and calculated market sizes\n",
      "    SET chart titles and axis titles\n",
      "\n",
      "    SAVE the chart as an image\n",
      "\n",
      "END\n",
      "===\n",
      "\n",
      "example1 of step3:\n",
      "```python\n",
      "import plotly.graph_objects as go\n",
      "\n",
      "# Set up data\n",
      "years = [f\"{year}\" for year in range(2022, 2033)]\n",
      "market_size = 157  # Starting size for 2022: 157 billion dollars\n",
      "growth_rate = 0.251  # Growth rate: 25.1%\n",
      "market_sizes = [market_size]\n",
      "\n",
      "# Calculate market size from 2023 to 2032\n",
      "for _ in range(2022, 2032):\n",
      "    market_size = market_size * (1 + growth_rate)\n",
      "    market_sizes.append(market_size)\n",
      "\n",
      "# Create a bar chart\n",
      "fig = go.Figure(data=[\n",
      "    go.Bar(name='NLP Market Size', x=years, y=market_sizes)\n",
      "])\n",
      "\n",
      "# Set chart layout\n",
      "fig.update_layout(\n",
      "    title='NLP Market Size 2022~2032',\n",
      "    xaxis_title='Year',\n",
      "    yaxis_title='Market Size (billion dollars)',\n",
      "    yaxis_tickformat=\",.0f\"\n",
      ")\n",
      "\n",
      "# Save the chart as an image\n",
      "fig.write_image(\"nlp_market_size_2022_2032.png\")\n",
      "```\n",
      "\n",
      "example1 of step4: nlp_market_size_2022_2032.png\n",
      "\n",
      "graph2 to draw:\n",
      "===\n",
      "\n",
      "아래의 표를 차트로 그려주세요.\n",
      "+------------+----------+\n",
      "|    날짜    | 비트코인 가격 (USD) |\n",
      "+------------+----------+\n",
      "| 2021-01-01 | $30,000  |\n",
      "+------------+----------+\n",
      "| 2021-02-01 | $35,000  |\n",
      "+------------+----------+\n",
      "| 2021-03-01 | $50,000  |\n",
      "+------------+----------+\n",
      "| 2021-04-01 | $55,000  |\n",
      "+------------+----------+\n",
      "| 2021-05-01 | $40,000  |\n",
      "+------------+----------+\n",
      "| 2021-06-01 | $35,000  |\n",
      "+------------+----------+\n",
      "| 2021-07-01 | $32,000  |\n",
      "+------------+----------+\n",
      "| 2021-08-01 | $45,000  |\n",
      "+------------+----------+\n",
      "| 2021-09-01 | $48,000  |\n",
      "+------------+----------+\n",
      "\n",
      "===\n",
      "\n",
      "example2 of step1:\n",
      "\u001b[0m\n"
     ]
    },
    {
     "name": "stdout",
     "output_type": "stream",
     "text": [
      "\n",
      "\u001b[1m> Finished chain.\u001b[0m\n"
     ]
    }
   ],
   "source": [
    "result = graph_chain.run(query=graph_to_draw)"
   ]
  },
  {
   "cell_type": "code",
   "execution_count": 23,
   "metadata": {},
   "outputs": [
    {
     "name": "stdout",
     "output_type": "stream",
     "text": [
      "===\n",
      "- line chart\n",
      "- Title: Bitcoin price in 2021.\n",
      "- X-axis: Dates from January to September.\n",
      "- Y-axis: Bitcoin price in USD.\n",
      "- Data points:\n",
      "    - January 1st: $30,000\n",
      "    - February 1st: $35,000\n",
      "    - March 1st: $50,000\n",
      "    - April 1st: $55,000\n",
      "    - May 1st: $40,000\n",
      "    - June 1st: $35,000\n",
      "    - July 1st: $32,000\n",
      "    - August 1st: $45,000\n",
      "    - September 1st: $48,000\n",
      "===\n",
      "\n",
      "example2 of step2:\n",
      "===\n",
      "BEGIN\n",
      "\n",
      "    IMPORT necessary libraries\n",
      "\n",
      "    DEFINE dates from January to September\n",
      "    DEFINE bitcoin prices for each date\n",
      "\n",
      "    CREATE a line chart using dates and bitcoin prices\n",
      "    SET chart titles and axis titles\n",
      "\n",
      "    SAVE the chart as an image\n",
      "\n",
      "END\n",
      "===\n",
      "\n",
      "example2 of step3:\n",
      "```python\n",
      "import plotly.graph_objects as go\n",
      "\n",
      "# Set up data\n",
      "dates = ['2021-01-01', '2021-02-01', '2021-03-01', '2021-04-01', '2021-05-01', '2021-06-01', '2021-07-01', '2021-08-01', '2021-09-01']\n",
      "bitcoin_prices = [30000, 35000, 50000, 55000, 40000, 35000, 32000, 45000, 48000]\n",
      "\n",
      "# Create a line chart\n",
      "fig = go.Figure(data=go.Scatter(x=dates, y=bitcoin_prices))\n",
      "\n",
      "# Set chart layout\n",
      "fig.update_layout(\n",
      "    title='Bitcoin Price in 2021',\n",
      "    xaxis_title='Date',\n",
      "    yaxis_title='Bitcoin Price (USD)',\n",
      "    yaxis_tickformat=\"$,.0f\"\n",
      ")\n",
      "\n",
      "# Save the chart as an image\n",
      "fig.write_image(\"bitcoin_price_2021.png\")\n",
      "```\n",
      "\n",
      "example2 of step4: bitcoin_price_2021.png\n"
     ]
    }
   ],
   "source": [
    "print(result)"
   ]
  },
  {
   "cell_type": "code",
   "execution_count": 13,
   "metadata": {},
   "outputs": [],
   "source": [
    "start_code = result.find(\"```python\") + len(\"```python\")\n",
    "end_code = result.rfind(\"```\")\n",
    "code = result[start_code:end_code].strip()"
   ]
  },
  {
   "cell_type": "code",
   "execution_count": 18,
   "metadata": {},
   "outputs": [
    {
     "data": {
      "text/plain": [
       "'bitcoin_price_2021.png'"
      ]
     },
     "execution_count": 18,
     "metadata": {},
     "output_type": "execute_result"
    }
   ],
   "source": [
    "start_path = result.find('step4: ') + len('step4: ')\n",
    "save_path = result[start_path:].strip() if result[start_path:].strip() != 'No graph' else None"
   ]
  },
  {
   "cell_type": "code",
   "execution_count": 19,
   "metadata": {},
   "outputs": [
    {
     "name": "stdout",
     "output_type": "stream",
     "text": [
      "import plotly.graph_objects as go\n",
      "\n",
      "# Set up data\n",
      "dates = ['2021-01-01', '2021-02-01', '2021-03-01', '2021-04-01', '2021-05-01', '2021-06-01', '2021-07-01', '2021-08-01', '2021-09-01']\n",
      "bitcoin_prices = [30000, 35000, 50000, 55000, 40000, 35000, 32000, 45000, 48000]\n",
      "\n",
      "# Create a line chart\n",
      "fig = go.Figure(data=go.Scatter(x=dates, y=bitcoin_prices))\n",
      "\n",
      "# Set chart layout\n",
      "fig.update_layout(\n",
      "    title='Bitcoin Price in 2021',\n",
      "    xaxis_title='Date',\n",
      "    yaxis_title='Bitcoin Price (USD)',\n",
      "    yaxis_tickformat=\"$,.0f\"\n",
      ")\n",
      "\n",
      "# Save the chart as an image\n",
      "fig.write_image(\"bitcoin_price_2021.png\")\n"
     ]
    }
   ],
   "source": [
    "print(code)"
   ]
  },
  {
   "cell_type": "code",
   "execution_count": 20,
   "metadata": {},
   "outputs": [],
   "source": [
    "from langchain.tools.python.tool import PythonREPLTool"
   ]
  },
  {
   "cell_type": "code",
   "execution_count": 21,
   "metadata": {},
   "outputs": [],
   "source": [
    "tool = PythonREPLTool()"
   ]
  },
  {
   "cell_type": "code",
   "execution_count": 22,
   "metadata": {},
   "outputs": [
    {
     "name": "stderr",
     "output_type": "stream",
     "text": [
      "Python REPL can execute arbitrary code. Use with caution.\n"
     ]
    },
    {
     "data": {
      "text/plain": [
       "''"
      ]
     },
     "execution_count": 22,
     "metadata": {},
     "output_type": "execute_result"
    }
   ],
   "source": [
    "tool.run(code)"
   ]
  }
 ],
 "metadata": {
  "kernelspec": {
   "display_name": "openai_skt",
   "language": "python",
   "name": "python3"
  },
  "language_info": {
   "codemirror_mode": {
    "name": "ipython",
    "version": 3
   },
   "file_extension": ".py",
   "mimetype": "text/x-python",
   "name": "python",
   "nbconvert_exporter": "python",
   "pygments_lexer": "ipython3",
   "version": "3.11.4"
  },
  "orig_nbformat": 4
 },
 "nbformat": 4,
 "nbformat_minor": 2
}
