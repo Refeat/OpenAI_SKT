{
 "cells": [
  {
   "cell_type": "code",
   "execution_count": 1,
   "metadata": {},
   "outputs": [],
   "source": [
    "import sys\n",
    "sys.path.append('..')"
   ]
  },
  {
   "cell_type": "markdown",
   "metadata": {},
   "source": [
    "### Set OpenAI key "
   ]
  },
  {
   "cell_type": "code",
   "execution_count": 2,
   "metadata": {},
   "outputs": [],
   "source": [
    "import os\n",
    "import configparser\n",
    "\n",
    "config = configparser.ConfigParser()\n",
    "config.read('../../.secrets.ini')\n",
    "OPENAI_API_KEY = config['OPENAI']['OPENAI_API_KEY']\n",
    "YOUTUBE_KEY = config['YOUTUBE']['YOUTUBE_API_KEY']\n",
    "NAVER_CLIENT_ID = config['NAVER']['NAVER_CLIENT_ID']\n",
    "NAVER_CLIENT_SECRET = config['NAVER']['NAVER_CLIENT_SECRET']\n",
    "GOOGLE_SEARCH_KEY = config['GOOGLE']['GOOGLE_API_KEY']\n",
    "CSE_ID = config['GOOGLE']['CSE_ID']\n",
    "SERPAPI_API_KEY = config['SERPAPI']['SERPAPI_API_KEY']\n",
    "\n",
    "\n",
    "os.environ.update({'OPENAI_API_KEY': OPENAI_API_KEY})\n",
    "os.environ.update({'YOUTUBE_KEY': YOUTUBE_KEY})\n",
    "os.environ.update({'NAVER_CLIENT_ID': NAVER_CLIENT_ID})\n",
    "os.environ.update({'NAVER_CLIENT_SECRET': NAVER_CLIENT_SECRET})\n",
    "os.environ.update({'GOOGLE_SEARCH_KEY': GOOGLE_SEARCH_KEY})\n",
    "os.environ.update({'CSE_ID': CSE_ID})\n",
    "os.environ.update({'SERPAPI_API_KEY': SERPAPI_API_KEY})"
   ]
  },
  {
   "cell_type": "code",
   "execution_count": 3,
   "metadata": {},
   "outputs": [],
   "source": [
    "from database import CustomEmbedChain"
   ]
  },
  {
   "cell_type": "code",
   "execution_count": 6,
   "metadata": {},
   "outputs": [],
   "source": [
    "embedchain = CustomEmbedChain()"
   ]
  },
  {
   "cell_type": "code",
   "execution_count": 7,
   "metadata": {},
   "outputs": [
    {
     "name": "stdout",
     "output_type": "stream",
     "text": [
      "Time to get source_id_in_db: 0.03200936317443848\n",
      "All data from https://namu.wiki/w/%EB%82%98%EB%AC%B4%EC%9C%84%ED%82%A4:%EB%8C%80%EB%AC%B8 already exists in the database.\n"
     ]
    },
    {
     "data": {
      "text/plain": [
       "'37a84be31a531c8dfda7d13e66212353'"
      ]
     },
     "execution_count": 7,
     "metadata": {},
     "output_type": "execute_result"
    }
   ],
   "source": [
    "embedchain.add('https://namu.wiki/w/%EB%82%98%EB%AC%B4%EC%9C%84%ED%82%A4:%EB%8C%80%EB%AC%B8')"
   ]
  }
 ],
 "metadata": {
  "kernelspec": {
   "display_name": "openai_skt",
   "language": "python",
   "name": "python3"
  },
  "language_info": {
   "codemirror_mode": {
    "name": "ipython",
    "version": 3
   },
   "file_extension": ".py",
   "mimetype": "text/x-python",
   "name": "python",
   "nbconvert_exporter": "python",
   "pygments_lexer": "ipython3",
   "version": "3.11.4"
  },
  "orig_nbformat": 4
 },
 "nbformat": 4,
 "nbformat_minor": 2
}
