{
 "cells": [
  {
   "cell_type": "code",
   "execution_count": 1,
   "metadata": {},
   "outputs": [],
   "source": [
    "import sys\n",
    "sys.path.append('..')"
   ]
  },
  {
   "cell_type": "markdown",
   "metadata": {},
   "source": [
    "### Set OpenAI key "
   ]
  },
  {
   "cell_type": "code",
   "execution_count": 2,
   "metadata": {},
   "outputs": [],
   "source": [
    "import os\n",
    "import configparser\n",
    "\n",
    "config = configparser.ConfigParser()\n",
    "config.read('../../.secrets.ini')\n",
    "openai_api_key = config['OPENAI']['OPENAI_API_KEY']\n",
    "\n",
    "os.environ.update({'OPENAI_API_KEY': openai_api_key})"
   ]
  },
  {
   "cell_type": "markdown",
   "metadata": {},
   "source": [
    "### chain 설정"
   ]
  },
  {
   "cell_type": "code",
   "execution_count": 3,
   "metadata": {},
   "outputs": [],
   "source": [
    "from langchain.prompts import load_prompt, PromptTemplate\n",
    "from langchain.chains import LLMChain\n",
    "from langchain.chat_models import ChatOpenAI\n",
    "from langchain.callbacks import get_openai_callback\n",
    "from langchain.embeddings import OpenAIEmbeddings"
   ]
  },
  {
   "cell_type": "code",
   "execution_count": 4,
   "metadata": {},
   "outputs": [],
   "source": [
    "template = '''\n",
    "I want you to be the writer who creates the table of contents for the article.\n",
    "I will give you the topic of the article, and I will need you to generate the table of contents.\n",
    "Only say the table of contents. But if there is none, say nothing, and don't give me an explanation.\n",
    "Answer in Korean.\n",
    "\n",
    "topic 1: \"\"\"디지털화 시대의 화폐와 경제: 암호화폐의 등장과 그 영향\"\"\"\n",
    "table of contents 1: \n",
    "1. 서론\n",
    "- 디지털화 시대와 경제의 관계\n",
    "- 암호화폐에 대한 간략한 소개\n",
    "2. 암호화폐의 역사\n",
    "- 비트코인의 출현: 블록체인과 디센트럴라이제이션\n",
    "- 주요 암호화폐들의 발전과 다양성 \n",
    "3. 암호화폐의 경제적 영향\n",
    "- 통화정책에 미치는 영향: 중앙은행과의 관계\n",
    "- 국제거래에서의 암호화폐 활용\n",
    "- 경제 내에서의 암호화폐로 인한 기회와 위험\n",
    "4. 실제 사례 연구\n",
    "- 암호화폐를 사용하는 기업들의 사례\n",
    "- 국가 수준에서 암호화폐를 인정하거나 규제하는 사례\n",
    "5. 미래 전망\n",
    "- 암호화폐와 전통 화폐의 관계\n",
    "- 디지털화 시대에서의 암호화폐의 장기적인 영향\n",
    "6. 결론\n",
    "- 디지털화 시대의 경제 트렌드와 암호화폐의 역할\n",
    "- 글쓰기 주제와 관련된 개인적인 견해나 생각\n",
    "\n",
    "topic 2: \"\"\"{purpose}\"\"\"\n",
    "table of contents 2:\n",
    "'''"
   ]
  },
  {
   "cell_type": "code",
   "execution_count": 9,
   "metadata": {},
   "outputs": [],
   "source": [
    "class TableChain:\n",
    "    def __init__(self, table_template=None, table_template_path='../openai_skt/models/templates/table_prompt.json', verbose=False) -> None:\n",
    "        if table_template is not None:\n",
    "            self.table_prompt = PromptTemplate(\n",
    "                    input_variables=[\"purpose\"],\n",
    "                    template=table_template,\n",
    "                )\n",
    "        else:\n",
    "            self.table_template_path = table_template_path\n",
    "            self.table_prompt = load_prompt(self.table_template_path)\n",
    "        self.llm = ChatOpenAI(model=\"gpt-4\", temperature=0.0)\n",
    "        self.verbose = verbose\n",
    "        self.table_chain = LLMChain(llm=self.llm, prompt=self.table_prompt, verbose=self.verbose)\n",
    "\n",
    "    def run(self, purpose:str=None):\n",
    "        input_dict = {'purpose': purpose}\n",
    "        table = self.table_chain.run(input_dict)\n",
    "        return table\n",
    "\n",
    "    async def arun(self, purpose:str=None):\n",
    "        input_dict = {'purpose': purpose}\n",
    "        table = await self.table_chain.arun(input_dict)\n",
    "        return table"
   ]
  },
  {
   "cell_type": "code",
   "execution_count": 10,
   "metadata": {},
   "outputs": [],
   "source": [
    "table_chain = TableChain(table_template=template, verbose=True)"
   ]
  },
  {
   "cell_type": "code",
   "execution_count": 11,
   "metadata": {},
   "outputs": [
    {
     "name": "stdout",
     "output_type": "stream",
     "text": [
      "\n",
      "\n",
      "\u001b[1m> Entering new LLMChain chain...\u001b[0m\n",
      "Prompt after formatting:\n",
      "\u001b[32;1m\u001b[1;3m\n",
      "I want you to be the writer who creates the table of contents for the article.\n",
      "I will give you the topic of the article, and I will need you to generate the table of contents.\n",
      "Only say the table of contents. But if there is none, say nothing, and don't give me an explanation.\n",
      "Answer in Korean.\n",
      "\n",
      "topic 1: \"\"\"디지털화 시대의 화폐와 경제: 암호화폐의 등장과 그 영향\"\"\"\n",
      "table of contents 1: \n",
      "1. 서론\n",
      "- 디지털화 시대와 경제의 관계\n",
      "- 암호화폐에 대한 간략한 소개\n",
      "2. 암호화폐의 역사\n",
      "- 비트코인의 출현: 블록체인과 디센트럴라이제이션\n",
      "- 주요 암호화폐들의 발전과 다양성 \n",
      "3. 암호화폐의 경제적 영향\n",
      "- 통화정책에 미치는 영향: 중앙은행과의 관계\n",
      "- 국제거래에서의 암호화폐 활용\n",
      "- 경제 내에서의 암호화폐로 인한 기회와 위험\n",
      "4. 실제 사례 연구\n",
      "- 암호화폐를 사용하는 기업들의 사례\n",
      "- 국가 수준에서 암호화폐를 인정하거나 규제하는 사례\n",
      "5. 미래 전망\n",
      "- 암호화폐와 전통 화폐의 관계\n",
      "- 디지털화 시대에서의 암호화폐의 장기적인 영향\n",
      "6. 결론\n",
      "- 디지털화 시대의 경제 트렌드와 암호화폐의 역할\n",
      "- 글쓰기 주제와 관련된 개인적인 견해나 생각\n",
      "\n",
      "topic 2: \"\"\"저출산 대응·소비 진작…'결혼자금 증여세 면제 확대'는 어떤가\"\"\"\n",
      "table of contents 2:\n",
      "\u001b[0m\n",
      "\n",
      "\u001b[1m> Finished chain.\u001b[0m\n"
     ]
    }
   ],
   "source": [
    "result = table_chain.run(purpose=\"저출산 대응·소비 진작…'결혼자금 증여세 면제 확대'는 어떤가\")"
   ]
  },
  {
   "cell_type": "code",
   "execution_count": 12,
   "metadata": {},
   "outputs": [
    {
     "name": "stdout",
     "output_type": "stream",
     "text": [
      "1. 서론\n",
      "- 저출산 문제와 소비 진작의 필요성\n",
      "- '결혼자금 증여세 면제' 개념 소개\n",
      "2. 저출산 문제의 현황과 원인\n",
      "- 한국의 저출산 문제의 심각성\n",
      "- 저출산의 주요 원인 분석\n",
      "3. 소비 진작의 중요성\n",
      "- 경제 활성화를 위한 소비 진작의 역할\n",
      "- 소비 진작을 위한 다양한 방안\n",
      "4. 결혼자금 증여세 면제 확대의 필요성\n",
      "- 현재의 결혼자금 증여세 면제 정책\n",
      "- 결혼자금 증여세 면제 확대의 장점\n",
      "5. 결혼자금 증여세 면제 확대의 부작용\n",
      "- 재정적 부담\n",
      "- 사회적 불평등 문제\n",
      "6. 실제 사례 및 대안 제시\n",
      "- 다른 나라의 결혼자금 증여세 면제 정책 사례\n",
      "- 결혼자금 증여세 면제 확대의 대안 제시\n",
      "7. 결론\n",
      "- 저출산 대응과 소비 진작을 위한 정책적 고려사항\n",
      "- '결혼자금 증여세 면제 확대'에 대한 개인적인 견해나 생각\n"
     ]
    }
   ],
   "source": [
    "print(result)"
   ]
  }
 ],
 "metadata": {
  "kernelspec": {
   "display_name": "openai_skt",
   "language": "python",
   "name": "python3"
  },
  "language_info": {
   "codemirror_mode": {
    "name": "ipython",
    "version": 3
   },
   "file_extension": ".py",
   "mimetype": "text/x-python",
   "name": "python",
   "nbconvert_exporter": "python",
   "pygments_lexer": "ipython3",
   "version": "3.11.4"
  },
  "orig_nbformat": 4
 },
 "nbformat": 4,
 "nbformat_minor": 2
}
