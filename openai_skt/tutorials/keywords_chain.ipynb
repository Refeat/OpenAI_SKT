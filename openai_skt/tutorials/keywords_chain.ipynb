{
 "cells": [
  {
   "cell_type": "code",
   "execution_count": 1,
   "metadata": {},
   "outputs": [],
   "source": [
    "import sys\n",
    "sys.path.append('..')"
   ]
  },
  {
   "cell_type": "markdown",
   "metadata": {},
   "source": [
    "### Set OpenAI key "
   ]
  },
  {
   "cell_type": "code",
   "execution_count": 2,
   "metadata": {},
   "outputs": [],
   "source": [
    "import os\n",
    "import configparser\n",
    "\n",
    "config = configparser.ConfigParser()\n",
    "config.read('../../.secrets.ini')\n",
    "openai_api_key = config['OPENAI']['OPENAI_API_KEY']\n",
    "\n",
    "os.environ.update({'OPENAI_API_KEY': openai_api_key})"
   ]
  },
  {
   "cell_type": "markdown",
   "metadata": {},
   "source": [
    "### chain 설정"
   ]
  },
  {
   "cell_type": "code",
   "execution_count": 3,
   "metadata": {},
   "outputs": [],
   "source": [
    "from langchain.prompts import load_prompt, PromptTemplate\n",
    "from langchain.chains import LLMChain\n",
    "from langchain.chat_models import ChatOpenAI\n",
    "from langchain.callbacks import get_openai_callback\n",
    "from langchain.embeddings import OpenAIEmbeddings"
   ]
  },
  {
   "cell_type": "code",
   "execution_count": 46,
   "metadata": {},
   "outputs": [],
   "source": [
    "template = '''\n",
    "Generate search queries to research material for post.\n",
    "Generate search queries based on the purpose and table of contents of the article given as input.\n",
    "Each search query will be used to search for data on Google, YouTube, etc.\n",
    "Each search query consists of a few words.\n",
    "Just say the search query. But if you don't have any, don't say anything and don't explain.\n",
    "Each search query is in no particular order and is separated by commas.\n",
    "Answer in Korean.\n",
    "\n",
    "Purpose of the post:\n",
    "===\n",
    "{purpose}\n",
    "===\n",
    "\n",
    "table of contents:\n",
    "===\n",
    "{table}\n",
    "===\n",
    "\n",
    "keyword quries:\n",
    "'''"
   ]
  },
  {
   "cell_type": "code",
   "execution_count": 55,
   "metadata": {},
   "outputs": [],
   "source": [
    "class KeywordsChain:\n",
    "    def __init__(self, keywords_template=None, keywords_template_path='../openai_skt/models/templates/keywords_prompt.json', verbose=False) -> None:\n",
    "        if keywords_template is not None:\n",
    "            self.keywords_prompt = PromptTemplate(\n",
    "                    input_variables=[\"purpose\",\"table\"],\n",
    "                    template=keywords_template,\n",
    "                )\n",
    "        else:\n",
    "            self.keywords_template_path = keywords_template_path\n",
    "            self.keywords_prompt = load_prompt(self.keywords_template_path)\n",
    "        self.llm = ChatOpenAI(model=\"gpt-3.5-turbo\", temperature=0.0)\n",
    "        self.verbose = verbose\n",
    "        self.keywords_chain = LLMChain(llm=self.llm, prompt=self.keywords_prompt, verbose=self.verbose)\n",
    "\n",
    "    def run(self, purpose:str=None, table:str=None):\n",
    "        input_dict = {'purpose': purpose, 'table' : table}\n",
    "        keywords = self.keywords_chain.run(input_dict)\n",
    "        return keywords\n",
    "\n",
    "    async def arun(self, purpose:str=None):\n",
    "        input_dict = {'purpose': purpose}\n",
    "        keywords = await self.keywords_chain.arun(input_dict)\n",
    "        return keywords"
   ]
  },
  {
   "cell_type": "code",
   "execution_count": 56,
   "metadata": {},
   "outputs": [],
   "source": [
    "keywords_chain = KeywordsChain(keywords_template=template, verbose=True)"
   ]
  },
  {
   "cell_type": "code",
   "execution_count": 57,
   "metadata": {},
   "outputs": [],
   "source": [
    "purpose = '저출산 대응·소비 진작…\"결혼자금 증여세 면제 확대\"는 어떤가'\n",
    "table_contents = '''1. 서론\n",
    "- 저출산 문제와 결혼자금 증여세 면제의 관계\n",
    "- 결혼자금 증여세 면제 확대에 대한 간략한 소개\n",
    "2. 결혼자금 증여세 면제의 현황\n",
    "- 현재의 결혼자금 증여세 면제 정책\n",
    "- 이전의 결혼자금 증여세 면제 정책과의 비교\n",
    "3. 결혼자금 증여세 면제 확대의 효과\n",
    "- 저출산 대응을 위한 결혼자금 증여세 면제의 효과\n",
    "- 소비 활성화에 미치는 영향\n",
    "4. 결혼자금 증여세 면제 확대의 문제점\n",
    "- 예산 문제와 재분배의 공정성 문제\n",
    "- 기타 부작용과 부작용 완화 방안\n",
    "5. 결론\n",
    "- 결혼자금 증여세 면제 확대의 장단점과 대안\n",
    "- 글쓰기 주제와 관련된 개인적인 견해나 생각\n",
    "'''"
   ]
  },
  {
   "cell_type": "code",
   "execution_count": 58,
   "metadata": {},
   "outputs": [
    {
     "name": "stdout",
     "output_type": "stream",
     "text": [
      "\n",
      "\n",
      "\u001b[1m> Entering new LLMChain chain...\u001b[0m\n",
      "Prompt after formatting:\n",
      "\u001b[32;1m\u001b[1;3m\n",
      "Generate search queries to research material for post.\n",
      "Generate search queries based on the purpose and table of contents of the article given as input.\n",
      "Each search query will be used to search for data on Google, YouTube, etc.\n",
      "Each search query consists of a few words.\n",
      "Just say the search query. But if you don't have any, don't say anything and don't explain.\n",
      "Each search query is in no particular order and is separated by commas.\n",
      "Answer in Korean.\n",
      "\n",
      "Purpose of the post:\n",
      "===\n",
      "저출산 대응·소비 진작…\"결혼자금 증여세 면제 확대\"는 어떤가\n",
      "===\n",
      "\n",
      "table of contents:\n",
      "===\n",
      "1. 서론\n",
      "- 저출산 문제와 결혼자금 증여세 면제의 관계\n",
      "- 결혼자금 증여세 면제 확대에 대한 간략한 소개\n",
      "2. 결혼자금 증여세 면제의 현황\n",
      "- 현재의 결혼자금 증여세 면제 정책\n",
      "- 이전의 결혼자금 증여세 면제 정책과의 비교\n",
      "3. 결혼자금 증여세 면제 확대의 효과\n",
      "- 저출산 대응을 위한 결혼자금 증여세 면제의 효과\n",
      "- 소비 활성화에 미치는 영향\n",
      "4. 결혼자금 증여세 면제 확대의 문제점\n",
      "- 예산 문제와 재분배의 공정성 문제\n",
      "- 기타 부작용과 부작용 완화 방안\n",
      "5. 결론\n",
      "- 결혼자금 증여세 면제 확대의 장단점과 대안\n",
      "- 글쓰기 주제와 관련된 개인적인 견해나 생각\n",
      "\n",
      "===\n",
      "\n",
      "keyword quries:\n",
      "\u001b[0m\n",
      "\n",
      "\u001b[1m> Finished chain.\u001b[0m\n"
     ]
    }
   ],
   "source": [
    "result = keywords_chain.run(purpose=purpose, table=table_contents)"
   ]
  },
  {
   "cell_type": "code",
   "execution_count": 54,
   "metadata": {},
   "outputs": [
    {
     "name": "stdout",
     "output_type": "stream",
     "text": [
      "- 저출산 대응 정책\n",
      "- 결혼자금 증여세 면제 현황\n",
      "- 결혼자금 증여세 면제 정책 비교\n",
      "- 결혼자금 증여세 면제의 효과\n",
      "- 저출산 대응을 위한 결혼자금 증여세 면제\n",
      "- 결혼자금 증여세 면제와 소비 활성화\n",
      "- 결혼자금 증여세 면제 확대의 문제점\n",
      "- 예산 문제와 결혼자금 증여세 면제의 공정성\n",
      "- 결혼자금 증여세 면제의 부작용과 완화 방안\n",
      "- 결혼자금 증여세 면제 확대의 장단점\n",
      "- 결혼자금 증여세 면제 대안\n",
      "- 결혼자금 증여세 면제에 대한 개인적인 견해나 생각\n"
     ]
    }
   ],
   "source": [
    "print(result)"
   ]
  },
  {
   "cell_type": "code",
   "execution_count": null,
   "metadata": {},
   "outputs": [],
   "source": []
  }
 ],
 "metadata": {
  "kernelspec": {
   "display_name": "openai_skt",
   "language": "python",
   "name": "python3"
  },
  "language_info": {
   "codemirror_mode": {
    "name": "ipython",
    "version": 3
   },
   "file_extension": ".py",
   "mimetype": "text/x-python",
   "name": "python",
   "nbconvert_exporter": "python",
   "pygments_lexer": "ipython3",
   "version": "3.11.4"
  },
  "orig_nbformat": 4
 },
 "nbformat": 4,
 "nbformat_minor": 2
}
