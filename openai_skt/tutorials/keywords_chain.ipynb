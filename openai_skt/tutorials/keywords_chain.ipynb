{
 "cells": [
  {
   "cell_type": "code",
   "execution_count": 1,
   "metadata": {},
   "outputs": [],
   "source": [
    "import sys\n",
    "sys.path.append('..')"
   ]
  },
  {
   "cell_type": "markdown",
   "metadata": {},
   "source": [
    "### Set OpenAI key "
   ]
  },
  {
   "cell_type": "code",
   "execution_count": 2,
   "metadata": {},
   "outputs": [],
   "source": [
    "import os\n",
    "import configparser\n",
    "\n",
    "config = configparser.ConfigParser()\n",
    "config.read('../../.secrets.ini')\n",
    "openai_api_key = config['OPENAI']['OPENAI_API_KEY']\n",
    "\n",
    "os.environ.update({'OPENAI_API_KEY': openai_api_key})"
   ]
  },
  {
   "cell_type": "markdown",
   "metadata": {},
   "source": [
    "### chain 설정"
   ]
  },
  {
   "cell_type": "code",
   "execution_count": 3,
   "metadata": {},
   "outputs": [],
   "source": [
    "from langchain.prompts import load_prompt, PromptTemplate\n",
    "from langchain.chains import LLMChain\n",
    "from langchain.chat_models import ChatOpenAI\n",
    "from langchain.callbacks import get_openai_callback\n",
    "from langchain.embeddings import OpenAIEmbeddings"
   ]
  },
  {
   "cell_type": "code",
   "execution_count": 22,
   "metadata": {},
   "outputs": [],
   "source": [
    "template = '''\n",
    "I want you to generate search query to find evidence for writing an article.\n",
    "I will give you the table of contents with purpose of the article, and I will need you to generate search query in keyword.\n",
    "Each keyword is used to retrieve data from the internet.\n",
    "Only say the keyword queries. But if there is none, say nothing, and don't give me an explanation.\n",
    "Generate no more than three keyword queries.\n",
    "Answer in Korean.\n",
    "\n",
    "purpose for the article:\n",
    "===\n",
    "{purpose}\n",
    "===\n",
    "\n",
    "table of contents:\n",
    "===\n",
    "{table}\n",
    "===\n",
    "\n",
    "keyword quries:\n",
    "'''"
   ]
  },
  {
   "cell_type": "code",
   "execution_count": 23,
   "metadata": {},
   "outputs": [],
   "source": [
    "class KeywordsChain:\n",
    "    def __init__(self, keywords_template=None, keywords_template_path='../openai_skt/models/templates/keywords_prompt.json', verbose=False) -> None:\n",
    "        if keywords_template is not None:\n",
    "            self.keywords_prompt = PromptTemplate(\n",
    "                    input_variables=[\"purpose\",\"table\"],\n",
    "                    template=keywords_template,\n",
    "                )\n",
    "        else:\n",
    "            self.keywords_template_path = keywords_template_path\n",
    "            self.keywords_prompt = load_prompt(self.keywords_template_path)\n",
    "        self.llm = ChatOpenAI(model=\"gpt-3.5-turbo\", temperature=0.0)\n",
    "        self.verbose = verbose\n",
    "        self.keywords_chain = LLMChain(llm=self.llm, prompt=self.keywords_prompt, verbose=self.verbose)\n",
    "\n",
    "    def run(self, purpose:str=None, table:str=None):\n",
    "        input_dict = {'purpose': purpose, 'table' : table}\n",
    "        keywords = self.keywords_chain.run(input_dict)\n",
    "        return keywords\n",
    "\n",
    "    async def arun(self, purpose:str=None):\n",
    "        input_dict = {'purpose': purpose}\n",
    "        keywords = await self.keywords_chain.arun(input_dict)\n",
    "        return keywords"
   ]
  },
  {
   "cell_type": "code",
   "execution_count": 24,
   "metadata": {},
   "outputs": [],
   "source": [
    "keywords_chain = KeywordsChain(keywords_template=template, verbose=True)"
   ]
  },
  {
   "cell_type": "code",
   "execution_count": 25,
   "metadata": {},
   "outputs": [],
   "source": [
    "table_contents = '''1. 서론\n",
    "- 축구의 세계적인 인기와 영향력\n",
    "2. 역사적 배경\n",
    "- 축구의 기원과 발전\n",
    "- 국제 축구 기구의 역할\n",
    "3. 경기의 매력\n",
    "- 스포츠의 엔터테인먼트 요소\n",
    "- 다양한 팀과 선수들의 경기력\n",
    "4. 문화적 영향\n",
    "- 축구와 국가 간의 연결고리\n",
    "- 축구 문화의 전파와 영향력\n",
    "5. 경제적 영향\n",
    "- 축구 산업의 성장과 경제적 이익\n",
    "- 축구 관련 비즈니스와 스폰서십\n",
    "6. 사회적 영향\n",
    "- 축구의 사회적 통합과 다양성 증진\n",
    "- 축구를 통한 사회적 문제 해결\n",
    "7. 결론\n",
    "- 축구의 세계적인 인기와 그 이유\n",
    "- 개인적인 경험과 생각\n",
    "'''"
   ]
  },
  {
   "cell_type": "code",
   "execution_count": 26,
   "metadata": {},
   "outputs": [
    {
     "name": "stdout",
     "output_type": "stream",
     "text": [
      "\n",
      "\n",
      "\u001b[1m> Entering new LLMChain chain...\u001b[0m\n",
      "Prompt after formatting:\n",
      "\u001b[32;1m\u001b[1;3m\n",
      "I want you to generate search query to find evidence for writing an article.\n",
      "I will give you the table of contents with purpose of the article, and I will need you to generate search query in keyword.\n",
      "Each keyword is used to retrieve data from the internet.\n",
      "Only say the keyword queries. But if there is none, say nothing, and don't give me an explanation.\n",
      "Generate no more than three keyword queries.\n",
      "Answer in Korean.\n",
      "\n",
      "purpose for the article:\n",
      "===\n",
      "축구가 세계적으로 인기있는 스포츠인 이유\n",
      "===\n",
      "\n",
      "table of contents:\n",
      "===\n",
      "1. 서론\n",
      "- 축구의 세계적인 인기와 영향력\n",
      "2. 역사적 배경\n",
      "- 축구의 기원과 발전\n",
      "- 국제 축구 기구의 역할\n",
      "3. 경기의 매력\n",
      "- 스포츠의 엔터테인먼트 요소\n",
      "- 다양한 팀과 선수들의 경기력\n",
      "4. 문화적 영향\n",
      "- 축구와 국가 간의 연결고리\n",
      "- 축구 문화의 전파와 영향력\n",
      "5. 경제적 영향\n",
      "- 축구 산업의 성장과 경제적 이익\n",
      "- 축구 관련 비즈니스와 스폰서십\n",
      "6. 사회적 영향\n",
      "- 축구의 사회적 통합과 다양성 증진\n",
      "- 축구를 통한 사회적 문제 해결\n",
      "7. 결론\n",
      "- 축구의 세계적인 인기와 그 이유\n",
      "- 개인적인 경험과 생각\n",
      "\n",
      "===\n",
      "\n",
      "keyword quries:\n",
      "\u001b[0m\n",
      "\n",
      "\u001b[1m> Finished chain.\u001b[0m\n"
     ]
    }
   ],
   "source": [
    "result = keywords_chain.run(purpose=\"축구가 세계적으로 인기있는 스포츠인 이유\", table=table_contents)"
   ]
  },
  {
   "cell_type": "code",
   "execution_count": 27,
   "metadata": {},
   "outputs": [
    {
     "name": "stdout",
     "output_type": "stream",
     "text": [
      "축구 세계적 인기\n",
      "축구 역사\n",
      "축구 경제적 영향\n"
     ]
    }
   ],
   "source": [
    "print(result)"
   ]
  },
  {
   "cell_type": "code",
   "execution_count": null,
   "metadata": {},
   "outputs": [],
   "source": []
  }
 ],
 "metadata": {
  "kernelspec": {
   "display_name": "openai_skt",
   "language": "python",
   "name": "python3"
  },
  "language_info": {
   "codemirror_mode": {
    "name": "ipython",
    "version": 3
   },
   "file_extension": ".py",
   "mimetype": "text/x-python",
   "name": "python",
   "nbconvert_exporter": "python",
   "pygments_lexer": "ipython3",
   "version": "3.10.12"
  },
  "orig_nbformat": 4
 },
 "nbformat": 4,
 "nbformat_minor": 2
}
