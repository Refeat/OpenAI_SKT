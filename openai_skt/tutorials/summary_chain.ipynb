{
 "cells": [
  {
   "cell_type": "code",
   "execution_count": 1,
   "metadata": {},
   "outputs": [],
   "source": [
    "import sys\n",
    "sys.path.append('..')"
   ]
  },
  {
   "cell_type": "markdown",
   "metadata": {},
   "source": [
    "### Set OpenAI key "
   ]
  },
  {
   "cell_type": "code",
   "execution_count": 2,
   "metadata": {},
   "outputs": [],
   "source": [
    "import os\n",
    "import configparser\n",
    "\n",
    "config = configparser.ConfigParser()\n",
    "config.read('../../.secrets.ini')\n",
    "openai_api_key = config['OPENAI']['OPENAI_API_KEY']\n",
    "\n",
    "os.environ.update({'OPENAI_API_KEY': openai_api_key})"
   ]
  },
  {
   "cell_type": "markdown",
   "metadata": {},
   "source": [
    "### chain 설정"
   ]
  },
  {
   "cell_type": "code",
   "execution_count": 3,
   "metadata": {},
   "outputs": [],
   "source": [
    "from langchain.prompts import load_prompt, PromptTemplate\n",
    "from langchain.chains import LLMChain\n",
    "from langchain.chat_models import ChatOpenAI\n",
    "from langchain.callbacks import get_openai_callback\n",
    "from langchain.embeddings import OpenAIEmbeddings"
   ]
  },
  {
   "cell_type": "code",
   "execution_count": 4,
   "metadata": {},
   "outputs": [],
   "source": [
    "template = '''\n",
    "I want you to answer the question from the given documentation. \n",
    "Even if it's not the correct answer, if it's relevant to the question, answer it. \n",
    "If there is nothing relevant in the document, return \"No useful information\".\n",
    "\n",
    "Question: {question}\n",
    "Document: {document}\n",
    "Answer:\n",
    "'''"
   ]
  },
  {
   "cell_type": "code",
   "execution_count": 5,
   "metadata": {},
   "outputs": [],
   "source": [
    "from models.llm.chain import BaseChain\n",
    "from typing import List"
   ]
  },
  {
   "cell_type": "code",
   "execution_count": 6,
   "metadata": {},
   "outputs": [],
   "source": [
    "class UnifiedSummaryChunkChain(BaseChain):\n",
    "    def __init__(self, \n",
    "                summary_chunk_template=None, \n",
    "                input_variables:List[str]=None,\n",
    "                summary_chunk_template_path='../openai_skt/models/templates/unified_summary_chunk_prompt.json', \n",
    "                model='gpt-3.5-turbo-16k', \n",
    "                verbose=False) -> None:\n",
    "        super().__init__(template=summary_chunk_template, input_variables=input_variables, template_path=summary_chunk_template_path, model=model, verbose=verbose)\n",
    "\n",
    "    def run(self, chunk:str=None, question:str=None):\n",
    "        return super().run(document=chunk, question=question)\n",
    "    \n",
    "    async def arun(self,chunk:str=None, question:str=None):\n",
    "        return await super().arun(document=chunk, question=question)"
   ]
  },
  {
   "cell_type": "code",
   "execution_count": 7,
   "metadata": {},
   "outputs": [],
   "source": [
    "summary_chain = UnifiedSummaryChunkChain(summary_chunk_template=template, input_variables=[\"question\", \"document\"], verbose=True)"
   ]
  },
  {
   "cell_type": "code",
   "execution_count": 8,
   "metadata": {},
   "outputs": [
    {
     "name": "stdout",
     "output_type": "stream",
     "text": [
      "\n",
      "\n",
      "\u001b[1m> Entering new LLMChain chain...\u001b[0m\n",
      "Prompt after formatting:\n",
      "\u001b[32;1m\u001b[1;3m\n",
      "I want you to answer the question from the given documentation. \n",
      "Even if it's not the correct answer, if it's relevant to the question, answer it. \n",
      "If there is nothing relevant in the document, return \"nothing relevant\".\n",
      "\n",
      "Question: What is the meaning of life?\n",
      "Document: The meaning of life is to be happy.\n",
      "Answer:\n",
      "\u001b[0m\n",
      "\n",
      "\u001b[1m> Finished chain.\u001b[0m\n"
     ]
    }
   ],
   "source": [
    "result = summary_chain.run(question=\"What is the meaning of life?\", chunk=\"The meaning of life is to be happy.\") "
   ]
  },
  {
   "cell_type": "code",
   "execution_count": 9,
   "metadata": {},
   "outputs": [
    {
     "name": "stdout",
     "output_type": "stream",
     "text": [
      "The meaning of life is to be happy.\n"
     ]
    }
   ],
   "source": [
    "print(result)"
   ]
  }
 ],
 "metadata": {
  "kernelspec": {
   "display_name": "openai_skt",
   "language": "python",
   "name": "python3"
  },
  "language_info": {
   "codemirror_mode": {
    "name": "ipython",
    "version": 3
   },
   "file_extension": ".py",
   "mimetype": "text/x-python",
   "name": "python",
   "nbconvert_exporter": "python",
   "pygments_lexer": "ipython3",
   "version": "3.11.4"
  },
  "orig_nbformat": 4
 },
 "nbformat": 4,
 "nbformat_minor": 2
}
