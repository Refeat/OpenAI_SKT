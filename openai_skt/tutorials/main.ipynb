{
 "cells": [
  {
   "cell_type": "code",
   "execution_count": 1,
   "metadata": {},
   "outputs": [],
   "source": [
    "import sys\n",
    "sys.path.append('..')"
   ]
  },
  {
   "cell_type": "markdown",
   "metadata": {},
   "source": [
    "### Set API key "
   ]
  },
  {
   "cell_type": "code",
   "execution_count": 2,
   "metadata": {},
   "outputs": [],
   "source": [
    "import os\n",
    "import configparser\n",
    "\n",
    "config = configparser.ConfigParser()\n",
    "config.read('../../.secrets.ini')\n",
    "OPENAI_API_KEY = config['OPENAI']['OPENAI_API_KEY']\n",
    "YOUTUBE_KEY = config['YOUTUBE']['YOUTUBE_API_KEY']\n",
    "NAVER_CLIENT_ID = config['NAVER']['NAVER_CLIENT_ID']\n",
    "NAVER_CLIENT_SECRET = config['NAVER']['NAVER_CLIENT_SECRET']\n",
    "GOOGLE_SEARCH_KEY = config['GOOGLE']['GOOGLE_API_KEY']\n",
    "CSE_ID = config['GOOGLE']['CSE_ID']\n",
    "\n",
    "os.environ.update({'OPENAI_API_KEY': OPENAI_API_KEY})\n",
    "os.environ.update({'YOUTUBE_KEY': YOUTUBE_KEY})\n",
    "os.environ.update({'NAVER_CLIENT_ID': NAVER_CLIENT_ID})\n",
    "os.environ.update({'NAVER_CLIENT_SECRET': NAVER_CLIENT_SECRET})\n",
    "os.environ.update({'GOOGLE_SEARCH_KEY': GOOGLE_SEARCH_KEY})\n",
    "os.environ.update({'CSE_ID': CSE_ID})"
   ]
  },
  {
   "cell_type": "code",
   "execution_count": 3,
   "metadata": {},
   "outputs": [],
   "source": [
    "import time\n",
    "import asyncio\n",
    "from typing import List\n",
    "\n",
    "from tools.search_tool import SearchTool\n",
    "from models.llm.chain import KeywordsChain, DraftChain, TableChain\n",
    "from models.draft_generator import DraftGeneratorInstance\n",
    "from models.keywords_generator import KeywordsGeneratorInstance\n",
    "from models.table_generator import TableGeneratorInstance\n",
    "from modules import Project"
   ]
  },
  {
   "cell_type": "code",
   "execution_count": 4,
   "metadata": {},
   "outputs": [],
   "source": [
    "verbose = False\n",
    "\n",
    "table_chain_prompt_template_path = '../../openai_skt/models/templates/table_prompt_template.txt'\n",
    "keywords_chain_prompt_template_path = '../../openai_skt/models/templates/keywords_prompt_template.txt'\n",
    "draft_chain_prompt_template_path = '../../openai_skt/models/templates/draft_prompt_template.txt'\n",
    "\n",
    "with open(table_chain_prompt_template_path, 'r') as f:\n",
    "    table_chain_prompt_template = f.read()\n",
    "with open(keywords_chain_prompt_template_path, 'r') as f:\n",
    "    keywords_chain_prompt_template = f.read()\n",
    "with open(draft_chain_prompt_template_path, 'r') as f:\n",
    "    draft_chain_prompt_template = f.read()\n",
    "table_chain = TableChain(table_template=table_chain_prompt_template, input_variables=[\"purpose\"], verbose=verbose)\n",
    "keywords_chain = KeywordsChain(keywords_template=keywords_chain_prompt_template, input_variables=[\"purpose\", \"table\"], verbose=verbose)\n",
    "draft_chain = DraftChain(draft_template=draft_chain_prompt_template, input_variables=[\"purpose\", \"draft\", \"database\", \"single_table\", \"table\"], verbose=verbose)\n",
    "\n",
    "table_generator_instance = TableGeneratorInstance(table_chain=table_chain)\n",
    "keywords_generator_instance = KeywordsGeneratorInstance(keywords_chain=keywords_chain)\n",
    "draft_generator_instance = DraftGeneratorInstance(draft_chain=draft_chain)\n",
    "\n",
    "search_tool = SearchTool()"
   ]
  },
  {
   "cell_type": "code",
   "execution_count": 5,
   "metadata": {},
   "outputs": [],
   "source": [
    "project = Project(\n",
    "    project_id=\"test_2\", \n",
    "    table_generator_instance=table_generator_instance, \n",
    "    keywords_generator_instance=keywords_generator_instance, \n",
    "    draft_generator_instance=draft_generator_instance, \n",
    "    search_tool=search_tool\n",
    ")"
   ]
  },
  {
   "cell_type": "code",
   "execution_count": 6,
   "metadata": {},
   "outputs": [
    {
     "name": "stdout",
     "output_type": "stream",
     "text": [
      "purpose:  디지털 자산과 비트코인\n"
     ]
    }
   ],
   "source": [
    "purpose = project.set_purpose(purpose=\"디지털 자산과 비트코인\")\n",
    "print('purpose: ', purpose)"
   ]
  },
  {
   "cell_type": "code",
   "execution_count": 7,
   "metadata": {},
   "outputs": [
    {
     "name": "stdout",
     "output_type": "stream",
     "text": [
      "table: \n",
      " 1. 서론\n",
      "- 디지털 자산의 개념과 중요성\n",
      "- 비트코인의 등장과 역할\n",
      "2. 비트코인의 작동 원리\n",
      "- 블록체인 기술과 분산원장\n",
      "- 비트코인의 채굴과 거래 과정\n",
      "3. 비트코인의 장점과 단점\n",
      "- 익명성과 보안성\n",
      "- 가치의 변동성과 부정적인 영향\n",
      "4. 비트코인의 활용과 영향\n",
      "- 전자상거래와 결제 시스템에서의 활용\n",
      "- 글로벌 경제와 금융 시스템에 미치는 영향\n",
      "5. 비트코인과 법적인 쟁점\n",
      "- 국가별 비트코인 규제와 법적인 문제\n",
      "- 금융 기관과의 관계와 협력\n",
      "6. 비트코인의 미래 전망\n",
      "- 디지털 자산 시장의 발전과 비트코인의 위치\n",
      "- 글쓰기 주제와 관련된 개인적인 견해나 생각\n",
      "7. 결론\n",
      "- 디지털 자산과 비트코인의 중요성과 잠재력\n"
     ]
    }
   ],
   "source": [
    "table = project.get_table()\n",
    "print('table: \\n', table)"
   ]
  },
  {
   "cell_type": "code",
   "execution_count": 8,
   "metadata": {},
   "outputs": [
    {
     "name": "stdout",
     "output_type": "stream",
     "text": [
      "keywords:  ['디지털 자산 개념', '비트코인 역할', '블록체인 기술', '비트코인 채굴 과정', '비트코인 거래 과정', '비트코인 장점', '비트코인 단점', '비트코인 전자상거래 활용', '비트코인 결제 시스템 활용', '비트코인 글로벌 경제 영향', '비트코인 법적인 쟁점', '비트코인 국가별 규제', '비트코인 금융 기관 관계', '비트코인 미래 전망', '디지털 자산 시장 발전', '비트코인의 위치', '디지털 자산 중요성', '비트코인 잠재력']\n"
     ]
    }
   ],
   "source": [
    "keywords = project.get_keywords()\n",
    "print('keywords: ', keywords)"
   ]
  },
  {
   "cell_type": "code",
   "execution_count": 9,
   "metadata": {},
   "outputs": [
    {
     "name": "stdout",
     "output_type": "stream",
     "text": [
      "통계청 API 검색 요청에 실패하였습니다., status_code: 502\n"
     ]
    }
   ],
   "source": [
    "files = project.search_keywords()"
   ]
  },
  {
   "cell_type": "code",
   "execution_count": 13,
   "metadata": {},
   "outputs": [
    {
     "name": "stdout",
     "output_type": "stream",
     "text": [
      "90\n"
     ]
    }
   ],
   "source": [
    "api_name = 'youtube'\n",
    "print(len(files[api_name]))"
   ]
  },
  {
   "cell_type": "code",
   "execution_count": 16,
   "metadata": {},
   "outputs": [
    {
     "name": "stdout",
     "output_type": "stream",
     "text": [
      "280 개의 파일이 검색되었습니다.\n"
     ]
    }
   ],
   "source": [
    "file_num = 0\n",
    "for file in files.values():\n",
    "    file_num += len(file)\n",
    "print(file_num, '개의 파일이 검색되었습니다.')"
   ]
  },
  {
   "cell_type": "code",
   "execution_count": null,
   "metadata": {},
   "outputs": [],
   "source": [
    "database = project.parse_files_to_embedchain() # 280files take 14min 45sec\n",
    "print('database: ', database)"
   ]
  },
  {
   "cell_type": "code",
   "execution_count": 26,
   "metadata": {},
   "outputs": [],
   "source": [
    "project.draft_generator_instance = draft_generator_instance"
   ]
  },
  {
   "cell_type": "code",
   "execution_count": 27,
   "metadata": {},
   "outputs": [
    {
     "name": "stdout",
     "output_type": "stream",
     "text": [
      "draft:  # 서론\n",
      "\n",
      "디지털 자산은 현대 사회에서 점차적으로 중요성을 갖추고 있는 개념입니다. 디지털 자산은 전자적인 형태로 존재하며, 재산적 가치를 가지고 있으며 사용할 권리가 있는 무형자산입니다. 이러한 디지털 자산은 기존의 재산 개념을 넘어서며, 새로운 경제 시스템과 금융 시장을 형성하고 있습니다.\n",
      "\n",
      "비트코인은 디지털 자산 중에서도 가장 잘 알려진 암호화폐입니다. 2009년에 등장한 비트코인은 블록체인 기술을 기반으로 작동하며, 분산원장을 통해 거래 기록을 관리합니다. 비트코인은 중앙 기관이나 정부의 감독을 받지 않고 운영되며, 익명성과 보안성을 갖추고 있습니다.\n",
      "\n",
      "비트코인은 전 세계적으로 거래되고 있으며, 전자상거래와 결제 시스템에서 널리 활용되고 있습니다. 또한 글로벌 경제와 금융 시스템에도 영향을 미치고 있으며, 새로운 경제 모델과 기회를 창출하고 있습니다.\n",
      "\n",
      "하지만 비트코인은 가치의 변동성과 부정적인 영향을 가지고 있습니다. 이러한 문제점들은 국가별로 다양한 규제와 법적인 쟁점을 야기하고 있습니다. 따라서 비트코인의 발전과 활용에는 법적인 쟁점을 해결하고 금융 기관과의 협력이 필요합니다.\n",
      "\n",
      "이번 글에서는 디지털 자산의 개념과 중요성에 대해 알아보고, 비트코인의 등장과 역할에 대해 살펴보겠습니다. 이를 통해 디지털 자산과 비트코인에 대한 이해를 높이고, 미래의 발전 가능성을 탐구해보겠습니다.\n",
      "## 비트코인의 작동 원리\n",
      "\n",
      "### 블록체인 기술과 분산원장\n",
      "\n",
      "비트코인은 블록체인 기술을 기반으로 작동합니다. 블록체인은 거래 내역을 분산 저장하며, 이를 위해 네트워크에 참여하는 다수의 노드들이 거래 내역을 확인하고 검증하는 과정을 거칩니다. 이 과정을 통해 거래 내역의 위변조를 방지하고, 신뢰성과 보안성을 확보할 수 있습니다.\n",
      "\n",
      "블록체인은 블록이라는 단위로 거래 내역을 저장합니다. 각 블록은 이전 블록과 연결되어 있으며, 이를 체인 형태로 구성합니다. 따라서 블록체인은 이전의 거래 내역을 모두 포함하고 있으며, 변경이 발생하면 모든 노드들이 이를 확인하고 동기화합니다.\n",
      "\n",
      "### 비트코인의 채굴과 거래 과정\n",
      "\n",
      "비트코인은 채굴 과정을 통해 생성되며, 거래는 이 채굴 과정을 통해 이루어집니다. 채굴은 수학적인 문제를 해결하는 과정으로, 이를 통해 새로운 블록을 생성하고 블록체인에 추가합니다. 채굴자는 이러한 작업을 수행함으로써 비트코인을 보상으로 받을 수 있습니다.\n",
      "\n",
      "비트코인 거래는 블록체인 상에서 이루어지며, 거래 내역은 블록에 포함되어 저장됩니다. 거래는 송금자가 자신의 비트코인을 수신자에게 전송하는 과정으로 이루어집니다. 이때 거래는 비트코인 네트워크 상에서 이루어지며, 전송 수수료를 지불해야 합니다.\n",
      "\n",
      "비트코인을 전송받은 수신자는 자신이 소유한 지갑에 비트코인을 보관하게 됩니다. 이때 비트코인은 공개키와 개인키라는 암호화된 형태로 저장되며, 개인키를 소유하고 있는 사람만이 비트코인을 사용할 수 있습니다.\n",
      "\n",
      "이렇게 비트코인의 채굴과 거래 과정을 통해 비트코인은 생성되고 전송되며, 블록체인에 기록됩니다. 이를 통해 비트코인은 분산된 거래 기록을 가지고 있으며, 중앙 기관이나 정부의 감독을 받지 않고 운영될 수 있습니다.\n",
      "## 비트코인의 장점과 단점\n",
      "\n",
      "### 익명성과 보안성\n",
      "\n",
      "비트코인은 익명성과 보안성을 갖추고 있습니다. 비트코인 거래는 개인 간에 암호화된 주소를 통해 이루어지기 때문에 정부나 감독기관의 감시를 받지 않습니다. 이를 통해 개인의 거래 내역이 보호되며, 개인 정보의 유출 우려가 줄어듭니다.\n",
      "\n",
      "또한 비트코인은 블록체인 기술을 통해 거래 내역을 분산 저장하고 검증하기 때문에 보안성이 높습니다. 블록체인은 위변조가 어렵고, 거래 내역의 변경이 발생하면 모든 노드들이 이를 확인하고 동기화합니다. 이를 통해 거래의 신뢰성과 안전성을 확보할 수 있습니다.\n",
      "\n",
      "### 가치의 변동성과 부정적인 영향\n",
      "\n",
      "비트코인은 가치의 변동성을 가지고 있습니다. 비트코인의 가격은 수요와 공급에 따라 결정되기 때문에 시장 상황에 따라 큰 폭으로 변동할 수 있습니다. 이러한 가치의 변동성은 투자자에게 큰 위험을 안고 있으며, 예측하기 어렵다는 단점을 가지고 있습니다.\n",
      "\n",
      "또한 비트코인은 외부 요인에 의해 부정적인 영향을 받을 수 있습니다. 정부 규제나 보안 문제 등의 이슈가 발생하면 비트코인의 가격에 큰 영향을 미칠 수 있습니다. 이러한 부정적인 영향은 비트코인의 안정성과 신뢰성에 대한 의문을 제기할 수 있습니다.\n",
      "\n",
      "따라서 비트코인을 이용한 투자나 거래는 가치의 변동성과 부정적인 영향을 고려해야 하며, 신중한 판단과 조심이 필요합니다. 비트코인의 장점을 살리면서 단점을 극복하기 위해서는 보다 안정적인 시장 환경과 규제 체계의 구축이 필요할 것입니다.\n",
      "## 비트코인의 활용과 영향\n",
      "\n",
      "### 전자상거래와 결제 시스템에서의 활용\n",
      "\n",
      "비트코인은 전자상거래와 결제 시스템에서 널리 활용되고 있습니다. 비트코인은 중앙 기관이나 정부의 감독을 받지 않고 운영되기 때문에 전 세계적으로 신속하고 안전한 거래를 할 수 있습니다. 또한 비트코인은 익명성을 갖추고 있기 때문에 개인 정보의 유출 우려가 줄어들고, 개인 간의 거래가 원활하게 이루어질 수 있습니다.\n",
      "\n",
      "비트코인은 전자상거래 플랫폼에서 제품이나 서비스의 결제 수단으로 사용될 수 있습니다. 예를 들어, 인터넷 쇼핑몰이나 배달 앱에서 비트코인을 통한 결제를 도입하면 고객들은 더욱 편리하게 제품이나 서비스를 구매할 수 있습니다. 또한 비트코인은 국제 거래에서도 활용될 수 있으며, 전 세계적인 결제 시스템의 통일성을 증진시킬 수 있습니다.\n",
      "\n",
      "### 글로벌 경제와 금융 시스템에 미치는 영향\n",
      "\n",
      "비트코인은 글로벌 경제와 금융 시스템에도 큰 영향을 미치고 있습니다. 비트코인은 중앙 기관이나 정부의 감독을 받지 않고 운영되기 때문에 국가 간의 경제적인 제약을 받지 않고 자유로운 경제 활동이 가능해집니다. 이를 통해 경제적인 규제와 제한을 받지 않는 기업들이 새로운 비즈니스 모델을 구축하고 성장할 수 있습니다.\n",
      "\n",
      "또한 비트코인은 금융 시스템에도 혁신을 가져옵니다. 비트코인은 전통적인 중앙 기관이나 금융 기관을 우회하고 직접적인 거래를 가능하게 합니다. 이를 통해 중개자나 중간 단계의 수수료를 줄일 수 있으며, 금융 시스템의 효율성을 향상시킬 수 있습니다. 또한 비트코인은 금융 서비스의 접근성을 높여주고, 개인들이 더욱 쉽게 금융 거래를 할 수 있게 합니다.\n",
      "\n",
      "비트코인은 또한 글로벌 경제와 금융 시스템의 통일성을 증진시킬 수 있습니다. 비트코인은 국가 간의 환율 변동이나 금융 시스템의 차이로 인한 거래의 어려움을 해결할 수 있습니다. 이를 통해 글로벌 경제의 통일성과 효율성을 증진시킬 수 있으며, 국제 거래의 활성화를 도모할 수 있습니다.\n",
      "\n",
      "비트코인의 활용과 영향은 계속해서 증가하고 있으며, 미래에는 더욱 더 중요한 역할을 할 것으로 예상됩니다. 따라서 비트코인에 대한 이해와 관련된 기술과 시스템의 발전이 필요하며, 국내외의 금융 기관과의 협력이 필요합니다. 이를 통해 우리나라는 비트코인이 촉발한 글로벌 시장의 변화에 뒤처지지 않고 먼저 대응할 수 있을 것입니다.\n",
      "## 비트코인과 법적인 쟁점\n",
      "\n",
      "### 국가별 비트코인 규제와 법적인 문제\n",
      "\n",
      "비트코인은 국가별로 다양한 규제와 법적인 문제를 야기하고 있습니다. 일부 국가에서는 비트코인을 합법적인 결제 수단으로 인정하고 있지만, 다른 국가에서는 비트코인을 불법적인 활동에 이용될 수 있는 도구로 간주하고 있습니다. 이러한 규제는 비트코인의 사용과 거래에 제한을 가할 수 있으며, 비트코인을 이용한 사업들에 어려움을 줄 수 있습니다.\n",
      "\n",
      "예를 들어, 중국은 비트코인 거래소의 운영을 금지하고 있으며, 일부 국가에서는 비트코인 거래에 대한 법적인 허가를 요구하고 있습니다. 또한 일부 국가에서는 비트코인을 통한 자금세탁이나 금융 범죄와 관련된 활동을 방지하기 위해 규제를 강화하고 있습니다.\n",
      "\n",
      "비트코인의 국가별 규제와 법적인 문제는 비트코인을 이용하는 개인과 기업들에게 영향을 미칠 수 있습니다. 비트코인을 이용한 사업들은 국가별 규제에 따라 합법적인 운영이 가능한지 여부를 판단해야 하며, 비트코인을 이용하는 개인들은 법적인 문제에 대한 책임을 갖고 거래를 해야 합니다.\n",
      "\n",
      "### 금융 기관과의 관계와 협력\n",
      "\n",
      "비트코인은 기존의 금융 시스템과는 다른 특성을 가지고 있기 때문에 금융 기관과의 관계와 협력이 필요합니다. 비트코인은 중앙 기관이나 정부의 감독을 받지 않고 운영되기 때문에 금융 기관들은 비트코인을 어떻게 다룰지에 대한 전략을 수립해야 합니다.\n",
      "\n",
      "일부 금융 기관들은 비트코인을 새로운 비즈니스 기회로 인식하고 있으며, 비트코인과 관련된 서비스를 제공하고 있습니다. 예를 들어, 일부 은행은 비트코인 거래소와의 협력을 통해 비트코인 거래를 지원하고 있으며, 일부 금융 기관은 비트코인을 보관하고 관리하는 서비스를 제공하고 있습니다.\n",
      "\n",
      "하지만 일부 금융 기관들은 비트코인의 가치의 변동성과 부정적인 영향을 우려하고 있으며, 비트코인과 관련된 서비스를 제공하지 않고 있습니다. 이러한 금융 기관들은 비트코인의 안정성과 신뢰성에 대한 의문을 가지고 있으며, 비트코인과 관련된 리스크를 최소화하기 위해 조심스럽게 접근하고 있습니다.\n",
      "\n",
      "비트코인과 금융 기관들의 관계와 협력은 비트코인의 발전과 활용에 중요한 역할을 할 것입니다. 금융 기관들은 비트코인의 특성과 잠재력을 이해하고, 비트코인과 관련된 서비스를 제공함으로써 비트코인의 발전을 촉진할 수 있습니다. 또한 금융 기관들은 비트코인의 규제와 법적인 문제에 대한 이해와 대응책을 마련해야 하며, 비트코인을 이용하는 개인과 기업들에게 안정적인 금융 환경을 제공할 수 있어야 합니다.\n",
      "## 비트코인의 미래 전망\n",
      "\n",
      "비트코인은 현재 전 세계에서 가장 인기 있는 암호화폐로서 높은 시가총액을 유지하고 있습니다. 블록체인 기술과 분산 원장 시스템을 기반으로 작동하는 비트코인은 익명성과 보안성을 갖추고 있어 많은 사람들에게 신뢰를 받고 있습니다.\n",
      "\n",
      "비트코인은 암호화폐 시장에서 가장 주목받는 디지털 자산 중 하나로 예상되며, 암호화폐 시장의 발전과 함께 더욱 중요한 역할을 할 것으로 전망됩니다. 비트코인은 전자상거래와 결제 시스템에서 널리 활용되고 있으며, 글로벌 경제와 금융 시스템에도 큰 영향을 미치고 있습니다.\n",
      "\n",
      "비트코인은 전 세계적으로 신속하고 안전한 거래를 가능하게 하며, 익명성을 갖추고 있기 때문에 개인 정보의 유출 우려가 줄어듭니다. 또한 비트코인은 중앙 기관이나 정부의 감독을 받지 않고 운영되기 때문에 경제적인 규제와 제한을 받지 않는 기업들이 새로운 비즈니스 모델을 구축하고 성장할 수 있습니다.\n",
      "\n",
      "비트코인은 금융 시스템에도 혁신을 가져오고 있습니다. 비트코인은 전통적인 중앙 기관이나 금융 기관을 우회하고 직접적인 거래를 가능하게 하며, 중개자나 중간 단계의 수수료를 줄일 수 있습니다. 또한 비트코인은 금융 서비스의 접근성을 높여주고, 개인들이 더욱 쉽게 금융 거래를 할 수 있게 합니다.\n",
      "\n",
      "비트코인은 또한 글로벌 경제와 금융 시스템의 통일성을 증진시킬 수 있습니다. 비트코인은 국가 간의 환율 변동이나 금융 시스템의 차이로 인한 거래의 어려움을 해결할 수 있으며, 국제 거래의 활성화를 도모할 수 있습니다.\n",
      "\n",
      "하지만 비트코인은 가치의 변동성과 부정적인 영향을 가지고 있기 때문에 투자나 거래에는 신중한 판단과 조심이 필요합니다. 또한 비트코인은 국가별로 다양한 규제와 법적인 문제를 야기하고 있으며, 금융 기관과의 관계와 협력이 필요합니다.\n",
      "\n",
      "비트코인의 미래 전망은 암호화폐 시장의 발전과 함께 더욱 중요한 역할을 할 것으로 예상됩니다. 디지털 자산 시장의 발전과 함께 비트코인은 더욱 더 중요한 자산으로 인정받을 것이며, 금융 시스템의 혁신과 글로벌 경제의 통일성을 증진시킬 것입니다.\n",
      "## 결론\n",
      "\n",
      "디지털 자산과 비트코인은 현대 사회에서 점차적으로 중요성을 갖추고 있는 개념입니다. 디지털 자산은 전자적인 형태로 존재하며, 재산적 가치를 가지고 있으며 사용할 권리가 있는 무형자산입니다. 비트코인은 디지털 자산 중에서도 가장 잘 알려진 암호화폐로, 블록체인 기술을 기반으로 작동하며 익명성과 보안성을 갖추고 있습니다.\n",
      "\n",
      "비트코인은 전 세계적으로 거래되고 있으며, 전자상거래와 결제 시스템에서 널리 활용되고 있습니다. 또한 글로벌 경제와 금융 시스템에도 큰 영향을 미치고 있으며, 새로운 경제 모델과 기회를 창출하고 있습니다. 하지만 비트코인은 가치의 변동성과 부정적인 영향을 가지고 있기 때문에 신중한 판단과 조심이 필요합니다.\n",
      "\n",
      "비트코인은 블록체인 기술과 분산 원장 시스템을 기반으로 작동하며, 익명성과 보안성을 갖추고 있어 많은 사람들에게 신뢰를 받고 있습니다. 비트코인은 전자상거래와 결제 시스템에서 널리 활용되고 있으며, 글로벌 경제와 금융 시스템에도 큰 영향을 미치고 있습니다.\n",
      "\n",
      "비트코인은 미래에 더욱 중요한 역할을 할 것으로 예상되며, 암호화폐 시장의 발전과 함께 더욱 중요한 자산으로 인정받을 것입니다. 디지털 자산 시장의 발전과 함께 비트코인은 더욱 더 중요한 역할을 할 것으로 예상됩니다. 따라서 비트코인에 대한 이해와 관련된 기술과 시스템의 발전이 필요하며, 국내외의 금융 기관과의 협력이 필요합니다. 이를 통해 우리나라는 비트코인이 촉발한 글로벌 시장의 변화에 뒤처지지 않고 먼저 대응할 수 있을 것입니다.\n",
      "\n"
     ]
    }
   ],
   "source": [
    "draft = project.get_draft()\n",
    "print('draft: ', draft) # 5min 47sec"
   ]
  },
  {
   "cell_type": "code",
   "execution_count": 28,
   "metadata": {},
   "outputs": [
    {
     "name": "stdout",
     "output_type": "stream",
     "text": [
      "saved user instance to ./user\\test_2\\user_instance.json\n",
      "saved draft to ./user\\test_2\\draft_0.md\n",
      "saved database to ./user\\test_2\\database.json\n"
     ]
    }
   ],
   "source": [
    "project.save_instance()"
   ]
  }
 ],
 "metadata": {
  "kernelspec": {
   "display_name": "openai_skt",
   "language": "python",
   "name": "python3"
  },
  "language_info": {
   "codemirror_mode": {
    "name": "ipython",
    "version": 3
   },
   "file_extension": ".py",
   "mimetype": "text/x-python",
   "name": "python",
   "nbconvert_exporter": "python",
   "pygments_lexer": "ipython3",
   "version": "3.11.4"
  },
  "orig_nbformat": 4
 },
 "nbformat": 4,
 "nbformat_minor": 2
}
