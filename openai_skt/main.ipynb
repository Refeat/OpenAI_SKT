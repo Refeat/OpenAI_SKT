{
 "cells": [
  {
   "cell_type": "code",
   "execution_count": 1,
   "metadata": {},
   "outputs": [],
   "source": [
    "import os\n",
    "import configparser\n",
    "\n",
    "config = configparser.ConfigParser()\n",
    "config.read('../.secrets.ini')\n",
    "openai_api_key = config['OPENAI']['OPENAI_API_KEY']\n",
    "os.environ.update({'OPENAI_API_KEY': openai_api_key})"
   ]
  },
  {
   "cell_type": "code",
   "execution_count": 2,
   "metadata": {},
   "outputs": [],
   "source": [
    "from tools.search_tool import SearchTool\n",
    "from models.llm.chain import KeywordsChain, DraftChain, TableChain\n",
    "from models.draft_generator import DraftGeneratorInstance\n",
    "from models.keywords_generator import KeywordsGeneratorInstance\n",
    "from models.table_generator import TableGeneratorInstance\n",
    "from modules import Project"
   ]
  },
  {
   "cell_type": "code",
   "execution_count": 3,
   "metadata": {},
   "outputs": [],
   "source": [
    "verbose = False\n",
    "\n",
    "table_chain = TableChain(verbose=verbose)\n",
    "keywords_chain = KeywordsChain(verbose=verbose)\n",
    "draft_chain = DraftChain(verbose=verbose)\n",
    "\n",
    "table_generator_instance = TableGeneratorInstance(table_chain=table_chain)\n",
    "keywords_generator_instance = KeywordsGeneratorInstance(keywords_chain=keywords_chain)\n",
    "draft_generator_instance = DraftGeneratorInstance(draft_chain=draft_chain)\n",
    "\n",
    "search_tool = SearchTool()    "
   ]
  },
  {
   "cell_type": "code",
   "execution_count": 4,
   "metadata": {},
   "outputs": [],
   "source": [
    "project = Project(\n",
    "    user_id=\"test_1\", \n",
    "    table_generator_instance=table_generator_instance, \n",
    "    keywords_generator_instance=keywords_generator_instance, \n",
    "    draft_generator_instance=draft_generator_instance, \n",
    "    search_tool=search_tool\n",
    ")"
   ]
  },
  {
   "cell_type": "code",
   "execution_count": 5,
   "metadata": {},
   "outputs": [
    {
     "name": "stdout",
     "output_type": "stream",
     "text": [
      "purpose:  디지털 자산과 비트코인\n"
     ]
    }
   ],
   "source": [
    "purpose = project.set_purpose(purpose=\"디지털 자산과 비트코인\")\n",
    "print('purpose: ', purpose)"
   ]
  },
  {
   "cell_type": "code",
   "execution_count": 6,
   "metadata": {},
   "outputs": [
    {
     "name": "stdout",
     "output_type": "stream",
     "text": [
      "table: \n",
      " 1. 서론\n",
      "- 디지털 자산의 개념과 중요성\n",
      "- 비트코인의 등장과 역할\n",
      "2. 비트코인의 작동 원리\n",
      "- 블록체인 기술과 분산원장\n",
      "- 비트코인의 채굴과 거래 과정\n",
      "3. 비트코인의 장점과 단점\n",
      "- 익명성과 보안성\n",
      "- 가치의 변동성과 부정적인 면모\n",
      "4. 비트코인을 포함한 다른 디지털 자산\n",
      "- 이더리움, 리플 등의 대표적인 알트코인\n",
      "- 디지털 자산 시장의 다양성과 경쟁\n",
      "5. 비트코인의 활용과 영향\n",
      "- 전자상거래와 결제 시스템에서의 활용\n",
      "- 글로벌 경제와 금융 시스템에 미치는 영향\n",
      "6. 비트코인의 미래 전망\n",
      "- 정부의 규제와 법적 문제\n",
      "- 디지털 자산 시장의 성장과 발전 가능성\n",
      "7. 결론\n",
      "- 디지털 자산과 비트코인의 중요성과 잠재력\n",
      "- 개인적인 견해와 전망\n"
     ]
    }
   ],
   "source": [
    "table = project.get_table()\n",
    "print('table: \\n', table)"
   ]
  },
  {
   "cell_type": "code",
   "execution_count": 7,
   "metadata": {},
   "outputs": [
    {
     "name": "stdout",
     "output_type": "stream",
     "text": [
      "keywords:  ['디지털 자산 개념', '비트코인 역할', '블록체인 기술', '비트코인 채굴 과정', '비트코인 장점', '비트코인 단점', '알트코인 다양성', '비트코인 활용 전자상거래', '비트코인 영향 글로벌 경제', '비트코인 미래 전망', '디지털 자산 중요성']\n"
     ]
    }
   ],
   "source": [
    "keywords = project.get_keywords()\n",
    "print('keywords: ', keywords)"
   ]
  },
  {
   "cell_type": "code",
   "execution_count": 8,
   "metadata": {},
   "outputs": [],
   "source": [
    "files = project.search_keywords()\n",
    "file_num = 0\n",
    "for keyword, keyword_files in files.items():\n",
    "    keyword_file_num = 0\n",
    "    for api, api_files in keyword_files.items():\n",
    "        file_num += len(api_files)\n",
    "        keyword_file_num += len(api_files)\n",
    "    print(f'keyword: {keyword}, file_num: {keyword_file_num}')\n",
    "print(f'total file number: {file_num}')"
   ]
  },
  {
   "cell_type": "code",
   "execution_count": null,
   "metadata": {},
   "outputs": [
    {
     "name": "stdout",
     "output_type": "stream",
     "text": [
      "[{'제목': '디자인산업통계 : [디자인활용업체]디자인 수준_종합', '날짜': '산업통상자원부 (2017 ~ 2017)', '설명': '특성별 분야별 평균별 전체 서비스/경험디자인 시각디자인 10억원 미만 1,000억원 이상 고용 없음 제품디자인 디지털/멀티미디어디자인 투자금액별 본사,본점 등 인천 디자인인프라 서비스디자인 농업,임업및어업 제조업 50인 미만 조직형태별(1) 회사법인 회사이외법인 단독사업체 최종소비재 부산/울산/경남 경기 디자인인...', '링크': 'https://kosis.kr/statHtml/statHtml.do?orgId=115&tblId=DT_115026_C037&vw_cd=MT_ZTITLE&list_id=115_11526_2017_003&scrId=&seqNo=&lang_mode=ko&obj_var_id=&itm_id=&conn_path=K1&path=%25EB%258F%2584%25EC%2586%258C%25EB%25A7%25A4%25E3%2586%258D%25EC%2584%259C%25EB%25B9%2584%25EC%258A%25A4%2520%253E%2520%25EB%2594%2594%25EC%259E%2590%25EC%259D%25B8%25EC%2582%25B0%25EC%2597%2585%25ED%2586%25B5%25EA%25B3%2584%2520%253E%25202015%25EB%2585%2584~%2520%253E%2520%25EB%2594%2594%25EC%259E%2590%25EC%259D%25B8%25ED%2599%259C%25EC%259A%25A9%25EC%2597%2585%25EC%25B2%25B4%255B%25EB%2594%2594%25EC%259E%2590%25EC%259D%25B8%25ED%2599%259C%25EC%259A%25A9%25EC%2597%2585%25EC%25B2%25B4%255D%25EB%2594%2594%25EC%259E%2590%25EC%259D%25B8%2520%25EC%2588%2598%25EC%25A4%2580_%25EC%25A2%2585%25ED%2595%25A9', 'data_type': 'web_page', 'data_path': 'https://kosis.kr/statHtml/statHtml.do?orgId=115&tblId=DT_115026_C037&vw_cd=MT_ZTITLE&list_id=115_11526_2017_003&scrId=&seqNo=&lang_mode=ko&obj_var_id=&itm_id=&conn_path=K1&path=%25EB%258F%2584%25EC%2586%258C%25EB%25A7%25A4%25E3%2586%258D%25EC%2584%259C%25EB%25B9%2584%25EC%258A%25A4%2520%253E%2520%25EB%2594%2594%25EC%259E%2590%25EC%259D%25B8%25EC%2582%25B0%25EC%2597%2585%25ED%2586%25B5%25EA%25B3%2584%2520%253E%25202015%25EB%2585%2584~%2520%253E%2520%25EB%2594%2594%25EC%259E%2590%25EC%259D%25B8%25ED%2599%259C%25EC%259A%25A9%25EC%2597%2585%25EC%25B2%25B4%255B%25EB%2594%2594%25EC%259E%2590%25EC%259D%25B8%25ED%2599%259C%25EC%259A%25A9%25EC%2597%2585%25EC%25B2%25B4%255D%25EB%2594%2594%25EC%259E%2590%25EC%259D%25B8%2520%25EC%2588%2598%25EC%25A4%2580_%25EC%25A2%2585%25ED%2595%25A9'}, {'제목': '디자인산업통계 : [디자인활용업체]디자인 수준_문화', '날짜': '산업통상자원부 (2017 ~ 2017)', '설명': '특성별 수준별 문화별 전체 디자인인프라 업종별(2) 산업공예디자인 디자인인프라 대기업 소기업 500~1,000억원 미만 시각디자인 디지털/멀티미디어디자인 회사이외법인 외감기업 중간재 업종별(1) 인테리어디자인 공간디자인 중기업 10~30억원 미만 디자이너 고용여부별 외주 용역여부별 제품디자인 제조업 도매 및 소매...', '링크': 'https://kosis.kr/statHtml/statHtml.do?orgId=115&tblId=DT_115026_C055&vw_cd=MT_ZTITLE&list_id=115_11526_2017_003&scrId=&seqNo=&lang_mode=ko&obj_var_id=&itm_id=&conn_path=K1&path=%25EB%258F%2584%25EC%2586%258C%25EB%25A7%25A4%25E3%2586%258D%25EC%2584%259C%25EB%25B9%2584%25EC%258A%25A4%2520%253E%2520%25EB%2594%2594%25EC%259E%2590%25EC%259D%25B8%25EC%2582%25B0%25EC%2597%2585%25ED%2586%25B5%25EA%25B3%2584%2520%253E%25202015%25EB%2585%2584~%2520%253E%2520%25EB%2594%2594%25EC%259E%2590%25EC%259D%25B8%25ED%2599%259C%25EC%259A%25A9%25EC%2597%2585%25EC%25B2%25B4%255B%25EB%2594%2594%25EC%259E%2590%25EC%259D%25B8%25ED%2599%259C%25EC%259A%25A9%25EC%2597%2585%25EC%25B2%25B4%255D%25EB%2594%2594%25EC%259E%2590%25EC%259D%25B8%2520%25EC%2588%2598%25EC%25A4%2580_%25EB%25AC%25B8%25ED%2599%2594', 'data_type': 'web_page', 'data_path': 'https://kosis.kr/statHtml/statHtml.do?orgId=115&tblId=DT_115026_C055&vw_cd=MT_ZTITLE&list_id=115_11526_2017_003&scrId=&seqNo=&lang_mode=ko&obj_var_id=&itm_id=&conn_path=K1&path=%25EB%258F%2584%25EC%2586%258C%25EB%25A7%25A4%25E3%2586%258D%25EC%2584%259C%25EB%25B9%2584%25EC%258A%25A4%2520%253E%2520%25EB%2594%2594%25EC%259E%2590%25EC%259D%25B8%25EC%2582%25B0%25EC%2597%2585%25ED%2586%25B5%25EA%25B3%2584%2520%253E%25202015%25EB%2585%2584~%2520%253E%2520%25EB%2594%2594%25EC%259E%2590%25EC%259D%25B8%25ED%2599%259C%25EC%259A%25A9%25EC%2597%2585%25EC%25B2%25B4%255B%25EB%2594%2594%25EC%259E%2590%25EC%259D%25B8%25ED%2599%259C%25EC%259A%25A9%25EC%2597%2585%25EC%25B2%25B4%255D%25EB%2594%2594%25EC%259E%2590%25EC%259D%25B8%2520%25EC%2588%2598%25EC%25A4%2580_%25EB%25AC%25B8%25ED%2599%2594'}]\n",
      "[{'제목': '[풀버전] 디지털 자산 투자를 위해 반드시 알아야 할 블록체인 생태계ㅣ박성준 교수 #박성준 #카이로스 #암호화폐 #디지털자산', '날짜': '2022-04-22T21:53:02Z', '채널': '카이로스북클럽kairosbookclub', '설명': '여러분은 암호화폐를 어느정도 이해하고 투자하시나요? 오늘은 앤드어스 대표이자 동국대 블록체인센터장 박성준 교수님의 명강의를 ...', '링크': 'https://www.youtube.com/watch?v=MDQdRMA5j60', 'data_type': 'youtube_video', 'data_path': 'https://www.youtube.com/watch?v=MDQdRMA5j60'}, {'제목': '디지털 자산 투자, 이것만은 꼭 이해하고 투자하세요!ㅣ[1/3부] 박성준 교수 #박성준 #카이로스 #암호화폐 #디지털자산', '날짜': '2022-04-18T11:00:56Z', '채널': '카이로스북클럽kairosbookclub', '설명': '여러분은 암호화폐를 어느정도 이해하고 투자하시나요? 오늘은 앤드어스 대표이자 동국대 블록체인센터장 박성준 교수님의 명강의를 ...', '링크': 'https://www.youtube.com/watch?v=y08DzNQYNF0', 'data_type': 'youtube_video', 'data_path': 'https://www.youtube.com/watch?v=y08DzNQYNF0'}, {'제목': '앞으로 디지털 가상자산을 이해한 사람만 살아남는 시대 ㅣ 금융전문가_안유화', '날짜': '2022-04-25T03:00:10Z', '채널': 'MKYU Official', '설명': '가장자산 정복을 위해 반드시 알아야 할 것은 무엇일까요? 블록체인! 디파이! CBDC! 기본 개념부터 공부해야 가장자산을 제대로 정복 ...', '링크': 'https://www.youtube.com/watch?v=d5Szz3UaDJc', 'data_type': 'youtube_video', 'data_path': 'https://www.youtube.com/watch?v=d5Szz3UaDJc'}, {'제목': '디지털 자산 수탁사업(디지털 자산 커스터디)이란 무엇인가요?', '날짜': '2023-07-10T07:00:33Z', '채널': '투이컨설팅-투이톡', '설명': '디지털 자산의 법적 규제가 현실화되면서 디지털 자산 수탁업에 대한 관심이 다시 높아지고 있습니다. 이는 디지털 자산에 대한 법적 ...', '링크': 'https://www.youtube.com/watch?v=zi69IWQU4ic', 'data_type': 'youtube_video', 'data_path': 'https://www.youtube.com/watch?v=zi69IWQU4ic'}, {'제목': '얼어 붙은 디지털 자산 시장 📉 앞으로 우리가 해야 할 잃지 않는 투자법!｜차이나는 클라스｜JTBC 220731 방송', '날짜': '2022-08-01T08:30:00Z', '채널': '차이나는 클라스', '설명': '우리 일상에 들어온 NFT, 그래서 그게 뭔데?! 얼어붙은 디지털 자산 시장과 앞으로 우리가 해야 할 잃지 않는 투자법! 홍기훈 교수님 ...', '링크': 'https://www.youtube.com/watch?v=3OmjYt7dgOU', 'data_type': 'youtube_video', 'data_path': 'https://www.youtube.com/watch?v=3OmjYt7dgOU'}]\n",
      "[]\n"
     ]
    }
   ],
   "source": [
    "keyword = '디지털 자산 개념'\n",
    "print(files[keyword]['kostat'])\n",
    "print(files[keyword]['youtube'])\n",
    "print(files[keyword]['gallup'])"
   ]
  },
  {
   "cell_type": "code",
   "execution_count": null,
   "metadata": {},
   "outputs": [
    {
     "name": "stdout",
     "output_type": "stream",
     "text": [
      "All data from https://kosis.kr/statHtml/statHtml.do?orgId=115&tblId=DT_115026_C037&vw_cd=MT_ZTITLE&list_id=115_11526_2017_003&scrId=&seqNo=&lang_mode=ko&obj_var_id=&itm_id=&conn_path=K1&path=%25EB%258F%2584%25EC%2586%258C%25EB%25A7%25A4%25E3%2586%258D%25EC%2584%259C%25EB%25B9%2584%25EC%258A%25A4%2520%253E%2520%25EB%2594%2594%25EC%259E%2590%25EC%259D%25B8%25EC%2582%25B0%25EC%2597%2585%25ED%2586%25B5%25EA%25B3%2584%2520%253E%25202015%25EB%2585%2584~%2520%253E%2520%25EB%2594%2594%25EC%259E%2590%25EC%259D%25B8%25ED%2599%259C%25EC%259A%25A9%25EC%2597%2585%25EC%25B2%25B4%255B%25EB%2594%2594%25EC%259E%2590%25EC%259D%25B8%25ED%2599%259C%25EC%259A%25A9%25EC%2597%2585%25EC%25B2%25B4%255D%25EB%2594%2594%25EC%259E%2590%25EC%259D%25B8%2520%25EC%2588%2598%25EC%25A4%2580_%25EC%25A2%2585%25ED%2595%25A9 already exists in the database.\n",
      "All data from https://kosis.kr/statHtml/statHtml.do?orgId=115&tblId=DT_115026_C055&vw_cd=MT_ZTITLE&list_id=115_11526_2017_003&scrId=&seqNo=&lang_mode=ko&obj_var_id=&itm_id=&conn_path=K1&path=%25EB%258F%2584%25EC%2586%258C%25EB%25A7%25A4%25E3%2586%258D%25EC%2584%259C%25EB%25B9%2584%25EC%258A%25A4%2520%253E%2520%25EB%2594%2594%25EC%259E%2590%25EC%259D%25B8%25EC%2582%25B0%25EC%2597%2585%25ED%2586%25B5%25EA%25B3%2584%2520%253E%25202015%25EB%2585%2584~%2520%253E%2520%25EB%2594%2594%25EC%259E%2590%25EC%259D%25B8%25ED%2599%259C%25EC%259A%25A9%25EC%2597%2585%25EC%25B2%25B4%255B%25EB%2594%2594%25EC%259E%2590%25EC%259D%25B8%25ED%2599%259C%25EC%259A%25A9%25EC%2597%2585%25EC%25B2%25B4%255D%25EB%2594%2594%25EC%259E%2590%25EC%259D%25B8%2520%25EC%2588%2598%25EC%25A4%2580_%25EB%25AC%25B8%25ED%2599%2594 already exists in the database.\n",
      "All data from https://www.youtube.com/watch?v=MDQdRMA5j60 already exists in the database.\n",
      "All data from https://www.youtube.com/watch?v=y08DzNQYNF0 already exists in the database.\n",
      "All data from https://www.youtube.com/watch?v=d5Szz3UaDJc already exists in the database.\n",
      "All data from https://www.youtube.com/watch?v=zi69IWQU4ic already exists in the database.\n",
      "All data from https://www.youtube.com/watch?v=3OmjYt7dgOU already exists in the database.\n",
      "Successfully saved https://lawsociety.or.kr/90/11697595 (DataType.WEB_PAGE). New chunks count: 3\n",
      "Successfully saved https://www.business.kaist.ac.kr/html/executive/sub09/sub02_0905.html (DataType.WEB_PAGE). New chunks count: 3\n",
      "Successfully saved https://www.jipyong.com/kr/board/news_view.php?seq=11261 (DataType.WEB_PAGE). New chunks count: 8\n",
      "Successfully saved https://m.upbitcare.com/academy/education/blockchain/58 (DataType.WEB_PAGE). New chunks count: 5\n",
      "Successfully saved https://now.k2base.re.kr/portal/trend/mainTrend/view.do?poliTrndId=TRND0000000000044554&menuNo=200004&pageUnit=10&pageIndex=4 (DataType.WEB_PAGE). New chunks count: 8\n",
      "https://ko.wikipedia.org/wiki/%EB%94%94%EC%A7%80%ED%84%B8_%EC%9E%90%EC%82%B0 has no data\n",
      "https://arongmunggah.tistory.com/35 has no data\n",
      "https://blog.naver.com/lawjust08/222997642927 has no data\n",
      "https://dos.companyipr.com/entry/%EB%94%94%EC%A7%80%ED%84%B8-%EC%9E%90%EC%82%B0Digital-Asset%EC%9D%98-%EA%B0%9C%EB%85%90 has no data\n",
      "https://projectnftbus.tistory.com/8 has no data\n",
      "Successfully saved https://www.youtube.com/watch?v=-01VtuvEZoU (DataType.YOUTUBE_VIDEO). New chunks count: 1\n",
      "Successfully saved https://www.youtube.com/watch?v=5dkaMkcTgNA (DataType.YOUTUBE_VIDEO). New chunks count: 4\n",
      "Successfully saved https://www.youtube.com/watch?v=kiy4m5UPGig (DataType.YOUTUBE_VIDEO). New chunks count: 5\n",
      "Successfully saved https://www.youtube.com/watch?v=2z-Yu-4tIrc (DataType.YOUTUBE_VIDEO). New chunks count: 1\n",
      "Successfully saved https://www.youtube.com/watch?v=fxQ4NjJC6zU (DataType.YOUTUBE_VIDEO). New chunks count: 10\n",
      "https://eiec.kdi.re.kr/material/clickView.do?click_yymm=201512&cidx=2131 has no data\n",
      "Successfully saved https://kr.cointelegraph.com/learn/what-is-bitcoin (DataType.WEB_PAGE). New chunks count: 1\n",
      "Successfully saved https://ko.wikipedia.org/wiki/%EB%B9%84%ED%8A%B8%EC%BD%94%EC%9D%B8 (DataType.WEB_PAGE). New chunks count: 43\n",
      "Successfully saved https://www.etri.re.kr/webzine/20170811/sub04.html (DataType.WEB_PAGE). New chunks count: 10\n",
      "Successfully saved https://upbitcare.com/academy/education/coin/36 (DataType.WEB_PAGE). New chunks count: 4\n",
      "https://ko.wikipedia.org/wiki/%EB%B9%84%ED%8A%B8%EC%BD%94%EC%9D%B8 has no data\n",
      "https://namu.wiki/w/%EB%B9%84%ED%8A%B8%EC%BD%94%EC%9D%B8 has no data\n",
      "https://ko.wikipedia.org/wiki/2020%EB%85%84_%EB%B9%84%ED%8A%B8%EC%BD%94%EC%9D%B8_%EC%97%B4%ED%92%8D has no data\n",
      "https://www.btcc.com/ko-KR/academy/crypto-basics/introduction-to-bitcoin-mining-how-to-mine-bitcoin-and-even-a-miner has no data\n",
      "https://www.tokenpost.kr/article-127167 has no data\n",
      "Successfully saved https://www.youtube.com/watch?v=qELUSn5uCrU (DataType.YOUTUBE_VIDEO). New chunks count: 2\n",
      "Successfully saved https://www.youtube.com/watch?v=Kqflu8NoCMU (DataType.YOUTUBE_VIDEO). New chunks count: 8\n",
      "Successfully saved https://www.youtube.com/watch?v=3lrAaCWUSWs (DataType.YOUTUBE_VIDEO). New chunks count: 5\n",
      "Successfully saved https://www.youtube.com/watch?v=MDRF4PMWdsg (DataType.YOUTUBE_VIDEO). New chunks count: 11\n",
      "Successfully saved https://www.youtube.com/watch?v=BKLfMx5hscI (DataType.YOUTUBE_VIDEO). New chunks count: 2\n",
      "Successfully saved https://aws.amazon.com/ko/what-is/blockchain/ (DataType.WEB_PAGE). New chunks count: 23\n",
      "Successfully saved https://www.ibm.com/kr-ko/topics/blockchain (DataType.WEB_PAGE). New chunks count: 15\n"
     ]
    },
    {
     "name": "stderr",
     "output_type": "stream",
     "text": [
      "2023-09-02 03:51:54,317 [bs4.dammit] [WARNING] Some characters could not be decoded, and were replaced with REPLACEMENT CHARACTER.\n"
     ]
    },
    {
     "name": "stdout",
     "output_type": "stream",
     "text": [
      "Successfully saved https://www.kiri.or.kr/pdf/%EC%97%B0%EA%B5%AC%EC%9E%90%EB%A3%8C/%EC%97%B0%EA%B5%AC%EB%B3%B4%EA%B3%A0%EC%84%9C/nre2018-24_02.pdf (DataType.WEB_PAGE). New chunks count: 918\n",
      "Successfully saved https://namu.wiki/w/%EB%B8%94%EB%A1%9D%EC%B2%B4%EC%9D%B8 (DataType.WEB_PAGE). New chunks count: 42\n",
      "All data from https://www.investopedia.com/terms/b/blockchain.asp already exists in the database.\n",
      "https://www.korea.kr/news/policyNewsView.do?newsId=148916906 has no data\n",
      "https://ko.wikipedia.org/wiki/%EB%B8%94%EB%A1%9D%EC%B2%B4%EC%9D%B8 has no data\n",
      "https://aws.amazon.com/ko/what-is/blockchain/ has no data\n",
      "https://www.ibm.com/kr-ko/topics/blockchain has no data\n",
      "https://namu.wiki/w/%EB%B8%94%EB%A1%9D%EC%B2%B4%EC%9D%B8 has no data\n",
      "Successfully saved https://www.youtube.com/watch?v=60rW6EG3VlM (DataType.YOUTUBE_VIDEO). New chunks count: 2\n",
      "Successfully saved https://www.youtube.com/watch?v=bYvn4eDzeF8 (DataType.YOUTUBE_VIDEO). New chunks count: 1\n",
      "Successfully saved https://www.youtube.com/watch?v=eCW7KYyTEUU (DataType.YOUTUBE_VIDEO). New chunks count: 1\n",
      "Successfully saved https://www.youtube.com/watch?v=njOtT9JVOMI (DataType.YOUTUBE_VIDEO). New chunks count: 3\n",
      "Successfully saved https://www.youtube.com/watch?v=RmgbORfouVA (DataType.YOUTUBE_VIDEO). New chunks count: 1\n",
      "Successfully saved https://blog.softcamp.co.kr/227 (DataType.WEB_PAGE). New chunks count: 6\n",
      "Successfully saved https://kr.cointelegraph.com/learn/what-is-mining (DataType.WEB_PAGE). New chunks count: 1\n",
      "Successfully saved https://upbitcare.com/academy/education/blockchain/60 (DataType.WEB_PAGE). New chunks count: 3\n",
      "Successfully saved https://toktok.io/bitcoin-mining/ (DataType.WEB_PAGE). New chunks count: 16\n",
      "Successfully saved https://www.btcc.com/ko-KR/academy/crypto-basics/introduction-to-bitcoin-mining-how-to-mine-bitcoin-and-even-a-miner (DataType.WEB_PAGE). New chunks count: 31\n",
      "https://www.btcc.com/ko-KR/academy/crypto-basics/introduction-to-bitcoin-mining-how-to-mine-bitcoin-and-even-a-miner has no data\n",
      "https://ko.wikipedia.org/wiki/%EB%B9%84%ED%8A%B8%EC%BD%94%EC%9D%B8 has no data\n",
      "https://make-spend-money.tistory.com/211 has no data\n",
      "https://blog.naver.com/msquare_global/223148635155 has no data\n",
      "https://www.slideshare.net/ssuser1cbe1b/ss-81793303 has no data\n",
      "All data from https://www.youtube.com/watch?v=2z-Yu-4tIrc already exists in the database.\n",
      "Successfully saved https://www.youtube.com/watch?v=DmYWaC2zd-k (DataType.YOUTUBE_VIDEO). New chunks count: 3\n",
      "Successfully saved https://www.youtube.com/watch?v=FNAtE_RUTOk (DataType.YOUTUBE_VIDEO). New chunks count: 1\n",
      "All data from https://www.youtube.com/watch?v=5dkaMkcTgNA already exists in the database.\n",
      "All data from https://www.youtube.com/watch?v=-01VtuvEZoU already exists in the database.\n",
      "All data from https://kr.cointelegraph.com/learn/what-is-bitcoin already exists in the database.\n",
      "Successfully saved https://blog.naver.com/yeombrothers/221011716890 (DataType.WEB_PAGE). New chunks count: 1\n",
      "Successfully saved https://namu.wiki/w/%EB%B9%84%ED%8A%B8%EC%BD%94%EC%9D%B8/%ED%8F%89%EA%B0%80 (DataType.WEB_PAGE). New chunks count: 79\n",
      "Successfully saved https://m.joseilbo.com/news/view.htm?newsid=418468 (DataType.WEB_PAGE). New chunks count: 6\n",
      "Successfully saved https://www.ifcmarkets.com/ko/learn-about-crypto/pros-and-cons-of-cryptocurrencies (DataType.WEB_PAGE). New chunks count: 10\n",
      "https://namu.wiki/w/%EB%B9%84%ED%8A%B8%EC%BD%94%EC%9D%B8/%ED%8F%89%EA%B0%80 has no data\n",
      "https://bitcoin.org/ko/faq has no data\n",
      "https://yeye00712.tistory.com/entry/%ED%95%AB-%ED%95%98%EB%8D%98-%EB%B9%84%ED%8A%B8%EC%BD%94%EC%9D%B8-%EC%9E%91%EB%8F%99-%EB%B0%A9%EC%8B%9D%EA%B3%BC-%EC%9E%A5%EC%A0%90-%EC%95%9E%EC%9C%BC%EB%A1%9C%EC%9D%98-%EC%A0%84%EB%A7%9D has no data\n",
      "https://sanson.tistory.com/569 has no data\n",
      "https://monjae.tistory.com/507 has no data\n",
      "Successfully saved https://www.youtube.com/watch?v=-3m5yFX_1Mw (DataType.YOUTUBE_VIDEO). New chunks count: 5\n",
      "All data from https://www.youtube.com/watch?v=2z-Yu-4tIrc already exists in the database.\n",
      "Successfully saved https://www.youtube.com/watch?v=S9DMw5iBlZo (DataType.YOUTUBE_VIDEO). New chunks count: 2\n",
      "All data from https://www.youtube.com/watch?v=kiy4m5UPGig already exists in the database.\n",
      "Successfully saved https://www.youtube.com/watch?v=30mfs9NcZUI (DataType.YOUTUBE_VIDEO). New chunks count: 13\n",
      "Successfully saved http://weekly.chosun.com/news/articleView.html?idxno=18658 (DataType.WEB_PAGE). New chunks count: 12\n",
      "All data from https://namu.wiki/w/%EB%B9%84%ED%8A%B8%EC%BD%94%EC%9D%B8/%ED%8F%89%EA%B0%80 already exists in the database.\n",
      "All data from https://ko.wikipedia.org/wiki/%EB%B9%84%ED%8A%B8%EC%BD%94%EC%9D%B8 already exists in the database.\n",
      "Successfully saved https://www.cmegroup.com/ko/education/featured-reports/an-in-depth-look-at-the-economics-of-bitcoin.html (DataType.WEB_PAGE). New chunks count: 25\n"
     ]
    },
    {
     "name": "stderr",
     "output_type": "stream",
     "text": [
      "2023-09-02 03:58:47,891 [bs4.dammit] [WARNING] Some characters could not be decoded, and were replaced with REPLACEMENT CHARACTER.\n"
     ]
    },
    {
     "name": "stdout",
     "output_type": "stream",
     "text": [
      "Successfully saved https://www.globalxetfs.com/content/files/Theme-Lab-Behind-The-Scenes-of-Bitcoin-Mining_KO-KR-1.pdf (DataType.WEB_PAGE). New chunks count: 557\n",
      "https://ko.wikipedia.org/wiki/%EB%B9%84%ED%8A%B8%EC%BD%94%EC%9D%B8 has no data\n",
      "https://namu.wiki/w/%EB%B9%84%ED%8A%B8%EC%BD%94%EC%9D%B8 has no data\n",
      "https://bitcoin.org/ko/faq has no data\n",
      "https://blog.naver.com/seungho716/223163923041 has no data\n",
      "https://www.tokenpost.kr/article-133342 has no data\n",
      "Successfully saved https://www.youtube.com/watch?v=VLdBBMdoFnk (DataType.YOUTUBE_VIDEO). New chunks count: 2\n",
      "Successfully saved https://www.youtube.com/watch?v=sHSs8fWZ878 (DataType.YOUTUBE_VIDEO). New chunks count: 1\n",
      "Successfully saved https://www.youtube.com/watch?v=f-ImHUbecMw (DataType.YOUTUBE_VIDEO). New chunks count: 1\n",
      "All data from https://www.youtube.com/watch?v=MDRF4PMWdsg already exists in the database.\n",
      "Successfully saved https://www.youtube.com/watch?v=xirYQL0Kq58 (DataType.YOUTUBE_VIDEO). New chunks count: 1\n",
      "Successfully saved https://www.ledger.com/ko/%EC%95%94%ED%98%B8%ED%99%94%ED%8F%90-%EC%82%AC%EC%9A%A9-%EC%82%AC%EB%A1%80-%EC%95%94%ED%98%B8%ED%99%94%ED%8F%90%EA%B0%80-%EB%AC%B4%EC%97%87%EC%9D%84-%EA%B0%80%EC%A0%B8%EC%98%AC-%EC%88%98-%EC%9E%88 (DataType.WEB_PAGE). New chunks count: 7\n",
      "Successfully saved https://blog.purestorage.com/ko/perspectives-ko/10-blockchain-use-cases-to-watch/ (DataType.WEB_PAGE). New chunks count: 1\n",
      "Successfully saved https://www.hani.co.kr/arti/economy/finance/992211.html (DataType.WEB_PAGE). New chunks count: 13\n",
      "Successfully saved https://www.codestates.com/blog/content/%EB%B8%94%EB%A1%9D%EC%B2%B4%EC%9D%B8-%ED%99%9C%EC%9A%A9%EC%82%AC%EB%A1%80 (DataType.WEB_PAGE). New chunks count: 10\n",
      "Successfully saved https://www.udemy.com/course/advanced-blockchain-course/ (DataType.WEB_PAGE). New chunks count: 16\n",
      "https://www.a-ha.io/questions/4e4b76dc3b176522ab3ab565e1b4d3a7 has no data\n",
      "https://www.tokenpost.kr/article-133342 has no data\n",
      "https://blog.naver.com/sally_company/222559480624 has no data\n",
      "https://namu.wiki/w/%EB%B9%84%ED%8A%B8%EC%BD%94%EC%9D%B8 has no data\n",
      "https://dosol55.tistory.com/entry/%EB%B8%94%EB%A1%9D%EC%B2%B4%EC%9D%B8-%EB%9C%BB-%EA%B8%B0%EB%B3%B8%EA%B0%9C%EB%85%90-%ED%99%9C%EC%9A%A9%EC%82%AC%EB%A1%80-%EA%B4%80%EB%A0%A8%EC%A3%BC-%EB%B9%84%ED%8A%B8%EC%BD%94%EC%9D%B8-%EC%B4%9D%EC%A0%95%EB%A6%AC has no data\n",
      "Successfully saved https://www.youtube.com/watch?v=ibCqYFBZ7cM (DataType.YOUTUBE_VIDEO). New chunks count: 3\n",
      "Successfully saved https://www.youtube.com/watch?v=zK-2KUSLIh0 (DataType.YOUTUBE_VIDEO). New chunks count: 2\n",
      "Successfully saved https://www.youtube.com/watch?v=rltr_LUOGXs (DataType.YOUTUBE_VIDEO). New chunks count: 4\n",
      "Successfully saved https://www.youtube.com/watch?v=V5mmuJ7ANFU (DataType.YOUTUBE_VIDEO). New chunks count: 1\n",
      "Successfully saved https://www.youtube.com/watch?v=dz-LEgSPmgQ (DataType.YOUTUBE_VIDEO). New chunks count: 11\n",
      "Successfully saved https://www.businesspost.co.kr/BP?command=article_view&num=313885 (DataType.WEB_PAGE). New chunks count: 6\n",
      "Successfully saved https://www.fortunekorea.co.kr/news/articleView.html?idxno=26080 (DataType.WEB_PAGE). New chunks count: 5\n",
      "Successfully saved https://www.digitalasset.works/news/articleView.html?idxno=3217 (DataType.WEB_PAGE). New chunks count: 6\n",
      "Successfully saved https://weekly.donga.com/List/3/all/11/3347266/1 (DataType.WEB_PAGE). New chunks count: 9\n",
      "Successfully saved https://www.hani.co.kr/arti/opinion/column/1087136.html (DataType.WEB_PAGE). New chunks count: 14\n",
      "https://ponzi-killer.tistory.com/17 has no data\n",
      "https://www.business2community.com/kr/cryptocurrency/bitcoin-price-prediction has no data\n",
      "https://www.btcc.com/ko-KR/academy/research-analysis/bitcoin-price-forecast has no data\n",
      "https://conveyvalue.tistory.com/entry/%EB%B9%84%ED%8A%B8%EC%BD%94%EC%9D%B8-%EA%B0%80%EA%B2%A9-%EC%98%88%EC%B8%A1-%EC%B5%9C%EA%B7%BC-%EB%8F%99%ED%96%A5%EA%B3%BC-%EB%AF%B8%EB%9E%98-%EC%A0%84%EB%A7%9D has no data\n",
      "https://blog.naver.com/ajjuguru/223141167050 has no data\n",
      "Successfully saved https://kosis.kr/statHtml/statHtml.do?orgId=201&tblId=DT_201004_O160002_2020&vw_cd=MT_ZTITLE&list_id=201_10_004_016&scrId=&seqNo=&lang_mode=ko&obj_var_id=&itm_id=&conn_path=K1&path=%25EC%25A7%2580%25EC%2597%25AD%25ED%2586%25B5%25EA%25B3%2584%2520%253E%2520%25EC%25A7%2580%25EC%259E%2590%25EC%25B2%25B4%2520%25EA%25B8%25B0%25EB%25B3%25B8%25ED%2586%25B5%25EA%25B3%2584%2520%253E%2520%25EC%2584%259C%25EC%259A%25B8%25ED%258A%25B9%25EB%25B3%2584%25EC%258B%259C%2520%253E%2520%25EC%2584%259C%25EC%259A%25B8%25ED%258A%25B9%25EB%25B3%2584%25EC%258B%259C%25EA%25B8%25B0%25EB%25B3%25B8%25ED%2586%25B5%25EA%25B3%2584%2520%253E%2520%25EA%25B3%25B5%25EA%25B3%25B5%25ED%2596%2589%25EC%25A0%2595%25C2%25B7%25EC%2582%25AC%25EB%25B2%2595%25EC%258B%259C%25EB%25B3%25B8%25EC%25B2%25AD%2520%25EA%25B3%25B5%25EB%25AC%25B4%25EC%259B%2590%2528%25EC%25A0%2595%25EC%259B%2590%2529%25282020%25EB%2585%2584%2520%25EC%259D%25B4%25ED%259B%2584%2529 (DataType.WEB_PAGE). New chunks count: 1\n",
      "Successfully saved https://kosis.kr/statHtml/statHtml.do?orgId=101&tblId=DT_1FS1003_S&vw_cd=MT_ZTITLE&list_id=L_5_001_001_001&scrId=&seqNo=&lang_mode=ko&obj_var_id=&itm_id=&conn_path=K1&path=%25EA%25B4%2591%25EC%2597%2585%25E3%2586%258D%25EC%25A0%259C%25EC%25A1%25B0%25EC%2597%2585%2520%253E%2520%25EA%25B4%2591%25EC%2597%2585%25EC%25A0%259C%25EC%25A1%25B0%25EC%2597%2585%25EC%25A1%25B0%25EC%2582%25AC%2520%253E%2520%25EB%2593%25B1%25EB%25A1%259D%25EA%25B8%25B0%25EB%25B0%2598%2520%253E%2520%25EC%2582%25B0%25EC%2597%2585%25ED%258E%25B8%2520%253E%252010%25EC%25B0%25A8%2520%25EC%2582%25B0%25EC%2597%2585%25EB%25B6%2584%25EB%25A5%2598%2520%25EA%25B0%259C%25EC%25A0%2595%25EC%258B%259C%25EB%258F%2584%2F%25EC%2582%25B0%25EC%2597%2585%25EB%25B6%2584%25EB%25A5%2598%2F%25EC%25B6%259C%25ED%2595%2598%25EC%2595%25A1%25EA%25B7%259C%25EB%25AA%25A8%25EB%25B3%2584%2520%25EC%25A3%25BC%25EC%259A%2594%25EC%25A7%2580%25ED%2591%259C%252810%25EC%259D%25B8%2520%25EC%259D%25B4%25EC%2583%2581%2529 (DataType.WEB_PAGE). New chunks count: 1\n",
      "Successfully saved https://kosis.kr/statHtml/statHtml.do?orgId=101&tblId=DT_1FS1002_S&vw_cd=MT_ZTITLE&list_id=L_5_001_001_001&scrId=&seqNo=&lang_mode=ko&obj_var_id=&itm_id=&conn_path=K1&path=%25EA%25B4%2591%25EC%2597%2585%25E3%2586%258D%25EC%25A0%259C%25EC%25A1%25B0%25EC%2597%2585%2520%253E%2520%25EA%25B4%2591%25EC%2597%2585%25EC%25A0%259C%25EC%25A1%25B0%25EC%2597%2585%25EC%25A1%25B0%25EC%2582%25AC%2520%253E%2520%25EB%2593%25B1%25EB%25A1%259D%25EA%25B8%25B0%25EB%25B0%2598%2520%253E%2520%25EC%2582%25B0%25EC%2597%2585%25ED%258E%25B8%2520%253E%252010%25EC%25B0%25A8%2520%25EC%2582%25B0%25EC%2597%2585%25EB%25B6%2584%25EB%25A5%2598%2520%25EA%25B0%259C%25EC%25A0%2595%25EC%258B%259C%25EB%258F%2584%2F%25EC%2582%25B0%25EC%2597%2585%25EB%25B6%2584%25EB%25A5%2598%2F%25EC%25A2%2585%25EC%2582%25AC%25EC%259E%2590%25EA%25B7%259C%25EB%25AA%25A8%25EB%25B3%2584%2520%25EC%25A3%25BC%25EC%259A%2594%25EC%25A7%2580%25ED%2591%259C%252810%25EC%259D%25B8%2520%25EC%259D%25B4%25EC%2583%2581%2529 (DataType.WEB_PAGE). New chunks count: 1\n",
      "Successfully saved https://kosis.kr/statHtml/statHtml.do?orgId=101&tblId=DT_1FS1001_S&vw_cd=MT_ZTITLE&list_id=L_5_001_001_001&scrId=&seqNo=&lang_mode=ko&obj_var_id=&itm_id=&conn_path=K1&path=%25EA%25B4%2591%25EC%2597%2585%25E3%2586%258D%25EC%25A0%259C%25EC%25A1%25B0%25EC%2597%2585%2520%253E%2520%25EA%25B4%2591%25EC%2597%2585%25EC%25A0%259C%25EC%25A1%25B0%25EC%2597%2585%25EC%25A1%25B0%25EC%2582%25AC%2520%253E%2520%25EB%2593%25B1%25EB%25A1%259D%25EA%25B8%25B0%25EB%25B0%2598%2520%253E%2520%25EC%2582%25B0%25EC%2597%2585%25ED%258E%25B8%2520%253E%252010%25EC%25B0%25A8%2520%25EC%2582%25B0%25EC%2597%2585%25EB%25B6%2584%25EB%25A5%2598%2520%25EA%25B0%259C%25EC%25A0%2595%25EC%258B%259C%25EB%258F%2584%2528%25EC%258B%259C%25EA%25B5%25B0%25EA%25B5%25AC%2529%2F%25EC%2582%25B0%25EC%2597%2585%25EB%25B6%2584%25EB%25A5%2598%25EB%25B3%2584%2520%25EC%25A3%25BC%25EC%259A%2594%25EC%25A7%2580%25ED%2591%259C%252810%25EC%259D%25B8%2520%25EC%259D%25B4%25EC%2583%2581%2529 (DataType.WEB_PAGE). New chunks count: 1\n",
      "Successfully saved https://kosis.kr/statHtml/statHtml.do?orgId=101&tblId=DT_1FS1006_S&vw_cd=MT_ZTITLE&list_id=L_5_001_001_001&scrId=&seqNo=&lang_mode=ko&obj_var_id=&itm_id=&conn_path=K1&path=%25EA%25B4%2591%25EC%2597%2585%25E3%2586%258D%25EC%25A0%259C%25EC%25A1%25B0%25EC%2597%2585%2520%253E%2520%25EA%25B4%2591%25EC%2597%2585%25EC%25A0%259C%25EC%25A1%25B0%25EC%2597%2585%25EC%25A1%25B0%25EC%2582%25AC%2520%253E%2520%25EB%2593%25B1%25EB%25A1%259D%25EA%25B8%25B0%25EB%25B0%2598%2520%253E%2520%25EC%2582%25B0%25EC%2597%2585%25ED%258E%25B8%2520%253E%252010%25EC%25B0%25A8%2520%25EC%2582%25B0%25EC%2597%2585%25EB%25B6%2584%25EB%25A5%2598%2520%25EA%25B0%259C%25EC%25A0%2595%25EC%258B%259C%25EB%258F%2584%2F%25EC%2582%25B0%25EC%2597%2585%25EB%25B6%2584%25EB%25A5%2598%25EB%25B3%2584%2520%25EC%259C%25A0%25ED%2598%2595%25EC%259E%2590%25EC%2582%25B0%2520%25EC%25A6%259D%25EA%25B0%2580%25EC%2595%25A1%252C%2520%25EA%25B0%2590%25EC%2586%258C%25EC%2595%25A1%2520%25EB%25B0%258F%2520%25EC%2597%25B0%25EB%25A7%2590%25EC%259E%2594%25EC%2595%25A1%252810%25EC%259D%25B8%2520%25EC%259D%25B4%25EC%2583%2581%2529 (DataType.WEB_PAGE). New chunks count: 1\n",
      "Successfully saved https://www.youtube.com/watch?v=kWq0ZkV_bUc (DataType.YOUTUBE_VIDEO). New chunks count: 18\n",
      "Successfully saved https://www.youtube.com/watch?v=Y8elO4i8h9U (DataType.YOUTUBE_VIDEO). New chunks count: 3\n",
      "Successfully saved https://www.youtube.com/watch?v=ctz070PT_Ao (DataType.YOUTUBE_VIDEO). New chunks count: 2\n",
      "All data from https://www.youtube.com/watch?v=3OmjYt7dgOU already exists in the database.\n",
      "Successfully saved https://www.youtube.com/watch?v=E-iseG4NSbM (DataType.YOUTUBE_VIDEO). New chunks count: 2\n",
      "Successfully saved https://www.kcmi.re.kr/publications/pub_detail_view?syear=2021&zcd=002001016&zno=1635&cno=5834 (DataType.WEB_PAGE). New chunks count: 21\n",
      "Successfully saved https://www.lawtimes.co.kr/news/185285 (DataType.WEB_PAGE). New chunks count: 5\n",
      "Successfully saved https://www.kcmi.re.kr/seminar/seminar_program?eno=250 (DataType.WEB_PAGE). New chunks count: 4\n",
      "Successfully saved https://www.whitehouse.gov/briefing-room/presidential-actions/2022/03/09/executive-order-on-ensuring-responsible-development-of-digital-assets/ (DataType.WEB_PAGE). New chunks count: 78\n",
      "Successfully saved http://www.shinkim.com/newsletter/2023/GA/2023_vol179/links/2023_vol179_502.pdf (DataType.WEB_PAGE). New chunks count: 1\n",
      "https://www.bonmedia.kr/news/articleView.html?idxno=410 has no data\n",
      "https://www.dailysecu.com/news/articleView.html?idxno=143593 has no data\n",
      "http://www.industrynews.co.kr/news/articleView.html?idxno=49608 has no data\n",
      "https://www.ajunews.com/view/20230213184909147 has no data\n",
      "https://www.bonmedia.kr/news/articleView.html?idxno=409 has no data\n",
      "All data from https://www.youtube.com/watch?v=kiy4m5UPGig already exists in the database.\n",
      "All data from https://www.youtube.com/watch?v=5dkaMkcTgNA already exists in the database.\n",
      "All data from https://www.youtube.com/watch?v=2z-Yu-4tIrc already exists in the database.\n",
      "Successfully saved https://www.youtube.com/watch?v=0H0Ke3XnoAE (DataType.YOUTUBE_VIDEO). New chunks count: 1\n",
      "Successfully saved https://www.youtube.com/watch?v=B9Mzb38Go4A (DataType.YOUTUBE_VIDEO). New chunks count: 1\n",
      "Successfully saved https://www.digitaltoday.co.kr/news/articleView.html?idxno=473060 (DataType.WEB_PAGE). New chunks count: 4\n",
      "Successfully saved https://www.blockmedia.co.kr/archives/310830 (DataType.WEB_PAGE). New chunks count: 5\n",
      "Successfully saved https://m.blog.naver.com/ddrzzangna/223050248365 (DataType.WEB_PAGE). New chunks count: 10\n",
      "Successfully saved https://medium.com/@isp1195/%ED%86%A0%ED%81%B0-%EB%94%94%EC%9E%90%EC%9D%B8-%ED%8C%A8%ED%84%B4-%EC%8B%9C%EB%A6%AC%EC%A6%88-1-%ED%86%A0%ED%81%B0-%EC%9D%B4%EC%BD%94%EB%85%B8%EB%AF%B8%EC%9D%98-%EC%A4%91%EC%9A%94%EC%84%B1%EA%B3%BC-%ED%86%A0%ED%81%B0-%EB%94%94%EC%9E%90%EC%9D%B8-%ED%8C%A8%ED%84%B4-token-design-pattern-725a637ee74a (DataType.WEB_PAGE). New chunks count: 14\n",
      "Successfully saved https://contents.premium.naver.com/aimrich/view/contents/220919095408538rg (DataType.WEB_PAGE). New chunks count: 6\n",
      "https://namu.wiki/w/%EB%B9%84%ED%8A%B8%EC%BD%94%EC%9D%B8/%ED%8F%89%EA%B0%80 has no data\n",
      "https://makeit1.tistory.com/68 has no data\n",
      "https://ko.wikipedia.org/wiki/%EB%B9%84%ED%8A%B8%EC%BD%94%EC%9D%B8 has no data\n",
      "https://selmanote.tistory.com/entry/%EB%B9%84%ED%8A%B8%EC%BD%94%EC%9D%B8-%EB%B0%98%EA%B0%90%EA%B8%B0-%EC%A4%91%EC%9A%94%EC%84%B1%EA%B3%BC-%ED%9A%A8%EA%B3%BC has no data\n",
      "https://mimoslw.tistory.com/entry/%EB%B9%84%ED%8A%B8%EC%BD%94%EC%9D%B8-%EB%8F%84%EB%AF%B8%EB%84%8C%EC%8A%A4-%EB%9C%BB-%EC%A4%91%EC%9A%94%EC%84%B1-%EC%B0%A8%ED%8A%B8-%ED%99%95%EC%9D%B8%ED%95%98%EB%8A%94-%EB%B0%A9%EB%B2%95 has no data\n",
      "database:  DataBase{\n",
      "\t[0] web_page | https://kosis.kr/statHtml/statHtml.do?orgId=115&tblId=DT_115026_C037&vw_cd=MT_ZTITLE&list_id=115_11526_2017_003&scrId=&seqNo=&lang_mode=ko&obj_var_id=&itm_id=&conn_path=K1&path=%25EB%258F%2584%25EC%2586%258C%25EB%25A7%25A4%25E3%2586%258D%25EC%2584%259C%25EB%25B9%2584%25EC%258A%25A4%2520%253E%2520%25EB%2594%2594%25EC%259E%2590%25EC%259D%25B8%25EC%2582%25B0%25EC%2597%2585%25ED%2586%25B5%25EA%25B3%2584%2520%253E%25202015%25EB%2585%2584~%2520%253E%2520%25EB%2594%2594%25EC%259E%2590%25EC%259D%25B8%25ED%2599%259C%25EC%259A%25A9%25EC%2597%2585%25EC%25B2%25B4%255B%25EB%2594%2594%25EC%259E%2590%25EC%259D%25B8%25ED%2599%259C%25EC%259A%25A9%25EC%2597%2585%25EC%25B2%25B4%255D%25EB%2594%2594%25EC%259E%2590%25EC%259D%25B8%2520%25EC%2588%2598%25EC%25A4%2580_%25EC%25A2%2585%25ED%2595%25A9 | Tokens : 3 | hash : [73fd7a1b4bbf694e19ed627f15d46d98]\n",
      "\t[1] web_page | https://kosis.kr/statHtml/statHtml.do?orgId=115&tblId=DT_115026_C055&vw_cd=MT_ZTITLE&list_id=115_11526_2017_003&scrId=&seqNo=&lang_mode=ko&obj_var_id=&itm_id=&conn_path=K1&path=%25EB%258F%2584%25EC%2586%258C%25EB%25A7%25A4%25E3%2586%258D%25EC%2584%259C%25EB%25B9%2584%25EC%258A%25A4%2520%253E%2520%25EB%2594%2594%25EC%259E%2590%25EC%259D%25B8%25EC%2582%25B0%25EC%2597%2585%25ED%2586%25B5%25EA%25B3%2584%2520%253E%25202015%25EB%2585%2584~%2520%253E%2520%25EB%2594%2594%25EC%259E%2590%25EC%259D%25B8%25ED%2599%259C%25EC%259A%25A9%25EC%2597%2585%25EC%25B2%25B4%255B%25EB%2594%2594%25EC%259E%2590%25EC%259D%25B8%25ED%2599%259C%25EC%259A%25A9%25EC%2597%2585%25EC%25B2%25B4%255D%25EB%2594%2594%25EC%259E%2590%25EC%259D%25B8%2520%25EC%2588%2598%25EC%25A4%2580_%25EB%25AC%25B8%25ED%2599%2594 | Tokens : 3 | hash : [7b75490dbb255c0753cbcb0b9943eff9]\n",
      "\t[2] youtube_video | https://www.youtube.com/watch?v=MDQdRMA5j60 | Tokens : 35749 | hash : [43238ed4490b9b67eec21162f7021316]\n",
      "\t[3] youtube_video | https://www.youtube.com/watch?v=y08DzNQYNF0 | Tokens : 16931 | hash : [666a80977c9fd783c9b67fb841da4434]\n",
      "\t[4] youtube_video | https://www.youtube.com/watch?v=d5Szz3UaDJc | Tokens : 10092 | hash : [169994c72f9da573944e576b41a7c7fc]\n",
      "\t[5] youtube_video | https://www.youtube.com/watch?v=zi69IWQU4ic | Tokens : 3732 | hash : [d55cc505644f039649f103e39e8402cf]\n",
      "\t[6] youtube_video | https://www.youtube.com/watch?v=3OmjYt7dgOU | Tokens : 4808 | hash : [248f667a8122d41c082e475da16af9ac]\n",
      "\t[7] web_page | https://lawsociety.or.kr/90/11697595 | Tokens : 960 | hash : [444f86865964f9349c8fd6aa436ee109]\n",
      "\t[8] web_page | https://www.business.kaist.ac.kr/html/executive/sub09/sub02_0905.html | Tokens : 1166 | hash : [7e4e8adf8f053f9054f2c54e440355f8]\n",
      "\t[9] web_page | https://www.jipyong.com/kr/board/news_view.php?seq=11261 | Tokens : 3600 | hash : [f5b482031d1c30e1a4b9e3ec8ae696ba]\n",
      "\t[10] web_page | https://m.upbitcare.com/academy/education/blockchain/58 | Tokens : 2118 | hash : [f52ad3babda030325fb4069434810d5f]\n",
      "\t[11] web_page | https://now.k2base.re.kr/portal/trend/mainTrend/view.do?poliTrndId=TRND0000000000044554&menuNo=200004&pageUnit=10&pageIndex=4 | Tokens : 3664 | hash : [407f196ab12a3d7bd862c313a060b05e]\n",
      "\t[12] youtube_video | https://www.youtube.com/watch?v=-01VtuvEZoU | Tokens : 1844 | hash : [c28ee18cc6504fbe57f176734616a57d]\n",
      "\t[13] youtube_video | https://www.youtube.com/watch?v=5dkaMkcTgNA | Tokens : 6060 | hash : [00ff8edb25fb3870835bdcd6fabf72b3]\n",
      "\t[14] youtube_video | https://www.youtube.com/watch?v=kiy4m5UPGig | Tokens : 8485 | hash : [46572529b37a2e4151e2a1a3df05c99d]\n",
      "\t[15] youtube_video | https://www.youtube.com/watch?v=2z-Yu-4tIrc | Tokens : 190 | hash : [a41e7dd3b852d05ad0cee7c4637e3336]\n",
      "\t[16] youtube_video | https://www.youtube.com/watch?v=fxQ4NjJC6zU | Tokens : 3916 | hash : [7ca1614e7720b3cf457f430c88a60d0e]\n",
      "\t[17] web_page | https://kr.cointelegraph.com/learn/what-is-bitcoin | Tokens : 4 | hash : [86e6ff5a51ef2e3f580bad0af4ecbe31]\n",
      "\t[18] web_page | https://ko.wikipedia.org/wiki/%EB%B9%84%ED%8A%B8%EC%BD%94%EC%9D%B8 | Tokens : 18791 | hash : [35cf9e3553f72e2e5722a84b805c0cda]\n",
      "\t[19] web_page | https://www.etri.re.kr/webzine/20170811/sub04.html | Tokens : 4027 | hash : [422013609f208a88f31ddac9644d1090]\n",
      "\t[20] web_page | https://upbitcare.com/academy/education/coin/36 | Tokens : 1509 | hash : [a1fc964f6acec3bc24a9a6296290858e]\n",
      "\t[21] youtube_video | https://www.youtube.com/watch?v=qELUSn5uCrU | Tokens : 3386 | hash : [940418ffeb1768d57126cafd74388582]\n",
      "\t[22] youtube_video | https://www.youtube.com/watch?v=Kqflu8NoCMU | Tokens : 14330 | hash : [e44149925ca1c38c1867b55983535a4a]\n",
      "\t[23] youtube_video | https://www.youtube.com/watch?v=3lrAaCWUSWs | Tokens : 1564 | hash : [34604894785e764b73f03dbf7cd322da]\n",
      "\t[24] youtube_video | https://www.youtube.com/watch?v=MDRF4PMWdsg | Tokens : 19537 | hash : [a2a1c7c479707972184cb94a753fd697]\n",
      "\t[25] youtube_video | https://www.youtube.com/watch?v=BKLfMx5hscI | Tokens : 3308 | hash : [c943dad1c9bdcd63d68fb63c9f56b124]\n",
      "\t[26] web_page | https://aws.amazon.com/ko/what-is/blockchain/ | Tokens : 10011 | hash : [a154896f52d19c5e3dae7de3812c2ebf]\n",
      "\t[27] web_page | https://www.ibm.com/kr-ko/topics/blockchain | Tokens : 6401 | hash : [b7ab854eecc1bfc2bcdf89c2eecc460a]\n",
      "\t[28] web_page | https://www.kiri.or.kr/pdf/%EC%97%B0%EA%B5%AC%EC%9E%90%EB%A3%8C/%EC%97%B0%EA%B5%AC%EB%B3%B4%EA%B3%A0%EC%84%9C/nre2018-24_02.pdf | Tokens : 408063 | hash : [582e975a91f5b465606db5da6160a910]\n",
      "\t[29] web_page | https://namu.wiki/w/%EB%B8%94%EB%A1%9D%EC%B2%B4%EC%9D%B8 | Tokens : 19368 | hash : [5665cc28b78540626aa9e71062bf51bf]\n",
      "\t[30] web_page | https://kosis.kr/statHtml/statHtml.do?orgId=115&tblId=DT_115026_C037&vw_cd=MT_ZTITLE&list_id=115_11526_2017_003&scrId=&seqNo=&lang_mode=ko&obj_var_id=&itm_id=&conn_path=K1&path=%25EB%258F%2584%25EC%2586%258C%25EB%25A7%25A4%25E3%2586%258D%25EC%2584%259C%25EB%25B9%2584%25EC%258A%25A4%2520%253E%2520%25EB%2594%2594%25EC%259E%2590%25EC%259D%25B8%25EC%2582%25B0%25EC%2597%2585%25ED%2586%25B5%25EA%25B3%2584%2520%253E%25202015%25EB%2585%2584~%2520%253E%2520%25EB%2594%2594%25EC%259E%2590%25EC%259D%25B8%25ED%2599%259C%25EC%259A%25A9%25EC%2597%2585%25EC%25B2%25B4%255B%25EB%2594%2594%25EC%259E%2590%25EC%259D%25B8%25ED%2599%259C%25EC%259A%25A9%25EC%2597%2585%25EC%25B2%25B4%255D%25EB%2594%2594%25EC%259E%2590%25EC%259D%25B8%2520%25EC%2588%2598%25EC%25A4%2580_%25EC%25A2%2585%25ED%2595%25A9 | Tokens : 613620 | hash : [316e51955983f2043b5d6dee2d2e6a11]\n",
      "\t[31] youtube_video | https://www.youtube.com/watch?v=60rW6EG3VlM | Tokens : 2924 | hash : [32266534770af41afd501fc3a6290bfb]\n",
      "\t[32] youtube_video | https://www.youtube.com/watch?v=bYvn4eDzeF8 | Tokens : 1663 | hash : [3beee2a4f8c3dd286db9919b8a9d51a6]\n",
      "\t[33] youtube_video | https://www.youtube.com/watch?v=eCW7KYyTEUU | Tokens : 186 | hash : [afb42119f3fb193a83cc22b67d73b711]\n",
      "\t[34] youtube_video | https://www.youtube.com/watch?v=njOtT9JVOMI | Tokens : 3814 | hash : [9ba4221ee8fb44e6dce9bdc6601df829]\n",
      "\t[35] youtube_video | https://www.youtube.com/watch?v=RmgbORfouVA | Tokens : 397 | hash : [2df234446db0143d444a592cc71d491d]\n",
      "\t[36] web_page | https://blog.softcamp.co.kr/227 | Tokens : 2772 | hash : [0bea95788cb00b46a0ff1808c309ba44]\n",
      "\t[37] web_page | https://kr.cointelegraph.com/learn/what-is-mining | Tokens : 4 | hash : [3395d0089179a33d5ffdb4ee0065afdb]\n",
      "\t[38] web_page | https://upbitcare.com/academy/education/blockchain/60 | Tokens : 1357 | hash : [ee7f57b4fecf12cd28f52d2116458391]\n",
      "\t[39] web_page | https://toktok.io/bitcoin-mining/ | Tokens : 6778 | hash : [04c1a6e918f8e20e2b350761e3ec4df4]\n",
      "\t[40] web_page | https://www.btcc.com/ko-KR/academy/crypto-basics/introduction-to-bitcoin-mining-how-to-mine-bitcoin-and-even-a-miner | Tokens : 14071 | hash : [8a5fa979f4d0783e35e8126a0c269cdc]\n",
      "\t[41] youtube_video | https://www.youtube.com/watch?v=DmYWaC2zd-k | Tokens : 1058 | hash : [7a2780d0a5dda7448976698b34e849ff]\n",
      "\t[42] youtube_video | https://www.youtube.com/watch?v=FNAtE_RUTOk | Tokens : 1000 | hash : [1f1df82a1c1c90dcff29ef36753b6a76]\n",
      "\t[43] web_page | https://blog.naver.com/yeombrothers/221011716890 | Tokens : 13 | hash : [8b14464757f2eef798b2799d8c4eef33]\n",
      "\t[44] web_page | https://namu.wiki/w/%EB%B9%84%ED%8A%B8%EC%BD%94%EC%9D%B8/%ED%8F%89%EA%B0%80 | Tokens : 38296 | hash : [01dad4442b6687fd98c2673395a50629]\n",
      "\t[45] web_page | https://m.joseilbo.com/news/view.htm?newsid=418468 | Tokens : 2866 | hash : [491f8bb5690c08cc6f7c4f6d1b062576]\n",
      "\t[46] web_page | https://www.ifcmarkets.com/ko/learn-about-crypto/pros-and-cons-of-cryptocurrencies | Tokens : 4468 | hash : [dd61a013838c2b1ab013b06c94161b60]\n",
      "\t[47] youtube_video | https://www.youtube.com/watch?v=-3m5yFX_1Mw | Tokens : 8882 | hash : [14d0fb0adfb4fae01ca55f4123618c21]\n",
      "\t[48] youtube_video | https://www.youtube.com/watch?v=S9DMw5iBlZo | Tokens : 2543 | hash : [1ba3115384f8f25c8a6ed5bf48c91935]\n",
      "\t[49] youtube_video | https://www.youtube.com/watch?v=30mfs9NcZUI | Tokens : 24941 | hash : [818d70f4f1465be6a644bbf453379f1f]\n",
      "\t[50] web_page | http://weekly.chosun.com/news/articleView.html?idxno=18658 | Tokens : 6003 | hash : [e02cfdf0772d43ffc4f3d1f4c13bc7ff]\n",
      "\t[51] web_page | https://www.cmegroup.com/ko/education/featured-reports/an-in-depth-look-at-the-economics-of-bitcoin.html | Tokens : 11755 | hash : [39f778285eb6e68ee8eb4e2fd3d4854f]\n",
      "\t[52] web_page | https://www.globalxetfs.com/content/files/Theme-Lab-Behind-The-Scenes-of-Bitcoin-Mining_KO-KR-1.pdf | Tokens : 251194 | hash : [c94d22608e04342bdbe1b281f6d9af3d]\n",
      "\t[53] youtube_video | https://www.youtube.com/watch?v=VLdBBMdoFnk | Tokens : 3727 | hash : [3b5acde5df3376a4ef576b797a66bafa]\n",
      "\t[54] youtube_video | https://www.youtube.com/watch?v=sHSs8fWZ878 | Tokens : 378 | hash : [69b83865a17e8bd9b44ed7d4e1c3a95b]\n",
      "\t[55] youtube_video | https://www.youtube.com/watch?v=f-ImHUbecMw | Tokens : 758 | hash : [85e3f35d006ee97714316284d6c553c9]\n",
      "\t[56] youtube_video | https://www.youtube.com/watch?v=xirYQL0Kq58 | Tokens : 1021 | hash : [7d66cded6db914423fcd04e787077505]\n",
      "\t[57] web_page | https://www.ledger.com/ko/%EC%95%94%ED%98%B8%ED%99%94%ED%8F%90-%EC%82%AC%EC%9A%A9-%EC%82%AC%EB%A1%80-%EC%95%94%ED%98%B8%ED%99%94%ED%8F%90%EA%B0%80-%EB%AC%B4%EC%97%87%EC%9D%84-%EA%B0%80%EC%A0%B8%EC%98%AC-%EC%88%98-%EC%9E%88 | Tokens : 3218 | hash : [2f9dddd64a53562f025ee1a2c5e514ab]\n",
      "\t[58] web_page | https://blog.purestorage.com/ko/perspectives-ko/10-blockchain-use-cases-to-watch/ | Tokens : 6 | hash : [0afdbf4b303852ac2dc3db48c03c5d09]\n",
      "\t[59] web_page | https://www.hani.co.kr/arti/economy/finance/992211.html | Tokens : 6608 | hash : [c76dc2d93a055399be138acc9b43af80]\n",
      "\t[60] web_page | https://www.codestates.com/blog/content/%EB%B8%94%EB%A1%9D%EC%B2%B4%EC%9D%B8-%ED%99%9C%EC%9A%A9%EC%82%AC%EB%A1%80 | Tokens : 4681 | hash : [34ff4f3adbf2909f329dde510cb1b1e7]\n",
      "\t[61] web_page | https://www.udemy.com/course/advanced-blockchain-course/ | Tokens : 4216 | hash : [34705ff1fe92a8642fadd0b49d7a7d6f]\n",
      "\t[62] youtube_video | https://www.youtube.com/watch?v=ibCqYFBZ7cM | Tokens : 4541 | hash : [1e7934a97aaddfe52a9ea4c2e3f28fc8]\n",
      "\t[63] youtube_video | https://www.youtube.com/watch?v=zK-2KUSLIh0 | Tokens : 2095 | hash : [5d2d1062e4365042ccffb4649ac3ff95]\n",
      "\t[64] youtube_video | https://www.youtube.com/watch?v=rltr_LUOGXs | Tokens : 6138 | hash : [e51f270c8da5a49194775ec2b8f5017c]\n",
      "\t[65] youtube_video | https://www.youtube.com/watch?v=V5mmuJ7ANFU | Tokens : 159 | hash : [2ccb769894427fb2d0ab0a1b958bfa0f]\n",
      "\t[66] youtube_video | https://www.youtube.com/watch?v=dz-LEgSPmgQ | Tokens : 19630 | hash : [8cf39131d7ec5e1adf7c888b7f3f3bf7]\n",
      "\t[67] web_page | https://www.businesspost.co.kr/BP?command=article_view&num=313885 | Tokens : 2938 | hash : [3b3a26d4721dd2e24ef54d9bb9cf2405]\n",
      "\t[68] web_page | https://www.fortunekorea.co.kr/news/articleView.html?idxno=26080 | Tokens : 2009 | hash : [c65abade12a81e8eda58618ba1eb9e0c]\n",
      "\t[69] web_page | https://www.digitalasset.works/news/articleView.html?idxno=3217 | Tokens : 2461 | hash : [efe4923cc04f7f1b47ae7262d531023c]\n",
      "\t[70] web_page | https://weekly.donga.com/List/3/all/11/3347266/1 | Tokens : 4355 | hash : [6167d5bd05b46eae8fd71c0cac086b7f]\n",
      "\t[71] web_page | https://www.hani.co.kr/arti/opinion/column/1087136.html | Tokens : 7100 | hash : [df4d20cf3b82a210c3069501c263c12f]\n",
      "\t[72] web_page | https://kosis.kr/statHtml/statHtml.do?orgId=201&tblId=DT_201004_O160002_2020&vw_cd=MT_ZTITLE&list_id=201_10_004_016&scrId=&seqNo=&lang_mode=ko&obj_var_id=&itm_id=&conn_path=K1&path=%25EC%25A7%2580%25EC%2597%25AD%25ED%2586%25B5%25EA%25B3%2584%2520%253E%2520%25EC%25A7%2580%25EC%259E%2590%25EC%25B2%25B4%2520%25EA%25B8%25B0%25EB%25B3%25B8%25ED%2586%25B5%25EA%25B3%2584%2520%253E%2520%25EC%2584%259C%25EC%259A%25B8%25ED%258A%25B9%25EB%25B3%2584%25EC%258B%259C%2520%253E%2520%25EC%2584%259C%25EC%259A%25B8%25ED%258A%25B9%25EB%25B3%2584%25EC%258B%259C%25EA%25B8%25B0%25EB%25B3%25B8%25ED%2586%25B5%25EA%25B3%2584%2520%253E%2520%25EA%25B3%25B5%25EA%25B3%25B5%25ED%2596%2589%25EC%25A0%2595%25C2%25B7%25EC%2582%25AC%25EB%25B2%2595%25EC%258B%259C%25EB%25B3%25B8%25EC%25B2%25AD%2520%25EA%25B3%25B5%25EB%25AC%25B4%25EC%259B%2590%2528%25EC%25A0%2595%25EC%259B%2590%2529%25282020%25EB%2585%2584%2520%25EC%259D%25B4%25ED%259B%2584%2529 | Tokens : 3 | hash : [a02d11dc78881bf953946a157411c757]\n",
      "\t[73] web_page | https://kosis.kr/statHtml/statHtml.do?orgId=101&tblId=DT_1FS1003_S&vw_cd=MT_ZTITLE&list_id=L_5_001_001_001&scrId=&seqNo=&lang_mode=ko&obj_var_id=&itm_id=&conn_path=K1&path=%25EA%25B4%2591%25EC%2597%2585%25E3%2586%258D%25EC%25A0%259C%25EC%25A1%25B0%25EC%2597%2585%2520%253E%2520%25EA%25B4%2591%25EC%2597%2585%25EC%25A0%259C%25EC%25A1%25B0%25EC%2597%2585%25EC%25A1%25B0%25EC%2582%25AC%2520%253E%2520%25EB%2593%25B1%25EB%25A1%259D%25EA%25B8%25B0%25EB%25B0%2598%2520%253E%2520%25EC%2582%25B0%25EC%2597%2585%25ED%258E%25B8%2520%253E%252010%25EC%25B0%25A8%2520%25EC%2582%25B0%25EC%2597%2585%25EB%25B6%2584%25EB%25A5%2598%2520%25EA%25B0%259C%25EC%25A0%2595%25EC%258B%259C%25EB%258F%2584%2F%25EC%2582%25B0%25EC%2597%2585%25EB%25B6%2584%25EB%25A5%2598%2F%25EC%25B6%259C%25ED%2595%2598%25EC%2595%25A1%25EA%25B7%259C%25EB%25AA%25A8%25EB%25B3%2584%2520%25EC%25A3%25BC%25EC%259A%2594%25EC%25A7%2580%25ED%2591%259C%252810%25EC%259D%25B8%2520%25EC%259D%25B4%25EC%2583%2581%2529 | Tokens : 3 | hash : [1104d755cc3b5c7871073b4d3c249afd]\n",
      "\t[74] web_page | https://kosis.kr/statHtml/statHtml.do?orgId=101&tblId=DT_1FS1002_S&vw_cd=MT_ZTITLE&list_id=L_5_001_001_001&scrId=&seqNo=&lang_mode=ko&obj_var_id=&itm_id=&conn_path=K1&path=%25EA%25B4%2591%25EC%2597%2585%25E3%2586%258D%25EC%25A0%259C%25EC%25A1%25B0%25EC%2597%2585%2520%253E%2520%25EA%25B4%2591%25EC%2597%2585%25EC%25A0%259C%25EC%25A1%25B0%25EC%2597%2585%25EC%25A1%25B0%25EC%2582%25AC%2520%253E%2520%25EB%2593%25B1%25EB%25A1%259D%25EA%25B8%25B0%25EB%25B0%2598%2520%253E%2520%25EC%2582%25B0%25EC%2597%2585%25ED%258E%25B8%2520%253E%252010%25EC%25B0%25A8%2520%25EC%2582%25B0%25EC%2597%2585%25EB%25B6%2584%25EB%25A5%2598%2520%25EA%25B0%259C%25EC%25A0%2595%25EC%258B%259C%25EB%258F%2584%2F%25EC%2582%25B0%25EC%2597%2585%25EB%25B6%2584%25EB%25A5%2598%2F%25EC%25A2%2585%25EC%2582%25AC%25EC%259E%2590%25EA%25B7%259C%25EB%25AA%25A8%25EB%25B3%2584%2520%25EC%25A3%25BC%25EC%259A%2594%25EC%25A7%2580%25ED%2591%259C%252810%25EC%259D%25B8%2520%25EC%259D%25B4%25EC%2583%2581%2529 | Tokens : 3 | hash : [4ac4b6b690cba5c20e7d29cf85bc7128]\n",
      "\t[75] web_page | https://kosis.kr/statHtml/statHtml.do?orgId=101&tblId=DT_1FS1001_S&vw_cd=MT_ZTITLE&list_id=L_5_001_001_001&scrId=&seqNo=&lang_mode=ko&obj_var_id=&itm_id=&conn_path=K1&path=%25EA%25B4%2591%25EC%2597%2585%25E3%2586%258D%25EC%25A0%259C%25EC%25A1%25B0%25EC%2597%2585%2520%253E%2520%25EA%25B4%2591%25EC%2597%2585%25EC%25A0%259C%25EC%25A1%25B0%25EC%2597%2585%25EC%25A1%25B0%25EC%2582%25AC%2520%253E%2520%25EB%2593%25B1%25EB%25A1%259D%25EA%25B8%25B0%25EB%25B0%2598%2520%253E%2520%25EC%2582%25B0%25EC%2597%2585%25ED%258E%25B8%2520%253E%252010%25EC%25B0%25A8%2520%25EC%2582%25B0%25EC%2597%2585%25EB%25B6%2584%25EB%25A5%2598%2520%25EA%25B0%259C%25EC%25A0%2595%25EC%258B%259C%25EB%258F%2584%2528%25EC%258B%259C%25EA%25B5%25B0%25EA%25B5%25AC%2529%2F%25EC%2582%25B0%25EC%2597%2585%25EB%25B6%2584%25EB%25A5%2598%25EB%25B3%2584%2520%25EC%25A3%25BC%25EC%259A%2594%25EC%25A7%2580%25ED%2591%259C%252810%25EC%259D%25B8%2520%25EC%259D%25B4%25EC%2583%2581%2529 | Tokens : 3 | hash : [1233435fd4b050c5bfe5e7c13af938ac]\n",
      "\t[76] web_page | https://kosis.kr/statHtml/statHtml.do?orgId=101&tblId=DT_1FS1006_S&vw_cd=MT_ZTITLE&list_id=L_5_001_001_001&scrId=&seqNo=&lang_mode=ko&obj_var_id=&itm_id=&conn_path=K1&path=%25EA%25B4%2591%25EC%2597%2585%25E3%2586%258D%25EC%25A0%259C%25EC%25A1%25B0%25EC%2597%2585%2520%253E%2520%25EA%25B4%2591%25EC%2597%2585%25EC%25A0%259C%25EC%25A1%25B0%25EC%2597%2585%25EC%25A1%25B0%25EC%2582%25AC%2520%253E%2520%25EB%2593%25B1%25EB%25A1%259D%25EA%25B8%25B0%25EB%25B0%2598%2520%253E%2520%25EC%2582%25B0%25EC%2597%2585%25ED%258E%25B8%2520%253E%252010%25EC%25B0%25A8%2520%25EC%2582%25B0%25EC%2597%2585%25EB%25B6%2584%25EB%25A5%2598%2520%25EA%25B0%259C%25EC%25A0%2595%25EC%258B%259C%25EB%258F%2584%2F%25EC%2582%25B0%25EC%2597%2585%25EB%25B6%2584%25EB%25A5%2598%25EB%25B3%2584%2520%25EC%259C%25A0%25ED%2598%2595%25EC%259E%2590%25EC%2582%25B0%2520%25EC%25A6%259D%25EA%25B0%2580%25EC%2595%25A1%252C%2520%25EA%25B0%2590%25EC%2586%258C%25EC%2595%25A1%2520%25EB%25B0%258F%2520%25EC%2597%25B0%25EB%25A7%2590%25EC%259E%2594%25EC%2595%25A1%252810%25EC%259D%25B8%2520%25EC%259D%25B4%25EC%2583%2581%2529 | Tokens : 3 | hash : [3edbfa468e43aaa126dfca77f1ce55ec]\n",
      "\t[77] youtube_video | https://www.youtube.com/watch?v=kWq0ZkV_bUc | Tokens : 33406 | hash : [23b29bdfabe9e46dc9180b58b345c8c7]\n",
      "\t[78] youtube_video | https://www.youtube.com/watch?v=Y8elO4i8h9U | Tokens : 3939 | hash : [e80f88b3ceb893a3f698ab198dfa0899]\n",
      "\t[79] youtube_video | https://www.youtube.com/watch?v=ctz070PT_Ao | Tokens : 2916 | hash : [ab567479d2ca8434b6e3d52308798cfb]\n",
      "\t[80] youtube_video | https://www.youtube.com/watch?v=E-iseG4NSbM | Tokens : 2954 | hash : [7d9565efc065ea5ee1f52cfcdeb146a2]\n",
      "\t[81] web_page | https://www.kcmi.re.kr/publications/pub_detail_view?syear=2021&zcd=002001016&zno=1635&cno=5834 | Tokens : 10102 | hash : [27695ba50072c0ea88530042aa86c723]\n",
      "\t[82] web_page | https://www.lawtimes.co.kr/news/185285 | Tokens : 2465 | hash : [8d9bc7d7de4583e5a3ae14b698564fa8]\n",
      "\t[83] web_page | https://www.kcmi.re.kr/seminar/seminar_program?eno=250 | Tokens : 1501 | hash : [d6522490692cd5fc3062f53774e335a6]\n",
      "\t[84] web_page | https://www.whitehouse.gov/briefing-room/presidential-actions/2022/03/09/executive-order-on-ensuring-responsible-development-of-digital-assets/ | Tokens : 6831 | hash : [c2c263877ca55fb35b5a8e94a9b0dbaf]\n",
      "\t[85] web_page | http://www.shinkim.com/newsletter/2023/GA/2023_vol179/links/2023_vol179_502.pdf | Tokens : 93 | hash : [2df87c026ec8ddfea74d6ec7fe8a1a42]\n",
      "\t[86] youtube_video | https://www.youtube.com/watch?v=0H0Ke3XnoAE | Tokens : 448 | hash : [ad260325ec9844a3432f83f74d731adb]\n",
      "\t[87] youtube_video | https://www.youtube.com/watch?v=B9Mzb38Go4A | Tokens : 74 | hash : [8a2bcca2a721c265db1928fab5c02e8f]\n",
      "\t[88] web_page | https://www.digitaltoday.co.kr/news/articleView.html?idxno=473060 | Tokens : 1782 | hash : [a6e86a798e0b2f8fe8bef3f2f8f345a4]\n",
      "\t[89] web_page | https://www.blockmedia.co.kr/archives/310830 | Tokens : 2205 | hash : [612ff6726cf8ab47cdb491d3c13ef318]\n",
      "\t[90] web_page | https://m.blog.naver.com/ddrzzangna/223050248365 | Tokens : 4495 | hash : [f0592b777d56e341b06fe1d606302616]\n",
      "\t[91] web_page | https://medium.com/@isp1195/%ED%86%A0%ED%81%B0-%EB%94%94%EC%9E%90%EC%9D%B8-%ED%8C%A8%ED%84%B4-%EC%8B%9C%EB%A6%AC%EC%A6%88-1-%ED%86%A0%ED%81%B0-%EC%9D%B4%EC%BD%94%EB%85%B8%EB%AF%B8%EC%9D%98-%EC%A4%91%EC%9A%94%EC%84%B1%EA%B3%BC-%ED%86%A0%ED%81%B0-%EB%94%94%EC%9E%90%EC%9D%B8-%ED%8C%A8%ED%84%B4-token-design-pattern-725a637ee74a | Tokens : 4811 | hash : [22e3cfa9b42216f0195eec3df0352b62]\n",
      "\t[92] web_page | https://contents.premium.naver.com/aimrich/view/contents/220919095408538rg | Tokens : 2924 | hash : [3ebc821e1c001bac96cdcc69946eea75]\n",
      "}\n",
      "total tokens : 0\n",
      "cost : 0.0\n"
     ]
    }
   ],
   "source": [
    "database = project.parse_files_to_embedchain() # 47files take 5min 30sec\n",
    "print('database: ', database)"
   ]
  },
  {
   "cell_type": "code",
   "execution_count": null,
   "metadata": {},
   "outputs": [
    {
     "name": "stdout",
     "output_type": "stream",
     "text": [
      "draft:  디지털 자산과 비트코인은 현대 사회에서 매우 중요한 역할을 하고 있습니다. 디지털 자산은 전자적인 형태로 존재하며 재산적 가치를 가지고 있습니다. 이러한 디지털 자산은 블록체인 기술과 함께 사용되며, 이는 분산원장으로 알려져 있습니다. 비트코인은 디지털 자산 중 하나로, 2008년 금융위기 이후 등장한 암호화폐입니다. 비트코인은 은행 시스템에 대한 신뢰도 하락으로 인해 등장하게 되었으며, 은행과 개인 간의 동등한 위치에 설 수 있는 분산화된 P2P 금융 시스템을 구현하였습니다. 이러한 비트코인의 등장은 금융 시스템에 큰 영향을 미치고 있으며, 실제로 다양한 분야에서 활용되고 있습니다. 디지털 자산과 비트코인은 미래에도 계속해서 발전할 것으로 예상되며, 정부의 규제와 인식 변화에 따라 그 역할이 더욱 중요해질 것으로 예측됩니다.비트코인의 작동 원리는 블록체인 기술과 분산원장에 근거합니다. 블록체인은 거래 내역을 암호화하여 구성원들끼리 공유하는 분산된 장부입니다. 예를 들어, 1,000명의 참여자들이 거래를 하고 있다면, 각 참여자는 모든 거래 내역을 기록한 장부를 갖고 있습니다. 이러한 정보들은 '블록'이라는 단위로 저장되며, 새로운 정보(거래 내역)가 추가될 때마다 블록이 생성되고 이 블록들은 차례대로 연결됩니다.\n",
      "\n",
      "비트코인의 채굴은 이러한 블록체인을 생성하는 과정입니다. 채굴자들은 거래를 검증하고 블록을 생성하기 위해 수학적인 문제를 해결해야 합니다. 이 문제를 해결하는 과정에서 채굴자는 컴퓨팅 파워를 사용하고, 이를 통해 새로운 블록을 생성하고 블록체인에 추가합니다. 채굴자가 문제를 해결하면 해당 블록은 다른 참여자들에게 전파되고, 모든 참여자들은 이를 검증하고 자신의 장부에 추가합니다.\n",
      "\n",
      "비트코인의 거래 과정은 블록체인을 통해 이루어집니다. 거래를 하려는 참여자는 자신의 디지털 지갑에서 거래 정보를 생성하고, 이를 네트워크에 전송합니다. 네트워크에 참여한 노드들은 이 거래 정보를 검증하고, 유효한 거래인 경우 해당 거래를 블록에 포함시킵니다. 이후, 채굴자들은 이 블록을 검증하고 블록체인에 추가합니다. 이렇게 거래는 블록체인을 통해 분산적으로 기록되고 검증되며, 모든 참여자들은 거래 내역을 실시간으로 관찰할 수 있습니다.\n",
      "\n",
      "비트코인의 작동 원리를 이해하면, 블록체인 기술이 어떻게 활용되고 있는지와 비트코인의 채굴과 거래 과정을 더 깊이 이해할 수 있습니다. 이를 통해 비트코인 이외의 다양한 분야에서도 블록체인 기술이 폭넓게 활용될 수 있음을 명확하게 이해할 수 있습니다.비트코인의 장점 중 하나는 익명성과 보안성입니다. 비트코인 거래는 개인 신원을 공개하지 않고 이루어지며, 거래 내역은 블록체인에 기록되어 변경이 불가능합니다. 이는 사용자들에게 더 높은 보안과 개인 정보 보호를 제공합니다. 또한, 비트코인은 중앙 은행이나 정부와 같은 중간 기관이 없이 운영되기 때문에, 외부의 감시나 제한을 받지 않습니다. 이는 비트코인을 사용하는 사람들에게 더 큰 자유와 독립성을 제공합니다.\n",
      "\n",
      "하지만 비트코인은 가치의 변동성과 활용 가능성에 한계가 있습니다. 비트코인의 가격은 수요와 공급에 따라 변동하기 때문에, 가격 변동성이 크다는 특징이 있습니다. 이는 비트코인을 투자나 결제 수단으로 사용하는 사람들에게 불안정성을 초래할 수 있습니다. 또한, 비트코인은 아직까지는 일부 상점이나 서비스에서만 사용 가능한 화폐입니다. 따라서 비트코인을 일상적인 결제 수단으로 사용하기에는 아직 한계가 있습니다.\n",
      "\n",
      "비트코인의 장점과 한계를 종합해보면, 익명성과 보안성은 비트코인을 사용하는 사람들에게 큰 장점을 제공하지만, 가치의 변동성과 활용 가능성은 아직까지는 한계가 있습니다. 비트코인은 계속해서 발전하고 개선되고 있지만, 이러한 한계를 극복하기 위해서는 보다 안정적인 가격 형성과 더 넓은 활용 가능성을 갖추어야 합니다.비트코인의 영향과 활용은 금융 시스템과의 관계와 비트코인을 활용한 실제 사례로 나눌 수 있습니다.\n",
      "\n",
      "첫째로, 비트코인은 금융 시스템과의 관계에서 큰 영향을 미치고 있습니다. 비트코인은 중앙 은행이나 정부와 같은 중간 기관 없이 운영되기 때문에, 기존의 중앙 집중형 금융 시스템에 대한 대안으로 주목받고 있습니다. 비트코인은 분산화된 P2P 금융 시스템을 구현하여 은행 시스템에 대한 신뢰도 하락으로 인한 문제를 해결하고자 합니다. 이를 통해 개인들은 은행과 동등한 위치에서 자신의 자산을 관리하고 거래할 수 있게 되었습니다. 또한, 비트코인은 금융 시스템의 경계를 넘어서 국제 송금이나 결제 등 다양한 금융 서비스에 활용될 수 있습니다.\n",
      "\n",
      "둘째로, 비트코인을 활용한 실제 사례가 있습니다. 비트코인은 다양한 분야에서 활용되고 있으며, 이를 통해 실질적인 결과를 이끌어내고 있습니다. 예를 들어, 비트코인은 전세계적으로 송금이나 결제 수단으로 사용되고 있습니다. 비트코인을 이용하면 전세계 어디서나 신속하고 안전하게 송금이 가능하며, 이는 전통적인 은행 시스템보다 효율적이고 경제적입니다. 또한, 비트코인은 기부나 자선 활동에도 활용되고 있습니다. 비트코인을 이용한 기부 플랫폼을 통해 개인들은 쉽게 기부를 할 수 있고, 기부금의 투명성과 효율성을 높일 수 있습니다. 이처럼 비트코인은 다양한 분야에서 혁신적인 솔루션을 제공하고 있으며, 블록체인 기술과 함께 더욱 발전할 것으로 기대됩니다.비트코인의 미래 전망은 정부의 규제와 인식 변화, 그리고 디지털 자산 시장의 발전과 비트코인의 역할에 따라 크게 좌우될 것으로 예상됩니다.\n",
      "\n",
      "첫째로, 정부의 규제와 인식 변화가 비트코인의 미래에 큰 영향을 미칠 것으로 예상됩니다. 현재 비트코인은 여러 국가에서 다양한 규제와 제한을 받고 있습니다. 일부 국가에서는 비트코인 거래를 금지하거나 제한하는 정책을 시행하고 있지만, 다른 국가에서는 비트코인을 합법적으로 인정하고 활용하고 있습니다. 이러한 정부의 규제와 인식 변화는 비트코인의 가치와 사용 가능성에 큰 영향을 미칠 것으로 예상됩니다. 또한, 정부의 규제와 인식 변화는 비트코인을 둘러싼 법적 문제와 관련하여 더 많은 논의와 연구가 이루어질 것으로 예상됩니다.\n",
      "\n",
      "둘째로, 디지털 자산 시장의 발전과 비트코인의 역할이 비트코인의 미래에 영향을 줄 것으로 예상됩니다. 현재 디지털 자산 시장은 계속해서 성장하고 있으며, 다양한 새로운 디지털 자산이 등장하고 있습니다. 이러한 디지털 자산 시장의 발전은 비트코인의 역할과 경쟁 관계에 영향을 미칠 것으로 예상됩니다. 비트코인은 현재 가장 유명하고 널리 알려진 디지털 자산 중 하나이지만, 새로운 디지털 자산의 등장과 발전에 따라 비트코인의 지위와 역할이 변화할 수 있습니다. 디지털 자산 시장의 발전과 비트코인의 역할은 서로 영향을 주고받으며, 이를 통해 디지털 자산 시장 전체의 발전과 성장이 이루어질 것으로 예상됩니다.\n",
      "\n",
      "비트코인의 미래 전망은 정부의 규제와 인식 변화, 그리고 디지털 자산 시장의 발전과 비트코인의 역할에 따라 크게 좌우될 것으로 예상됩니다. 정부의 규제와 인식 변화는 비트코인의 가치와 사용 가능성에 영향을 미치며, 디지털 자산 시장의 발전과 비트코인의 역할은 비트코인의 지위와 역할에 영향을 미칠 것입니다. 이러한 변화와 발전에 따라 비트코인은 더욱 성숙하고 안정적인 디지털 자산으로 발전할 것으로 예상됩니다.결론적으로, 디지털 자산과 비트코인은 현대 사회에서 매우 중요한 역할을 하고 있습니다. 디지털 자산은 전자적인 형태로 존재하며 재산적 가치를 가지고 있으며, 비트코인은 이러한 디지털 자산 중 하나로서 중앙 은행이나 정부와 같은 중간 기관 없이 운영되는 분산화된 P2P 금융 시스템을 구현하고 있습니다. 비트코인은 익명성과 보안성을 제공하며, 금융 시스템과의 관계에서도 큰 영향을 미치고 있습니다. 또한, 비트코인은 다양한 분야에서 활용되고 있으며, 이를 통해 혁신적인 솔루션을 제공하고 있습니다.\n",
      "\n",
      "비트코인의 미래 전망은 정부의 규제와 인식 변화, 그리고 디지털 자산 시장의 발전과 비트코인의 역할에 따라 크게 좌우될 것으로 예상됩니다. 정부의 규제와 인식 변화는 비트코인의 가치와 사용 가능성에 영향을 미치며, 디지털 자산 시장의 발전과 비트코인의 역할은 비트코인의 지위와 역할에 영향을 미칠 것입니다. 이러한 변화와 발전에 따라 비트코인은 더욱 성숙하고 안정적인 디지털 자산으로 발전할 것으로 예상됩니다.\n",
      "\n",
      "개인적으로, 디지털 자산과 비트코인은 현대 사회에서 매우 중요한 역할을 하고 있다고 생각합니다. 디지털 자산은 전통적인 재산 개념을 넘어서 전자적인 형태로 존재하며, 이는 블록체인 기술과 함께 사용되어 분산원장으로 관리됩니다. 비트코인은 이러한 디지털 자산 중 하나로서 중앙 은행이나 정부와 같은 중간 기관 없이 운영되는 분산화된 P2P 금융 시스템을 구현하고 있습니다.\n",
      "\n",
      "비트코인은 익명성과 보안성을 제공하며, 금융 시스템과의 관계에서도 큰 영향을 미치고 있습니다. 비트코인은 기존의 중앙 집중형 금융 시스템에 대한 대안으로 주목받고 있으며, 은행 시스템에 대한 신뢰도 하락으로 인한 문제를 해결하고자 합니다. 또한, 비트코인은 다양한 분야에서 활용되고 있으며, 이를 통해 혁신적인 솔루션을 제공하고 있습니다.\n",
      "\n",
      "비트코인의 미래 전망은 정부의 규제와 인식 변화, 그리고 디지털 자산 시장의 발전과 비트코인의 역할에 따라 크게 좌우될 것으로 예상됩니다. 정부의 규제와 인식 변화는 비트코인의 가치와 사용 가능성에 영향을 미치며, 디지털 자산 시장의 발전과 비트코인의 역할은 비트코인의 지위와 역할에 영향을 미칠 것입니다. 이러한 변화와 발전에 따라 비트코인은 더욱 성숙하고 안정적인 디지털 자산으로 발전할 것으로 기대됩니다.\n"
     ]
    }
   ],
   "source": [
    "draft = project.get_draft()\n",
    "print('draft: ', draft)"
   ]
  },
  {
   "cell_type": "code",
   "execution_count": null,
   "metadata": {},
   "outputs": [],
   "source": [
    "project.save_instance()"
   ]
  }
 ],
 "metadata": {
  "kernelspec": {
   "display_name": "openai_skt",
   "language": "python",
   "name": "python3"
  },
  "language_info": {
   "codemirror_mode": {
    "name": "ipython",
    "version": 3
   },
   "file_extension": ".py",
   "mimetype": "text/x-python",
   "name": "python",
   "nbconvert_exporter": "python",
   "pygments_lexer": "ipython3",
   "version": "3.11.4"
  },
  "orig_nbformat": 4
 },
 "nbformat": 4,
 "nbformat_minor": 2
}
