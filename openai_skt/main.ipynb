{
 "cells": [
  {
   "cell_type": "code",
   "execution_count": 1,
   "metadata": {},
   "outputs": [],
   "source": [
    "import os\n",
    "import configparser\n",
    "\n",
    "config = configparser.ConfigParser()\n",
    "config.read('../.secrets.ini')\n",
    "openai_api_key = config['OPENAI']['OPENAI_API_KEY']\n",
    "os.environ.update({'OPENAI_API_KEY': openai_api_key})"
   ]
  },
  {
   "cell_type": "code",
   "execution_count": 2,
   "metadata": {},
   "outputs": [],
   "source": [
    "from tools.search_tool import SearchTool\n",
    "from models.llm.chain import KeywordsChain, DraftChain, TableChain\n",
    "from models.draft_generator import DraftGeneratorInstance\n",
    "from models.keywords_generator import KeywordsGeneratorInstance\n",
    "from models.table_generator import TableGeneratorInstance\n",
    "from modules import Project"
   ]
  },
  {
   "cell_type": "code",
   "execution_count": 3,
   "metadata": {},
   "outputs": [],
   "source": [
    "verbose = False\n",
    "\n",
    "table_chain = TableChain(verbose=verbose)\n",
    "keywords_chain = KeywordsChain(verbose=verbose)\n",
    "draft_chain = DraftChain(verbose=verbose)\n",
    "\n",
    "table_generator_instance = TableGeneratorInstance(table_chain=table_chain)\n",
    "keywords_generator_instance = KeywordsGeneratorInstance(keywords_chain=keywords_chain)\n",
    "draft_generator_instance = DraftGeneratorInstance(draft_chain=draft_chain)\n",
    "\n",
    "search_tool = SearchTool()    "
   ]
  },
  {
   "cell_type": "code",
   "execution_count": 4,
   "metadata": {},
   "outputs": [],
   "source": [
    "user_instance = Project(\n",
    "    user_id=\"test_1\", \n",
    "    table_generator_instance=table_generator_instance, \n",
    "    keywords_generator_instance=keywords_generator_instance, \n",
    "    draft_generator_instance=draft_generator_instance, \n",
    "    search_tool=search_tool\n",
    ")"
   ]
  },
  {
   "cell_type": "code",
   "execution_count": 5,
   "metadata": {},
   "outputs": [
    {
     "name": "stdout",
     "output_type": "stream",
     "text": [
      "purpose:  디지털 자산과 비트코인\n"
     ]
    }
   ],
   "source": [
    "purpose = user_instance.set_purpose(purpose=\"디지털 자산과 비트코인\")\n",
    "print('purpose: ', purpose)"
   ]
  },
  {
   "cell_type": "code",
   "execution_count": 6,
   "metadata": {},
   "outputs": [
    {
     "name": "stdout",
     "output_type": "stream",
     "text": [
      "table: \n",
      " 1. 서론\n",
      "- 디지털 자산의 개념과 중요성\n",
      "- 비트코인의 등장과 역할\n",
      "2. 비트코인의 작동 원리\n",
      "- 블록체인 기술과 분산원장\n",
      "- 비트코인의 채굴과 거래 과정\n",
      "3. 비트코인의 장점과 단점\n",
      "- 익명성과 보안성\n",
      "- 가치의 변동성과 부정적인 면모\n",
      "4. 비트코인을 포함한 다른 디지털 자산\n",
      "- 이더리움, 리플 등의 대표적인 디지털 자산\n",
      "- 다양한 디지털 자산의 특징과 활용\n",
      "5. 비트코인과 경제적 영향\n",
      "- 글로벌 경제와의 관계\n",
      "- 투자와 거래에 미치는 영향\n",
      "6. 비트코인의 미래 전망\n",
      "- 정부의 규제와 인식 변화\n",
      "- 기술 발전과 활용 가능성\n",
      "7. 결론\n",
      "- 디지털 자산의 중요성과 비트코인의 역할\n",
      "- 개인적인 견해와 전망\n"
     ]
    }
   ],
   "source": [
    "table = user_instance.get_table()\n",
    "print('table: \\n', table)"
   ]
  },
  {
   "cell_type": "code",
   "execution_count": 7,
   "metadata": {},
   "outputs": [
    {
     "name": "stdout",
     "output_type": "stream",
     "text": [
      "keywords:  ['디지털 자산 개념', '비트코인 역할', '블록체인 기술', '비트코인 채굴 과정', '비트코인 장점', '비트코인 단점', '이더리움 특징', '리플 특징', '디지털 자산 활용', '비트코인 경제적 영향', '비트코인 미래 전망']\n"
     ]
    }
   ],
   "source": [
    "keywords = user_instance.get_keywords()\n",
    "print('keywords: ', keywords)"
   ]
  },
  {
   "cell_type": "code",
   "execution_count": 8,
   "metadata": {},
   "outputs": [
    {
     "name": "stdout",
     "output_type": "stream",
     "text": [
      "keyword: 디지털 자산 개념, file_num: 7\n",
      "total file number: 7\n"
     ]
    }
   ],
   "source": [
    "files = user_instance.search_keywords()\n",
    "file_num = 0\n",
    "for keyword, keyword_files in files.items():\n",
    "    keyword_file_num = 0\n",
    "    for api, api_files in keyword_files.items():\n",
    "        file_num += len(api_files)\n",
    "        keyword_file_num += len(api_files)\n",
    "    print(f'keyword: {keyword}, file_num: {keyword_file_num}')\n",
    "print(f'total file number: {file_num}')"
   ]
  },
  {
   "cell_type": "code",
   "execution_count": 9,
   "metadata": {},
   "outputs": [
    {
     "name": "stdout",
     "output_type": "stream",
     "text": [
      "[{'제목': '디자인산업통계 : [디자인활용업체]디자인 수준_종합', '날짜': '산업통상자원부 (2017 ~ 2017)', '설명': '특성별 분야별 평균별 전체 서비스/경험디자인 시각디자인 10억원 미만 1,000억원 이상 고용 없음 제품디자인 디지털/멀티미디어디자인 투자금액별 본사,본점 등 인천 디자인인프라 서비스디자인 농업,임업및어업 제조업 50인 미만 조직형태별(1) 회사법인 회사이외법인 단독사업체 최종소비재 부산/울산/경남 경기 디자인인...', '링크': 'https://kosis.kr/statHtml/statHtml.do?orgId=115&tblId=DT_115026_C037&vw_cd=MT_ZTITLE&list_id=115_11526_2017_003&scrId=&seqNo=&lang_mode=ko&obj_var_id=&itm_id=&conn_path=K1&path=%25EB%258F%2584%25EC%2586%258C%25EB%25A7%25A4%25E3%2586%258D%25EC%2584%259C%25EB%25B9%2584%25EC%258A%25A4%2520%253E%2520%25EB%2594%2594%25EC%259E%2590%25EC%259D%25B8%25EC%2582%25B0%25EC%2597%2585%25ED%2586%25B5%25EA%25B3%2584%2520%253E%25202015%25EB%2585%2584~%2520%253E%2520%25EB%2594%2594%25EC%259E%2590%25EC%259D%25B8%25ED%2599%259C%25EC%259A%25A9%25EC%2597%2585%25EC%25B2%25B4%255B%25EB%2594%2594%25EC%259E%2590%25EC%259D%25B8%25ED%2599%259C%25EC%259A%25A9%25EC%2597%2585%25EC%25B2%25B4%255D%25EB%2594%2594%25EC%259E%2590%25EC%259D%25B8%2520%25EC%2588%2598%25EC%25A4%2580_%25EC%25A2%2585%25ED%2595%25A9', 'data_type': 'web_page', 'data_path': 'https://kosis.kr/statHtml/statHtml.do?orgId=115&tblId=DT_115026_C037&vw_cd=MT_ZTITLE&list_id=115_11526_2017_003&scrId=&seqNo=&lang_mode=ko&obj_var_id=&itm_id=&conn_path=K1&path=%25EB%258F%2584%25EC%2586%258C%25EB%25A7%25A4%25E3%2586%258D%25EC%2584%259C%25EB%25B9%2584%25EC%258A%25A4%2520%253E%2520%25EB%2594%2594%25EC%259E%2590%25EC%259D%25B8%25EC%2582%25B0%25EC%2597%2585%25ED%2586%25B5%25EA%25B3%2584%2520%253E%25202015%25EB%2585%2584~%2520%253E%2520%25EB%2594%2594%25EC%259E%2590%25EC%259D%25B8%25ED%2599%259C%25EC%259A%25A9%25EC%2597%2585%25EC%25B2%25B4%255B%25EB%2594%2594%25EC%259E%2590%25EC%259D%25B8%25ED%2599%259C%25EC%259A%25A9%25EC%2597%2585%25EC%25B2%25B4%255D%25EB%2594%2594%25EC%259E%2590%25EC%259D%25B8%2520%25EC%2588%2598%25EC%25A4%2580_%25EC%25A2%2585%25ED%2595%25A9'}, {'제목': '디자인산업통계 : [디자인활용업체]디자인 수준_문화', '날짜': '산업통상자원부 (2017 ~ 2017)', '설명': '특성별 수준별 문화별 전체 디자인인프라 업종별(2) 산업공예디자인 디자인인프라 대기업 소기업 500~1,000억원 미만 시각디자인 디지털/멀티미디어디자인 회사이외법인 외감기업 중간재 업종별(1) 인테리어디자인 공간디자인 중기업 10~30억원 미만 디자이너 고용여부별 외주 용역여부별 제품디자인 제조업 도매 및 소매...', '링크': 'https://kosis.kr/statHtml/statHtml.do?orgId=115&tblId=DT_115026_C055&vw_cd=MT_ZTITLE&list_id=115_11526_2017_003&scrId=&seqNo=&lang_mode=ko&obj_var_id=&itm_id=&conn_path=K1&path=%25EB%258F%2584%25EC%2586%258C%25EB%25A7%25A4%25E3%2586%258D%25EC%2584%259C%25EB%25B9%2584%25EC%258A%25A4%2520%253E%2520%25EB%2594%2594%25EC%259E%2590%25EC%259D%25B8%25EC%2582%25B0%25EC%2597%2585%25ED%2586%25B5%25EA%25B3%2584%2520%253E%25202015%25EB%2585%2584~%2520%253E%2520%25EB%2594%2594%25EC%259E%2590%25EC%259D%25B8%25ED%2599%259C%25EC%259A%25A9%25EC%2597%2585%25EC%25B2%25B4%255B%25EB%2594%2594%25EC%259E%2590%25EC%259D%25B8%25ED%2599%259C%25EC%259A%25A9%25EC%2597%2585%25EC%25B2%25B4%255D%25EB%2594%2594%25EC%259E%2590%25EC%259D%25B8%2520%25EC%2588%2598%25EC%25A4%2580_%25EB%25AC%25B8%25ED%2599%2594', 'data_type': 'web_page', 'data_path': 'https://kosis.kr/statHtml/statHtml.do?orgId=115&tblId=DT_115026_C055&vw_cd=MT_ZTITLE&list_id=115_11526_2017_003&scrId=&seqNo=&lang_mode=ko&obj_var_id=&itm_id=&conn_path=K1&path=%25EB%258F%2584%25EC%2586%258C%25EB%25A7%25A4%25E3%2586%258D%25EC%2584%259C%25EB%25B9%2584%25EC%258A%25A4%2520%253E%2520%25EB%2594%2594%25EC%259E%2590%25EC%259D%25B8%25EC%2582%25B0%25EC%2597%2585%25ED%2586%25B5%25EA%25B3%2584%2520%253E%25202015%25EB%2585%2584~%2520%253E%2520%25EB%2594%2594%25EC%259E%2590%25EC%259D%25B8%25ED%2599%259C%25EC%259A%25A9%25EC%2597%2585%25EC%25B2%25B4%255B%25EB%2594%2594%25EC%259E%2590%25EC%259D%25B8%25ED%2599%259C%25EC%259A%25A9%25EC%2597%2585%25EC%25B2%25B4%255D%25EB%2594%2594%25EC%259E%2590%25EC%259D%25B8%2520%25EC%2588%2598%25EC%25A4%2580_%25EB%25AC%25B8%25ED%2599%2594'}]\n",
      "[{'제목': '[풀버전] 디지털 자산 투자를 위해 반드시 알아야 할 블록체인 생태계ㅣ박성준 교수 #박성준 #카이로스 #암호화폐 #디지털자산', '날짜': '2022-04-22T21:53:02Z', '채널': '카이로스북클럽kairosbookclub', '설명': '여러분은 암호화폐를 어느정도 이해하고 투자하시나요? 오늘은 앤드어스 대표이자 동국대 블록체인센터장 박성준 교수님의 명강의를 ...', '링크': 'https://www.youtube.com/watch?v=MDQdRMA5j60', 'data_type': 'youtube_video', 'data_path': 'https://www.youtube.com/watch?v=MDQdRMA5j60'}, {'제목': '디지털 자산 투자, 이것만은 꼭 이해하고 투자하세요!ㅣ[1/3부] 박성준 교수 #박성준 #카이로스 #암호화폐 #디지털자산', '날짜': '2022-04-18T11:00:56Z', '채널': '카이로스북클럽kairosbookclub', '설명': '여러분은 암호화폐를 어느정도 이해하고 투자하시나요? 오늘은 앤드어스 대표이자 동국대 블록체인센터장 박성준 교수님의 명강의를 ...', '링크': 'https://www.youtube.com/watch?v=y08DzNQYNF0', 'data_type': 'youtube_video', 'data_path': 'https://www.youtube.com/watch?v=y08DzNQYNF0'}, {'제목': '앞으로 디지털 가상자산을 이해한 사람만 살아남는 시대 ㅣ 금융전문가_안유화', '날짜': '2022-04-25T03:00:10Z', '채널': 'MKYU Official', '설명': '가장자산 정복을 위해 반드시 알아야 할 것은 무엇일까요? 블록체인! 디파이! CBDC! 기본 개념부터 공부해야 가장자산을 제대로 정복 ...', '링크': 'https://www.youtube.com/watch?v=d5Szz3UaDJc', 'data_type': 'youtube_video', 'data_path': 'https://www.youtube.com/watch?v=d5Szz3UaDJc'}, {'제목': '디지털 자산 수탁사업(디지털 자산 커스터디)이란 무엇인가요?', '날짜': '2023-07-10T07:00:33Z', '채널': '투이컨설팅-투이톡', '설명': '디지털 자산의 법적 규제가 현실화되면서 디지털 자산 수탁업에 대한 관심이 다시 높아지고 있습니다. 이는 디지털 자산에 대한 법적 ...', '링크': 'https://www.youtube.com/watch?v=zi69IWQU4ic', 'data_type': 'youtube_video', 'data_path': 'https://www.youtube.com/watch?v=zi69IWQU4ic'}, {'제목': '얼어 붙은 디지털 자산 시장 📉 앞으로 우리가 해야 할 잃지 않는 투자법!｜차이나는 클라스｜JTBC 220731 방송', '날짜': '2022-08-01T08:30:00Z', '채널': '차이나는 클라스', '설명': '우리 일상에 들어온 NFT, 그래서 그게 뭔데?! 얼어붙은 디지털 자산 시장과 앞으로 우리가 해야 할 잃지 않는 투자법! 홍기훈 교수님 ...', '링크': 'https://www.youtube.com/watch?v=3OmjYt7dgOU', 'data_type': 'youtube_video', 'data_path': 'https://www.youtube.com/watch?v=3OmjYt7dgOU'}]\n",
      "[]\n"
     ]
    }
   ],
   "source": [
    "keyword = '디지털 자산 개념'\n",
    "print(files[keyword]['kostat'])\n",
    "print(files[keyword]['youtube'])\n",
    "print(files[keyword]['gallup'])"
   ]
  },
  {
   "cell_type": "code",
   "execution_count": 10,
   "metadata": {},
   "outputs": [
    {
     "name": "stdout",
     "output_type": "stream",
     "text": [
      "All data from https://kosis.kr/statHtml/statHtml.do?orgId=115&tblId=DT_115026_C037&vw_cd=MT_ZTITLE&list_id=115_11526_2017_003&scrId=&seqNo=&lang_mode=ko&obj_var_id=&itm_id=&conn_path=K1&path=%25EB%258F%2584%25EC%2586%258C%25EB%25A7%25A4%25E3%2586%258D%25EC%2584%259C%25EB%25B9%2584%25EC%258A%25A4%2520%253E%2520%25EB%2594%2594%25EC%259E%2590%25EC%259D%25B8%25EC%2582%25B0%25EC%2597%2585%25ED%2586%25B5%25EA%25B3%2584%2520%253E%25202015%25EB%2585%2584~%2520%253E%2520%25EB%2594%2594%25EC%259E%2590%25EC%259D%25B8%25ED%2599%259C%25EC%259A%25A9%25EC%2597%2585%25EC%25B2%25B4%255B%25EB%2594%2594%25EC%259E%2590%25EC%259D%25B8%25ED%2599%259C%25EC%259A%25A9%25EC%2597%2585%25EC%25B2%25B4%255D%25EB%2594%2594%25EC%259E%2590%25EC%259D%25B8%2520%25EC%2588%2598%25EC%25A4%2580_%25EC%25A2%2585%25ED%2595%25A9 already exists in the database.\n",
      "All data from https://kosis.kr/statHtml/statHtml.do?orgId=115&tblId=DT_115026_C055&vw_cd=MT_ZTITLE&list_id=115_11526_2017_003&scrId=&seqNo=&lang_mode=ko&obj_var_id=&itm_id=&conn_path=K1&path=%25EB%258F%2584%25EC%2586%258C%25EB%25A7%25A4%25E3%2586%258D%25EC%2584%259C%25EB%25B9%2584%25EC%258A%25A4%2520%253E%2520%25EB%2594%2594%25EC%259E%2590%25EC%259D%25B8%25EC%2582%25B0%25EC%2597%2585%25ED%2586%25B5%25EA%25B3%2584%2520%253E%25202015%25EB%2585%2584~%2520%253E%2520%25EB%2594%2594%25EC%259E%2590%25EC%259D%25B8%25ED%2599%259C%25EC%259A%25A9%25EC%2597%2585%25EC%25B2%25B4%255B%25EB%2594%2594%25EC%259E%2590%25EC%259D%25B8%25ED%2599%259C%25EC%259A%25A9%25EC%2597%2585%25EC%25B2%25B4%255D%25EB%2594%2594%25EC%259E%2590%25EC%259D%25B8%2520%25EC%2588%2598%25EC%25A4%2580_%25EB%25AC%25B8%25ED%2599%2594 already exists in the database.\n",
      "All data from https://www.youtube.com/watch?v=MDQdRMA5j60 already exists in the database.\n",
      "All data from https://www.youtube.com/watch?v=y08DzNQYNF0 already exists in the database.\n",
      "All data from https://www.youtube.com/watch?v=d5Szz3UaDJc already exists in the database.\n",
      "All data from https://www.youtube.com/watch?v=zi69IWQU4ic already exists in the database.\n",
      "All data from https://www.youtube.com/watch?v=3OmjYt7dgOU already exists in the database.\n",
      "database:  DataBase{\n",
      "\t[0] web_page | https://kosis.kr/statHtml/statHtml.do?orgId=115&tblId=DT_115026_C037&vw_cd=MT_ZTITLE&list_id=115_11526_2017_003&scrId=&seqNo=&lang_mode=ko&obj_var_id=&itm_id=&conn_path=K1&path=%25EB%258F%2584%25EC%2586%258C%25EB%25A7%25A4%25E3%2586%258D%25EC%2584%259C%25EB%25B9%2584%25EC%258A%25A4%2520%253E%2520%25EB%2594%2594%25EC%259E%2590%25EC%259D%25B8%25EC%2582%25B0%25EC%2597%2585%25ED%2586%25B5%25EA%25B3%2584%2520%253E%25202015%25EB%2585%2584~%2520%253E%2520%25EB%2594%2594%25EC%259E%2590%25EC%259D%25B8%25ED%2599%259C%25EC%259A%25A9%25EC%2597%2585%25EC%25B2%25B4%255B%25EB%2594%2594%25EC%259E%2590%25EC%259D%25B8%25ED%2599%259C%25EC%259A%25A9%25EC%2597%2585%25EC%25B2%25B4%255D%25EB%2594%2594%25EC%259E%2590%25EC%259D%25B8%2520%25EC%2588%2598%25EC%25A4%2580_%25EC%25A2%2585%25ED%2595%25A9 | Tokens : 3 | hash : [73fd7a1b4bbf694e19ed627f15d46d98]\n",
      "\t[1] web_page | https://kosis.kr/statHtml/statHtml.do?orgId=115&tblId=DT_115026_C055&vw_cd=MT_ZTITLE&list_id=115_11526_2017_003&scrId=&seqNo=&lang_mode=ko&obj_var_id=&itm_id=&conn_path=K1&path=%25EB%258F%2584%25EC%2586%258C%25EB%25A7%25A4%25E3%2586%258D%25EC%2584%259C%25EB%25B9%2584%25EC%258A%25A4%2520%253E%2520%25EB%2594%2594%25EC%259E%2590%25EC%259D%25B8%25EC%2582%25B0%25EC%2597%2585%25ED%2586%25B5%25EA%25B3%2584%2520%253E%25202015%25EB%2585%2584~%2520%253E%2520%25EB%2594%2594%25EC%259E%2590%25EC%259D%25B8%25ED%2599%259C%25EC%259A%25A9%25EC%2597%2585%25EC%25B2%25B4%255B%25EB%2594%2594%25EC%259E%2590%25EC%259D%25B8%25ED%2599%259C%25EC%259A%25A9%25EC%2597%2585%25EC%25B2%25B4%255D%25EB%2594%2594%25EC%259E%2590%25EC%259D%25B8%2520%25EC%2588%2598%25EC%25A4%2580_%25EB%25AC%25B8%25ED%2599%2594 | Tokens : 3 | hash : [7b75490dbb255c0753cbcb0b9943eff9]\n",
      "\t[2] youtube_video | https://www.youtube.com/watch?v=MDQdRMA5j60 | Tokens : 35749 | hash : [43238ed4490b9b67eec21162f7021316]\n",
      "\t[3] youtube_video | https://www.youtube.com/watch?v=y08DzNQYNF0 | Tokens : 16931 | hash : [666a80977c9fd783c9b67fb841da4434]\n",
      "\t[4] youtube_video | https://www.youtube.com/watch?v=d5Szz3UaDJc | Tokens : 10092 | hash : [169994c72f9da573944e576b41a7c7fc]\n",
      "\t[5] youtube_video | https://www.youtube.com/watch?v=zi69IWQU4ic | Tokens : 3732 | hash : [d55cc505644f039649f103e39e8402cf]\n",
      "\t[6] youtube_video | https://www.youtube.com/watch?v=3OmjYt7dgOU | Tokens : 4808 | hash : [248f667a8122d41c082e475da16af9ac]\n",
      "}\n",
      "total tokens : 0\n",
      "cost : 0.0\n"
     ]
    }
   ],
   "source": [
    "database = user_instance.parse_files_to_embedchain() # 47files take 5min 30sec\n",
    "print('database: ', database)"
   ]
  },
  {
   "cell_type": "code",
   "execution_count": 11,
   "metadata": {},
   "outputs": [
    {
     "name": "stdout",
     "output_type": "stream",
     "text": [
      "draft:  <modules.draft.Draft object at 0x000002258593DDD0>\n"
     ]
    }
   ],
   "source": [
    "draft = user_instance.get_draft()\n",
    "print('draft: ', draft)"
   ]
  },
  {
   "cell_type": "code",
   "execution_count": 15,
   "metadata": {},
   "outputs": [
    {
     "name": "stdout",
     "output_type": "stream",
     "text": [
      "서론\n",
      "\n",
      "디지털 자산의 개념과 중요성\n",
      "\n",
      "디지털 자산은 전자적인 형태로 존재하며 소유권을 가지고 있는 개인이나 조직이 해당 자산을 소유하고 제어하는 것을 의미합니다. 가장 잘 알려진 디지털 자산 중 하나는 암호화폐입니다. 비트코인, 이더리움과 같은 암호화폐는 블록체인 기술을 기반으로 자산을 소유하고 제어하게 됩니다. 이외에도 NFT를 통해 디지털 예술 작품, 디지털 저작권 등도 디지털 자산으로 간주될 수 있습니다.\n",
      "\n",
      "비트코인의 등장과 역할\n",
      "\n",
      "비트코인은 2009년에 사토시 나카모토라는 가명을 사용하는 개인 또는 그룹에 의해 처음으로 발표되었습니다. 비트코인은 중앙 기관이나 정부와 같은 중개자 없이 개인 간의 직접적인 거래를 가능하게 하는 디지털 화폐입니다. 이를 위해 블록체인 기술을 사용하여 거래 내역을 분산 원장에 기록하고 검증합니다. 비트코인은 전 세계적으로 인정받는 디지털 자산으로서, 화폐로서의 역할을 수행하며 투자 수단으로도 활용됩니다. 비트코인은 중앙 은행이나 정부의 통제를 받지 않기 때문에 금융 자유와 익명성을 제공하며, 글로벌 경제와의 관계에서도 영향력을 행사하고 있습니다.비트코인의 작동 원리\n",
      "\n",
      "블록체인 기술과 분산원장\n",
      "\n",
      "비트코인은 블록체인 기술을 기반으로 작동합니다. 블록체인은 거래 내역을 분산 원장에 기록하고 검증하는 기술로, 중앙 기관이나 중개자 없이도 신뢰성 있는 거래를 가능하게 합니다. 비트코인의 분산 원장은 여러 컴퓨터에 저장되어 있으며, 이를 통해 거래의 투명성과 안전성을 보장합니다. 또한, 블록체인은 거래의 위변조를 방지하고 거래 내역의 무결성을 유지하는 역할을 합니다.\n",
      "\n",
      "비트코인의 채굴과 거래 과정\n",
      "\n",
      "비트코인은 채굴 과정을 통해 생성됩니다. 채굴은 컴퓨터의 계산 작업을 통해 블록체인에 새로운 블록을 추가하는 과정입니다. 채굴자는 블록체인 네트워크에서 거래를 검증하고, 이를 블록에 포함시켜 새로운 블록을 생성합니다. 이 과정에서 채굴자는 수학적인 문제를 해결하는데, 이를 Proof of Work라고 합니다. 채굴자가 문제를 해결하면 새로운 블록이 생성되고, 이를 다른 노드들이 검증하고 분산 원장에 추가합니다.\n",
      "\n",
      "비트코인의 거래는 사용자들 간에 직접 이루어집니다. 사용자는 비트코인 지갑을 생성하고, 이를 통해 다른 사용자에게 비트코인을 송금하거나 받을 수 있습니다. 거래는 비트코인 주소를 통해 이루어지며, 블록체인에는 거래 내역이 기록됩니다. 이러한 거래는 블록체인 네트워크의 노드들에 의해 검증되고 분산 원장에 추가됩니다. 이를 통해 거래의 안전성과 신뢰성이 보장됩니다.\n",
      "\n",
      "비트코인의 작동 원리를 이해하는 것은 비트코인과 블록체인 기술의 중요성을 파악하는 데 도움이 됩니다. 이를 통해 비트코인의 장점과 단점, 그리고 미래의 전망을 더욱 명확하게 이해할 수 있습니다.비트코인의 장점과 단점\n",
      "\n",
      "비트코인은 다양한 장점을 가지고 있습니다. 첫째, 비트코인은 익명성을 제공합니다. 거래는 비트코인 주소를 통해 이루어지며, 개인 정보를 공개하지 않고도 거래를 할 수 있습니다. 이는 개인의 프라이버시를 보호하고 안전한 거래를 가능하게 합니다.\n",
      "\n",
      "둘째, 비트코인은 보안성이 높습니다. 블록체인 기술을 사용하여 거래 내역을 분산 원장에 기록하고 검증하기 때문에 위변조나 부정한 거래를 방지할 수 있습니다. 또한, 비트코인 지갑은 암호화되어 개인 키를 안전하게 보관하고 관리할 수 있습니다.\n",
      "\n",
      "하지만 비트코인은 가치의 변동성과 부정적인 면모도 가지고 있습니다. 비트코인의 가격은 시장의 수요와 공급에 따라 변동하기 때문에 가격 변동성이 큽니다. 이는 투자자에게 큰 이익을 줄 수도 있지만, 큰 손실을 입을 수도 있는 요인이 될 수 있습니다.\n",
      "\n",
      "또한, 비트코인은 일부 사람들에게는 부정적인 이미지를 가지고 있습니다. 비트코인은 불법 활동에 이용될 수 있다는 우려가 있으며, 일부 국가에서는 규제와 제한을 시행하고 있습니다. 또한, 비트코인의 거래 속도가 느리고 수수료가 비싸다는 문제점도 있습니다.\n",
      "\n",
      "이러한 장점과 단점을 고려하여 비트코인을 이용하는 것은 개인의 판단에 달려있습니다. 비트코인은 혁신적인 기술과 잠재력을 가지고 있지만, 투자나 거래에 참여할 때에는 신중한 판단과 조사가 필요합니다.비트코인을 포함한 다른 디지털 자산\n",
      "\n",
      "비트코인 외에도 다양한 디지털 자산이 존재합니다. 이더리움, 리플, 라이트코인 등이 대표적인 예시입니다. 이들 디지털 자산은 각각의 특징과 용도를 가지고 있습니다.\n",
      "\n",
      "이더리움은 스마트 계약을 실행할 수 있는 플랫폼으로, 분산 애플리케이션(DApp)을 개발하고 운영할 수 있습니다. 이더리움은 비트코인과 달리 가상화폐뿐만 아니라 스마트 계약을 통해 다양한 자산을 관리할 수 있는 기능을 제공합니다.\n",
      "\n",
      "리플은 금융 기관 간의 신속하고 안전한 거래를 위한 블록체인 기술을 제공하는 디지털 자산입니다. 리플은 전 세계 은행과 제휴하여 글로벌 결제 시스템을 구축하고, 실시간으로 자산을 이동시킬 수 있는 기능을 제공합니다.\n",
      "\n",
      "이 외에도 다양한 디지털 자산이 존재하며, 각각은 특정한 용도와 특징을 가지고 있습니다. 이러한 디지털 자산은 블록체인 기술을 기반으로 하여 안전하고 신뢰성 있는 거래를 가능하게 합니다. 또한, 디지털 자산은 금융 시스템에 혁신을 가져오고, 개인의 자산 관리와 투자에 새로운 가능성을 제공합니다.비트코인과 경제적 영향\n",
      "\n",
      "비트코인은 글로벌 경제와 밀접한 관계를 가지고 있습니다. 비트코인은 중앙 은행이나 정부와 같은 중개자 없이 개인 간의 직접적인 거래를 가능하게 하기 때문에 금융 자유와 익명성을 제공합니다. 이를 통해 경제적인 활동이 더욱 원활하게 이루어질 수 있습니다.\n",
      "\n",
      "비트코인은 글로벌 경제에 영향을 미치는 다양한 측면을 가지고 있습니다. 첫째, 비트코인은 경제적인 자유를 제공합니다. 중앙 은행이나 정부의 통제를 받지 않기 때문에 개인들은 자유롭게 비트코인을 이용하여 자산을 보호하고 거래를 할 수 있습니다. 이는 특히 경제적으로 불안정한 지역이나 국가에서 중요한 역할을 할 수 있습니다.\n",
      "\n",
      "둘째, 비트코인은 투자와 거래에 영향을 미칩니다. 비트코인은 가치의 변동성이 크기 때문에 투자자들에게 큰 이익을 줄 수도 있지만, 큰 손실을 입을 수도 있습니다. 또한, 비트코인은 전 세계적으로 거래되는 디지털 자산으로서 다양한 상품과 서비스에 대한 결제 수단으로 사용될 수 있습니다.\n",
      "\n",
      "비트코인은 또한 글로벌 경제의 변화와 관련하여 중요한 역할을 할 수 있습니다. 예를 들어, 일부 국가에서는 비트코인을 통해 자국의 경제 상황을 회피하려는 시도를 하고 있습니다. 또한, 비트코인은 글로벌 경제의 디지털화와 관련하여 새로운 경제 모델을 제시할 수 있습니다.\n",
      "\n",
      "비트코인은 미래의 경제에 대한 전망을 더욱 흥미롭게 만드는 요소 중 하나입니다. 비트코인은 계속해서 기술적인 발전을 이루고 있으며, 정부의 규제와 인식 변화에 따라 더욱 중요한 역할을 할 수 있습니다. 또한, 비트코인은 글로벌 경제의 변화와 함께 새로운 기회와 도전을 제공할 수 있습니다.\n",
      "\n",
      "결론적으로, 비트코인은 글로벌 경제와 밀접한 관계를 가지고 있으며, 투자와 거래에 영향을 미치는 중요한 요소입니다. 비트코인은 경제적인 자유와 익명성을 제공하며, 글로벌 경제의 변화와 함께 더욱 중요한 역할을 할 수 있는 잠재력을 가지고 있습니다.비트코인의 미래 전망\n",
      "\n",
      "비트코인은 현재 글로벌 경제에서 큰 관심을 받고 있으며, 미래에도 계속해서 중요한 역할을 할 것으로 전망됩니다. 이는 정부의 규제와 인식 변화, 기술 발전과 활용 가능성 등 여러 가지 요인에 기인합니다.\n",
      "\n",
      "첫째로, 정부의 규제와 인식 변화가 비트코인의 미래에 영향을 미칠 것으로 예상됩니다. 현재 비트코인은 일부 국가에서는 긍정적으로 인식되고 있지만, 다른 국가에서는 부정적으로 인식되고 있습니다. 그러나 최근에는 정부들이 비트코인과 블록체인 기술의 중요성을 인식하고 규제를 시행하려는 움직임이 보이고 있습니다. 이는 비트코인의 안정성과 신뢰성을 높이고, 투자자와 사용자의 보호를 위한 법적 기반을 마련하는 데 도움이 될 것입니다.\n",
      "\n",
      "둘째로, 기술 발전과 활용 가능성이 비트코인의 미래에 큰 영향을 줄 것으로 예상됩니다. 비트코인은 블록체인 기술을 기반으로 하고 있으며, 이 기술은 계속해서 발전하고 있습니다. 블록체인 기술의 발전은 비트코인의 보안성과 신뢰성을 높이고, 거래 속도와 확장성을 개선할 수 있습니다. 또한, 비트코인을 포함한 다양한 디지털 자산의 활용 가능성도 더욱 확대될 것으로 예상됩니다. 예를 들어, 스마트 계약과 같은 기술을 활용하여 비트코인을 더욱 다양한 분야에 적용할 수 있을 것입니다.\n",
      "\n",
      "비트코인의 미래 전망은 여러 가지 요인에 의해 좌우될 수 있습니다. 그러나 정부의 규제와 인식 변화, 기술 발전과 활용 가능성 등을 고려할 때, 비트코인은 계속해서 중요한 역할을 할 것으로 예상됩니다. 특히 정부의 규제와 인식 변화가 비트코인의 안정성과 신뢰성을 높이는 데 도움이 될 것이며, 기술 발전과 활용 가능성은 비트코인의 미래에 더욱 밝은 전망을 제시할 것입니다.결론적으로, 디지털 자산은 현대 사회에서 점점 더 중요한 역할을 수행하고 있습니다. 특히 비트코인은 블록체인 기술을 기반으로 한 디지털 자산으로서 글로벌 경제와의 관계에서 큰 영향력을 가지고 있습니다. 비트코인은 익명성과 보안성을 제공하며, 금융 자유와 경제적인 활동의 효율성을 높여줍니다. 또한, 비트코인은 투자와 거래에 영향을 미치며, 글로벌 경제의 변화와 함께 더욱 중요한 역할을 할 수 있는 잠재력을 가지고 있습니다.\n",
      "\n",
      "개인적으로, 나는 비트코인과 같은 디지털 자산의 중요성이 더욱 커질 것이라고 생각합니다. 디지털 자산은 전통적인 자산과는 다른 특징과 장점을 가지고 있으며, 블록체인 기술의 발전과 함께 더욱 다양한 분야에 적용될 수 있습니다. 또한, 정부의 규제와 인식 변화가 비트코인과 디지털 자산의 안정성과 신뢰성을 높이는 데 도움이 될 것이라고 기대합니다.\n",
      "\n",
      "미래에는 더 많은 사람들이 디지털 자산을 이용하고 투자할 것으로 예상됩니다. 디지털 자산은 금융 시스템에 혁신을 가져오고, 개인의 자산 관리와 투자에 새로운 가능성을 제공합니다. 따라서, 비트코인과 같은 디지털 자산에 대한 이해와 관심을 높이는 것은 중요합니다. 미래에는 더 많은 기회와 도전이 있을 것이며, 우리는 이를 통해 더 나은 경제와 사회를 구축할 수 있을 것입니다.\n"
     ]
    }
   ],
   "source": [
    "print(draft())"
   ]
  },
  {
   "cell_type": "code",
   "execution_count": 12,
   "metadata": {},
   "outputs": [
    {
     "ename": "AttributeError",
     "evalue": "'Project' object has no attribute 'draft'",
     "output_type": "error",
     "traceback": [
      "\u001b[1;31m---------------------------------------------------------------------------\u001b[0m",
      "\u001b[1;31mAttributeError\u001b[0m                            Traceback (most recent call last)",
      "Cell \u001b[1;32mIn[12], line 1\u001b[0m\n\u001b[1;32m----> 1\u001b[0m user_instance\u001b[39m.\u001b[39;49msave_instance()\n",
      "File \u001b[1;32mc:\\Users\\chois\\Desktop\\OpenAI_SKT\\openai_skt\\modules\\project.py:70\u001b[0m, in \u001b[0;36mProject.save_instance\u001b[1;34m(self)\u001b[0m\n\u001b[0;32m     68\u001b[0m \u001b[39mself\u001b[39m\u001b[39m.\u001b[39muser_instance_path \u001b[39m=\u001b[39m os\u001b[39m.\u001b[39mpath\u001b[39m.\u001b[39mjoin(user_root_path, \u001b[39m\"\u001b[39m\u001b[39muser_instance.json\u001b[39m\u001b[39m\"\u001b[39m)\n\u001b[0;32m     69\u001b[0m \u001b[39mwith\u001b[39;00m \u001b[39mopen\u001b[39m(\u001b[39mself\u001b[39m\u001b[39m.\u001b[39muser_instance_path, \u001b[39m\"\u001b[39m\u001b[39mw\u001b[39m\u001b[39m\"\u001b[39m, encoding\u001b[39m=\u001b[39m\u001b[39m'\u001b[39m\u001b[39mutf-8\u001b[39m\u001b[39m'\u001b[39m) \u001b[39mas\u001b[39;00m f:\n\u001b[1;32m---> 70\u001b[0m     json\u001b[39m.\u001b[39mdump(\u001b[39mself\u001b[39;49m\u001b[39m.\u001b[39;49mto_dict(), f, ensure_ascii\u001b[39m=\u001b[39m\u001b[39mFalse\u001b[39;00m, indent\u001b[39m=\u001b[39m\u001b[39m4\u001b[39m)\n\u001b[0;32m     71\u001b[0m \u001b[39mprint\u001b[39m(\u001b[39mf\u001b[39m\u001b[39m\"\u001b[39m\u001b[39msaved user instance to \u001b[39m\u001b[39m{\u001b[39;00m\u001b[39mself\u001b[39m\u001b[39m.\u001b[39muser_instance_path\u001b[39m}\u001b[39;00m\u001b[39m\"\u001b[39m)\n\u001b[0;32m     73\u001b[0m \u001b[39m# save database\u001b[39;00m\n",
      "File \u001b[1;32mc:\\Users\\chois\\Desktop\\OpenAI_SKT\\openai_skt\\modules\\project.py:80\u001b[0m, in \u001b[0;36mProject.to_dict\u001b[1;34m(self)\u001b[0m\n\u001b[0;32m     77\u001b[0m \u001b[39mdef\u001b[39;00m \u001b[39mto_dict\u001b[39m(\u001b[39mself\u001b[39m):\n\u001b[0;32m     78\u001b[0m     \u001b[39m# TODO: 수정필요\u001b[39;00m\n\u001b[0;32m     79\u001b[0m     serialized_draft_dict \u001b[39m=\u001b[39m {key: [chunk\u001b[39m.\u001b[39mto_dict() \u001b[39mfor\u001b[39;00m chunk \u001b[39min\u001b[39;00m chunk_list] \n\u001b[1;32m---> 80\u001b[0m                          \u001b[39mfor\u001b[39;00m key, chunk_list \u001b[39min\u001b[39;00m \u001b[39mself\u001b[39;49m\u001b[39m.\u001b[39;49mdraft\u001b[39m.\u001b[39mfiles\u001b[39m.\u001b[39mitems()}\n\u001b[0;32m     81\u001b[0m     \u001b[39mreturn\u001b[39;00m {\n\u001b[0;32m     82\u001b[0m         \u001b[39m\"\u001b[39m\u001b[39mpurpose\u001b[39m\u001b[39m\"\u001b[39m: \u001b[39mself\u001b[39m\u001b[39m.\u001b[39mpurpose,\n\u001b[0;32m     83\u001b[0m         \u001b[39m\"\u001b[39m\u001b[39mkeywords\u001b[39m\u001b[39m\"\u001b[39m: \u001b[39mself\u001b[39m\u001b[39m.\u001b[39mkeywords,\n\u001b[1;32m   (...)\u001b[0m\n\u001b[0;32m     86\u001b[0m         \u001b[39m\"\u001b[39m\u001b[39mdraft_dict\u001b[39m\u001b[39m\"\u001b[39m: serialized_draft_dict,\n\u001b[0;32m     87\u001b[0m     }\n",
      "\u001b[1;31mAttributeError\u001b[0m: 'Project' object has no attribute 'draft'"
     ]
    }
   ],
   "source": [
    "user_instance.save_instance()"
   ]
  }
 ],
 "metadata": {
  "kernelspec": {
   "display_name": "openai_skt",
   "language": "python",
   "name": "python3"
  },
  "language_info": {
   "codemirror_mode": {
    "name": "ipython",
    "version": 3
   },
   "file_extension": ".py",
   "mimetype": "text/x-python",
   "name": "python",
   "nbconvert_exporter": "python",
   "pygments_lexer": "ipython3",
   "version": "3.11.4"
  },
  "orig_nbformat": 4
 },
 "nbformat": 4,
 "nbformat_minor": 2
}
